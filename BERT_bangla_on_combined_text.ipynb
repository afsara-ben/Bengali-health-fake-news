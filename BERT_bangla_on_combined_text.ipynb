{
  "nbformat": 4,
  "nbformat_minor": 0,
  "metadata": {
    "colab": {
      "name": "BERT bangla on combined-text.ipynb",
      "provenance": [],
      "collapsed_sections": [
        "Abj0SRkbB3Wd",
        "2YOHlwQBYKZH"
      ]
    },
    "kernelspec": {
      "name": "python3",
      "display_name": "Python 3"
    },
    "accelerator": "GPU"
  },
  "cells": [
    {
      "cell_type": "markdown",
      "metadata": {
        "id": "Abj0SRkbB3Wd"
      },
      "source": [
        "#load libraries"
      ]
    },
    {
      "cell_type": "markdown",
      "metadata": {
        "id": "yRV7eTXfYLdC"
      },
      "source": [
        "change runtime to gpu"
      ]
    },
    {
      "cell_type": "code",
      "metadata": {
        "id": "1b_c6R18A8Ez"
      },
      "source": [
        "\n",
        "\n",
        "# This Python 3 environment comes with many helpful analytics libraries installed\n",
        "# It is defined by the kaggle/python docker image: https://github.com/kaggle/docker-python\n",
        "# For example, here's several helpful packages to load in \n",
        "\n",
        "import numpy as np # linear algebra\n",
        "import pandas as pd # data processing, CSV file I/O (e.g. pd.read_csv)\n",
        "import seaborn as sns\n",
        "import matplotlib.pyplot as plt\n",
        "\n",
        "import numpy as np\n",
        "import pandas as pd\n",
        "import tensorflow as tf\n",
        "from tensorflow.keras.layers import Dense, Input\n",
        "from tensorflow.keras.optimizers import Adam\n",
        "from tensorflow.keras.models import Model\n",
        "from tensorflow.keras.callbacks import ModelCheckpoint\n",
        "import tensorflow_hub as hub\n",
        "\n",
        "from sklearn.model_selection import train_test_split\n",
        "from keras.utils.np_utils import to_categorical\n",
        "from sklearn.metrics import roc_auc_score"
      ],
      "execution_count": null,
      "outputs": []
    },
    {
      "cell_type": "code",
      "metadata": {
        "id": "AxMBwirfBAtI"
      },
      "source": [
        "!wget --quiet https://raw.githubusercontent.com/tensorflow/models/master/official/nlp/bert/tokenization.py"
      ],
      "execution_count": null,
      "outputs": []
    },
    {
      "cell_type": "code",
      "metadata": {
        "id": "Xe8cCiHEBCdi"
      },
      "source": [
        "# !pip install tensorflow_text==2.0.0rc0\n",
        "# !pip install tensorflow-gpu==1.10.0\n",
        "\n",
        "# working\n",
        "# !pip install tensorflow-gpu==1.15.0"
      ],
      "execution_count": null,
      "outputs": []
    },
    {
      "cell_type": "code",
      "metadata": {
        "id": "usyHlD7oF4Bu",
        "colab": {
          "base_uri": "https://localhost:8080/",
          "height": 433
        },
        "outputId": "eb090323-dd9b-426c-9ed8-a1a28f46827b"
      },
      "source": [
        "# !pip install bert-tensorflow\n",
        "!pip install bert-for-tf2"
      ],
      "execution_count": null,
      "outputs": [
        {
          "output_type": "stream",
          "text": [
            "Collecting bert-for-tf2\n",
            "\u001b[?25l  Downloading https://files.pythonhosted.org/packages/35/5c/6439134ecd17b33fe0396fb0b7d6ce3c5a120c42a4516ba0e9a2d6e43b25/bert-for-tf2-0.14.4.tar.gz (40kB)\n",
            "\r\u001b[K     |████████                        | 10kB 21.9MB/s eta 0:00:01\r\u001b[K     |████████████████▏               | 20kB 2.8MB/s eta 0:00:01\r\u001b[K     |████████████████████████▎       | 30kB 3.7MB/s eta 0:00:01\r\u001b[K     |████████████████████████████████| 40kB 2.6MB/s \n",
            "\u001b[?25hCollecting py-params>=0.9.6\n",
            "  Downloading https://files.pythonhosted.org/packages/a4/bf/c1c70d5315a8677310ea10a41cfc41c5970d9b37c31f9c90d4ab98021fd1/py-params-0.9.7.tar.gz\n",
            "Collecting params-flow>=0.8.0\n",
            "  Downloading https://files.pythonhosted.org/packages/a9/95/ff49f5ebd501f142a6f0aaf42bcfd1c192dc54909d1d9eb84ab031d46056/params-flow-0.8.2.tar.gz\n",
            "Requirement already satisfied: numpy in /usr/local/lib/python3.6/dist-packages (from params-flow>=0.8.0->bert-for-tf2) (1.18.5)\n",
            "Requirement already satisfied: tqdm in /usr/local/lib/python3.6/dist-packages (from params-flow>=0.8.0->bert-for-tf2) (4.41.1)\n",
            "Building wheels for collected packages: bert-for-tf2, py-params, params-flow\n",
            "  Building wheel for bert-for-tf2 (setup.py) ... \u001b[?25l\u001b[?25hdone\n",
            "  Created wheel for bert-for-tf2: filename=bert_for_tf2-0.14.4-cp36-none-any.whl size=30114 sha256=49cec65699bd17e3d95070c76857e6feb2dfdef1be8237454b58e6d4fa647c45\n",
            "  Stored in directory: /root/.cache/pip/wheels/cf/3f/4d/79d7735015a5f523648df90d871ce8e89a7df8185f7703eeab\n",
            "  Building wheel for py-params (setup.py) ... \u001b[?25l\u001b[?25hdone\n",
            "  Created wheel for py-params: filename=py_params-0.9.7-cp36-none-any.whl size=7302 sha256=2a367a4eb305f7d0d93404b4aad300c4172a9ff7fd3fb70b899670fd54336cd2\n",
            "  Stored in directory: /root/.cache/pip/wheels/67/f5/19/b461849a50aefdf4bab47c4756596e82ee2118b8278e5a1980\n",
            "  Building wheel for params-flow (setup.py) ... \u001b[?25l\u001b[?25hdone\n",
            "  Created wheel for params-flow: filename=params_flow-0.8.2-cp36-none-any.whl size=19473 sha256=fa0398d77d9cf3675e2b2cebd090dea1278a530d056b8b48832e29fa473b8b17\n",
            "  Stored in directory: /root/.cache/pip/wheels/08/c8/7f/81c86b9ff2b86e2c477e3914175be03e679e596067dc630c06\n",
            "Successfully built bert-for-tf2 py-params params-flow\n",
            "Installing collected packages: py-params, params-flow, bert-for-tf2\n",
            "Successfully installed bert-for-tf2-0.14.4 params-flow-0.8.2 py-params-0.9.7\n"
          ],
          "name": "stdout"
        }
      ]
    },
    {
      "cell_type": "code",
      "metadata": {
        "id": "7rdF7CALGvpC"
      },
      "source": [
        "# old version er jonne lagtise naile gives AttributeError: 'Tensor' object has no attribute 'numpy'\n",
        "# tf.enable_eager_execution() "
      ],
      "execution_count": null,
      "outputs": []
    },
    {
      "cell_type": "code",
      "metadata": {
        "id": "2vncn1ZNF8W6"
      },
      "source": [
        "import bert\n",
        "# from bert import run_classifier\n",
        "# from bert import optimization\n",
        "# from bert import tokenization\n",
        "# from bert import modeling"
      ],
      "execution_count": null,
      "outputs": []
    },
    {
      "cell_type": "code",
      "metadata": {
        "id": "cvrwxZ2SCZsr"
      },
      "source": [
        "# import tokenization #error dey\n",
        "# from keras.preprocessing.text import Tokenizer - bert.tokenization thakle ar dorkar nai"
      ],
      "execution_count": null,
      "outputs": []
    },
    {
      "cell_type": "code",
      "metadata": {
        "id": "9kdl0axHEHaD",
        "colab": {
          "base_uri": "https://localhost:8080/",
          "height": 35
        },
        "outputId": "b094e149-1dcd-4738-e1cd-a387a834acb0"
      },
      "source": [
        "print(tf.__version__)"
      ],
      "execution_count": null,
      "outputs": [
        {
          "output_type": "stream",
          "text": [
            "2.2.0\n"
          ],
          "name": "stdout"
        }
      ]
    },
    {
      "cell_type": "code",
      "metadata": {
        "id": "1YFiWmXSB2iF",
        "colab": {
          "base_uri": "https://localhost:8080/",
          "height": 127
        },
        "outputId": "12bd23e1-f8e9-48df-816a-6d25baa901c0"
      },
      "source": [
        "from google.colab import drive\n",
        "drive.mount('/content/gdrive')\n",
        "root_path = 'gdrive/My Drive/Colab Notebooks/Fake-vs-real/all_complete_labelled/'\n",
        "bert_path = 'gdrive/My Drive/Colab Notebooks/BERT/'\n",
        "colab_path = 'gdrive/My Drive/ColaCollecting bert-for-tf2b Notebooks/Datasets/'"
      ],
      "execution_count": null,
      "outputs": [
        {
          "output_type": "stream",
          "text": [
            "Go to this URL in a browser: https://accounts.google.com/o/oauth2/auth?client_id=947318989803-6bn6qk8qdgf4n4g3pfee6491hc0brc4i.apps.googleusercontent.com&redirect_uri=urn%3aietf%3awg%3aoauth%3a2.0%3aoob&response_type=code&scope=email%20https%3a%2f%2fwww.googleapis.com%2fauth%2fdocs.test%20https%3a%2f%2fwww.googleapis.com%2fauth%2fdrive%20https%3a%2f%2fwww.googleapis.com%2fauth%2fdrive.photos.readonly%20https%3a%2f%2fwww.googleapis.com%2fauth%2fpeopleapi.readonly\n",
            "\n",
            "Enter your authorization code:\n",
            "··········\n",
            "Mounted at /content/gdrive\n"
          ],
          "name": "stdout"
        }
      ]
    },
    {
      "cell_type": "markdown",
      "metadata": {
        "id": "2ciLES3pBHaF"
      },
      "source": [
        "#Helper Functions:"
      ]
    },
    {
      "cell_type": "code",
      "metadata": {
        "id": "lYZQawSBBFsD"
      },
      "source": [
        "\n",
        "def bert_encode(texts, tokenizer, max_len=512):\n",
        "    all_tokens = []\n",
        "    all_masks = []\n",
        "    all_segments = []\n",
        "    \n",
        "    for text in texts:\n",
        "        text = tokenizer.tokenize(text)\n",
        "            \n",
        "        text = text[:max_len-2]\n",
        "        input_sequence = [\"[CLS]\"] + text + [\"[SEP]\"]\n",
        "        pad_len = max_len - len(input_sequence)\n",
        "        \n",
        "        tokens = tokenizer.convert_tokens_to_ids(input_sequence)\n",
        "        tokens += [0] * pad_len\n",
        "        pad_masks = [1] * len(input_sequence) + [0] * pad_len\n",
        "        segment_ids = [0] * max_len\n",
        "        \n",
        "        all_tokens.append(tokens)\n",
        "        all_masks.append(pad_masks)\n",
        "        all_segments.append(segment_ids)\n",
        "    \n",
        "    return np.array(all_tokens), np.array(all_masks), np.array(all_segments)\n"
      ],
      "execution_count": null,
      "outputs": []
    },
    {
      "cell_type": "code",
      "metadata": {
        "id": "CCsVgs7oBJ2f"
      },
      "source": [
        "def build_model(bert_layer, max_len=512):\n",
        "    input_word_ids = Input(shape=(max_len,), dtype=tf.int32, name=\"input_word_ids\")\n",
        "    input_mask = Input(shape=(max_len,), dtype=tf.int32, name=\"input_mask\")\n",
        "    segment_ids = Input(shape=(max_len,), dtype=tf.int32, name=\"segment_ids\")\n",
        "\n",
        "    _, sequence_output = bert_layer([input_word_ids, input_mask, segment_ids])\n",
        "    clf_output = sequence_output[:, 0, :]\n",
        "    out = Dense(8, activation='sigmoid')(clf_output)\n",
        "    \n",
        "    model = Model(inputs=[input_word_ids, input_mask, segment_ids], outputs=out)\n",
        "    model.compile(Adam(lr=2e-6), loss='categorical_crossentropy', metrics=['accuracy'])\n",
        "    \n",
        "    return model"
      ],
      "execution_count": null,
      "outputs": []
    },
    {
      "cell_type": "markdown",
      "metadata": {
        "id": "HO4uJM5LBPq2"
      },
      "source": [
        "#Loading BERT from the Tensorflow Hub:"
      ]
    },
    {
      "cell_type": "code",
      "metadata": {
        "id": "lCetk3DCBNyI",
        "colab": {
          "base_uri": "https://localhost:8080/"
        },
        "outputId": "f3ab0dcd-b016-4413-da7c-089c82abcfef"
      },
      "source": [
        "%%time\n",
        "# BERT multilingual - https://tfhub.dev/tensorflow/bert_multi_cased_L-12_H-768_A-12/2\n",
        "module_url = \"https://tfhub.dev/tensorflow/bert_multi_cased_L-12_H-768_A-12/2\"\n",
        "# module_url = \"https://tfhub.dev/tensorflow/bert_en_uncased_L-24_H-1024_A-16/1\"\n",
        "bert_layer = hub.KerasLayer(module_url, trainable=True)"
      ],
      "execution_count": null,
      "outputs": [
        {
          "output_type": "stream",
          "text": [
            "CPU times: user 10.5 s, sys: 2.58 s, total: 13.1 s\n",
            "Wall time: 20.7 s\n"
          ],
          "name": "stdout"
        }
      ]
    },
    {
      "cell_type": "markdown",
      "metadata": {
        "id": "mMvJS5LRBWQa"
      },
      "source": [
        "#Loading data:"
      ]
    },
    {
      "cell_type": "code",
      "metadata": {
        "id": "GYE42jogLYYg",
        "colab": {
          "base_uri": "https://localhost:8080/"
        },
        "outputId": "1ee1f30d-0401-4b09-b865-c0645180c3b1"
      },
      "source": [
        "df = pd.read_csv(root_path + \"combined-1.csv\", names = ['label','text','fullname','replies','retweet','likes'], skiprows=1)\n",
        "#df = pd.read_csv(root_path + \"ক্যান্সার-first-1000-stemmed.csv\",names=['label','text'])\n",
        "\n",
        "#df.drop(df.columns[[2,3,4,5,6,7]],axis = 1,inplace = True)\n",
        "df.shape\n"
      ],
      "execution_count": null,
      "outputs": [
        {
          "output_type": "execute_result",
          "data": {
            "text/plain": [
              "(2067, 6)"
            ]
          },
          "metadata": {
            "tags": []
          },
          "execution_count": 15
        }
      ]
    },
    {
      "cell_type": "code",
      "metadata": {
        "id": "4z27lzTjLcnY"
      },
      "source": [
        "df.drop(df.columns[[2,3,4,5]],axis=1, inplace=True)"
      ],
      "execution_count": null,
      "outputs": []
    },
    {
      "cell_type": "code",
      "metadata": {
        "id": "Jjr6y0ImLqHL",
        "colab": {
          "base_uri": "https://localhost:8080/"
        },
        "outputId": "d214594a-a8d2-46a4-d33a-a1a6b3a318cf"
      },
      "source": [
        "df.head()"
      ],
      "execution_count": null,
      "outputs": [
        {
          "output_type": "execute_result",
          "data": {
            "text/html": [
              "<div>\n",
              "<style scoped>\n",
              "    .dataframe tbody tr th:only-of-type {\n",
              "        vertical-align: middle;\n",
              "    }\n",
              "\n",
              "    .dataframe tbody tr th {\n",
              "        vertical-align: top;\n",
              "    }\n",
              "\n",
              "    .dataframe thead th {\n",
              "        text-align: right;\n",
              "    }\n",
              "</style>\n",
              "<table border=\"1\" class=\"dataframe\">\n",
              "  <thead>\n",
              "    <tr style=\"text-align: right;\">\n",
              "      <th></th>\n",
              "      <th>label</th>\n",
              "      <th>text</th>\n",
              "    </tr>\n",
              "  </thead>\n",
              "  <tbody>\n",
              "    <tr>\n",
              "      <th>0</th>\n",
              "      <td>FAKE</td>\n",
              "      <td>ডায়াবেটিস রুগীদের ডায়াবেটিস থেকে কিভাবে ওষুধ...</td>\n",
              "    </tr>\n",
              "    <tr>\n",
              "      <th>1</th>\n",
              "      <td>REAL</td>\n",
              "      <td>মায়ের ডায়াবেটিসে নবজাতকের ঝুঁকি দ্বিগুণ\\n#ইত...</td>\n",
              "    </tr>\n",
              "    <tr>\n",
              "      <th>2</th>\n",
              "      <td>REAL</td>\n",
              "      <td>যাদের বয়স এবং লম্বা হিসাবের চেয়ে \\nওজন বেশি ...</td>\n",
              "    </tr>\n",
              "    <tr>\n",
              "      <th>3</th>\n",
              "      <td>REAL</td>\n",
              "      <td>ডায়াবেটিস রোগীরা কেন ঝুঁকিতে জেনে নিন</td>\n",
              "    </tr>\n",
              "    <tr>\n",
              "      <th>4</th>\n",
              "      <td>REAL</td>\n",
              "      <td>হৃদরোগ, ডায়াবেটিস, শ্বাসতন্ত্রের রোগ এবং হাইপ...</td>\n",
              "    </tr>\n",
              "  </tbody>\n",
              "</table>\n",
              "</div>"
            ],
            "text/plain": [
              "  label                                               text\n",
              "0  FAKE  ডায়াবেটিস রুগীদের ডায়াবেটিস থেকে কিভাবে ওষুধ...\n",
              "1  REAL  মায়ের ডায়াবেটিসে নবজাতকের ঝুঁকি দ্বিগুণ\\n#ইত...\n",
              "2  REAL  যাদের বয়স এবং লম্বা হিসাবের চেয়ে \\nওজন বেশি ...\n",
              "3  REAL             ডায়াবেটিস রোগীরা কেন ঝুঁকিতে জেনে নিন\n",
              "4  REAL  হৃদরোগ, ডায়াবেটিস, শ্বাসতন্ত্রের রোগ এবং হাইপ..."
            ]
          },
          "metadata": {
            "tags": []
          },
          "execution_count": 17
        }
      ]
    },
    {
      "cell_type": "markdown",
      "metadata": {
        "id": "2YOHlwQBYKZH"
      },
      "source": [
        "#Pre processing steps"
      ]
    },
    {
      "cell_type": "markdown",
      "metadata": {
        "id": "YK47wWxY48Ac"
      },
      "source": [
        "The function does the following:\n",
        "\n",
        "* It replaces common texts found in the data and replaces that with our custom text\n",
        "* It removes all emoji's and emoticons from the text\n",
        "* It removes all English text"
      ]
    },
    {
      "cell_type": "code",
      "metadata": {
        "id": "aBjsc45U45bC"
      },
      "source": [
        "import re\n",
        "def replace_strings(texts, replace):\n",
        "    new_texts=[]\n",
        "    \n",
        "    emoji_pattern = re.compile(\"[\"\n",
        "                           u\"\\U0001F600-\\U0001F64F\"  # emoticons\n",
        "                           u\"\\U0001F300-\\U0001F5FF\"  # symbols & pictographs\n",
        "                           u\"\\U0001F680-\\U0001F6FF\"  # transport & map symbols\n",
        "                           u\"\\U0001F1E0-\\U0001F1FF\"  # flags (iOS)\n",
        "                           u\"\\U00002702-\\U000027B0\"\n",
        "                           u\"\\U000024C2-\\U0001F251\"\n",
        "                           \"]+\", flags=re.UNICODE)\n",
        "    english_pattern=re.compile('[a-zA-Z0-9]+', flags=re.I)\n",
        "    \n",
        "    regex = r'\\b(?:(?:[0-9\\u09E6-\\u09EF]{1,2}[:/,.]){2}[0-9\\u09E6-\\u09EF]{2,4}|am|pm)\\b'\n",
        "    for text in texts:\n",
        "        for r in replace:\n",
        "            text=text.replace(r[0], r[1])\n",
        "\n",
        "        text=emoji_pattern.sub(r'', text)\n",
        "        text=english_pattern.sub(r'', text)\n",
        "  \n",
        "        if re.search(regex, text): # re.match() e pura string replace kore fele\n",
        "          text = re.sub(regex, \"<date>\", text)\n",
        "        \n",
        "        #text = re.sub(r'[-!?]','',text)\n",
        "        text=re.sub(r'\\s+', ' ', text).strip()\n",
        "        text = text.replace(\"\\\"\",\"\")\n",
        "        text = text.replace(\".\",\"\")\n",
        "        new_texts.append(text)\n",
        "\n",
        "    return new_texts"
      ],
      "execution_count": null,
      "outputs": []
    },
    {
      "cell_type": "code",
      "metadata": {
        "id": "HhOX2fwL5Ict"
      },
      "source": [
        "#my_str = [\"কথা_জমিয়ে '\" \"রাখতে নেই\\nআত্নার ক্যান্সার। হয়?\",\"আত্নার ক্যান্সার হয়\"]\n",
        "\n",
        "replace=[('\\u200c', ' '),\n",
        "         ('\\u200d', ' '),\n",
        "        ('\\xa0', ' '),\n",
        "        ('\\n', ' '),\n",
        "        ('\\r', ' '),('&',''),('*',''),\n",
        "         ('\\\"',' '),\n",
        "         ('_',' '),\n",
        "         ('?',' '),\n",
        "         ('!',' '),\n",
        "         ('।',' '),\n",
        "         ('|',' '),\n",
        "         ('#',' '),\n",
        "         ('%',' '),\n",
        "         ('/',' '),\n",
        "         ('-',' '),\n",
        "         (':',' '),\n",
        "         ('<',' '),\n",
        "         ('>',' '),\n",
        "         ('(',' '),\n",
        "         (')',' '),\n",
        "         ('—',' '),\n",
        "         (\"'\",' '),\n",
        "         (',',' '),\n",
        "         (';',' '),\n",
        "         ('\\\\',' '),\n",
        "         ('~',' '),\n",
        "         ('”',''),\n",
        "         ('•',' '),\n",
        "         ('[',' '),\n",
        "         (']',' '),\n",
        "         ('{',' '),\n",
        "         ('}',' '),\n",
        "         ('“',' '),\n",
        "         ('’',' '),\n",
        "         ('‘',' ')\n",
        "         ]\n",
        "\n",
        "#new_str =replace_strings(my_str, replace)\n",
        "df.text = replace_strings(df.text, replace)\n",
        "#print(new_str)"
      ],
      "execution_count": null,
      "outputs": []
    },
    {
      "cell_type": "code",
      "metadata": {
        "id": "t1HqCn4D5-Q7",
        "colab": {
          "base_uri": "https://localhost:8080/"
        },
        "outputId": "4d24c9c0-20eb-4f5e-d4f0-406598b9afe2"
      },
      "source": [
        "df.text[:5]"
      ],
      "execution_count": null,
      "outputs": [
        {
          "output_type": "execute_result",
          "data": {
            "text/plain": [
              "0    ডায়াবেটিস রুগীদের ডায়াবেটিস থেকে কিভাবে ওষুধ...\n",
              "1    মায়ের ডায়াবেটিসে নবজাতকের ঝুঁকি দ্বিগুণ ইত্ত...\n",
              "2    যাদের বয়স এবং লম্বা হিসাবের চেয়ে ওজন বেশি তা...\n",
              "3               ডায়াবেটিস রোগীরা কেন ঝুঁকিতে জেনে নিন\n",
              "4    হৃদরোগ ডায়াবেটিস শ্বাসতন্ত্রের রোগ এবং হাইপার...\n",
              "Name: text, dtype: object"
            ]
          },
          "metadata": {
            "tags": []
          },
          "execution_count": 20
        }
      ]
    },
    {
      "cell_type": "code",
      "metadata": {
        "id": "kuC2JjaO2qI2"
      },
      "source": [
        "# goal - remove whitespace\n",
        "\n",
        "import string\n",
        "df.text = df.text.str.strip()"
      ],
      "execution_count": null,
      "outputs": []
    },
    {
      "cell_type": "code",
      "metadata": {
        "id": "Pa6TTUxL3DSK",
        "colab": {
          "base_uri": "https://localhost:8080/"
        },
        "outputId": "31ba8825-45ea-4c50-959e-f7ee404b626f"
      },
      "source": [
        "df.head()"
      ],
      "execution_count": null,
      "outputs": [
        {
          "output_type": "execute_result",
          "data": {
            "text/html": [
              "<div>\n",
              "<style scoped>\n",
              "    .dataframe tbody tr th:only-of-type {\n",
              "        vertical-align: middle;\n",
              "    }\n",
              "\n",
              "    .dataframe tbody tr th {\n",
              "        vertical-align: top;\n",
              "    }\n",
              "\n",
              "    .dataframe thead th {\n",
              "        text-align: right;\n",
              "    }\n",
              "</style>\n",
              "<table border=\"1\" class=\"dataframe\">\n",
              "  <thead>\n",
              "    <tr style=\"text-align: right;\">\n",
              "      <th></th>\n",
              "      <th>label</th>\n",
              "      <th>text</th>\n",
              "    </tr>\n",
              "  </thead>\n",
              "  <tbody>\n",
              "    <tr>\n",
              "      <th>0</th>\n",
              "      <td>FAKE</td>\n",
              "      <td>ডায়াবেটিস রুগীদের ডায়াবেটিস থেকে কিভাবে ওষুধ...</td>\n",
              "    </tr>\n",
              "    <tr>\n",
              "      <th>1</th>\n",
              "      <td>REAL</td>\n",
              "      <td>মায়ের ডায়াবেটিসে নবজাতকের ঝুঁকি দ্বিগুণ ইত্ত...</td>\n",
              "    </tr>\n",
              "    <tr>\n",
              "      <th>2</th>\n",
              "      <td>REAL</td>\n",
              "      <td>যাদের বয়স এবং লম্বা হিসাবের চেয়ে ওজন বেশি তা...</td>\n",
              "    </tr>\n",
              "    <tr>\n",
              "      <th>3</th>\n",
              "      <td>REAL</td>\n",
              "      <td>ডায়াবেটিস রোগীরা কেন ঝুঁকিতে জেনে নিন</td>\n",
              "    </tr>\n",
              "    <tr>\n",
              "      <th>4</th>\n",
              "      <td>REAL</td>\n",
              "      <td>হৃদরোগ ডায়াবেটিস শ্বাসতন্ত্রের রোগ এবং হাইপার...</td>\n",
              "    </tr>\n",
              "  </tbody>\n",
              "</table>\n",
              "</div>"
            ],
            "text/plain": [
              "  label                                               text\n",
              "0  FAKE  ডায়াবেটিস রুগীদের ডায়াবেটিস থেকে কিভাবে ওষুধ...\n",
              "1  REAL  মায়ের ডায়াবেটিসে নবজাতকের ঝুঁকি দ্বিগুণ ইত্ত...\n",
              "2  REAL  যাদের বয়স এবং লম্বা হিসাবের চেয়ে ওজন বেশি তা...\n",
              "3  REAL             ডায়াবেটিস রোগীরা কেন ঝুঁকিতে জেনে নিন\n",
              "4  REAL  হৃদরোগ ডায়াবেটিস শ্বাসতন্ত্রের রোগ এবং হাইপার..."
            ]
          },
          "metadata": {
            "tags": []
          },
          "execution_count": 22
        }
      ]
    },
    {
      "cell_type": "code",
      "metadata": {
        "id": "6MrxZy2zb5Vd"
      },
      "source": [
        "#------------------------------\n",
        "# A list of bangla stop words found from https://github.com/stopwords-iso/stopwords-bn/blob/master/stopwords-bn.json\n",
        "#------------------------------\n",
        "\n",
        "bn_stop_words = frozenset([\"via\",\"অতএব\",\"অথচ\",\"অথবা\",\"অনুযায়ী\",\"অনেক\",\"অনেকে\",\"অনেকেই\",\"অন্তত\",\"অন্য\",\"অবধি\",\"অবশ্য\",\"অর্থাত\",\"আই\",\"আগামী\",\"আগে\",\"আগেই\",\"আছে\",\"আজ\",\"আদ্যভাগে\",\"আপনার\",\"আপনি\",\"আবার\",\"আমরা\",\"আমাকে\",\"আমাদের\",\"আমার\",\"আমি\",\"আর\",\"আরও\",\"ই\",\"ইত্যাদি\",\"ইহা\",\"উচিত\",\"উত্তর\",\"উনি\",\"উপর\",\"উপরে\",\"এ\",\"এঁদের\",\"এঁরা\",\"এই\",\"একই\",\"একটি\",\"একবার\",\"একে\",\"এক্\",\"এখন\",\"এখনও\",\"এখানে\",\"এখানেই\",\"এটা\",\"এটাই\",\"এটি\",\"এত\",\"এতটাই\",\"এতে\",\"এদের\",\"এব\",\"এবং\",\"এবার\",\"এমন\",\"এমনকী\",\"এমনি\",\"এর\",\"এরা\",\"এল\",\"এস\",\"এসে\",\"ঐ\",\"ও\",\"ওঁদের\",\"ওঁর\",\"ওঁরা\",\"ওই\",\"ওকে\",\"ওখানে\",\"ওদের\",\"ওর\",\"ওরা\",\"কখনও\",\"কত\",\"কবে\",\"কমনে\",\"কয়েক\",\"কয়েকটি\",\"করছে\",\"করছেন\",\"করতে\",\"করবে\",\"করবেন\",\"করলে\",\"করলেন\",\"করা\",\"করাই\",\"করায়\",\"করার\",\"করি\",\"করিতে\",\"করিয়া\",\"করিয়ে\",\"করে\",\"করেই\",\"করেছিলেন\",\"করেছে\",\"করেছেন\",\"করেন\",\"কাউকে\",\"কাছ\",\"কাছে\",\"কাজ\",\"কাজে\",\"কারও\",\"কারণ\",\"কি\",\"কিংবা\",\"কিছু\",\"কিছুই\",\"কিন্তু\",\"কী\",\"কে\",\"কেউ\",\"কেউই\",\"কেখা\",\"কেন\",\"কোটি\",\"কোন\",\"কোনও\",\"কোনো\",\"ক্ষেত্রে\",\"কয়েক\",\"খুব\",\"গিয়ে\",\"গিয়েছে\",\"গিয়ে\",\"গুলি\",\"গেছে\",\"গেল\",\"গেলে\",\"গোটা\",\"চলে\",\"চান\",\"চায়\",\"চার\",\"চালু\",\"চেয়ে\",\"চেষ্টা\",\"ছাড়া\",\"ছাড়াও\",\"ছিল\",\"ছিলেন\",\"জন\",\"জনকে\",\"জনের\",\"জন্য\",\"জন্যওজে\",\"জানতে\",\"জানা\",\"জানানো\",\"জানায়\",\"জানিয়ে\",\"জানিয়েছে\",\"জে\",\"জ্নজন\",\"টি\",\"ঠিক\",\"তখন\",\"তত\",\"তথা\",\"তবু\",\"তবে\",\"তা\",\"তাঁকে\",\"তাঁদের\",\"তাঁর\",\"তাঁরা\",\"তাঁাহারা\",\"তাই\",\"তাও\",\"তাকে\",\"তাতে\",\"তাদের\",\"তার\",\"তারপর\",\"তারা\",\"তারৈ\",\"তাহলে\",\"তাহা\",\"তাহাতে\",\"তাহার\",\"তিনঐ\",\"তিনি\",\"তিনিও\",\"তুমি\",\"তুলে\",\"তেমন\",\"তো\",\"তোমার\",\"থাকবে\",\"থাকবেন\",\"থাকা\",\"থাকায়\",\"থাকে\",\"থাকেন\",\"থেকে\",\"থেকেই\",\"থেকেও\",\"দিকে\",\"দিতে\",\"দিন\",\"দিয়ে\",\"দিয়েছে\",\"দিয়েছেন\",\"দিলেন\",\"দু\",\"দুই\",\"দুটি\",\"দুটো\",\"দেওয়া\",\"দেওয়ার\",\"দেওয়া\",\"দেখতে\",\"দেখা\",\"দেখে\",\"দেন\",\"দেয়\",\"দ্বারা\",\"ধরা\",\"ধরে\",\"ধামার\",\"নতুন\",\"নয়\",\"না\",\"নাই\",\"নাকি\",\"নাগাদ\",\"নানা\",\"নিজে\",\"নিজেই\",\"নিজেদের\",\"নিজের\",\"নিতে\",\"নিয়ে\",\"নিয়ে\",\"নেই\",\"নেওয়া\",\"নেওয়ার\",\"নেওয়া\",\"নয়\",\"পক্ষে\",\"পর\",\"পরে\",\"পরেই\",\"পরেও\",\"পর্যন্ত\",\"পাওয়া\",\"পাচ\",\"পারি\",\"পারে\",\"পারেন\",\"পি\",\"পেয়ে\",\"পেয়্র্\",\"প্রতি\",\"প্রথম\",\"প্রভৃতি\",\"প্রযন্ত\",\"প্রাথমিক\",\"প্রায়\",\"প্রায়\",\"ফলে\",\"ফিরে\",\"ফের\",\"বক্তব্য\",\"বদলে\",\"বন\",\"বরং\",\"বলতে\",\"বলল\",\"বললেন\",\"বলা\",\"বলে\",\"বলেছেন\",\"বলেন\",\"বসে\",\"বহু\",\"বা\",\"বাদে\",\"বার\",\"বি\",\"বিনা\",\"বিভিন্ন\",\"বিশেষ\",\"বিষয়টি\",\"বেশ\",\"বেশি\",\"ব্যবহার\",\"ব্যাপারে\",\"ভাবে\",\"ভাবেই\",\"মতো\",\"মতোই\",\"মধ্যভাগে\",\"মধ্যে\",\"মধ্যেই\",\"মধ্যেও\",\"মনে\",\"মাত্র\",\"মাধ্যমে\",\"মোট\",\"মোটেই\",\"যখন\",\"যত\",\"যতটা\",\"যথেষ্ট\",\"যদি\",\"যদিও\",\"যা\",\"যাঁর\",\"যাঁরা\",\"যাওয়া\",\"যাওয়ার\",\"যাওয়া\",\"যাকে\",\"যাচ্ছে\",\"যাতে\",\"যাদের\",\"যান\",\"যাবে\",\"যায়\",\"যার\",\"যারা\",\"যিনি\",\"যে\",\"যেখানে\",\"যেতে\",\"যেন\",\"যেমন\",\"র\",\"রকম\",\"রয়েছে\",\"রাখা\",\"রেখে\",\"লক্ষ\",\"শুধু\",\"শুরু\",\"সঙ্গে\",\"সঙ্গেও\",\"সব\",\"সবার\",\"সমস্ত\",\"সম্প্রতি\",\"সহ\",\"সহিত\",\"সাধারণ\",\"সামনে\",\"সি\",\"সুতরাং\",\"সে\",\"সেই\",\"সেখান\",\"সেখানে\",\"সেটা\",\"সেটাই\",\"সেটাও\",\"সেটি\",\"স্পষ্ট\",\"স্বয়ং\",\"হইতে\",\"হইবে\",\"হইয়া\",\"হওয়া\",\"হওয়ায়\",\"হওয়ার\",\"হচ্ছে\",\"হত\",\"হতে\",\"হতেই\",\"হন\",\"হবে\",\"হবেন\",\"হয়\",\"হয়তো\",\"হয়নি\",\"হয়ে\",\"হয়েই\",\"হয়েছিল\",\"হয়েছে\",\"হয়েছেন\",\"হল\",\"হলে\",\"হলেই\",\"হলেও\",\"হলো\",\"হাজার\",\"হিসাবে\",\"হৈলে\",\"হোক\",\"হয়\"])"
      ],
      "execution_count": null,
      "outputs": []
    },
    {
      "cell_type": "markdown",
      "metadata": {
        "id": "kmRJLhZSRGl2"
      },
      "source": [
        "#train test split"
      ]
    },
    {
      "cell_type": "code",
      "metadata": {
        "id": "6KI6Tl5QRFxN"
      },
      "source": [
        "train, test, train_y, test_y = train_test_split(df['text'], df['label'],test_size = 0.3)\n",
        "#y_train = train_df['label'].values"
      ],
      "execution_count": null,
      "outputs": []
    },
    {
      "cell_type": "code",
      "metadata": {
        "id": "uhdALvsiRkeE",
        "colab": {
          "base_uri": "https://localhost:8080/"
        },
        "outputId": "7b4fb10f-2dc4-4274-e7cd-cf2319d4344d"
      },
      "source": [
        "train.head()"
      ],
      "execution_count": null,
      "outputs": [
        {
          "output_type": "execute_result",
          "data": {
            "text/plain": [
              "1190    মানুষ মানুষের জন্যে পর্ব ২ শিক্ষক রহমান সাহেবে...\n",
              "1981    আল্লামা সাঈদীর মামলা শেখ হাসিনার ক্লোনিক ক্যান...\n",
              "422         ডেঙ্গু থেকে সেরে উঠতে ঘরোয়া কার্যকরি উপায় @\n",
              "653     মাত্র ৫ টাকায় কিডনি ক্লিন হবে জেনে নিন ঘরোয়া...\n",
              "288           তালায় ডায়াবেটিস প্রতিরোধে মেডিকেল ক্যাম্প\n",
              "Name: text, dtype: object"
            ]
          },
          "metadata": {
            "tags": []
          },
          "execution_count": 25
        }
      ]
    },
    {
      "cell_type": "code",
      "metadata": {
        "id": "XZiFkkLORlxY",
        "colab": {
          "base_uri": "https://localhost:8080/"
        },
        "outputId": "a3ce461e-8793-4b80-e700-7374743865c4"
      },
      "source": [
        "test.head()"
      ],
      "execution_count": null,
      "outputs": [
        {
          "output_type": "execute_result",
          "data": {
            "text/plain": [
              "131               ডায়াবেটিস নিয়ন্ত্রণ করে তিতকুটে খাবার\n",
              "2033                        যেসব কারণে ফুসফুসের ক্যান্সার\n",
              "1779    ভালুকা মাস্টার হাসপাতালে বিশ্ব ক্যান্সার দিবস ...\n",
              "1316    রেনিটিডিন উৎপাদন ও বিক্রিতে সাময়িক নিষেধাজ্ঞা...\n",
              "880     ঘাড়ের ও গলার কালো দাগ দূর করার ঘরোয়া সহজ জাদ...\n",
              "Name: text, dtype: object"
            ]
          },
          "metadata": {
            "tags": []
          },
          "execution_count": 26
        }
      ]
    },
    {
      "cell_type": "markdown",
      "metadata": {
        "id": "sM6JdWoXBp-a"
      },
      "source": [
        "#Loading tokenizer from the bert layer:"
      ]
    },
    {
      "cell_type": "code",
      "metadata": {
        "id": "_l5V3QNWBZZ5"
      },
      "source": [
        "vocab_file = bert_layer.resolved_object.vocab_file.asset_path.numpy()\n",
        "do_lower_case = bert_layer.resolved_object.do_lower_case.numpy()\n",
        "# tokenizer = tokenization.FullTokenizer(vocab_file, do_lower_case)\n",
        "\n",
        "tokenizer = bert.bert_tokenization.FullTokenizer(vocab_file, do_lower_case)\n"
      ],
      "execution_count": null,
      "outputs": []
    },
    {
      "cell_type": "markdown",
      "metadata": {
        "id": "P7EZ0lezBtMo"
      },
      "source": [
        "#Encoding the text into tokens, masks, and segment flags:"
      ]
    },
    {
      "cell_type": "code",
      "metadata": {
        "id": "ptLDN-AoBbX0"
      },
      "source": [
        "train_input = bert_encode(train.values, tokenizer, max_len=160)\n",
        "test_input = bert_encode(test.values, tokenizer, max_len=160)\n",
        "train_labels = train_y"
      ],
      "execution_count": null,
      "outputs": []
    },
    {
      "cell_type": "code",
      "metadata": {
        "id": "qzHHzF99Rraz",
        "colab": {
          "base_uri": "https://localhost:8080/",
          "height": 35
        },
        "outputId": "bf5910f0-6b6d-4c2e-f2a3-ed3bddd89bb2"
      },
      "source": [
        "type(train_input)"
      ],
      "execution_count": null,
      "outputs": [
        {
          "output_type": "execute_result",
          "data": {
            "text/plain": [
              "tuple"
            ]
          },
          "metadata": {
            "tags": []
          },
          "execution_count": 29
        }
      ]
    },
    {
      "cell_type": "code",
      "metadata": {
        "id": "ozzCVCVhGGaC"
      },
      "source": [
        "test_y"
      ],
      "execution_count": null,
      "outputs": []
    },
    {
      "cell_type": "code",
      "metadata": {
        "id": "MLwdqj3mRvU4",
        "colab": {
          "base_uri": "https://localhost:8080/",
          "height": 107
        },
        "outputId": "4bdf375f-51c3-42d7-ab5b-ade969607e16"
      },
      "source": [
        "print(train.shape)\n",
        "print(train_y.shape)\n",
        "print(test.shape)\n",
        "print(test_y.shape)\n",
        "print(train_labels.shape)"
      ],
      "execution_count": null,
      "outputs": [
        {
          "output_type": "stream",
          "text": [
            "(1446,)\n",
            "(1446,)\n",
            "(621,)\n",
            "(621,)\n",
            "(1446,)\n"
          ],
          "name": "stdout"
        }
      ]
    },
    {
      "cell_type": "code",
      "metadata": {
        "id": "GQkKgikvRxib",
        "colab": {
          "base_uri": "https://localhost:8080/",
          "height": 35
        },
        "outputId": "928d824b-c290-4c9a-f987-9e552be5985e"
      },
      "source": [
        "type(train_labels)"
      ],
      "execution_count": null,
      "outputs": [
        {
          "output_type": "execute_result",
          "data": {
            "text/plain": [
              "pandas.core.series.Series"
            ]
          },
          "metadata": {
            "tags": []
          },
          "execution_count": 32
        }
      ]
    },
    {
      "cell_type": "code",
      "metadata": {
        "id": "-fOKkdLfR-_c"
      },
      "source": [
        "train_labels = to_categorical(np.asarray(train_labels.factorize()[0]))"
      ],
      "execution_count": null,
      "outputs": []
    },
    {
      "cell_type": "markdown",
      "metadata": {
        "id": "kLvaGsTjBwD3"
      },
      "source": [
        "#Model: Build, Train, Predict"
      ]
    },
    {
      "cell_type": "code",
      "metadata": {
        "id": "5fZN97khBdSn",
        "colab": {
          "base_uri": "https://localhost:8080/",
          "height": 413
        },
        "outputId": "5afa4847-9554-44ff-f403-e7e39ee330ae"
      },
      "source": [
        "model = build_model(bert_layer, max_len=160)\n",
        "model.summary()"
      ],
      "execution_count": null,
      "outputs": [
        {
          "output_type": "stream",
          "text": [
            "Model: \"model_1\"\n",
            "__________________________________________________________________________________________________\n",
            "Layer (type)                    Output Shape         Param #     Connected to                     \n",
            "==================================================================================================\n",
            "input_word_ids (InputLayer)     [(None, 160)]        0                                            \n",
            "__________________________________________________________________________________________________\n",
            "input_mask (InputLayer)         [(None, 160)]        0                                            \n",
            "__________________________________________________________________________________________________\n",
            "segment_ids (InputLayer)        [(None, 160)]        0                                            \n",
            "__________________________________________________________________________________________________\n",
            "keras_layer (KerasLayer)        [(None, 768), (None, 177853441   input_word_ids[0][0]             \n",
            "                                                                 input_mask[0][0]                 \n",
            "                                                                 segment_ids[0][0]                \n",
            "__________________________________________________________________________________________________\n",
            "tf_op_layer_strided_slice_1 (Te [(None, 768)]        0           keras_layer[1][1]                \n",
            "__________________________________________________________________________________________________\n",
            "dense_1 (Dense)                 (None, 8)            6152        tf_op_layer_strided_slice_1[0][0]\n",
            "==================================================================================================\n",
            "Total params: 177,859,593\n",
            "Trainable params: 177,859,592\n",
            "Non-trainable params: 1\n",
            "__________________________________________________________________________________________________\n"
          ],
          "name": "stdout"
        }
      ]
    },
    {
      "cell_type": "code",
      "metadata": {
        "id": "pq7yBa3yBhw5",
        "colab": {
          "base_uri": "https://localhost:8080/",
          "height": 1000
        },
        "outputId": "847e6faf-25e5-4041-992d-a8371218cafd"
      },
      "source": [
        "#batch size = 16 e oom hoy, so use smaller batch size\n",
        "train_history = model.fit(\n",
        "    train_input, train_labels,\n",
        "    validation_split=0.2,\n",
        "    epochs=50,\n",
        "    batch_size=16\n",
        ")\n"
      ],
      "execution_count": null,
      "outputs": [
        {
          "output_type": "stream",
          "text": [
            "Epoch 1/50\n",
            "73/73 [==============================] - 47s 641ms/step - loss: 1.7519 - accuracy: 0.3780 - val_loss: 1.5584 - val_accuracy: 0.4345\n",
            "Epoch 2/50\n",
            "73/73 [==============================] - 45s 622ms/step - loss: 1.4534 - accuracy: 0.4282 - val_loss: 1.3784 - val_accuracy: 0.4345\n",
            "Epoch 3/50\n",
            "73/73 [==============================] - 46s 628ms/step - loss: 1.2907 - accuracy: 0.4464 - val_loss: 1.2617 - val_accuracy: 0.5448\n",
            "Epoch 4/50\n",
            "73/73 [==============================] - 46s 626ms/step - loss: 1.1331 - accuracy: 0.5675 - val_loss: 1.1228 - val_accuracy: 0.6276\n",
            "Epoch 5/50\n",
            "73/73 [==============================] - 46s 626ms/step - loss: 0.9959 - accuracy: 0.6540 - val_loss: 1.0754 - val_accuracy: 0.6552\n",
            "Epoch 6/50\n",
            "73/73 [==============================] - 46s 627ms/step - loss: 0.9284 - accuracy: 0.6834 - val_loss: 1.0369 - val_accuracy: 0.6621\n",
            "Epoch 7/50\n",
            "73/73 [==============================] - 46s 627ms/step - loss: 0.8643 - accuracy: 0.6990 - val_loss: 1.0195 - val_accuracy: 0.6655\n",
            "Epoch 8/50\n",
            "73/73 [==============================] - 46s 628ms/step - loss: 0.7729 - accuracy: 0.7292 - val_loss: 1.0135 - val_accuracy: 0.6759\n",
            "Epoch 9/50\n",
            "73/73 [==============================] - 46s 628ms/step - loss: 0.7196 - accuracy: 0.7569 - val_loss: 1.0136 - val_accuracy: 0.6517\n",
            "Epoch 10/50\n",
            "73/73 [==============================] - 46s 626ms/step - loss: 0.6768 - accuracy: 0.7716 - val_loss: 1.0151 - val_accuracy: 0.6690\n",
            "Epoch 11/50\n",
            "73/73 [==============================] - 46s 626ms/step - loss: 0.6094 - accuracy: 0.7993 - val_loss: 1.0285 - val_accuracy: 0.6862\n",
            "Epoch 12/50\n",
            "73/73 [==============================] - 46s 627ms/step - loss: 0.5598 - accuracy: 0.8149 - val_loss: 0.9900 - val_accuracy: 0.6655\n",
            "Epoch 13/50\n",
            "73/73 [==============================] - 46s 626ms/step - loss: 0.5320 - accuracy: 0.8313 - val_loss: 1.0071 - val_accuracy: 0.6862\n",
            "Epoch 14/50\n",
            "73/73 [==============================] - 46s 627ms/step - loss: 0.4883 - accuracy: 0.8478 - val_loss: 1.0174 - val_accuracy: 0.6931\n",
            "Epoch 15/50\n",
            "73/73 [==============================] - 46s 627ms/step - loss: 0.4713 - accuracy: 0.8434 - val_loss: 1.0226 - val_accuracy: 0.6897\n",
            "Epoch 16/50\n",
            "73/73 [==============================] - 46s 627ms/step - loss: 0.4123 - accuracy: 0.8815 - val_loss: 1.0471 - val_accuracy: 0.6897\n",
            "Epoch 17/50\n",
            "73/73 [==============================] - 46s 628ms/step - loss: 0.3787 - accuracy: 0.8884 - val_loss: 1.0663 - val_accuracy: 0.6724\n",
            "Epoch 18/50\n",
            "73/73 [==============================] - 46s 627ms/step - loss: 0.3455 - accuracy: 0.8884 - val_loss: 1.0741 - val_accuracy: 0.6690\n",
            "Epoch 19/50\n",
            "73/73 [==============================] - 46s 627ms/step - loss: 0.3297 - accuracy: 0.8962 - val_loss: 1.1418 - val_accuracy: 0.6966\n",
            "Epoch 20/50\n",
            "73/73 [==============================] - 46s 627ms/step - loss: 0.3040 - accuracy: 0.9196 - val_loss: 1.0773 - val_accuracy: 0.6828\n",
            "Epoch 21/50\n",
            "73/73 [==============================] - 46s 627ms/step - loss: 0.2889 - accuracy: 0.9178 - val_loss: 1.0923 - val_accuracy: 0.6759\n",
            "Epoch 22/50\n",
            "73/73 [==============================] - 46s 627ms/step - loss: 0.2483 - accuracy: 0.9394 - val_loss: 1.1215 - val_accuracy: 0.6862\n",
            "Epoch 23/50\n",
            "73/73 [==============================] - 46s 627ms/step - loss: 0.2390 - accuracy: 0.9412 - val_loss: 1.1495 - val_accuracy: 0.6724\n",
            "Epoch 24/50\n",
            "73/73 [==============================] - 46s 628ms/step - loss: 0.2160 - accuracy: 0.9438 - val_loss: 1.1597 - val_accuracy: 0.6724\n",
            "Epoch 25/50\n",
            "73/73 [==============================] - 46s 628ms/step - loss: 0.1990 - accuracy: 0.9446 - val_loss: 1.1810 - val_accuracy: 0.6862\n",
            "Epoch 26/50\n",
            "73/73 [==============================] - 46s 628ms/step - loss: 0.1836 - accuracy: 0.9533 - val_loss: 1.2221 - val_accuracy: 0.6517\n",
            "Epoch 27/50\n",
            "73/73 [==============================] - 46s 628ms/step - loss: 0.1922 - accuracy: 0.9490 - val_loss: 1.2504 - val_accuracy: 0.6828\n",
            "Epoch 28/50\n",
            "73/73 [==============================] - 46s 627ms/step - loss: 0.1647 - accuracy: 0.9628 - val_loss: 1.2348 - val_accuracy: 0.6759\n",
            "Epoch 29/50\n",
            "73/73 [==============================] - 46s 627ms/step - loss: 0.1396 - accuracy: 0.9697 - val_loss: 1.2491 - val_accuracy: 0.6828\n",
            "Epoch 30/50\n",
            "73/73 [==============================] - 46s 628ms/step - loss: 0.1387 - accuracy: 0.9663 - val_loss: 1.2553 - val_accuracy: 0.6931\n",
            "Epoch 31/50\n",
            "73/73 [==============================] - 46s 628ms/step - loss: 0.1249 - accuracy: 0.9792 - val_loss: 1.2951 - val_accuracy: 0.6586\n",
            "Epoch 32/50\n",
            "73/73 [==============================] - 46s 627ms/step - loss: 0.1231 - accuracy: 0.9715 - val_loss: 1.3129 - val_accuracy: 0.6862\n",
            "Epoch 33/50\n",
            "73/73 [==============================] - 46s 626ms/step - loss: 0.1128 - accuracy: 0.9801 - val_loss: 1.3486 - val_accuracy: 0.6793\n",
            "Epoch 34/50\n",
            "73/73 [==============================] - 46s 627ms/step - loss: 0.1125 - accuracy: 0.9749 - val_loss: 1.3611 - val_accuracy: 0.6793\n",
            "Epoch 35/50\n",
            "73/73 [==============================] - 46s 627ms/step - loss: 0.1136 - accuracy: 0.9715 - val_loss: 1.3714 - val_accuracy: 0.6793\n",
            "Epoch 36/50\n",
            "73/73 [==============================] - 46s 627ms/step - loss: 0.0975 - accuracy: 0.9758 - val_loss: 1.4030 - val_accuracy: 0.6724\n",
            "Epoch 37/50\n",
            "73/73 [==============================] - 46s 626ms/step - loss: 0.1032 - accuracy: 0.9784 - val_loss: 1.3434 - val_accuracy: 0.6828\n",
            "Epoch 38/50\n",
            "73/73 [==============================] - 46s 626ms/step - loss: 0.0792 - accuracy: 0.9896 - val_loss: 1.3477 - val_accuracy: 0.6793\n",
            "Epoch 39/50\n",
            "73/73 [==============================] - 46s 626ms/step - loss: 0.0818 - accuracy: 0.9853 - val_loss: 1.3704 - val_accuracy: 0.6793\n",
            "Epoch 40/50\n",
            "73/73 [==============================] - 46s 627ms/step - loss: 0.0715 - accuracy: 0.9844 - val_loss: 1.4262 - val_accuracy: 0.6828\n",
            "Epoch 41/50\n",
            "73/73 [==============================] - 46s 628ms/step - loss: 0.0796 - accuracy: 0.9853 - val_loss: 1.3704 - val_accuracy: 0.6621\n",
            "Epoch 42/50\n",
            "73/73 [==============================] - 46s 627ms/step - loss: 0.0766 - accuracy: 0.9879 - val_loss: 1.4843 - val_accuracy: 0.6517\n",
            "Epoch 43/50\n",
            "73/73 [==============================] - 46s 626ms/step - loss: 0.0727 - accuracy: 0.9870 - val_loss: 1.4391 - val_accuracy: 0.6759\n",
            "Epoch 44/50\n",
            "73/73 [==============================] - 46s 627ms/step - loss: 0.0652 - accuracy: 0.9853 - val_loss: 1.4042 - val_accuracy: 0.6897\n",
            "Epoch 45/50\n",
            "73/73 [==============================] - 46s 627ms/step - loss: 0.0659 - accuracy: 0.9870 - val_loss: 1.4361 - val_accuracy: 0.6862\n",
            "Epoch 46/50\n",
            "73/73 [==============================] - 46s 629ms/step - loss: 0.0555 - accuracy: 0.9913 - val_loss: 1.4445 - val_accuracy: 0.6862\n",
            "Epoch 47/50\n",
            "73/73 [==============================] - 46s 627ms/step - loss: 0.0504 - accuracy: 0.9905 - val_loss: 1.4612 - val_accuracy: 0.6655\n",
            "Epoch 48/50\n",
            "73/73 [==============================] - 46s 626ms/step - loss: 0.0529 - accuracy: 0.9879 - val_loss: 1.4544 - val_accuracy: 0.6793\n",
            "Epoch 49/50\n",
            "73/73 [==============================] - 46s 628ms/step - loss: 0.0536 - accuracy: 0.9922 - val_loss: 1.4470 - val_accuracy: 0.6828\n",
            "Epoch 50/50\n",
            "73/73 [==============================] - 46s 629ms/step - loss: 0.0529 - accuracy: 0.9913 - val_loss: 1.4674 - val_accuracy: 0.6655\n"
          ],
          "name": "stdout"
        }
      ]
    },
    {
      "cell_type": "code",
      "metadata": {
        "id": "UO1OxPKtDof4",
        "colab": {
          "base_uri": "https://localhost:8080/",
          "height": 53
        },
        "outputId": "45d96820-64a5-4d47-d223-62dfc44e9de1"
      },
      "source": [
        "#max accuracy \n",
        "print(\"Max acc from training set %0.5f\" % max(train_history.history['accuracy']))\n",
        "print(\"Max val_acc from validation set %0.5f\" % max(train_history.history['val_accuracy']))"
      ],
      "execution_count": null,
      "outputs": [
        {
          "output_type": "stream",
          "text": [
            "Max acc from training set 0.99221\n",
            "Max val_acc from validation set 0.69655\n"
          ],
          "name": "stdout"
        }
      ]
    },
    {
      "cell_type": "markdown",
      "metadata": {
        "id": "gGNy-cIIQoc7"
      },
      "source": [
        "#Predict"
      ]
    },
    {
      "cell_type": "code",
      "metadata": {
        "id": "R_Va5uYACObd"
      },
      "source": [
        "y_pred = model.predict(test_input)"
      ],
      "execution_count": null,
      "outputs": []
    },
    {
      "cell_type": "code",
      "metadata": {
        "id": "jFkG88J28VR5"
      },
      "source": [
        "test_y = to_categorical(np.asarray(test_y.factorize()[0]))"
      ],
      "execution_count": null,
      "outputs": []
    },
    {
      "cell_type": "code",
      "metadata": {
        "id": "w-moPW0Y8VSB",
        "colab": {
          "base_uri": "https://localhost:8080/",
          "height": 35
        },
        "outputId": "51152c5a-bb5e-4403-880a-f349692e063a"
      },
      "source": [
        "print(\"test roc_auc_score %0.4f\" %roc_auc_score(test_y,y_pred))"
      ],
      "execution_count": null,
      "outputs": [
        {
          "output_type": "stream",
          "text": [
            "test roc_auc_score 0.6219\n"
          ],
          "name": "stdout"
        }
      ]
    },
    {
      "cell_type": "code",
      "metadata": {
        "id": "Q9YqLtuCHQ3E"
      },
      "source": [
        "from sklearn.metrics import accuracy_score\n",
        "y_pred = np.argmax(y_pred, axis=1)\n",
        "accuracy_score(test_y, y_pred)"
      ],
      "execution_count": null,
      "outputs": []
    },
    {
      "cell_type": "code",
      "metadata": {
        "id": "pMQXYUQkKIAt"
      },
      "source": [
        "from sklearn.metrics import confusion_matrix\n",
        "cm = confusion_matrix(test_y, y_pred)"
      ],
      "execution_count": null,
      "outputs": []
    },
    {
      "cell_type": "code",
      "metadata": {
        "id": "mgbAgKSp8VRz",
        "colab": {
          "base_uri": "https://localhost:8080/",
          "height": 35
        },
        "outputId": "00561cd1-30ce-4787-9887-d9e48a25e047"
      },
      "source": [
        "y_pred.shape\n"
      ],
      "execution_count": null,
      "outputs": [
        {
          "output_type": "execute_result",
          "data": {
            "text/plain": [
              "(621, 8)"
            ]
          },
          "metadata": {
            "tags": []
          },
          "execution_count": 42
        }
      ]
    },
    {
      "cell_type": "code",
      "metadata": {
        "id": "_1THU4qq8VR9",
        "colab": {
          "base_uri": "https://localhost:8080/",
          "height": 35
        },
        "outputId": "36fbce6d-2762-413b-f669-40900f03f1f7"
      },
      "source": [
        "test_y.shape"
      ],
      "execution_count": null,
      "outputs": [
        {
          "output_type": "execute_result",
          "data": {
            "text/plain": [
              "(621, 8)"
            ]
          },
          "metadata": {
            "tags": []
          },
          "execution_count": 41
        }
      ]
    },
    {
      "cell_type": "code",
      "metadata": {
        "id": "iYJrLV3SEDIN"
      },
      "source": [
        "threshold =0.1 # this can be changed. For simplistic example, let uss consider 0.5\n",
        "y_pred = np.where(y_pred <threshold,0,1)"
      ],
      "execution_count": null,
      "outputs": []
    },
    {
      "cell_type": "code",
      "metadata": {
        "id": "I07PU2wKD4Nj"
      },
      "source": [
        "from sklearn.metrics import classification_report\n",
        "print(classification_report(test_y, y_pred, digits = 8))"
      ],
      "execution_count": null,
      "outputs": []
    },
    {
      "cell_type": "markdown",
      "metadata": {
        "id": "y8Jd0JgadmP5"
      },
      "source": [
        "#PLOT"
      ]
    },
    {
      "cell_type": "code",
      "metadata": {
        "id": "hOdGM-Bnc7o2",
        "colab": {
          "base_uri": "https://localhost:8080/",
          "height": 295
        },
        "outputId": "84a7d5d6-db31-4533-836a-66fe0e04a2f4"
      },
      "source": [
        "#generate plots\n",
        "from google.colab import files\n",
        "test = plt.figure()\n",
        "plt.plot(train_history.history['loss'], lw=2.0, color='b', label='train')\n",
        "plt.plot(train_history.history['val_loss'], lw=2.0, color='r', label='val')\n",
        "plt.title('BERT')\n",
        "plt.xlabel('Epochs')\n",
        "plt.ylabel('Cross-Entropy Loss')\n",
        "plt.legend(loc='upper right')\n",
        "plt.show()"
      ],
      "execution_count": null,
      "outputs": [
        {
          "output_type": "display_data",
          "data": {
            "image/png": "[encoded data removed]",
            "text/plain": [
              "<Figure size 432x288 with 1 Axes>"
            ]
          },
          "metadata": {
            "tags": [],
            "needs_background": "light"
          }
        }
      ]
    },
    {
      "cell_type": "code",
      "metadata": {
        "id": "22mzSv7Hdlb7",
        "colab": {
          "base_uri": "https://localhost:8080/",
          "height": 295
        },
        "outputId": "cda0b0cf-e70d-472c-cb35-6e7eabc0a930"
      },
      "source": [
        "test = plt.figure()\n",
        "plt.plot(train_history.history['accuracy'], lw=2.0, color='b', label='train')\n",
        "plt.plot(train_history.history['val_accuracy'], lw=2.0, color='r', label='val')\n",
        "plt.title('BERT')\n",
        "plt.xlabel('Epochs')\n",
        "plt.ylabel('Accuracy')\n",
        "plt.legend(loc='lower right')\n",
        "plt.show()"
      ],
      "execution_count": null,
      "outputs": [
        {
          "output_type": "display_data",
          "data": {
            "image/png": "[encoded data removed]",
            "text/plain": [
              "<Figure size 432x288 with 1 Axes>"
            ]
          },
          "metadata": {
            "tags": [],
            "needs_background": "light"
          }
        }
      ]
    }
  ]
}