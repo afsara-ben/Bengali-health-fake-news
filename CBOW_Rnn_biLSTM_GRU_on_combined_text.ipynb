{
  "nbformat": 4,
  "nbformat_minor": 0,
  "metadata": {
    "colab": {
      "name": "Rnn-biLSTM-GRU-on combined text- COPY.ipynb",
      "provenance": [],
      "collapsed_sections": [
        "d5Qd9buVYRlk",
        "2YOHlwQBYKZH",
        "wqg54HL7Z884",
        "3qT7k-yOKPeY",
        "Qe4eRFslKdoh",
        "1P_wdCstibAp",
        "7lCW6stewC68"
      ]
    },
    "kernelspec": {
      "name": "python3",
      "display_name": "Python 3"
    }
  },
  "cells": [
    {
      "cell_type": "markdown",
      "metadata": {
        "id": "d5Qd9buVYRlk"
      },
      "source": [
        "#Load libraries & data"
      ]
    },
    {
      "cell_type": "code",
      "metadata": {
        "id": "HiaQ0Z0pIghm",
        "colab": {
          "base_uri": "https://localhost:8080/",
          "height": 361
        },
        "outputId": "6f336632-2805-46f1-9ac5-ad4386f7ae5e"
      },
      "source": [
        "# libraries\n",
        "\n",
        "import numpy as np # linear algebra\n",
        "import pandas as pd # data processing, CSV file I/O (e.g. pd.read_csv)\n",
        "import matplotlib.pyplot as plt\n",
        "np.random.seed(32)\n",
        "\n",
        "import tensorflow as tf\n",
        "from sklearn.model_selection import train_test_split\n",
        "from sklearn.metrics import roc_auc_score\n",
        "from sklearn.manifold import TSNE\n",
        "\n",
        "from keras.preprocessing.text import Tokenizer\n",
        "from keras.preprocessing.sequence import pad_sequences\n",
        "from keras.layers import LSTM, Conv1D, MaxPooling1D, Dropout\n",
        "from keras.models import Sequential\n",
        "from keras.layers import  GRU, Bidirectional,  SpatialDropout1D\n",
        "from keras.utils.np_utils import to_categorical\n",
        "\n",
        "from keras.layers import Dense, Input, Flatten\n",
        "from keras.layers import GlobalAveragePooling1D, Embedding\n",
        "from keras.models import Model\n",
        "\n",
        "%matplotlib inline\n",
        "\n",
        "!pip install ipython-autotime\n",
        "%load_ext autotime"
      ],
      "execution_count": null,
      "outputs": [
        {
          "output_type": "stream",
          "text": [
            "Collecting ipython-autotime\n",
            "  Downloading https://files.pythonhosted.org/packages/3f/58/a4a65efcce5c81a67b6893ade862736de355a3a718af5533d30c991831ce/ipython_autotime-0.2.0-py2.py3-none-any.whl\n",
            "Requirement already satisfied: ipython in /usr/local/lib/python3.6/dist-packages (from ipython-autotime) (5.5.0)\n",
            "Requirement already satisfied: traitlets>=4.2 in /usr/local/lib/python3.6/dist-packages (from ipython->ipython-autotime) (4.3.3)\n",
            "Requirement already satisfied: decorator in /usr/local/lib/python3.6/dist-packages (from ipython->ipython-autotime) (4.4.2)\n",
            "Requirement already satisfied: simplegeneric>0.8 in /usr/local/lib/python3.6/dist-packages (from ipython->ipython-autotime) (0.8.1)\n",
            "Requirement already satisfied: pickleshare in /usr/local/lib/python3.6/dist-packages (from ipython->ipython-autotime) (0.7.5)\n",
            "Requirement already satisfied: pexpect; sys_platform != \"win32\" in /usr/local/lib/python3.6/dist-packages (from ipython->ipython-autotime) (4.8.0)\n",
            "Requirement already satisfied: prompt-toolkit<2.0.0,>=1.0.4 in /usr/local/lib/python3.6/dist-packages (from ipython->ipython-autotime) (1.0.18)\n",
            "Requirement already satisfied: setuptools>=18.5 in /usr/local/lib/python3.6/dist-packages (from ipython->ipython-autotime) (50.3.0)\n",
            "Requirement already satisfied: pygments in /usr/local/lib/python3.6/dist-packages (from ipython->ipython-autotime) (2.6.1)\n",
            "Requirement already satisfied: six in /usr/local/lib/python3.6/dist-packages (from traitlets>=4.2->ipython->ipython-autotime) (1.15.0)\n",
            "Requirement already satisfied: ipython-genutils in /usr/local/lib/python3.6/dist-packages (from traitlets>=4.2->ipython->ipython-autotime) (0.2.0)\n",
            "Requirement already satisfied: ptyprocess>=0.5 in /usr/local/lib/python3.6/dist-packages (from pexpect; sys_platform != \"win32\"->ipython->ipython-autotime) (0.6.0)\n",
            "Requirement already satisfied: wcwidth in /usr/local/lib/python3.6/dist-packages (from prompt-toolkit<2.0.0,>=1.0.4->ipython->ipython-autotime) (0.2.5)\n",
            "Installing collected packages: ipython-autotime\n",
            "Successfully installed ipython-autotime-0.2.0\n",
            "time: 134 µs\n"
          ],
          "name": "stdout"
        }
      ]
    },
    {
      "cell_type": "code",
      "metadata": {
        "id": "cRViDipCIrIQ",
        "colab": {
          "base_uri": "https://localhost:8080/",
          "height": 53
        },
        "outputId": "c54a66b1-1c54-420c-d43f-2fc3efe2237f"
      },
      "source": [
        "from google.colab import drive\n",
        "drive.mount('/content/gdrive')\n",
        "root_path = 'gdrive/My Drive/Colab Notebooks/Fake-vs-real/all_complete_labelled/'"
      ],
      "execution_count": null,
      "outputs": [
        {
          "output_type": "stream",
          "text": [
            "Drive already mounted at /content/gdrive; to attempt to forcibly remount, call drive.mount(\"/content/gdrive\", force_remount=True).\n",
            "time: 6.44 ms\n"
          ],
          "name": "stdout"
        }
      ]
    },
    {
      "cell_type": "code",
      "metadata": {
        "id": "QDOv_lPfZ6Az",
        "colab": {
          "base_uri": "https://localhost:8080/",
          "height": 35
        },
        "outputId": "a76d13ec-7f3e-4a5b-bc8b-9de394f5b133"
      },
      "source": [
        "df = pd.read_csv(root_path + \"combined-1.csv\", names = ['label','text','fullname','replies','retweet','likes'], skiprows=1)\n",
        "#df = pd.read_csv(root_path + \"ক্যান্সার-first-1000-stemmed.csv\",names=['label','text'])\n",
        "\n",
        "#df.drop(df.columns[[2,3,4,5,6,7]],axis = 1,inplace = True)\n",
        "df.shape\n"
      ],
      "execution_count": null,
      "outputs": [
        {
          "output_type": "execute_result",
          "data": {
            "text/plain": [
              "(2067, 6)"
            ]
          },
          "metadata": {
            "tags": []
          },
          "execution_count": 5
        },
        {
          "output_type": "stream",
          "text": [
            "time: 1.68 s\n"
          ],
          "name": "stdout"
        }
      ]
    },
    {
      "cell_type": "code",
      "metadata": {
        "id": "LAjvTus2hQJZ",
        "colab": {
          "base_uri": "https://localhost:8080/",
          "height": 222
        },
        "outputId": "5baea081-3145-477d-b52a-c6fdd44104af"
      },
      "source": [
        "df.head()"
      ],
      "execution_count": null,
      "outputs": [
        {
          "output_type": "execute_result",
          "data": {
            "text/html": [
              "<div>\n",
              "<style scoped>\n",
              "    .dataframe tbody tr th:only-of-type {\n",
              "        vertical-align: middle;\n",
              "    }\n",
              "\n",
              "    .dataframe tbody tr th {\n",
              "        vertical-align: top;\n",
              "    }\n",
              "\n",
              "    .dataframe thead th {\n",
              "        text-align: right;\n",
              "    }\n",
              "</style>\n",
              "<table border=\"1\" class=\"dataframe\">\n",
              "  <thead>\n",
              "    <tr style=\"text-align: right;\">\n",
              "      <th></th>\n",
              "      <th>label</th>\n",
              "      <th>text</th>\n",
              "      <th>fullname</th>\n",
              "      <th>replies</th>\n",
              "      <th>retweet</th>\n",
              "      <th>likes</th>\n",
              "    </tr>\n",
              "  </thead>\n",
              "  <tbody>\n",
              "    <tr>\n",
              "      <th>0</th>\n",
              "      <td>FAKE</td>\n",
              "      <td>ডায়াবেটিস রুগীদের ডায়াবেটিস থেকে কিভাবে ওষুধ...</td>\n",
              "      <td>NaN</td>\n",
              "      <td>NaN</td>\n",
              "      <td>NaN</td>\n",
              "      <td>NaN</td>\n",
              "    </tr>\n",
              "    <tr>\n",
              "      <th>1</th>\n",
              "      <td>REAL</td>\n",
              "      <td>মায়ের ডায়াবেটিসে নবজাতকের ঝুঁকি দ্বিগুণ\\n#ইত...</td>\n",
              "      <td>NaN</td>\n",
              "      <td>NaN</td>\n",
              "      <td>NaN</td>\n",
              "      <td>NaN</td>\n",
              "    </tr>\n",
              "    <tr>\n",
              "      <th>2</th>\n",
              "      <td>REAL</td>\n",
              "      <td>যাদের বয়স এবং লম্বা হিসাবের চেয়ে \\nওজন বেশি ...</td>\n",
              "      <td>NaN</td>\n",
              "      <td>NaN</td>\n",
              "      <td>NaN</td>\n",
              "      <td>NaN</td>\n",
              "    </tr>\n",
              "    <tr>\n",
              "      <th>3</th>\n",
              "      <td>REAL</td>\n",
              "      <td>ডায়াবেটিস রোগীরা কেন ঝুঁকিতে জেনে নিন</td>\n",
              "      <td>NaN</td>\n",
              "      <td>NaN</td>\n",
              "      <td>NaN</td>\n",
              "      <td>NaN</td>\n",
              "    </tr>\n",
              "    <tr>\n",
              "      <th>4</th>\n",
              "      <td>REAL</td>\n",
              "      <td>হৃদরোগ, ডায়াবেটিস, শ্বাসতন্ত্রের রোগ এবং হাইপ...</td>\n",
              "      <td>NaN</td>\n",
              "      <td>NaN</td>\n",
              "      <td>NaN</td>\n",
              "      <td>NaN</td>\n",
              "    </tr>\n",
              "  </tbody>\n",
              "</table>\n",
              "</div>"
            ],
            "text/plain": [
              "  label                                               text  ... retweet  likes\n",
              "0  FAKE  ডায়াবেটিস রুগীদের ডায়াবেটিস থেকে কিভাবে ওষুধ...  ...     NaN    NaN\n",
              "1  REAL  মায়ের ডায়াবেটিসে নবজাতকের ঝুঁকি দ্বিগুণ\\n#ইত...  ...     NaN    NaN\n",
              "2  REAL  যাদের বয়স এবং লম্বা হিসাবের চেয়ে \\nওজন বেশি ...  ...     NaN    NaN\n",
              "3  REAL             ডায়াবেটিস রোগীরা কেন ঝুঁকিতে জেনে নিন  ...     NaN    NaN\n",
              "4  REAL  হৃদরোগ, ডায়াবেটিস, শ্বাসতন্ত্রের রোগ এবং হাইপ...  ...     NaN    NaN\n",
              "\n",
              "[5 rows x 6 columns]"
            ]
          },
          "metadata": {
            "tags": []
          },
          "execution_count": 6
        },
        {
          "output_type": "stream",
          "text": [
            "time: 36.5 ms\n"
          ],
          "name": "stdout"
        }
      ]
    },
    {
      "cell_type": "code",
      "metadata": {
        "id": "1LwkoAmziQDD"
      },
      "source": [
        "df.drop(df.columns[[2,3,4,5]],axis=1, inplace=True)"
      ],
      "execution_count": null,
      "outputs": []
    },
    {
      "cell_type": "code",
      "metadata": {
        "id": "7fZQKbNNicLy",
        "colab": {
          "base_uri": "https://localhost:8080/",
          "height": 222
        },
        "outputId": "ea25ffaf-8abc-46e6-cda3-7ded62d2fdc7"
      },
      "source": [
        "df.head()"
      ],
      "execution_count": null,
      "outputs": [
        {
          "output_type": "execute_result",
          "data": {
            "text/html": [
              "<div>\n",
              "<style scoped>\n",
              "    .dataframe tbody tr th:only-of-type {\n",
              "        vertical-align: middle;\n",
              "    }\n",
              "\n",
              "    .dataframe tbody tr th {\n",
              "        vertical-align: top;\n",
              "    }\n",
              "\n",
              "    .dataframe thead th {\n",
              "        text-align: right;\n",
              "    }\n",
              "</style>\n",
              "<table border=\"1\" class=\"dataframe\">\n",
              "  <thead>\n",
              "    <tr style=\"text-align: right;\">\n",
              "      <th></th>\n",
              "      <th>label</th>\n",
              "      <th>text</th>\n",
              "    </tr>\n",
              "  </thead>\n",
              "  <tbody>\n",
              "    <tr>\n",
              "      <th>0</th>\n",
              "      <td>FAKE</td>\n",
              "      <td>ডায়াবেটিস রুগীদের ডায়াবেটিস থেকে কিভাবে ওষুধ...</td>\n",
              "    </tr>\n",
              "    <tr>\n",
              "      <th>1</th>\n",
              "      <td>REAL</td>\n",
              "      <td>মায়ের ডায়াবেটিসে নবজাতকের ঝুঁকি দ্বিগুণ\\n#ইত...</td>\n",
              "    </tr>\n",
              "    <tr>\n",
              "      <th>2</th>\n",
              "      <td>REAL</td>\n",
              "      <td>যাদের বয়স এবং লম্বা হিসাবের চেয়ে \\nওজন বেশি ...</td>\n",
              "    </tr>\n",
              "    <tr>\n",
              "      <th>3</th>\n",
              "      <td>REAL</td>\n",
              "      <td>ডায়াবেটিস রোগীরা কেন ঝুঁকিতে জেনে নিন</td>\n",
              "    </tr>\n",
              "    <tr>\n",
              "      <th>4</th>\n",
              "      <td>REAL</td>\n",
              "      <td>হৃদরোগ, ডায়াবেটিস, শ্বাসতন্ত্রের রোগ এবং হাইপ...</td>\n",
              "    </tr>\n",
              "  </tbody>\n",
              "</table>\n",
              "</div>"
            ],
            "text/plain": [
              "  label                                               text\n",
              "0  FAKE  ডায়াবেটিস রুগীদের ডায়াবেটিস থেকে কিভাবে ওষুধ...\n",
              "1  REAL  মায়ের ডায়াবেটিসে নবজাতকের ঝুঁকি দ্বিগুণ\\n#ইত...\n",
              "2  REAL  যাদের বয়স এবং লম্বা হিসাবের চেয়ে \\nওজন বেশি ...\n",
              "3  REAL             ডায়াবেটিস রোগীরা কেন ঝুঁকিতে জেনে নিন\n",
              "4  REAL  হৃদরোগ, ডায়াবেটিস, শ্বাসতন্ত্রের রোগ এবং হাইপ..."
            ]
          },
          "metadata": {
            "tags": []
          },
          "execution_count": 8
        },
        {
          "output_type": "stream",
          "text": [
            "time: 11.3 ms\n"
          ],
          "name": "stdout"
        }
      ]
    },
    {
      "cell_type": "code",
      "metadata": {
        "id": "B0UY4LDQJT3w",
        "colab": {
          "base_uri": "https://localhost:8080/",
          "height": 35
        },
        "outputId": "218c67cc-5b30-4db2-a06c-1beab84c70ec"
      },
      "source": [
        "df['target'] = df['label']"
      ],
      "execution_count": null,
      "outputs": [
        {
          "output_type": "stream",
          "text": [
            "time: 2.84 ms\n"
          ],
          "name": "stdout"
        }
      ]
    },
    {
      "cell_type": "code",
      "metadata": {
        "id": "HFGlvIfiJY18",
        "colab": {
          "base_uri": "https://localhost:8080/",
          "height": 337
        },
        "outputId": "ae679776-d5ea-4881-d090-14c38b93a791"
      },
      "source": [
        "plt.hist(df['target'])"
      ],
      "execution_count": null,
      "outputs": [
        {
          "output_type": "execute_result",
          "data": {
            "text/plain": [
              "(array([320., 904.,  35.,   0., 297., 109.,   0.,  82.,  25., 295.]),\n",
              " array([0. , 0.7, 1.4, 2.1, 2.8, 3.5, 4.2, 4.9, 5.6, 6.3, 7. ]),\n",
              " <a list of 10 Patch objects>)"
            ]
          },
          "metadata": {
            "tags": []
          },
          "execution_count": 10
        },
        {
          "output_type": "display_data",
          "data": {
            "image/png": "[encoded data removed]",
            "text/plain": [
              "<Figure size 432x288 with 1 Axes>"
            ]
          },
          "metadata": {
            "tags": [],
            "needs_background": "light"
          }
        },
        {
          "output_type": "stream",
          "text": [
            "time: 215 ms\n"
          ],
          "name": "stdout"
        }
      ]
    },
    {
      "cell_type": "markdown",
      "metadata": {
        "id": "2YOHlwQBYKZH"
      },
      "source": [
        "#Pre processing steps"
      ]
    },
    {
      "cell_type": "markdown",
      "metadata": {
        "id": "YK47wWxY48Ac"
      },
      "source": [
        "The function does the following:\n",
        "\n",
        "* It replaces common texts found in the data and replaces that with our custom text\n",
        "* It removes all emoji's and emoticons from the text\n",
        "* It removes all English text"
      ]
    },
    {
      "cell_type": "code",
      "metadata": {
        "id": "aBjsc45U45bC"
      },
      "source": [
        "import re\n",
        "def replace_strings(texts, replace):\n",
        "    new_texts=[]\n",
        "    \n",
        "    emoji_pattern = re.compile(\"[\"\n",
        "                           u\"\\U0001F600-\\U0001F64F\"  # emoticons\n",
        "                           u\"\\U0001F300-\\U0001F5FF\"  # symbols & pictographs\n",
        "                           u\"\\U0001F680-\\U0001F6FF\"  # transport & map symbols\n",
        "                           u\"\\U0001F1E0-\\U0001F1FF\"  # flags (iOS)\n",
        "                           u\"\\U00002702-\\U000027B0\"\n",
        "                           u\"\\U000024C2-\\U0001F251\"\n",
        "                           \"]+\", flags=re.UNICODE)\n",
        "    english_pattern=re.compile('[a-zA-Z0-9]+', flags=re.I)\n",
        "    \n",
        "    regex = r'\\b(?:(?:[0-9\\u09E6-\\u09EF]{1,2}[:/,.]){2}[0-9\\u09E6-\\u09EF]{2,4}|am|pm)\\b'\n",
        "    for text in texts:\n",
        "        for r in replace:\n",
        "            text=text.replace(r[0], r[1])\n",
        "\n",
        "        text=emoji_pattern.sub(r'', text)\n",
        "        text=english_pattern.sub(r'', text)\n",
        "  \n",
        "        if re.search(regex, text): # re.match() e pura string replace kore fele\n",
        "          text = re.sub(regex, \"<date>\", text)\n",
        "        \n",
        "        #text = re.sub(r'[-!?]','',text)\n",
        "        text=re.sub(r'\\s+', ' ', text).strip()\n",
        "        text = text.replace(\"\\\"\",\"\")\n",
        "        text = text.replace(\".\",\"\")\n",
        "        new_texts.append(text)\n",
        "\n",
        "    return new_texts"
      ],
      "execution_count": null,
      "outputs": []
    },
    {
      "cell_type": "code",
      "metadata": {
        "id": "HhOX2fwL5Ict"
      },
      "source": [
        "#my_str = [\"কথা_জমিয়ে '\" \"রাখতে নেই\\nআত্নার ক্যান্সার। হয়?\",\"আত্নার ক্যান্সার হয়\"]\n",
        "\n",
        "replace=[('\\u200c', ' '),\n",
        "         ('\\u200d', ' '),\n",
        "        ('\\xa0', ' '),\n",
        "        ('\\n', ' '),\n",
        "        ('\\r', ' '),('&',''),('*',''),\n",
        "         ('\\\"',' '),\n",
        "         ('_',' '),\n",
        "         ('?',' '),\n",
        "         ('!',' '),\n",
        "         ('।',' '),\n",
        "         ('|',' '),\n",
        "         ('#',' '),\n",
        "         ('%',' '),\n",
        "         ('/',' '),\n",
        "         ('-',' '),\n",
        "         (':',' '),\n",
        "         ('<',' '),\n",
        "         ('>',' '),\n",
        "         ('(',' '),\n",
        "         (')',' '),\n",
        "         ('—',' '),\n",
        "         (\"'\",' '),\n",
        "         (',',' '),\n",
        "         (';',' '),\n",
        "         ('\\\\',' '),\n",
        "         ('~',' '),\n",
        "         ('”',''),\n",
        "         ('•',' '),\n",
        "         ('[',' '),\n",
        "         (']',' '),\n",
        "         ('{',' '),\n",
        "         ('}',' '),\n",
        "         ('“',' '),\n",
        "         ('’',' '),\n",
        "         ('‘',' ')\n",
        "         ]\n",
        "\n",
        "#new_str =replace_strings(my_str, replace)\n",
        "df.text = replace_strings(df.text, replace)\n",
        "#print(new_str)"
      ],
      "execution_count": null,
      "outputs": []
    },
    {
      "cell_type": "code",
      "metadata": {
        "id": "t1HqCn4D5-Q7",
        "colab": {
          "base_uri": "https://localhost:8080/"
        },
        "outputId": "cfe6fb68-70ec-4412-959f-f774836c55b0"
      },
      "source": [
        "df.text[:5]"
      ],
      "execution_count": null,
      "outputs": [
        {
          "output_type": "execute_result",
          "data": {
            "text/plain": [
              "0    ডায়াবেটিস রুগীদের ডায়াবেটিস থেকে কিভাবে ওষুধ...\n",
              "1    মায়ের ডায়াবেটিসে নবজাতকের ঝুঁকি দ্বিগুণ ইত্ত...\n",
              "2    যাদের বয়স এবং লম্বা হিসাবের চেয়ে ওজন বেশি তা...\n",
              "3               ডায়াবেটিস রোগীরা কেন ঝুঁকিতে জেনে নিন\n",
              "4    হৃদরোগ ডায়াবেটিস শ্বাসতন্ত্রের রোগ এবং হাইপার...\n",
              "Name: text, dtype: object"
            ]
          },
          "metadata": {
            "tags": []
          },
          "execution_count": 13
        }
      ]
    },
    {
      "cell_type": "code",
      "metadata": {
        "id": "kuC2JjaO2qI2"
      },
      "source": [
        "# goal - remove whitespace\n",
        "\n",
        "import string\n",
        "df.text = df.text.str.strip()"
      ],
      "execution_count": null,
      "outputs": []
    },
    {
      "cell_type": "code",
      "metadata": {
        "id": "Pa6TTUxL3DSK",
        "colab": {
          "base_uri": "https://localhost:8080/"
        },
        "outputId": "a1fde692-4842-4b62-e8d4-e7de444d638a"
      },
      "source": [
        "df.head()"
      ],
      "execution_count": null,
      "outputs": [
        {
          "output_type": "execute_result",
          "data": {
            "text/html": [
              "<div>\n",
              "<style scoped>\n",
              "    .dataframe tbody tr th:only-of-type {\n",
              "        vertical-align: middle;\n",
              "    }\n",
              "\n",
              "    .dataframe tbody tr th {\n",
              "        vertical-align: top;\n",
              "    }\n",
              "\n",
              "    .dataframe thead th {\n",
              "        text-align: right;\n",
              "    }\n",
              "</style>\n",
              "<table border=\"1\" class=\"dataframe\">\n",
              "  <thead>\n",
              "    <tr style=\"text-align: right;\">\n",
              "      <th></th>\n",
              "      <th>label</th>\n",
              "      <th>text</th>\n",
              "      <th>target</th>\n",
              "    </tr>\n",
              "  </thead>\n",
              "  <tbody>\n",
              "    <tr>\n",
              "      <th>0</th>\n",
              "      <td>FAKE</td>\n",
              "      <td>ডায়াবেটিস রুগীদের ডায়াবেটিস থেকে কিভাবে ওষুধ...</td>\n",
              "      <td>FAKE</td>\n",
              "    </tr>\n",
              "    <tr>\n",
              "      <th>1</th>\n",
              "      <td>REAL</td>\n",
              "      <td>মায়ের ডায়াবেটিসে নবজাতকের ঝুঁকি দ্বিগুণ ইত্ত...</td>\n",
              "      <td>REAL</td>\n",
              "    </tr>\n",
              "    <tr>\n",
              "      <th>2</th>\n",
              "      <td>REAL</td>\n",
              "      <td>যাদের বয়স এবং লম্বা হিসাবের চেয়ে ওজন বেশি তা...</td>\n",
              "      <td>REAL</td>\n",
              "    </tr>\n",
              "    <tr>\n",
              "      <th>3</th>\n",
              "      <td>REAL</td>\n",
              "      <td>ডায়াবেটিস রোগীরা কেন ঝুঁকিতে জেনে নিন</td>\n",
              "      <td>REAL</td>\n",
              "    </tr>\n",
              "    <tr>\n",
              "      <th>4</th>\n",
              "      <td>REAL</td>\n",
              "      <td>হৃদরোগ ডায়াবেটিস শ্বাসতন্ত্রের রোগ এবং হাইপার...</td>\n",
              "      <td>REAL</td>\n",
              "    </tr>\n",
              "  </tbody>\n",
              "</table>\n",
              "</div>"
            ],
            "text/plain": [
              "  label                                               text target\n",
              "0  FAKE  ডায়াবেটিস রুগীদের ডায়াবেটিস থেকে কিভাবে ওষুধ...   FAKE\n",
              "1  REAL  মায়ের ডায়াবেটিসে নবজাতকের ঝুঁকি দ্বিগুণ ইত্ত...   REAL\n",
              "2  REAL  যাদের বয়স এবং লম্বা হিসাবের চেয়ে ওজন বেশি তা...   REAL\n",
              "3  REAL             ডায়াবেটিস রোগীরা কেন ঝুঁকিতে জেনে নিন   REAL\n",
              "4  REAL  হৃদরোগ ডায়াবেটিস শ্বাসতন্ত্রের রোগ এবং হাইপার...   REAL"
            ]
          },
          "metadata": {
            "tags": []
          },
          "execution_count": 15
        }
      ]
    },
    {
      "cell_type": "code",
      "metadata": {
        "id": "6MrxZy2zb5Vd"
      },
      "source": [
        "#------------------------------\n",
        "# A list of bangla stop words found from https://github.com/stopwords-iso/stopwords-bn/blob/master/stopwords-bn.json\n",
        "#------------------------------\n",
        "\n",
        "bn_stop_words = frozenset([\"via\",\"অতএব\",\"অথচ\",\"অথবা\",\"অনুযায়ী\",\"অনেক\",\"অনেকে\",\"অনেকেই\",\"অন্তত\",\"অন্য\",\"অবধি\",\"অবশ্য\",\"অর্থাত\",\"আই\",\"আগামী\",\"আগে\",\"আগেই\",\"আছে\",\"আজ\",\"আদ্যভাগে\",\"আপনার\",\"আপনি\",\"আবার\",\"আমরা\",\"আমাকে\",\"আমাদের\",\"আমার\",\"আমি\",\"আর\",\"আরও\",\"ই\",\"ইত্যাদি\",\"ইহা\",\"উচিত\",\"উত্তর\",\"উনি\",\"উপর\",\"উপরে\",\"এ\",\"এঁদের\",\"এঁরা\",\"এই\",\"একই\",\"একটি\",\"একবার\",\"একে\",\"এক্\",\"এখন\",\"এখনও\",\"এখানে\",\"এখানেই\",\"এটা\",\"এটাই\",\"এটি\",\"এত\",\"এতটাই\",\"এতে\",\"এদের\",\"এব\",\"এবং\",\"এবার\",\"এমন\",\"এমনকী\",\"এমনি\",\"এর\",\"এরা\",\"এল\",\"এস\",\"এসে\",\"ঐ\",\"ও\",\"ওঁদের\",\"ওঁর\",\"ওঁরা\",\"ওই\",\"ওকে\",\"ওখানে\",\"ওদের\",\"ওর\",\"ওরা\",\"কখনও\",\"কত\",\"কবে\",\"কমনে\",\"কয়েক\",\"কয়েকটি\",\"করছে\",\"করছেন\",\"করতে\",\"করবে\",\"করবেন\",\"করলে\",\"করলেন\",\"করা\",\"করাই\",\"করায়\",\"করার\",\"করি\",\"করিতে\",\"করিয়া\",\"করিয়ে\",\"করে\",\"করেই\",\"করেছিলেন\",\"করেছে\",\"করেছেন\",\"করেন\",\"কাউকে\",\"কাছ\",\"কাছে\",\"কাজ\",\"কাজে\",\"কারও\",\"কারণ\",\"কি\",\"কিংবা\",\"কিছু\",\"কিছুই\",\"কিন্তু\",\"কী\",\"কে\",\"কেউ\",\"কেউই\",\"কেখা\",\"কেন\",\"কোটি\",\"কোন\",\"কোনও\",\"কোনো\",\"ক্ষেত্রে\",\"কয়েক\",\"খুব\",\"গিয়ে\",\"গিয়েছে\",\"গিয়ে\",\"গুলি\",\"গেছে\",\"গেল\",\"গেলে\",\"গোটা\",\"চলে\",\"চান\",\"চায়\",\"চার\",\"চালু\",\"চেয়ে\",\"চেষ্টা\",\"ছাড়া\",\"ছাড়াও\",\"ছিল\",\"ছিলেন\",\"জন\",\"জনকে\",\"জনের\",\"জন্য\",\"জন্যওজে\",\"জানতে\",\"জানা\",\"জানানো\",\"জানায়\",\"জানিয়ে\",\"জানিয়েছে\",\"জে\",\"জ্নজন\",\"টি\",\"ঠিক\",\"তখন\",\"তত\",\"তথা\",\"তবু\",\"তবে\",\"তা\",\"তাঁকে\",\"তাঁদের\",\"তাঁর\",\"তাঁরা\",\"তাঁাহারা\",\"তাই\",\"তাও\",\"তাকে\",\"তাতে\",\"তাদের\",\"তার\",\"তারপর\",\"তারা\",\"তারৈ\",\"তাহলে\",\"তাহা\",\"তাহাতে\",\"তাহার\",\"তিনঐ\",\"তিনি\",\"তিনিও\",\"তুমি\",\"তুলে\",\"তেমন\",\"তো\",\"তোমার\",\"থাকবে\",\"থাকবেন\",\"থাকা\",\"থাকায়\",\"থাকে\",\"থাকেন\",\"থেকে\",\"থেকেই\",\"থেকেও\",\"দিকে\",\"দিতে\",\"দিন\",\"দিয়ে\",\"দিয়েছে\",\"দিয়েছেন\",\"দিলেন\",\"দু\",\"দুই\",\"দুটি\",\"দুটো\",\"দেওয়া\",\"দেওয়ার\",\"দেওয়া\",\"দেখতে\",\"দেখা\",\"দেখে\",\"দেন\",\"দেয়\",\"দ্বারা\",\"ধরা\",\"ধরে\",\"ধামার\",\"নতুন\",\"নয়\",\"না\",\"নাই\",\"নাকি\",\"নাগাদ\",\"নানা\",\"নিজে\",\"নিজেই\",\"নিজেদের\",\"নিজের\",\"নিতে\",\"নিয়ে\",\"নিয়ে\",\"নেই\",\"নেওয়া\",\"নেওয়ার\",\"নেওয়া\",\"নয়\",\"পক্ষে\",\"পর\",\"পরে\",\"পরেই\",\"পরেও\",\"পর্যন্ত\",\"পাওয়া\",\"পাচ\",\"পারি\",\"পারে\",\"পারেন\",\"পি\",\"পেয়ে\",\"পেয়্র্\",\"প্রতি\",\"প্রথম\",\"প্রভৃতি\",\"প্রযন্ত\",\"প্রাথমিক\",\"প্রায়\",\"প্রায়\",\"ফলে\",\"ফিরে\",\"ফের\",\"বক্তব্য\",\"বদলে\",\"বন\",\"বরং\",\"বলতে\",\"বলল\",\"বললেন\",\"বলা\",\"বলে\",\"বলেছেন\",\"বলেন\",\"বসে\",\"বহু\",\"বা\",\"বাদে\",\"বার\",\"বি\",\"বিনা\",\"বিভিন্ন\",\"বিশেষ\",\"বিষয়টি\",\"বেশ\",\"বেশি\",\"ব্যবহার\",\"ব্যাপারে\",\"ভাবে\",\"ভাবেই\",\"মতো\",\"মতোই\",\"মধ্যভাগে\",\"মধ্যে\",\"মধ্যেই\",\"মধ্যেও\",\"মনে\",\"মাত্র\",\"মাধ্যমে\",\"মোট\",\"মোটেই\",\"যখন\",\"যত\",\"যতটা\",\"যথেষ্ট\",\"যদি\",\"যদিও\",\"যা\",\"যাঁর\",\"যাঁরা\",\"যাওয়া\",\"যাওয়ার\",\"যাওয়া\",\"যাকে\",\"যাচ্ছে\",\"যাতে\",\"যাদের\",\"যান\",\"যাবে\",\"যায়\",\"যার\",\"যারা\",\"যিনি\",\"যে\",\"যেখানে\",\"যেতে\",\"যেন\",\"যেমন\",\"র\",\"রকম\",\"রয়েছে\",\"রাখা\",\"রেখে\",\"লক্ষ\",\"শুধু\",\"শুরু\",\"সঙ্গে\",\"সঙ্গেও\",\"সব\",\"সবার\",\"সমস্ত\",\"সম্প্রতি\",\"সহ\",\"সহিত\",\"সাধারণ\",\"সামনে\",\"সি\",\"সুতরাং\",\"সে\",\"সেই\",\"সেখান\",\"সেখানে\",\"সেটা\",\"সেটাই\",\"সেটাও\",\"সেটি\",\"স্পষ্ট\",\"স্বয়ং\",\"হইতে\",\"হইবে\",\"হইয়া\",\"হওয়া\",\"হওয়ায়\",\"হওয়ার\",\"হচ্ছে\",\"হত\",\"হতে\",\"হতেই\",\"হন\",\"হবে\",\"হবেন\",\"হয়\",\"হয়তো\",\"হয়নি\",\"হয়ে\",\"হয়েই\",\"হয়েছিল\",\"হয়েছে\",\"হয়েছেন\",\"হল\",\"হলে\",\"হলেই\",\"হলেও\",\"হলো\",\"হাজার\",\"হিসাবে\",\"হৈলে\",\"হোক\",\"হয়\"])"
      ],
      "execution_count": null,
      "outputs": []
    },
    {
      "cell_type": "markdown",
      "metadata": {
        "id": "wqg54HL7Z884"
      },
      "source": [
        "#train test split"
      ]
    },
    {
      "cell_type": "code",
      "metadata": {
        "id": "wLt1eO1kJhb4"
      },
      "source": [
        "# train_text, test_text, train_y, test_y = train_test_split(df['text'],df['target'],test_size = 0.0001)\n",
        "train_text, test_text, train_y, test_y = train_test_split(df['text'],df['target'],test_size = 0.3)"
      ],
      "execution_count": null,
      "outputs": []
    },
    {
      "cell_type": "code",
      "metadata": {
        "id": "7T-w1TrsJqn3"
      },
      "source": [
        "MAX_NB_WORDS = 20000\n",
        "\n",
        "# get the raw text data\n",
        "texts_train = train_text.astype(str)\n",
        "texts_test = test_text.astype(str)\n",
        "\n",
        "# finally, vectorize the text samples into a 2D integer tensor\n",
        "tokenizer = Tokenizer(num_words=MAX_NB_WORDS, char_level=False)\n",
        "tokenizer.fit_on_texts(texts_train)\n",
        "txt = [\"ডায়াবেটিস রুগীদের ডায়াবেটিস থেকে কিভাবে\",\"ডায়াবেটিস রুগীদের ডায়াবেটিস থেকে কিভাবে\"]\n",
        "seq = list(tokenizer.texts_to_sequences_generator(txt))"
      ],
      "execution_count": null,
      "outputs": []
    },
    {
      "cell_type": "code",
      "metadata": {
        "id": "jbRNtls7as8i",
        "colab": {
          "base_uri": "https://localhost:8080/"
        },
        "outputId": "54633638-791e-4423-e05b-f2bb7b74b510"
      },
      "source": [
        "seq"
      ],
      "execution_count": null,
      "outputs": [
        {
          "output_type": "execute_result",
          "data": {
            "text/plain": [
              "[[4, 4940, 4, 11, 231], [4, 4940, 4, 11, 231]]"
            ]
          },
          "metadata": {
            "tags": []
          },
          "execution_count": 48
        }
      ]
    },
    {
      "cell_type": "code",
      "metadata": {
        "id": "HKVJpAErZsGK",
        "colab": {
          "base_uri": "https://localhost:8080/"
        },
        "outputId": "e577d3e5-d03c-49f8-8537-3c6e4e1df035"
      },
      "source": [
        "sequences = tokenizer.texts_to_sequences(texts_train)\n",
        "sequences_test = tokenizer.texts_to_sequences(texts_test)\n",
        "\n",
        "word_index = tokenizer.word_index\n",
        "print('Found %s unique tokens.' % len(word_index))"
      ],
      "execution_count": null,
      "outputs": [
        {
          "output_type": "stream",
          "text": [
            "Found 5713 unique tokens.\n"
          ],
          "name": "stdout"
        }
      ]
    },
    {
      "cell_type": "code",
      "metadata": {
        "id": "JOMj-zxwbUB7",
        "colab": {
          "base_uri": "https://localhost:8080/"
        },
        "outputId": "3fb55d8e-030e-421f-8ff1-17209ee3f065"
      },
      "source": [
        "word_index"
      ],
      "execution_count": null,
      "outputs": [
        {
          "output_type": "execute_result",
          "data": {
            "text/plain": [
              "{'ক্যান্সার': 1,\n",
              " 'উপায়': 2,\n",
              " 'ঘরোয়া': 3,\n",
              " 'ডায়াবেটিস': 4,\n",
              " 'ও': 5,\n",
              " 'হয়': 6,\n",
              " 'না': 7,\n",
              " 'কি': 8,\n",
              " 'করার': 9,\n",
              " 'জন্য': 10,\n",
              " 'থেকে': 11,\n",
              " 'করে': 12,\n",
              " 'দূর': 13,\n",
              " 'এই': 14,\n",
              " 'আক্রান্ত': 15,\n",
              " 'পারে': 16,\n",
              " 'বা': 17,\n",
              " 'হবে': 18,\n",
              " 'করুন': 19,\n",
              " 'রক্ত': 20,\n",
              " 'এর': 21,\n",
              " 'উপকার': 22,\n",
              " 'মাত্র': 23,\n",
              " 'হাসপাতাল': 24,\n",
              " 'করতে': 25,\n",
              " 'জেনে': 26,\n",
              " 'এবং': 27,\n",
              " 'কিছু': 28,\n",
              " 'এ': 29,\n",
              " 'নিন': 30,\n",
              " 'রোগীর': 31,\n",
              " 'করা': 32,\n",
              " 'সমস্যা': 33,\n",
              " 'একজন': 34,\n",
              " '১': 35,\n",
              " 'চিকিৎসা': 36,\n",
              " 'টি': 37,\n",
              " 'খেলে': 38,\n",
              " 'আর': 39,\n",
              " 'আমাদের': 40,\n",
              " 'একটি': 41,\n",
              " 'দিতে': 42,\n",
              " 'নিয়ে': 43,\n",
              " 'সহজ': 44,\n",
              " 'বেশি': 45,\n",
              " 'এগিয়ে': 46,\n",
              " 'কেউ': 47,\n",
              " 'রোগ': 48,\n",
              " 'হয়ে': 49,\n",
              " 'ব্যাগ': 50,\n",
              " 'ব্যথা': 51,\n",
              " 'এক': 52,\n",
              " 'শেয়ার': 53,\n",
              " 'যায়': 54,\n",
              " '১০': 55,\n",
              " 'যোগাযোগ': 56,\n",
              " 'কালো': 57,\n",
              " 'আছে': 58,\n",
              " 'অন্য': 59,\n",
              " 'হতে': 60,\n",
              " 'স্থান': 61,\n",
              " 'অনেক': 62,\n",
              " 'যে': 63,\n",
              " 'যেন': 64,\n",
              " 'দিনে': 65,\n",
              " 'মধ্যে': 66,\n",
              " 'দরকার': 67,\n",
              " 'পারলেও': 68,\n",
              " 'আপনার': 69,\n",
              " 'ভালো': 70,\n",
              " 'হলে': 71,\n",
              " 'রোগীদের': 72,\n",
              " 'তার': 73,\n",
              " 'আমি': 74,\n",
              " 'মা': 75,\n",
              " 'স্তন': 76,\n",
              " 'সব': 77,\n",
              " '৫': 78,\n",
              " 'রোগী': 79,\n",
              " 'চুল': 80,\n",
              " 'যা': 81,\n",
              " 'কথা': 82,\n",
              " 'প্রতিরোধ': 83,\n",
              " 'আজ': 84,\n",
              " 'দিয়ে': 85,\n",
              " 'আসতে': 86,\n",
              " 'কপি': 87,\n",
              " 'যদি': 88,\n",
              " 'তো': 89,\n",
              " 'পেষ্ট': 90,\n",
              " 'সম্ভব': 91,\n",
              " 'হয়েছে': 92,\n",
              " 'ব্লাড': 93,\n",
              " 'রক্তের': 94,\n",
              " 'আমার': 95,\n",
              " '২': 96,\n",
              " 'কিন্তু': 97,\n",
              " 'কোন': 98,\n",
              " 'করবেন': 99,\n",
              " 'দ্রুত': 100,\n",
              " 'নিয়ন্ত্রণে': 101,\n",
              " 'প্রয়োজন': 102,\n",
              " 'হওয়ার': 103,\n",
              " 'কী': 104,\n",
              " 'তাই': 105,\n",
              " 'নয়': 106,\n",
              " 'দাগ': 107,\n",
              " 'দেশের': 108,\n",
              " 'মায়ের': 109,\n",
              " '৩': 110,\n",
              " 'মুক্তি': 111,\n",
              " 'সময়': 112,\n",
              " 'কমাতে': 113,\n",
              " 'খুব': 114,\n",
              " 'মানুষের': 115,\n",
              " 'মনে': 116,\n",
              " 'হচ্ছে': 117,\n",
              " 'বড়': 118,\n",
              " 'রোগীরা': 119,\n",
              " 'ঢাকা': 120,\n",
              " 'গেছে': 121,\n",
              " 'কারণ': 122,\n",
              " 'আপনি': 123,\n",
              " 'ঝুঁকি': 124,\n",
              " 'কাজ': 125,\n",
              " 'ক্যান্সারের': 126,\n",
              " 'নেই': 127,\n",
              " 'মানুষ': 128,\n",
              " 'হলো': 129,\n",
              " 'কমানোর': 130,\n",
              " 'আগে': 131,\n",
              " 'কে': 132,\n",
              " 'বলে': 133,\n",
              " 'দিন': 134,\n",
              " 'তা': 135,\n",
              " 'তাহলে': 136,\n",
              " 'পজিটিভ': 137,\n",
              " 'বি': 138,\n",
              " 'একটা': 139,\n",
              " 'নতুন': 140,\n",
              " 'দেখা': 141,\n",
              " 'জীবনের': 142,\n",
              " 'টাকা': 143,\n",
              " 'তাদের': 144,\n",
              " 'বাংলা': 145,\n",
              " 'মেডিকেল': 146,\n",
              " 'শুধু': 147,\n",
              " 'খাবার': 148,\n",
              " 'যাবে': 149,\n",
              " 'সুস্থ': 150,\n",
              " 'দেখুন': 151,\n",
              " 'পজেটিভ': 152,\n",
              " '৪': 153,\n",
              " 'মুক্তির': 154,\n",
              " 'তবে': 155,\n",
              " 'কারণে': 156,\n",
              " 'নিয়ন্ত্রণ': 157,\n",
              " 'রোগের': 158,\n",
              " 'পাওয়ার': 159,\n",
              " 'হাসপাতালে': 160,\n",
              " 'এমন': 161,\n",
              " 'প্রতিদিন': 162,\n",
              " 'বাবার': 163,\n",
              " 'মুখের': 164,\n",
              " 'ওষুধ': 165,\n",
              " 'করলে': 166,\n",
              " 'মতো': 167,\n",
              " 'এটা': 168,\n",
              " 'সাথে': 169,\n",
              " 'আমরা': 170,\n",
              " 'স্বাস্থ্য': 171,\n",
              " 'শরীরে': 172,\n",
              " 'কেন': 173,\n",
              " 'থাকে': 174,\n",
              " 'ওজন': 175,\n",
              " 'থাকুন': 176,\n",
              " 'সিগারেট': 177,\n",
              " 'খাবেন': 178,\n",
              " 'বন্ধ': 179,\n",
              " 'রক্তচাপ': 180,\n",
              " 'প্রতিরোধে': 181,\n",
              " 'আসুন': 182,\n",
              " 'জানতে': 183,\n",
              " 'জরায়ু': 184,\n",
              " 'হসপিটাল': 185,\n",
              " 'একটু': 186,\n",
              " '৬': 187,\n",
              " 'রোগে': 188,\n",
              " 'ধরা': 189,\n",
              " 'নিয়মিত': 190,\n",
              " 'বছর': 191,\n",
              " 'করেছে': 192,\n",
              " 'কাছে': 193,\n",
              " 'থাকার': 194,\n",
              " 'জরুরী': 195,\n",
              " 'করোনা': 196,\n",
              " 'হাত': 197,\n",
              " 'উচ্চ': 198,\n",
              " 'এখন': 199,\n",
              " 'দেশে': 200,\n",
              " 'ঔষধ': 201,\n",
              " 'পাওয়া': 202,\n",
              " 'বছরের': 203,\n",
              " 'করেন': 204,\n",
              " 'খান': 205,\n",
              " 'ভিত্তিতে': 206,\n",
              " 'পারেন': 207,\n",
              " 'কিডনি': 208,\n",
              " 'পদ্ধতিতে': 209,\n",
              " 'কোটি': 210,\n",
              " 'কম': 211,\n",
              " 'বিস্তারিত': 212,\n",
              " 'পড়ুন': 213,\n",
              " 'পরীক্ষা': 214,\n",
              " 'মারা': 215,\n",
              " 'মৃত্যু': 216,\n",
              " 'ব্রেস্ট': 217,\n",
              " 'কলেজ': 218,\n",
              " 'চিকিৎসার': 219,\n",
              " 'কোনো': 220,\n",
              " 'নাকি': 221,\n",
              " 'সংখ্যা': 222,\n",
              " 'সবাই': 223,\n",
              " 'করবে': 224,\n",
              " 'যতো': 225,\n",
              " 'যেসব': 226,\n",
              " 'চায়': 227,\n",
              " 'রাখতে': 228,\n",
              " 'পর': 229,\n",
              " 'বাংলাদেশ': 230,\n",
              " 'কিভাবে': 231,\n",
              " 'করি': 232,\n",
              " 'বাংলাদেশের': 233,\n",
              " 'যেভাবে': 234,\n",
              " 'লিভার': 235,\n",
              " 'ফল': 236,\n",
              " 'নিজের': 237,\n",
              " 'নাম': 238,\n",
              " 'ছিল': 239,\n",
              " 'বিশ্ব': 240,\n",
              " 'দিবস': 241,\n",
              " 'দুই': 242,\n",
              " 'দেখে': 243,\n",
              " 'ব্যবহার': 244,\n",
              " 'ক্যান্সারে': 245,\n",
              " 'করছে': 246,\n",
              " 'ত্বক': 247,\n",
              " 'গলা': 248,\n",
              " 'বলছে': 249,\n",
              " 'দুটি': 250,\n",
              " 'রেনিটিডিন': 251,\n",
              " 'এতে': 252,\n",
              " 'ছাড়া': 253,\n",
              " 'বিশেষজ্ঞ': 254,\n",
              " '১০০': 255,\n",
              " 'বিষয়': 256,\n",
              " 'তোমার': 257,\n",
              " 'মেনে': 258,\n",
              " 'মিনিটে': 259,\n",
              " 'গ্যাস': 260,\n",
              " 'করোনার': 261,\n",
              " 'বাবা': 262,\n",
              " 'মত': 263,\n",
              " 'দেয়': 264,\n",
              " 'সম্পর্কে': 265,\n",
              " 'পড়া': 266,\n",
              " 'চোখের': 267,\n",
              " 'বাঁচতে': 268,\n",
              " 'তিন': 269,\n",
              " 'জয়': 270,\n",
              " 'সেটা': 271,\n",
              " 'সহ': 272,\n",
              " 'পা': 273,\n",
              " 'শুরু': 274,\n",
              " 'আগামীকাল': 275,\n",
              " 'উপাদান': 276,\n",
              " 'খেতে': 277,\n",
              " 'ভাবে': 278,\n",
              " 'বাঁচাতে': 279,\n",
              " 'দিলে': 280,\n",
              " '৭': 281,\n",
              " 'জরুরীভিত্তিতে': 282,\n",
              " 'ব্যথার': 283,\n",
              " 'ফর্সা': 284,\n",
              " 'জ্বর': 285,\n",
              " 'চা': 286,\n",
              " 'জীবনেরজন্যরক্ত': 287,\n",
              " 'নেগেটিভ': 288,\n",
              " 'করেছেন': 289,\n",
              " 'মশা': 290,\n",
              " 'পেতে': 291,\n",
              " 'দান': 292,\n",
              " 'সেই': 293,\n",
              " 'হৃদরোগ': 294,\n",
              " 'তুমি': 295,\n",
              " 'সরকারের': 296,\n",
              " 'আবিষ্কার': 297,\n",
              " 'সে': 298,\n",
              " 'সচেতনতা': 299,\n",
              " 'যাচ্ছে': 300,\n",
              " 'মুক্ত': 301,\n",
              " 'তারা': 302,\n",
              " 'জীবন': 303,\n",
              " '৮': 304,\n",
              " 'বেঁচে': 305,\n",
              " 'অনুষ্ঠিত': 306,\n",
              " 'এবি': 307,\n",
              " 'ভুল': 308,\n",
              " 'বাংলাদেশে': 309,\n",
              " 'সহজে': 310,\n",
              " 'কমে': 311,\n",
              " 'রাখার': 312,\n",
              " 'কয়েকটি': 313,\n",
              " 'প্রতি': 314,\n",
              " 'জরুরি': 315,\n",
              " 'তিনি': 316,\n",
              " 'সমস্ত': 317,\n",
              " 'নিরাময়': 318,\n",
              " 'গুলো': 319,\n",
              " 'কাশি': 320,\n",
              " 'মাথার': 321,\n",
              " 'প্রথম': 322,\n",
              " '১২': 323,\n",
              " 'গেলে': 324,\n",
              " 'ঢাকার': 325,\n",
              " 'লক্ষণ': 326,\n",
              " 'মাস': 327,\n",
              " 'শরীরের': 328,\n",
              " 'হার্ট': 329,\n",
              " 'যারা': 330,\n",
              " 'থাকবে': 331,\n",
              " 'দিকে': 332,\n",
              " 'টিপস': 333,\n",
              " 'জানি': 334,\n",
              " 'সাধারণ': 335,\n",
              " 'ধরে': 336,\n",
              " 'ভিডিও': 337,\n",
              " 'কার্যকরী': 338,\n",
              " 'এটি': 339,\n",
              " 'পাকা': 340,\n",
              " 'ছাড়াই': 341,\n",
              " 'হার্টের': 342,\n",
              " 'মাধ্যমে': 343,\n",
              " 'চট্টগ্রাম': 344,\n",
              " 'সাহায্য': 345,\n",
              " 'প্রায়': 346,\n",
              " 'সাদা': 347,\n",
              " 'রয়েছে': 348,\n",
              " 'যাদের': 349,\n",
              " 'সুন্দর': 350,\n",
              " 'সবচেয়ে': 351,\n",
              " 'জানেন': 352,\n",
              " 'নাই': 353,\n",
              " 'সকল': 354,\n",
              " 'ডাঃ': 355,\n",
              " 'আসে': 356,\n",
              " 'আপনারা': 357,\n",
              " 'প্রাকৃতিক': 358,\n",
              " 'জানা': 359,\n",
              " 'প্রতিরোধী': 360,\n",
              " 'র': 361,\n",
              " 'ধরনের': 362,\n",
              " 'বলেছেন': 363,\n",
              " 'খুশকি': 364,\n",
              " 'যত': 365,\n",
              " 'পরামর্শ': 366,\n",
              " 'হাসপাতালের': 367,\n",
              " 'খাওয়া': 368,\n",
              " 'ই': 369,\n",
              " 'বৃদ্ধি': 370,\n",
              " 'পেটের': 371,\n",
              " 'এবার': 372,\n",
              " 'দোয়া': 373,\n",
              " 'অসুস্থ': 374,\n",
              " 'তে': 375,\n",
              " 'নাক': 376,\n",
              " 'টাকার': 377,\n",
              " 'উধাও': 378,\n",
              " 'ব্রণ': 379,\n",
              " 'মরণব্যাধি': 380,\n",
              " 'চলে': 381,\n",
              " 'যার': 382,\n",
              " 'ত্বকের': 383,\n",
              " 'জাতীয়': 384,\n",
              " 'পর্ব': 385,\n",
              " 'বিয়ে': 386,\n",
              " 'নানা': 387,\n",
              " 'ভাই': 388,\n",
              " 'সারানোর': 389,\n",
              " 'ধীরে': 390,\n",
              " 'নিতে': 391,\n",
              " 'হোসেন': 392,\n",
              " 'আপনাদের': 393,\n",
              " 'নেওয়া': 394,\n",
              " 'হওয়া': 395,\n",
              " 'জানুন': 396,\n",
              " 'শেখ': 397,\n",
              " 'থাকা': 398,\n",
              " 'কেন্দ্রীয়': 399,\n",
              " 'মারাত্মক': 400,\n",
              " 'চেয়ে': 401,\n",
              " 'করণীয়': 402,\n",
              " 'ভাল': 403,\n",
              " 'চ্যানেল': 404,\n",
              " 'বর্তমান': 405,\n",
              " 'চান': 406,\n",
              " 'দেওয়া': 407,\n",
              " 'থাকলে': 408,\n",
              " 'হাজার': 409,\n",
              " 'দুর্লভ': 410,\n",
              " 'যখন': 411,\n",
              " 'হোক': 412,\n",
              " 'আরও': 413,\n",
              " 'ইসলাম': 414,\n",
              " 'তৈরি': 415,\n",
              " 'পড়ে': 416,\n",
              " 'করলেই': 417,\n",
              " 'সৃষ্টি': 418,\n",
              " 'তাড়ানোর': 419,\n",
              " 'কালের': 420,\n",
              " 'কারো': 421,\n",
              " 'ক্ষতি': 422,\n",
              " 'শিশু': 423,\n",
              " 'যাওয়া': 424,\n",
              " 'ঘন': 425,\n",
              " 'সরকার': 426,\n",
              " 'জানলে': 427,\n",
              " 'বুঝতে': 428,\n",
              " 'মাঝে': 429,\n",
              " 'উপায়ে': 430,\n",
              " 'ফাটা': 431,\n",
              " 'আবার': 432,\n",
              " 'রকম': 433,\n",
              " 'সাবেক': 434,\n",
              " 'সচেতন': 435,\n",
              " 'গবেষণা': 436,\n",
              " 'কেটে': 437,\n",
              " 'হিসেবে': 438,\n",
              " 'ডাক্তার': 439,\n",
              " 'বলা': 440,\n",
              " 'মিষ্টি': 441,\n",
              " 'তাতে': 442,\n",
              " 'মাথা': 443,\n",
              " 'প্রধান': 444,\n",
              " 'নম্বর': 445,\n",
              " 'দেয়া': 446,\n",
              " 'কষ্ট': 447,\n",
              " 'উদ্যোগে': 448,\n",
              " 'সাবস্ক্রাইব': 449,\n",
              " 'আপডেট': 450,\n",
              " 'লাগবে': 451,\n",
              " 'বাঁচার': 452,\n",
              " 'দুর্গন্ধ': 453,\n",
              " 'থেরাপি': 454,\n",
              " 'চিরতরে': 455,\n",
              " 'রাখুন': 456,\n",
              " 'নিষিদ্ধ': 457,\n",
              " 'শীতে': 458,\n",
              " 'পিজি': 459,\n",
              " 'ডা': 460,\n",
              " 'বিশ্বে': 461,\n",
              " 'রাতে': 462,\n",
              " 'করলেন': 463,\n",
              " 'অথবা': 464,\n",
              " '২৫': 465,\n",
              " 'পালিত': 466,\n",
              " 'বসে': 467,\n",
              " '–': 468,\n",
              " 'ভাব': 469,\n",
              " 'হলেও': 470,\n",
              " 'কণ্ঠ': 471,\n",
              " 'চুলের': 472,\n",
              " 'সুযোগ': 473,\n",
              " 'অন্যতম': 474,\n",
              " 'লম্বা': 475,\n",
              " 'পাশে': 476,\n",
              " 'দের': 477,\n",
              " 'লড়াই': 478,\n",
              " 'সমাধান': 479,\n",
              " 'উদ্যোগ': 480,\n",
              " 'টার': 481,\n",
              " 'নষ্ট': 482,\n",
              " 'আল্লাহ': 483,\n",
              " 'পেট': 484,\n",
              " 'সকাল': 485,\n",
              " 'ডাকা': 486,\n",
              " 'গন্ধ': 487,\n",
              " 'কাঁচা': 488,\n",
              " 'আত্মীয়': 489,\n",
              " 'আপনাকে': 490,\n",
              " 'গরুর': 491,\n",
              " 'সকালে': 492,\n",
              " 'হয়তো': 493,\n",
              " 'আরো': 494,\n",
              " 'বমি': 495,\n",
              " 'এরা': 496,\n",
              " 'কোলেস্টেরল': 497,\n",
              " 'উপকারী': 498,\n",
              " 'চিনি': 499,\n",
              " 'ফোন': 500,\n",
              " 'অনুযায়ী': 501,\n",
              " 'নির্মাণ': 502,\n",
              " 'নিউজ': 503,\n",
              " 'ফ্রি': 504,\n",
              " 'বঙ্গবন্ধু': 505,\n",
              " 'কোষ': 506,\n",
              " 'সেরে': 507,\n",
              " 'পৃথিবীর': 508,\n",
              " 'সম্ভাবনা': 509,\n",
              " 'ভয়': 510,\n",
              " 'শেষ': 511,\n",
              " 'লক্ষন': 512,\n",
              " 'ইউটিউব': 513,\n",
              " 'নিরাময়ে': 514,\n",
              " 'পর্যন্ত': 515,\n",
              " 'মন্ত্রী': 516,\n",
              " 'তথ্য': 517,\n",
              " 'নারী': 518,\n",
              " 'সঠিক': 519,\n",
              " 'সময়ে': 520,\n",
              " 'পাথর': 521,\n",
              " 'শুনলে': 522,\n",
              " 'ঝুঁকিতে': 523,\n",
              " 'দিলেন': 524,\n",
              " 'এমপি': 525,\n",
              " 'চেয়ারম্যান': 526,\n",
              " 'এম': 527,\n",
              " 'হবেন': 528,\n",
              " 'বিভাগীয়': 529,\n",
              " 'টিউমার': 530,\n",
              " 'গবেষণায়': 531,\n",
              " 'চর্বি': 532,\n",
              " 'ব্যাথা': 533,\n",
              " 'এসিডিটি': 534,\n",
              " 'পরে': 535,\n",
              " 'সর্দি': 536,\n",
              " 'টাকায়': 537,\n",
              " 'অনেকে': 538,\n",
              " 'বিভাগে': 539,\n",
              " 'ভিটামিন': 540,\n",
              " 'তাকে': 541,\n",
              " 'পানি': 542,\n",
              " 'ব্যায়াম': 543,\n",
              " 'বুকে': 544,\n",
              " 'রাজ্য': 545,\n",
              " 'সার্জারি': 546,\n",
              " 'সাবধান': 547,\n",
              " 'চিকিৎসায়': 548,\n",
              " 'উপর': 549,\n",
              " 'গ্যাস্ট্রিকের': 550,\n",
              " 'গোমূত্র': 551,\n",
              " 'খাদ্য': 552,\n",
              " 'পেশেন্ট': 553,\n",
              " 'টাইপ': 554,\n",
              " 'পায়ের': 555,\n",
              " 'রান্না': 556,\n",
              " 'নামক': 557,\n",
              " 'হাতে': 558,\n",
              " 'কফ': 559,\n",
              " 'এইডস': 560,\n",
              " 'সহায়ক': 561,\n",
              " 'নামে': 562,\n",
              " 'জন্ডিস': 563,\n",
              " 'দাঁত': 564,\n",
              " 'উজ্জ্বল': 565,\n",
              " 'ছিলো': 566,\n",
              " 'ধূমপান': 567,\n",
              " 'আগেই': 568,\n",
              " 'বোন': 569,\n",
              " 'কয়েল': 570,\n",
              " 'সঙ্গে': 571,\n",
              " 'দাঁতের': 572,\n",
              " 'ফুসফুস': 573,\n",
              " 'ছেড়ে': 574,\n",
              " 'ঠিক': 575,\n",
              " 'রাখলে': 576,\n",
              " 'লাল': 577,\n",
              " 'উন্নয়নের': 578,\n",
              " 'সৃষ্টিকারী': 579,\n",
              " 'পারবেন': 580,\n",
              " 'যাক': 581,\n",
              " 'দেখবেন': 582,\n",
              " 'বিনামূল্যে': 583,\n",
              " 'আগামী': 584,\n",
              " 'দেহ': 585,\n",
              " 'কোষের': 586,\n",
              " 'ক্ষমতা': 587,\n",
              " 'মরে': 588,\n",
              " 'কঠিন': 589,\n",
              " 'বলি': 590,\n",
              " 'মানুষকে': 591,\n",
              " 'ছেলে': 592,\n",
              " 'শারীরিক': 593,\n",
              " 'মহিলাদের': 594,\n",
              " 'অধ্যাপক': 595,\n",
              " 'চ্যানেলটিতে': 596,\n",
              " 'সেবা': 597,\n",
              " 'চিকিৎসকরা': 598,\n",
              " 'প্রাথমিক': 599,\n",
              " 'অবস্থায়': 600,\n",
              " 'ডেকে': 601,\n",
              " 'জেনেনিন': 602,\n",
              " 'হাতের': 603,\n",
              " 'কুরআন': 604,\n",
              " 'নারীদের': 605,\n",
              " '৫০': 606,\n",
              " 'হবার': 607,\n",
              " 'শনাক্ত': 608,\n",
              " 'পাচ্ছেন': 609,\n",
              " 'নি': 610,\n",
              " 'গত': 611,\n",
              " 'সমাজের': 612,\n",
              " 'সহায়তা': 613,\n",
              " 'কত': 614,\n",
              " 'শহরে': 615,\n",
              " 'নিচ্ছে': 616,\n",
              " 'বিশ্বব্যাপী': 617,\n",
              " 'ভাইরাস': 618,\n",
              " 'ইচ্ছা': 619,\n",
              " 'লাখ': 620,\n",
              " 'খাবারের': 621,\n",
              " 'প্রধানমন্ত্রী': 622,\n",
              " 'বিশ্বের': 623,\n",
              " 'ভেবে': 624,\n",
              " 'দেখতে': 625,\n",
              " 'পারলে': 626,\n",
              " 'লোক': 627,\n",
              " 'তারাই': 628,\n",
              " 'আক্রান্তের': 629,\n",
              " 'গলার': 630,\n",
              " 'ফলে': 631,\n",
              " 'ভাইয়ের': 632,\n",
              " 'ছড়িয়ে': 633,\n",
              " 'দেবে': 634,\n",
              " 'এখনো': 635,\n",
              " 'টা': 636,\n",
              " 'তেজপাতা': 637,\n",
              " 'চলছে': 638,\n",
              " 'ফুসফুসের': 639,\n",
              " 'ব্ল্যাকহেডস': 640,\n",
              " 'ক্ষেত্রে': 641,\n",
              " 'দেশ': 642,\n",
              " 'কেন্দ্র': 643,\n",
              " 'বর্তমানে': 644,\n",
              " 'বিভিন্ন': 645,\n",
              " 'সবার': 646,\n",
              " 'বিরুদ্ধে': 647,\n",
              " 'চিকিৎসাধীন': 648,\n",
              " 'দু': 649,\n",
              " 'কারন': 650,\n",
              " 'নির্মূল': 651,\n",
              " 'প্রেসার': 652,\n",
              " 'পড়তে': 653,\n",
              " 'বার': 654,\n",
              " 'মাসে': 655,\n",
              " 'উনি': 656,\n",
              " 'মহাখালী': 657,\n",
              " 'তুলে': 658,\n",
              " 'বল্টু': 659,\n",
              " 'হঠাৎ': 660,\n",
              " 'এরকম': 661,\n",
              " 'অতি': 662,\n",
              " 'ঘামাচি': 663,\n",
              " 'প্রতিরোধের': 664,\n",
              " 'সত্য': 665,\n",
              " 'সারা': 666,\n",
              " 'দূরে': 667,\n",
              " 'সমাধানের': 668,\n",
              " 'হল': 669,\n",
              " 'অসুখ': 670,\n",
              " 'যাওয়ার': 671,\n",
              " 'দুধ': 672,\n",
              " 'ঔষুধ': 673,\n",
              " 'কল': 674,\n",
              " 'ধারণা': 675,\n",
              " 'তালিকা': 676,\n",
              " 'মেমোরিয়াল': 677,\n",
              " 'মাইগ্রেনের': 678,\n",
              " 'প্রেম': 679,\n",
              " 'সাদেক': 680,\n",
              " 'খোকা': 681,\n",
              " 'ভাত': 682,\n",
              " '১৫': 683,\n",
              " 'পৃথিবীতে': 684,\n",
              " 'জটিল': 685,\n",
              " 'রক্তদানের': 686,\n",
              " 'পাকস্থলীর': 687,\n",
              " 'শিশুদের': 688,\n",
              " 'টাইফয়েড': 689,\n",
              " 'হাঁটুর': 690,\n",
              " 'সিন্ডিকেট': 691,\n",
              " 'সুগার': 692,\n",
              " 'রোগীকে': 693,\n",
              " 'ভারতে': 694,\n",
              " 'আশা': 695,\n",
              " 'সুখবর': 696,\n",
              " 'ফুসফুসে': 697,\n",
              " 'শয্যার': 698,\n",
              " 'পরিবার': 699,\n",
              " 'ডায়াবেটিসের': 700,\n",
              " 'আজকে': 701,\n",
              " 'বললেন': 702,\n",
              " 'চার': 703,\n",
              " 'জাপান': 704,\n",
              " 'ভবিষ্যত': 705,\n",
              " '২০': 706,\n",
              " '১৯': 707,\n",
              " '২৪': 708,\n",
              " 'এলার্জি': 709,\n",
              " 'দাদা': 710,\n",
              " 'ভালোবাসা': 711,\n",
              " 'সর্বাধুনিক': 712,\n",
              " 'মুখে': 713,\n",
              " 'অনেকেই': 714,\n",
              " 'গোপন': 715,\n",
              " 'ব্ল্যাক': 716,\n",
              " 'কমাবে': 717,\n",
              " 'টনসিলের': 718,\n",
              " 'ডিম': 719,\n",
              " 'পানীয়': 720,\n",
              " 'গজানোর': 721,\n",
              " 'পুরুষ': 722,\n",
              " 'প্রমাণ': 723,\n",
              " 'বিড়ি': 724,\n",
              " 'হলেই': 725,\n",
              " '৯': 726,\n",
              " 'অপারেশন': 727,\n",
              " 'হৃদরোগের': 728,\n",
              " 'সচেতনতায়': 729,\n",
              " 'আলোচনা': 730,\n",
              " 'একবার': 731,\n",
              " 'এসে': 732,\n",
              " 'রক্ষা': 733,\n",
              " 'সাধারন': 734,\n",
              " 'খুশি': 735,\n",
              " 'আস্তে': 736,\n",
              " 'শতাংশ': 737,\n",
              " 'উপস্থিতি': 738,\n",
              " 'উত্তরা': 739,\n",
              " 'খারাপ': 740,\n",
              " 'ভালবাসা': 741,\n",
              " 'কিছুই': 742,\n",
              " 'বলার': 743,\n",
              " 'নিচে': 744,\n",
              " 'মমতা': 745,\n",
              " 'ভিডিওটি': 746,\n",
              " 'পাঁচ': 747,\n",
              " 'পরিমান': 748,\n",
              " 'হাড়ের': 749,\n",
              " 'করলা': 750,\n",
              " 'উনার': 751,\n",
              " 'অবস্থা': 752,\n",
              " 'বলেন': 753,\n",
              " 'সকালের': 754,\n",
              " 'পড়েছে': 755,\n",
              " 'বয়স': 756,\n",
              " 'জনিত': 757,\n",
              " 'এলাচ': 758,\n",
              " 'লাভ': 759,\n",
              " 'খেয়ে': 760,\n",
              " 'বেড': 761,\n",
              " 'মাত্রা': 762,\n",
              " 'বিশেষ': 763,\n",
              " 'চলুন': 764,\n",
              " 'বাঁচবেন': 765,\n",
              " 'দেন': 766,\n",
              " 'হাঁপানি': 767,\n",
              " 'খুবই': 768,\n",
              " 'গ্রহণ': 769,\n",
              " 'উত্তর': 770,\n",
              " 'ইত্যাদি': 771,\n",
              " 'সমস্যায়': 772,\n",
              " 'কারনে': 773,\n",
              " 'কেজি': 774,\n",
              " 'জন্যে': 775,\n",
              " 'দেখিয়ে': 776,\n",
              " 'কলা': 777,\n",
              " 'বলতে': 778,\n",
              " 'যেমন': 779,\n",
              " 'লাগে': 780,\n",
              " 'গুণ': 781,\n",
              " 'ওরা': 782,\n",
              " 'জমে': 783,\n",
              " 'বিএনপি': 784,\n",
              " 'দাবি': 785,\n",
              " 'করোনায়': 786,\n",
              " 'করছেন': 787,\n",
              " 'সেরা': 788,\n",
              " 'তোমরা': 789,\n",
              " 'খবর': 790,\n",
              " 'আজকাল': 791,\n",
              " 'ডক্টর': 792,\n",
              " 'চলনা': 793,\n",
              " 'জনের': 794,\n",
              " 'হাটতে': 795,\n",
              " 'রাখবে': 796,\n",
              " 'বলল': 797,\n",
              " 'কোথায়': 798,\n",
              " 'তবুও': 799,\n",
              " 'বাড়িতে': 800,\n",
              " 'স্থানঃ': 801,\n",
              " 'ফোনঃ': 802,\n",
              " 'জেনারেল': 803,\n",
              " 'বাড়ছে': 804,\n",
              " 'মৃত্যুর': 805,\n",
              " 'পদ্ধতি': 806,\n",
              " 'তোলার': 807,\n",
              " 'সামনে': 808,\n",
              " 'রাখা': 809,\n",
              " 'উচিত': 810,\n",
              " 'রোধে': 811,\n",
              " 'দেহের': 812,\n",
              " 'শক্তি': 813,\n",
              " 'ডেঙ্গু': 814,\n",
              " 'সবজি': 815,\n",
              " 'বিকাল': 816,\n",
              " 'পান': 817,\n",
              " 'কেন্দ্রের': 818,\n",
              " 'মহিলা': 819,\n",
              " 'ডিপ্রেশন': 820,\n",
              " 'কিংবা': 821,\n",
              " 'করল': 822,\n",
              " 'গরম': 823,\n",
              " 'তারপর': 824,\n",
              " 'আপেল': 825,\n",
              " 'পানে': 826,\n",
              " 'হেলথ': 827,\n",
              " 'শীর্ষ': 828,\n",
              " 'আছেন': 829,\n",
              " 'স্বাস্থ্যমন্ত্রী': 830,\n",
              " 'পরিষ্কার': 831,\n",
              " 'কোষ্ঠকাঠিন্য': 832,\n",
              " '২০১৯': 833,\n",
              " '৫টি': 834,\n",
              " 'ভূমিকা': 835,\n",
              " 'ইনসুলিন': 836,\n",
              " 'অসাধারণ': 837,\n",
              " 'সকলের': 838,\n",
              " 'এদের': 839,\n",
              " 'সুবহানআল্লাহ': 840,\n",
              " 'কখনো': 841,\n",
              " 'হাই': 842,\n",
              " 'লাইক': 843,\n",
              " 'দোস্ত': 844,\n",
              " 'নখ': 845,\n",
              " 'ভারতীয়': 846,\n",
              " 'আইটেম': 847,\n",
              " 'রসগোল্লা': 848,\n",
              " 'রক্তদান': 849,\n",
              " 'জানালেন': 850,\n",
              " '৮টি': 851,\n",
              " 'লাইফ': 852,\n",
              " 'নির্ণয়': 853,\n",
              " 'কলেজের': 854,\n",
              " 'ক্যামো': 855,\n",
              " 'বেশী': 856,\n",
              " 'গেছেন': 857,\n",
              " 'গেলো': 858,\n",
              " 'ব্যথায়': 859,\n",
              " 'কারও': 860,\n",
              " 'জন্ম': 861,\n",
              " 'গল্প': 862,\n",
              " 'ওনার': 863,\n",
              " 'প্রযুক্তি': 864,\n",
              " 'সতর্ক': 865,\n",
              " 'অভাব': 866,\n",
              " 'সামাজিক': 867,\n",
              " 'রোগটি': 868,\n",
              " 'লজ্জা': 869,\n",
              " 'কাজে': 870,\n",
              " 'মুরগির': 871,\n",
              " 'চোখে': 872,\n",
              " 'দাড়ি': 873,\n",
              " 'কিডনির': 874,\n",
              " 'তিলাওয়াত': 875,\n",
              " 'আন্তর্জাতিক': 876,\n",
              " 'সংস্থা': 877,\n",
              " 'রয়েছেন': 878,\n",
              " 'হাইকোর্ট': 879,\n",
              " 'চেষ্টা': 880,\n",
              " 'বগলের': 881,\n",
              " 'হয়না': 882,\n",
              " 'ধানমন্ডি': 883,\n",
              " 'শ্রেষ্ঠ': 884,\n",
              " 'সালের': 885,\n",
              " '১টা': 886,\n",
              " 'পরীক্ষায়': 887,\n",
              " 'বাত': 888,\n",
              " 'সিটি': 889,\n",
              " 'ফিজিওথেরাপি': 890,\n",
              " 'আলী': 891,\n",
              " 'সুবিধা': 892,\n",
              " 'ঘামের': 893,\n",
              " 'দাম': 894,\n",
              " 'প্রয়োগ': 895,\n",
              " 'ওই': 896,\n",
              " 'শরীর': 897,\n",
              " 'ক্রমশ': 898,\n",
              " 'ডায়াবেটিসে': 899,\n",
              " 'ব্যক্তির': 900,\n",
              " 'পাচ্ছে': 901,\n",
              " 'বছরে': 902,\n",
              " '৭০০': 903,\n",
              " 'পেয়েছে': 904,\n",
              " '…': 905,\n",
              " 'ফেলুন': 906,\n",
              " '৭টি': 907,\n",
              " 'বাসা': 908,\n",
              " 'পুরোপুরি': 909,\n",
              " 'বাচ্চা': 910,\n",
              " 'ছোট': 911,\n",
              " 'আম্মু': 912,\n",
              " 'গিয়ে': 913,\n",
              " 'বিপরীতে': 914,\n",
              " 'ক্যানসার': 915,\n",
              " '৩০': 916,\n",
              " 'গ্যাস্ট্রিক': 917,\n",
              " 'পাকস্থলীতে': 918,\n",
              " 'যাতে': 919,\n",
              " 'ঘাটতি': 920,\n",
              " 'উদ্বোধন': 921,\n",
              " 'মোদী': 922,\n",
              " 'সরকারি': 923,\n",
              " 'এত': 924,\n",
              " 'বাড়িয়ে': 925,\n",
              " 'বাদ': 926,\n",
              " 'অংশ': 927,\n",
              " 'কীভাবে': 928,\n",
              " 'আহসানিয়া': 929,\n",
              " 'মিশন': 930,\n",
              " 'দয়া': 931,\n",
              " 'চিন্তিত': 932,\n",
              " 'রক্তে': 933,\n",
              " 'যোগ': 934,\n",
              " 'বাড়ায়': 935,\n",
              " 'দিচ্ছে': 936,\n",
              " 'প্রবণতা': 937,\n",
              " 'রায়': 938,\n",
              " 'বেড়েছে': 939,\n",
              " 'বাড়ানোর': 940,\n",
              " 'ভারত': 941,\n",
              " 'মিরপুর': 942,\n",
              " 'বৃদ্ধির': 943,\n",
              " 'হার': 944,\n",
              " 'ফেলে': 945,\n",
              " 'নিয়ম': 946,\n",
              " 'সমাধানে': 947,\n",
              " 'নিচের': 948,\n",
              " 'ঘুম': 949,\n",
              " 'ঐ': 950,\n",
              " 'কতটুকু': 951,\n",
              " 'মহামারী': 952,\n",
              " 'ফেইলিউরের': 953,\n",
              " 'মিথ্যা': 954,\n",
              " 'শক্তিশালী': 955,\n",
              " 'বন্ধের': 956,\n",
              " 'দেখছি': 957,\n",
              " 'অতিরিক্ত': 958,\n",
              " 'ধারণ': 959,\n",
              " '১০টি': 960,\n",
              " 'খাইলে': 961,\n",
              " 'মেয়ে': 962,\n",
              " 'অনিয়মিত': 963,\n",
              " 'অবশ্যই': 964,\n",
              " 'সন্তান': 965,\n",
              " 'দ্বারা': 966,\n",
              " 'ইসলামের': 967,\n",
              " 'ম্যাজিক': 968,\n",
              " 'যৌন': 969,\n",
              " 'যত্ন': 970,\n",
              " 'বাজারজাত': 971,\n",
              " 'একই': 972,\n",
              " 'রাখে': 973,\n",
              " 'দৃষ্টিশক্তি': 974,\n",
              " 'তামাক': 975,\n",
              " 'ধূমপানের': 976,\n",
              " 'মন': 977,\n",
              " 'আওয়ামী': 978,\n",
              " 'তাঁদের': 979,\n",
              " 'উচ্চরক্তচাপ': 980,\n",
              " 'বিষ': 981,\n",
              " 'একসাথে': 982,\n",
              " 'যেখানে': 983,\n",
              " 'মুখ': 984,\n",
              " 'ডাক্তারের': 985,\n",
              " 'দীর্ঘ': 986,\n",
              " 'শুধুমাত্র': 987,\n",
              " 'পূরণ': 988,\n",
              " 'যেনো': 989,\n",
              " 'সাহস': 990,\n",
              " 'চোখ': 991,\n",
              " 'জন': 992,\n",
              " 'পথ': 993,\n",
              " 'রেখে': 994,\n",
              " 'নিয়ন্ত্রন': 995,\n",
              " 'মশার': 996,\n",
              " 'চাল': 997,\n",
              " 'রসুন': 998,\n",
              " 'লটারি': 999,\n",
              " 'মার': 1000,\n",
              " ...}"
            ]
          },
          "metadata": {
            "tags": []
          },
          "execution_count": 50
        }
      ]
    },
    {
      "cell_type": "code",
      "metadata": {
        "id": "yIdOlTV3JucN",
        "colab": {
          "base_uri": "https://localhost:8080/"
        },
        "outputId": "0d06122f-8540-41ff-fecf-cdfb72b3ff2c"
      },
      "source": [
        "sequences[0]"
      ],
      "execution_count": null,
      "outputs": [
        {
          "output_type": "execute_result",
          "data": {
            "text/plain": [
              "[175, 211, 32, 93, 692, 180, 497, 157, 1, 5, 2374, 158, 181, 2375, 1102, 498]"
            ]
          },
          "metadata": {
            "tags": []
          },
          "execution_count": 51
        }
      ]
    },
    {
      "cell_type": "code",
      "metadata": {
        "id": "bc178MKCJ0mu",
        "colab": {
          "base_uri": "https://localhost:8080/"
        },
        "outputId": "a9350bd1-392d-443e-edc8-c712165af50b"
      },
      "source": [
        "type(tokenizer.word_index), len(tokenizer.word_index)"
      ],
      "execution_count": null,
      "outputs": [
        {
          "output_type": "execute_result",
          "data": {
            "text/plain": [
              "(dict, 5713)"
            ]
          },
          "metadata": {
            "tags": []
          },
          "execution_count": 52
        }
      ]
    },
    {
      "cell_type": "code",
      "metadata": {
        "id": "9zvh9F3fJ3Nx"
      },
      "source": [
        "index_to_word = dict((i, w) for w, i in tokenizer.word_index.items())"
      ],
      "execution_count": null,
      "outputs": []
    },
    {
      "cell_type": "code",
      "metadata": {
        "id": "ofVETveiJ7PM",
        "colab": {
          "base_uri": "https://localhost:8080/"
        },
        "outputId": "8b06d8fa-be95-46fb-e16b-20a475e14adf"
      },
      "source": [
        "\" \".join([index_to_word[i] for i in sequences[0]])"
      ],
      "execution_count": null,
      "outputs": [
        {
          "output_type": "execute_result",
          "data": {
            "application/vnd.google.colaboratory.intrinsic+json": {
              "type": "string"
            },
            "text/plain": [
              "'ওজন কম করা ব্লাড সুগার রক্তচাপ কোলেস্টেরল নিয়ন্ত্রণ ক্যান্সার ও আর্থাইট্রিস রোগের প্রতিরোধে অলিভ বেশ উপকারী'"
            ]
          },
          "metadata": {
            "tags": []
          },
          "execution_count": 54
        }
      ]
    },
    {
      "cell_type": "code",
      "metadata": {
        "id": "DGbi0hpUKAb9",
        "colab": {
          "base_uri": "https://localhost:8080/"
        },
        "outputId": "eedff48c-1a65-4ca2-e7c5-e5a2af42ea24"
      },
      "source": [
        "seq_lens = [len(s) for s in sequences]\n",
        "print(\"average length: %0.1f\" % np.mean(seq_lens))\n",
        "print(\"max length: %d\" % max(seq_lens))"
      ],
      "execution_count": null,
      "outputs": [
        {
          "output_type": "stream",
          "text": [
            "average length: 15.8\n",
            "max length: 55\n"
          ],
          "name": "stdout"
        }
      ]
    },
    {
      "cell_type": "code",
      "metadata": {
        "id": "RH3heHNtKCeC",
        "colab": {
          "base_uri": "https://localhost:8080/"
        },
        "outputId": "dcb484f9-e085-41c8-aff2-ebddedc59701"
      },
      "source": [
        "%matplotlib inline\n",
        "import matplotlib.pyplot as plt\n",
        "\n",
        "plt.hist(seq_lens, bins=50);"
      ],
      "execution_count": null,
      "outputs": [
        {
          "output_type": "display_data",
          "data": {
            "image/png": "[encoded data removed]",
            "text/plain": [
              "<Figure size 432x288 with 1 Axes>"
            ]
          },
          "metadata": {
            "tags": [],
            "needs_background": "light"
          }
        }
      ]
    },
    {
      "cell_type": "code",
      "metadata": {
        "id": "WLlzbuXhKFb9",
        "colab": {
          "base_uri": "https://localhost:8080/"
        },
        "outputId": "0444d0ae-1b15-41a9-8e1f-89671aac1337"
      },
      "source": [
        "plt.hist([l for l in seq_lens if l < 200], bins=50);"
      ],
      "execution_count": null,
      "outputs": [
        {
          "output_type": "display_data",
          "data": {
            "image/png": "[encoded data removed]",
            "text/plain": [
              "<Figure size 432x288 with 1 Axes>"
            ]
          },
          "metadata": {
            "tags": [],
            "needs_background": "light"
          }
        }
      ]
    },
    {
      "cell_type": "code",
      "metadata": {
        "id": "RddWRmjkKICY",
        "colab": {
          "base_uri": "https://localhost:8080/"
        },
        "outputId": "d569077a-3246-4c02-98d6-47ecb581189b"
      },
      "source": [
        "MAX_SEQUENCE_LENGTH = 150\n",
        "\n",
        "# pad sequences with 0s\n",
        "x_train = pad_sequences(sequences, maxlen=MAX_SEQUENCE_LENGTH)\n",
        "x_test = pad_sequences(sequences_test, maxlen=MAX_SEQUENCE_LENGTH)\n",
        "print('Shape of data tensor:', x_train.shape)\n",
        "print('Shape of data test tensor:', x_test.shape)"
      ],
      "execution_count": null,
      "outputs": [
        {
          "output_type": "stream",
          "text": [
            "Shape of data tensor: (1446, 150)\n",
            "Shape of data test tensor: (621, 150)\n"
          ],
          "name": "stdout"
        }
      ]
    },
    {
      "cell_type": "code",
      "metadata": {
        "id": "kRoz5OA8NVUy",
        "colab": {
          "base_uri": "https://localhost:8080/"
        },
        "outputId": "1be5d321-7713-4144-cf2b-01abade53b43"
      },
      "source": [
        "df['label'].value_counts()"
      ],
      "execution_count": null,
      "outputs": [
        {
          "output_type": "execute_result",
          "data": {
            "text/plain": [
              "REAL          904\n",
              "FAKE          320\n",
              "INFO          297\n",
              "IRRELEVANT    295\n",
              "SATIRE        109\n",
              "QUERY          82\n",
              "AD             35\n",
              "UNSURE         25\n",
              "Name: label, dtype: int64"
            ]
          },
          "metadata": {
            "tags": []
          },
          "execution_count": 59
        }
      ]
    },
    {
      "cell_type": "code",
      "metadata": {
        "id": "OdATk0U4QcSY"
      },
      "source": [
        "y_train = train_y\n",
        "y_test = test_y"
      ],
      "execution_count": null,
      "outputs": []
    },
    {
      "cell_type": "code",
      "metadata": {
        "id": "RSf1TpHT7vcy",
        "colab": {
          "base_uri": "https://localhost:8080/"
        },
        "outputId": "1c3d61c8-1b89-4194-c3c4-08567a01fd7c"
      },
      "source": [
        "type(y_train)"
      ],
      "execution_count": null,
      "outputs": [
        {
          "output_type": "execute_result",
          "data": {
            "text/plain": [
              "pandas.core.series.Series"
            ]
          },
          "metadata": {
            "tags": []
          },
          "execution_count": 61
        }
      ]
    },
    {
      "cell_type": "code",
      "metadata": {
        "id": "h1Phyc1RQ5RI"
      },
      "source": [
        "# y_train.dtypes\n",
        "y_train = to_categorical(np.asarray(y_train.factorize()[0]))\n",
        "y_test = to_categorical(np.asarray(y_test.factorize()[0]))"
      ],
      "execution_count": null,
      "outputs": []
    },
    {
      "cell_type": "code",
      "metadata": {
        "id": "e7VUP6iTPJp6",
        "colab": {
          "base_uri": "https://localhost:8080/"
        },
        "outputId": "69b7c32a-11b5-46ec-f09f-f34b5b2e8991"
      },
      "source": [
        "print('Shape of label tensor:', y_train.shape)"
      ],
      "execution_count": null,
      "outputs": [
        {
          "output_type": "stream",
          "text": [
            "Shape of label tensor: (1446, 8)\n"
          ],
          "name": "stdout"
        }
      ]
    },
    {
      "cell_type": "markdown",
      "metadata": {
        "id": "3qT7k-yOKPeY"
      },
      "source": [
        "#A simple supervised CBOW model in Keras"
      ]
    },
    {
      "cell_type": "code",
      "metadata": {
        "id": "YsX62n15KQBH"
      },
      "source": [
        "EMBEDDING_DIM = 50\n",
        "N_CLASSES = 8\n",
        "\n",
        "# input: a sequence of MAX_SEQUENCE_LENGTH integers\n",
        "sequence_input = Input(shape=(MAX_SEQUENCE_LENGTH,), dtype='int32')\n",
        "\n",
        "embedding_layer = Embedding(MAX_NB_WORDS, EMBEDDING_DIM,\n",
        "                            input_length=MAX_SEQUENCE_LENGTH,\n",
        "                            trainable=True)\n",
        "embedded_sequences = embedding_layer(sequence_input)\n",
        "\n",
        "average = GlobalAveragePooling1D()(embedded_sequences)\n",
        "predictions = Dense(N_CLASSES, activation='softmax')(average)\n",
        "\n",
        "model = Model(sequence_input, predictions)\n",
        "model.compile(loss='categorical_crossentropy',\n",
        "              optimizer='adam', metrics=['acc'])"
      ],
      "execution_count": null,
      "outputs": []
    },
    {
      "cell_type": "code",
      "metadata": {
        "id": "7h9z_0eamcuj"
      },
      "source": [
        "# model.fit(x_train, y_train, validation_split=0.1,\n",
        "#           epochs=1000, batch_size=128)"
      ],
      "execution_count": null,
      "outputs": []
    },
    {
      "cell_type": "code",
      "metadata": {
        "id": "jigx2zXkKXCH",
        "colab": {
          "base_uri": "https://localhost:8080/",
          "height": 1000
        },
        "outputId": "d88e0f8c-c36d-4f81-fc2c-51290e692d8e"
      },
      "source": [
        "my_model = model.fit(x_train, y_train, validation_split=0.2,\n",
        "          epochs=500, batch_size=128)\n"
      ],
      "execution_count": null,
      "outputs": [
        {
          "output_type": "stream",
          "text": [
            "/usr/local/lib/python3.6/dist-packages/tensorflow/python/framework/indexed_slices.py:434: UserWarning: Converting sparse IndexedSlices to a dense Tensor of unknown shape. This may consume a large amount of memory.\n",
            "  \"Converting sparse IndexedSlices to a dense Tensor of unknown shape. \"\n"
          ],
          "name": "stderr"
        },
        {
          "output_type": "stream",
          "text": [
            "Train on 1652 samples, validate on 414 samples\n",
            "Epoch 1/500\n",
            "1652/1652 [==============================] - 0s 246us/step - loss: 2.0641 - acc: 0.2185 - val_loss: 2.0292 - val_acc: 0.4420\n",
            "Epoch 2/500\n",
            "1652/1652 [==============================] - 0s 55us/step - loss: 2.0057 - acc: 0.4358 - val_loss: 1.9713 - val_acc: 0.4420\n",
            "Epoch 3/500\n",
            "1652/1652 [==============================] - 0s 57us/step - loss: 1.9493 - acc: 0.4358 - val_loss: 1.9125 - val_acc: 0.4420\n",
            "Epoch 4/500\n",
            "1652/1652 [==============================] - 0s 56us/step - loss: 1.8898 - acc: 0.4358 - val_loss: 1.8525 - val_acc: 0.4420\n",
            "Epoch 5/500\n",
            "1652/1652 [==============================] - 0s 55us/step - loss: 1.8301 - acc: 0.4358 - val_loss: 1.7902 - val_acc: 0.4420\n",
            "Epoch 6/500\n",
            "1652/1652 [==============================] - 0s 54us/step - loss: 1.7702 - acc: 0.4358 - val_loss: 1.7297 - val_acc: 0.4420\n",
            "Epoch 7/500\n",
            "1652/1652 [==============================] - 0s 63us/step - loss: 1.7156 - acc: 0.4358 - val_loss: 1.6758 - val_acc: 0.4420\n",
            "Epoch 8/500\n",
            "1652/1652 [==============================] - 0s 53us/step - loss: 1.6683 - acc: 0.4358 - val_loss: 1.6340 - val_acc: 0.4420\n",
            "Epoch 9/500\n",
            "1652/1652 [==============================] - 0s 54us/step - loss: 1.6340 - acc: 0.4358 - val_loss: 1.6040 - val_acc: 0.4420\n",
            "Epoch 10/500\n",
            "1652/1652 [==============================] - 0s 59us/step - loss: 1.6105 - acc: 0.4358 - val_loss: 1.5845 - val_acc: 0.4420\n",
            "Epoch 11/500\n",
            "1652/1652 [==============================] - 0s 55us/step - loss: 1.5953 - acc: 0.4358 - val_loss: 1.5721 - val_acc: 0.4420\n",
            "Epoch 12/500\n",
            "1652/1652 [==============================] - 0s 65us/step - loss: 1.5852 - acc: 0.4358 - val_loss: 1.5631 - val_acc: 0.4420\n",
            "Epoch 13/500\n",
            "1652/1652 [==============================] - 0s 61us/step - loss: 1.5777 - acc: 0.4358 - val_loss: 1.5559 - val_acc: 0.4420\n",
            "Epoch 14/500\n",
            "1652/1652 [==============================] - 0s 58us/step - loss: 1.5708 - acc: 0.4358 - val_loss: 1.5503 - val_acc: 0.4420\n",
            "Epoch 15/500\n",
            "1652/1652 [==============================] - 0s 56us/step - loss: 1.5648 - acc: 0.4358 - val_loss: 1.5451 - val_acc: 0.4420\n",
            "Epoch 16/500\n",
            "1652/1652 [==============================] - 0s 57us/step - loss: 1.5588 - acc: 0.4358 - val_loss: 1.5402 - val_acc: 0.4420\n",
            "Epoch 17/500\n",
            "1652/1652 [==============================] - 0s 59us/step - loss: 1.5534 - acc: 0.4358 - val_loss: 1.5354 - val_acc: 0.4420\n",
            "Epoch 18/500\n",
            "1652/1652 [==============================] - 0s 53us/step - loss: 1.5473 - acc: 0.4358 - val_loss: 1.5305 - val_acc: 0.4420\n",
            "Epoch 19/500\n",
            "1652/1652 [==============================] - 0s 55us/step - loss: 1.5411 - acc: 0.4358 - val_loss: 1.5258 - val_acc: 0.4420\n",
            "Epoch 20/500\n",
            "1652/1652 [==============================] - 0s 54us/step - loss: 1.5353 - acc: 0.4358 - val_loss: 1.5211 - val_acc: 0.4420\n",
            "Epoch 21/500\n",
            "1652/1652 [==============================] - 0s 52us/step - loss: 1.5287 - acc: 0.4358 - val_loss: 1.5163 - val_acc: 0.4420\n",
            "Epoch 22/500\n",
            "1652/1652 [==============================] - 0s 62us/step - loss: 1.5222 - acc: 0.4358 - val_loss: 1.5117 - val_acc: 0.4420\n",
            "Epoch 23/500\n",
            "1652/1652 [==============================] - 0s 57us/step - loss: 1.5153 - acc: 0.4389 - val_loss: 1.5068 - val_acc: 0.4493\n",
            "Epoch 24/500\n",
            "1652/1652 [==============================] - 0s 54us/step - loss: 1.5084 - acc: 0.4473 - val_loss: 1.5017 - val_acc: 0.4517\n",
            "Epoch 25/500\n",
            "1652/1652 [==============================] - 0s 56us/step - loss: 1.5014 - acc: 0.4540 - val_loss: 1.4967 - val_acc: 0.4565\n",
            "Epoch 26/500\n",
            "1652/1652 [==============================] - 0s 55us/step - loss: 1.4940 - acc: 0.4613 - val_loss: 1.4911 - val_acc: 0.4614\n",
            "Epoch 27/500\n",
            "1652/1652 [==============================] - 0s 54us/step - loss: 1.4862 - acc: 0.4637 - val_loss: 1.4860 - val_acc: 0.4614\n",
            "Epoch 28/500\n",
            "1652/1652 [==============================] - 0s 57us/step - loss: 1.4786 - acc: 0.4655 - val_loss: 1.4804 - val_acc: 0.4638\n",
            "Epoch 29/500\n",
            "1652/1652 [==============================] - 0s 54us/step - loss: 1.4701 - acc: 0.4661 - val_loss: 1.4749 - val_acc: 0.4662\n",
            "Epoch 30/500\n",
            "1652/1652 [==============================] - 0s 53us/step - loss: 1.4615 - acc: 0.4685 - val_loss: 1.4691 - val_acc: 0.4710\n",
            "Epoch 31/500\n",
            "1652/1652 [==============================] - 0s 54us/step - loss: 1.4533 - acc: 0.4728 - val_loss: 1.4631 - val_acc: 0.4710\n",
            "Epoch 32/500\n",
            "1652/1652 [==============================] - 0s 56us/step - loss: 1.4445 - acc: 0.4752 - val_loss: 1.4569 - val_acc: 0.4710\n",
            "Epoch 33/500\n",
            "1652/1652 [==============================] - 0s 59us/step - loss: 1.4358 - acc: 0.4824 - val_loss: 1.4512 - val_acc: 0.4758\n",
            "Epoch 34/500\n",
            "1652/1652 [==============================] - 0s 54us/step - loss: 1.4266 - acc: 0.4843 - val_loss: 1.4450 - val_acc: 0.4758\n",
            "Epoch 35/500\n",
            "1652/1652 [==============================] - 0s 54us/step - loss: 1.4171 - acc: 0.4861 - val_loss: 1.4390 - val_acc: 0.4783\n",
            "Epoch 36/500\n",
            "1652/1652 [==============================] - 0s 54us/step - loss: 1.4080 - acc: 0.4891 - val_loss: 1.4328 - val_acc: 0.4783\n",
            "Epoch 37/500\n",
            "1652/1652 [==============================] - 0s 54us/step - loss: 1.3986 - acc: 0.4988 - val_loss: 1.4264 - val_acc: 0.4879\n",
            "Epoch 38/500\n",
            "1652/1652 [==============================] - 0s 54us/step - loss: 1.3885 - acc: 0.5054 - val_loss: 1.4199 - val_acc: 0.4903\n",
            "Epoch 39/500\n",
            "1652/1652 [==============================] - 0s 56us/step - loss: 1.3789 - acc: 0.5085 - val_loss: 1.4134 - val_acc: 0.4928\n",
            "Epoch 40/500\n",
            "1652/1652 [==============================] - 0s 52us/step - loss: 1.3691 - acc: 0.5151 - val_loss: 1.4070 - val_acc: 0.4952\n",
            "Epoch 41/500\n",
            "1652/1652 [==============================] - 0s 54us/step - loss: 1.3593 - acc: 0.5218 - val_loss: 1.4010 - val_acc: 0.5000\n",
            "Epoch 42/500\n",
            "1652/1652 [==============================] - 0s 54us/step - loss: 1.3492 - acc: 0.5254 - val_loss: 1.3944 - val_acc: 0.5000\n",
            "Epoch 43/500\n",
            "1652/1652 [==============================] - 0s 54us/step - loss: 1.3394 - acc: 0.5321 - val_loss: 1.3881 - val_acc: 0.5024\n",
            "Epoch 44/500\n",
            "1652/1652 [==============================] - 0s 59us/step - loss: 1.3291 - acc: 0.5369 - val_loss: 1.3816 - val_acc: 0.5072\n",
            "Epoch 45/500\n",
            "1652/1652 [==============================] - 0s 56us/step - loss: 1.3191 - acc: 0.5430 - val_loss: 1.3751 - val_acc: 0.5097\n",
            "Epoch 46/500\n",
            "1652/1652 [==============================] - 0s 54us/step - loss: 1.3091 - acc: 0.5472 - val_loss: 1.3687 - val_acc: 0.5097\n",
            "Epoch 47/500\n",
            "1652/1652 [==============================] - 0s 53us/step - loss: 1.2987 - acc: 0.5508 - val_loss: 1.3625 - val_acc: 0.5145\n",
            "Epoch 48/500\n",
            "1652/1652 [==============================] - 0s 54us/step - loss: 1.2885 - acc: 0.5581 - val_loss: 1.3565 - val_acc: 0.5145\n",
            "Epoch 49/500\n",
            "1652/1652 [==============================] - 0s 58us/step - loss: 1.2782 - acc: 0.5587 - val_loss: 1.3501 - val_acc: 0.5169\n",
            "Epoch 50/500\n",
            "1652/1652 [==============================] - 0s 55us/step - loss: 1.2681 - acc: 0.5617 - val_loss: 1.3434 - val_acc: 0.5169\n",
            "Epoch 51/500\n",
            "1652/1652 [==============================] - 0s 53us/step - loss: 1.2578 - acc: 0.5636 - val_loss: 1.3372 - val_acc: 0.5266\n",
            "Epoch 52/500\n",
            "1652/1652 [==============================] - 0s 54us/step - loss: 1.2478 - acc: 0.5702 - val_loss: 1.3309 - val_acc: 0.5290\n",
            "Epoch 53/500\n",
            "1652/1652 [==============================] - 0s 53us/step - loss: 1.2373 - acc: 0.5714 - val_loss: 1.3248 - val_acc: 0.5314\n",
            "Epoch 54/500\n",
            "1652/1652 [==============================] - 0s 63us/step - loss: 1.2274 - acc: 0.5726 - val_loss: 1.3186 - val_acc: 0.5338\n",
            "Epoch 55/500\n",
            "1652/1652 [==============================] - 0s 56us/step - loss: 1.2170 - acc: 0.5751 - val_loss: 1.3126 - val_acc: 0.5338\n",
            "Epoch 56/500\n",
            "1652/1652 [==============================] - 0s 53us/step - loss: 1.2071 - acc: 0.5799 - val_loss: 1.3068 - val_acc: 0.5386\n",
            "Epoch 57/500\n",
            "1652/1652 [==============================] - 0s 56us/step - loss: 1.1969 - acc: 0.5823 - val_loss: 1.3006 - val_acc: 0.5386\n",
            "Epoch 58/500\n",
            "1652/1652 [==============================] - 0s 58us/step - loss: 1.1868 - acc: 0.5829 - val_loss: 1.2948 - val_acc: 0.5386\n",
            "Epoch 59/500\n",
            "1652/1652 [==============================] - 0s 55us/step - loss: 1.1771 - acc: 0.5829 - val_loss: 1.2888 - val_acc: 0.5411\n",
            "Epoch 60/500\n",
            "1652/1652 [==============================] - 0s 60us/step - loss: 1.1671 - acc: 0.5890 - val_loss: 1.2831 - val_acc: 0.5411\n",
            "Epoch 61/500\n",
            "1652/1652 [==============================] - 0s 54us/step - loss: 1.1570 - acc: 0.5896 - val_loss: 1.2774 - val_acc: 0.5435\n",
            "Epoch 62/500\n",
            "1652/1652 [==============================] - 0s 54us/step - loss: 1.1473 - acc: 0.5896 - val_loss: 1.2712 - val_acc: 0.5435\n",
            "Epoch 63/500\n",
            "1652/1652 [==============================] - 0s 54us/step - loss: 1.1370 - acc: 0.5920 - val_loss: 1.2658 - val_acc: 0.5411\n",
            "Epoch 64/500\n",
            "1652/1652 [==============================] - 0s 53us/step - loss: 1.1275 - acc: 0.5969 - val_loss: 1.2603 - val_acc: 0.5411\n",
            "Epoch 65/500\n",
            "1652/1652 [==============================] - 0s 62us/step - loss: 1.1178 - acc: 0.6023 - val_loss: 1.2545 - val_acc: 0.5435\n",
            "Epoch 66/500\n",
            "1652/1652 [==============================] - 0s 55us/step - loss: 1.1080 - acc: 0.6071 - val_loss: 1.2491 - val_acc: 0.5411\n",
            "Epoch 67/500\n",
            "1652/1652 [==============================] - 0s 54us/step - loss: 1.0987 - acc: 0.6047 - val_loss: 1.2439 - val_acc: 0.5435\n",
            "Epoch 68/500\n",
            "1652/1652 [==============================] - 0s 53us/step - loss: 1.0886 - acc: 0.6156 - val_loss: 1.2384 - val_acc: 0.5459\n",
            "Epoch 69/500\n",
            "1652/1652 [==============================] - 0s 53us/step - loss: 1.0796 - acc: 0.6229 - val_loss: 1.2333 - val_acc: 0.5483\n",
            "Epoch 70/500\n",
            "1652/1652 [==============================] - 0s 54us/step - loss: 1.0698 - acc: 0.6277 - val_loss: 1.2280 - val_acc: 0.5483\n",
            "Epoch 71/500\n",
            "1652/1652 [==============================] - 0s 56us/step - loss: 1.0606 - acc: 0.6314 - val_loss: 1.2229 - val_acc: 0.5507\n",
            "Epoch 72/500\n",
            "1652/1652 [==============================] - 0s 54us/step - loss: 1.0515 - acc: 0.6295 - val_loss: 1.2180 - val_acc: 0.5531\n",
            "Epoch 73/500\n",
            "1652/1652 [==============================] - 0s 53us/step - loss: 1.0418 - acc: 0.6429 - val_loss: 1.2127 - val_acc: 0.5531\n",
            "Epoch 74/500\n",
            "1652/1652 [==============================] - 0s 53us/step - loss: 1.0327 - acc: 0.6483 - val_loss: 1.2079 - val_acc: 0.5531\n",
            "Epoch 75/500\n",
            "1652/1652 [==============================] - 0s 57us/step - loss: 1.0235 - acc: 0.6507 - val_loss: 1.2031 - val_acc: 0.5580\n",
            "Epoch 76/500\n",
            "1652/1652 [==============================] - 0s 68us/step - loss: 1.0141 - acc: 0.6525 - val_loss: 1.1982 - val_acc: 0.5580\n",
            "Epoch 77/500\n",
            "1652/1652 [==============================] - 0s 56us/step - loss: 1.0054 - acc: 0.6640 - val_loss: 1.1932 - val_acc: 0.5628\n",
            "Epoch 78/500\n",
            "1652/1652 [==============================] - 0s 56us/step - loss: 0.9964 - acc: 0.6659 - val_loss: 1.1889 - val_acc: 0.5628\n",
            "Epoch 79/500\n",
            "1652/1652 [==============================] - 0s 57us/step - loss: 0.9873 - acc: 0.6719 - val_loss: 1.1840 - val_acc: 0.5628\n",
            "Epoch 80/500\n",
            "1652/1652 [==============================] - 0s 57us/step - loss: 0.9783 - acc: 0.6737 - val_loss: 1.1796 - val_acc: 0.5628\n",
            "Epoch 81/500\n",
            "1652/1652 [==============================] - 0s 56us/step - loss: 0.9699 - acc: 0.6749 - val_loss: 1.1751 - val_acc: 0.5676\n",
            "Epoch 82/500\n",
            "1652/1652 [==============================] - 0s 57us/step - loss: 0.9607 - acc: 0.6755 - val_loss: 1.1706 - val_acc: 0.5700\n",
            "Epoch 83/500\n",
            "1652/1652 [==============================] - 0s 60us/step - loss: 0.9519 - acc: 0.6834 - val_loss: 1.1661 - val_acc: 0.5676\n",
            "Epoch 84/500\n",
            "1652/1652 [==============================] - 0s 59us/step - loss: 0.9433 - acc: 0.6864 - val_loss: 1.1620 - val_acc: 0.5700\n",
            "Epoch 85/500\n",
            "1652/1652 [==============================] - 0s 59us/step - loss: 0.9347 - acc: 0.6870 - val_loss: 1.1574 - val_acc: 0.5700\n",
            "Epoch 86/500\n",
            "1652/1652 [==============================] - 0s 63us/step - loss: 0.9261 - acc: 0.6967 - val_loss: 1.1532 - val_acc: 0.5773\n",
            "Epoch 87/500\n",
            "1652/1652 [==============================] - 0s 56us/step - loss: 0.9176 - acc: 0.7010 - val_loss: 1.1492 - val_acc: 0.5725\n",
            "Epoch 88/500\n",
            "1652/1652 [==============================] - 0s 55us/step - loss: 0.9093 - acc: 0.7040 - val_loss: 1.1452 - val_acc: 0.5725\n",
            "Epoch 89/500\n",
            "1652/1652 [==============================] - 0s 55us/step - loss: 0.9008 - acc: 0.7058 - val_loss: 1.1410 - val_acc: 0.5773\n",
            "Epoch 90/500\n",
            "1652/1652 [==============================] - 0s 54us/step - loss: 0.8926 - acc: 0.7094 - val_loss: 1.1372 - val_acc: 0.5797\n",
            "Epoch 91/500\n",
            "1652/1652 [==============================] - 0s 57us/step - loss: 0.8844 - acc: 0.7113 - val_loss: 1.1329 - val_acc: 0.5894\n",
            "Epoch 92/500\n",
            "1652/1652 [==============================] - 0s 52us/step - loss: 0.8761 - acc: 0.7155 - val_loss: 1.1291 - val_acc: 0.5894\n",
            "Epoch 93/500\n",
            "1652/1652 [==============================] - 0s 54us/step - loss: 0.8679 - acc: 0.7203 - val_loss: 1.1253 - val_acc: 0.5894\n",
            "Epoch 94/500\n",
            "1652/1652 [==============================] - 0s 55us/step - loss: 0.8601 - acc: 0.7288 - val_loss: 1.1217 - val_acc: 0.5894\n",
            "Epoch 95/500\n",
            "1652/1652 [==============================] - 0s 55us/step - loss: 0.8520 - acc: 0.7240 - val_loss: 1.1183 - val_acc: 0.5918\n",
            "Epoch 96/500\n",
            "1652/1652 [==============================] - 0s 59us/step - loss: 0.8442 - acc: 0.7324 - val_loss: 1.1143 - val_acc: 0.5942\n",
            "Epoch 97/500\n",
            "1652/1652 [==============================] - 0s 59us/step - loss: 0.8361 - acc: 0.7361 - val_loss: 1.1108 - val_acc: 0.5918\n",
            "Epoch 98/500\n",
            "1652/1652 [==============================] - 0s 53us/step - loss: 0.8287 - acc: 0.7433 - val_loss: 1.1074 - val_acc: 0.5990\n",
            "Epoch 99/500\n",
            "1652/1652 [==============================] - 0s 54us/step - loss: 0.8203 - acc: 0.7446 - val_loss: 1.1041 - val_acc: 0.5942\n",
            "Epoch 100/500\n",
            "1652/1652 [==============================] - 0s 52us/step - loss: 0.8129 - acc: 0.7488 - val_loss: 1.1003 - val_acc: 0.5942\n",
            "Epoch 101/500\n",
            "1652/1652 [==============================] - 0s 55us/step - loss: 0.8049 - acc: 0.7500 - val_loss: 1.0968 - val_acc: 0.5966\n",
            "Epoch 102/500\n",
            "1652/1652 [==============================] - 0s 62us/step - loss: 0.7976 - acc: 0.7567 - val_loss: 1.0938 - val_acc: 0.5966\n",
            "Epoch 103/500\n",
            "1652/1652 [==============================] - 0s 54us/step - loss: 0.7899 - acc: 0.7561 - val_loss: 1.0904 - val_acc: 0.5990\n",
            "Epoch 104/500\n",
            "1652/1652 [==============================] - 0s 56us/step - loss: 0.7829 - acc: 0.7603 - val_loss: 1.0867 - val_acc: 0.6039\n",
            "Epoch 105/500\n",
            "1652/1652 [==============================] - 0s 53us/step - loss: 0.7749 - acc: 0.7603 - val_loss: 1.0837 - val_acc: 0.6063\n",
            "Epoch 106/500\n",
            "1652/1652 [==============================] - 0s 53us/step - loss: 0.7678 - acc: 0.7657 - val_loss: 1.0810 - val_acc: 0.6135\n",
            "Epoch 107/500\n",
            "1652/1652 [==============================] - 0s 58us/step - loss: 0.7603 - acc: 0.7663 - val_loss: 1.0775 - val_acc: 0.6063\n",
            "Epoch 108/500\n",
            "1652/1652 [==============================] - 0s 56us/step - loss: 0.7530 - acc: 0.7706 - val_loss: 1.0747 - val_acc: 0.6111\n",
            "Epoch 109/500\n",
            "1652/1652 [==============================] - 0s 53us/step - loss: 0.7460 - acc: 0.7797 - val_loss: 1.0717 - val_acc: 0.6159\n",
            "Epoch 110/500\n",
            "1652/1652 [==============================] - 0s 53us/step - loss: 0.7387 - acc: 0.7766 - val_loss: 1.0685 - val_acc: 0.6159\n",
            "Epoch 111/500\n",
            "1652/1652 [==============================] - 0s 53us/step - loss: 0.7319 - acc: 0.7863 - val_loss: 1.0656 - val_acc: 0.6135\n",
            "Epoch 112/500\n",
            "1652/1652 [==============================] - 0s 54us/step - loss: 0.7253 - acc: 0.7900 - val_loss: 1.0631 - val_acc: 0.6184\n",
            "Epoch 113/500\n",
            "1652/1652 [==============================] - 0s 62us/step - loss: 0.7178 - acc: 0.7912 - val_loss: 1.0601 - val_acc: 0.6208\n",
            "Epoch 114/500\n",
            "1652/1652 [==============================] - 0s 54us/step - loss: 0.7111 - acc: 0.7996 - val_loss: 1.0573 - val_acc: 0.6232\n",
            "Epoch 115/500\n",
            "1652/1652 [==============================] - 0s 54us/step - loss: 0.7042 - acc: 0.8051 - val_loss: 1.0544 - val_acc: 0.6232\n",
            "Epoch 116/500\n",
            "1652/1652 [==============================] - 0s 55us/step - loss: 0.6987 - acc: 0.7978 - val_loss: 1.0523 - val_acc: 0.6159\n",
            "Epoch 117/500\n",
            "1652/1652 [==============================] - 0s 56us/step - loss: 0.6906 - acc: 0.8081 - val_loss: 1.0492 - val_acc: 0.6256\n",
            "Epoch 118/500\n",
            "1652/1652 [==============================] - 0s 63us/step - loss: 0.6846 - acc: 0.8196 - val_loss: 1.0469 - val_acc: 0.6232\n",
            "Epoch 119/500\n",
            "1652/1652 [==============================] - 0s 53us/step - loss: 0.6778 - acc: 0.8105 - val_loss: 1.0444 - val_acc: 0.6232\n",
            "Epoch 120/500\n",
            "1652/1652 [==============================] - 0s 55us/step - loss: 0.6713 - acc: 0.8154 - val_loss: 1.0413 - val_acc: 0.6304\n",
            "Epoch 121/500\n",
            "1652/1652 [==============================] - 0s 53us/step - loss: 0.6648 - acc: 0.8214 - val_loss: 1.0391 - val_acc: 0.6280\n",
            "Epoch 122/500\n",
            "1652/1652 [==============================] - 0s 54us/step - loss: 0.6586 - acc: 0.8245 - val_loss: 1.0370 - val_acc: 0.6280\n",
            "Epoch 123/500\n",
            "1652/1652 [==============================] - 0s 58us/step - loss: 0.6521 - acc: 0.8335 - val_loss: 1.0341 - val_acc: 0.6353\n",
            "Epoch 124/500\n",
            "1652/1652 [==============================] - 0s 53us/step - loss: 0.6465 - acc: 0.8263 - val_loss: 1.0322 - val_acc: 0.6280\n",
            "Epoch 125/500\n",
            "1652/1652 [==============================] - 0s 54us/step - loss: 0.6393 - acc: 0.8335 - val_loss: 1.0292 - val_acc: 0.6377\n",
            "Epoch 126/500\n",
            "1652/1652 [==============================] - 0s 52us/step - loss: 0.6337 - acc: 0.8414 - val_loss: 1.0273 - val_acc: 0.6377\n",
            "Epoch 127/500\n",
            "1652/1652 [==============================] - 0s 53us/step - loss: 0.6275 - acc: 0.8354 - val_loss: 1.0250 - val_acc: 0.6353\n",
            "Epoch 128/500\n",
            "1652/1652 [==============================] - 0s 57us/step - loss: 0.6214 - acc: 0.8444 - val_loss: 1.0228 - val_acc: 0.6377\n",
            "Epoch 129/500\n",
            "1652/1652 [==============================] - 0s 58us/step - loss: 0.6151 - acc: 0.8475 - val_loss: 1.0205 - val_acc: 0.6353\n",
            "Epoch 130/500\n",
            "1652/1652 [==============================] - 0s 54us/step - loss: 0.6092 - acc: 0.8426 - val_loss: 1.0181 - val_acc: 0.6377\n",
            "Epoch 131/500\n",
            "1652/1652 [==============================] - 0s 52us/step - loss: 0.6035 - acc: 0.8505 - val_loss: 1.0160 - val_acc: 0.6425\n",
            "Epoch 132/500\n",
            "1652/1652 [==============================] - 0s 52us/step - loss: 0.5979 - acc: 0.8535 - val_loss: 1.0140 - val_acc: 0.6401\n",
            "Epoch 133/500\n",
            "1652/1652 [==============================] - 0s 54us/step - loss: 0.5921 - acc: 0.8541 - val_loss: 1.0119 - val_acc: 0.6425\n",
            "Epoch 134/500\n",
            "1652/1652 [==============================] - 0s 58us/step - loss: 0.5865 - acc: 0.8608 - val_loss: 1.0103 - val_acc: 0.6401\n",
            "Epoch 135/500\n",
            "1652/1652 [==============================] - 0s 60us/step - loss: 0.5806 - acc: 0.8602 - val_loss: 1.0083 - val_acc: 0.6401\n",
            "Epoch 136/500\n",
            "1652/1652 [==============================] - 0s 55us/step - loss: 0.5753 - acc: 0.8626 - val_loss: 1.0058 - val_acc: 0.6498\n",
            "Epoch 137/500\n",
            "1652/1652 [==============================] - 0s 55us/step - loss: 0.5699 - acc: 0.8626 - val_loss: 1.0049 - val_acc: 0.6401\n",
            "Epoch 138/500\n",
            "1652/1652 [==============================] - 0s 59us/step - loss: 0.5637 - acc: 0.8644 - val_loss: 1.0022 - val_acc: 0.6473\n",
            "Epoch 139/500\n",
            "1652/1652 [==============================] - 0s 59us/step - loss: 0.5590 - acc: 0.8741 - val_loss: 1.0005 - val_acc: 0.6498\n",
            "Epoch 140/500\n",
            "1652/1652 [==============================] - 0s 56us/step - loss: 0.5531 - acc: 0.8705 - val_loss: 0.9991 - val_acc: 0.6425\n",
            "Epoch 141/500\n",
            "1652/1652 [==============================] - 0s 54us/step - loss: 0.5480 - acc: 0.8686 - val_loss: 0.9966 - val_acc: 0.6498\n",
            "Epoch 142/500\n",
            "1652/1652 [==============================] - 0s 53us/step - loss: 0.5433 - acc: 0.8747 - val_loss: 0.9949 - val_acc: 0.6473\n",
            "Epoch 143/500\n",
            "1652/1652 [==============================] - 0s 54us/step - loss: 0.5378 - acc: 0.8705 - val_loss: 0.9937 - val_acc: 0.6473\n",
            "Epoch 144/500\n",
            "1652/1652 [==============================] - 0s 58us/step - loss: 0.5325 - acc: 0.8795 - val_loss: 0.9915 - val_acc: 0.6522\n",
            "Epoch 145/500\n",
            "1652/1652 [==============================] - 0s 60us/step - loss: 0.5275 - acc: 0.8844 - val_loss: 0.9900 - val_acc: 0.6546\n",
            "Epoch 146/500\n",
            "1652/1652 [==============================] - 0s 57us/step - loss: 0.5223 - acc: 0.8826 - val_loss: 0.9885 - val_acc: 0.6522\n",
            "Epoch 147/500\n",
            "1652/1652 [==============================] - 0s 60us/step - loss: 0.5178 - acc: 0.8844 - val_loss: 0.9863 - val_acc: 0.6570\n",
            "Epoch 148/500\n",
            "1652/1652 [==============================] - 0s 56us/step - loss: 0.5128 - acc: 0.8838 - val_loss: 0.9852 - val_acc: 0.6522\n",
            "Epoch 149/500\n",
            "1652/1652 [==============================] - 0s 55us/step - loss: 0.5080 - acc: 0.8892 - val_loss: 0.9831 - val_acc: 0.6546\n",
            "Epoch 150/500\n",
            "1652/1652 [==============================] - 0s 62us/step - loss: 0.5028 - acc: 0.8862 - val_loss: 0.9828 - val_acc: 0.6546\n",
            "Epoch 151/500\n",
            "1652/1652 [==============================] - 0s 55us/step - loss: 0.4985 - acc: 0.8886 - val_loss: 0.9804 - val_acc: 0.6546\n",
            "Epoch 152/500\n",
            "1652/1652 [==============================] - 0s 52us/step - loss: 0.4933 - acc: 0.8916 - val_loss: 0.9790 - val_acc: 0.6546\n",
            "Epoch 153/500\n",
            "1652/1652 [==============================] - 0s 52us/step - loss: 0.4886 - acc: 0.8923 - val_loss: 0.9775 - val_acc: 0.6570\n",
            "Epoch 154/500\n",
            "1652/1652 [==============================] - 0s 54us/step - loss: 0.4844 - acc: 0.8916 - val_loss: 0.9764 - val_acc: 0.6570\n",
            "Epoch 155/500\n",
            "1652/1652 [==============================] - 0s 56us/step - loss: 0.4806 - acc: 0.8959 - val_loss: 0.9748 - val_acc: 0.6618\n",
            "Epoch 156/500\n",
            "1652/1652 [==============================] - 0s 59us/step - loss: 0.4755 - acc: 0.8916 - val_loss: 0.9739 - val_acc: 0.6570\n",
            "Epoch 157/500\n",
            "1652/1652 [==============================] - 0s 55us/step - loss: 0.4707 - acc: 0.8953 - val_loss: 0.9718 - val_acc: 0.6667\n",
            "Epoch 158/500\n",
            "1652/1652 [==============================] - 0s 54us/step - loss: 0.4666 - acc: 0.8995 - val_loss: 0.9706 - val_acc: 0.6570\n",
            "Epoch 159/500\n",
            "1652/1652 [==============================] - 0s 51us/step - loss: 0.4624 - acc: 0.8959 - val_loss: 0.9691 - val_acc: 0.6570\n",
            "Epoch 160/500\n",
            "1652/1652 [==============================] - 0s 53us/step - loss: 0.4583 - acc: 0.8947 - val_loss: 0.9680 - val_acc: 0.6546\n",
            "Epoch 161/500\n",
            "1652/1652 [==============================] - 0s 56us/step - loss: 0.4538 - acc: 0.9019 - val_loss: 0.9666 - val_acc: 0.6691\n",
            "Epoch 162/500\n",
            "1652/1652 [==============================] - 0s 53us/step - loss: 0.4497 - acc: 0.8995 - val_loss: 0.9662 - val_acc: 0.6570\n",
            "Epoch 163/500\n",
            "1652/1652 [==============================] - 0s 52us/step - loss: 0.4454 - acc: 0.8977 - val_loss: 0.9642 - val_acc: 0.6667\n",
            "Epoch 164/500\n",
            "1652/1652 [==============================] - 0s 52us/step - loss: 0.4415 - acc: 0.9031 - val_loss: 0.9630 - val_acc: 0.6618\n",
            "Epoch 165/500\n",
            "1652/1652 [==============================] - 0s 52us/step - loss: 0.4373 - acc: 0.8995 - val_loss: 0.9622 - val_acc: 0.6618\n",
            "Epoch 166/500\n",
            "1652/1652 [==============================] - 0s 59us/step - loss: 0.4333 - acc: 0.9062 - val_loss: 0.9607 - val_acc: 0.6739\n",
            "Epoch 167/500\n",
            "1652/1652 [==============================] - 0s 56us/step - loss: 0.4293 - acc: 0.9056 - val_loss: 0.9597 - val_acc: 0.6715\n",
            "Epoch 168/500\n",
            "1652/1652 [==============================] - 0s 56us/step - loss: 0.4253 - acc: 0.9068 - val_loss: 0.9584 - val_acc: 0.6691\n",
            "Epoch 169/500\n",
            "1652/1652 [==============================] - 0s 55us/step - loss: 0.4216 - acc: 0.9056 - val_loss: 0.9575 - val_acc: 0.6739\n",
            "Epoch 170/500\n",
            "1652/1652 [==============================] - 0s 54us/step - loss: 0.4180 - acc: 0.9092 - val_loss: 0.9568 - val_acc: 0.6763\n",
            "Epoch 171/500\n",
            "1652/1652 [==============================] - 0s 57us/step - loss: 0.4141 - acc: 0.9074 - val_loss: 0.9559 - val_acc: 0.6739\n",
            "Epoch 172/500\n",
            "1652/1652 [==============================] - 0s 56us/step - loss: 0.4104 - acc: 0.9110 - val_loss: 0.9543 - val_acc: 0.6763\n",
            "Epoch 173/500\n",
            "1652/1652 [==============================] - 0s 55us/step - loss: 0.4067 - acc: 0.9110 - val_loss: 0.9537 - val_acc: 0.6763\n",
            "Epoch 174/500\n",
            "1652/1652 [==============================] - 0s 56us/step - loss: 0.4036 - acc: 0.9104 - val_loss: 0.9531 - val_acc: 0.6763\n",
            "Epoch 175/500\n",
            "1652/1652 [==============================] - 0s 54us/step - loss: 0.3992 - acc: 0.9110 - val_loss: 0.9513 - val_acc: 0.6763\n",
            "Epoch 176/500\n",
            "1652/1652 [==============================] - 0s 62us/step - loss: 0.3962 - acc: 0.9098 - val_loss: 0.9506 - val_acc: 0.6739\n",
            "Epoch 177/500\n",
            "1652/1652 [==============================] - 0s 58us/step - loss: 0.3928 - acc: 0.9134 - val_loss: 0.9493 - val_acc: 0.6763\n",
            "Epoch 178/500\n",
            "1652/1652 [==============================] - 0s 54us/step - loss: 0.3896 - acc: 0.9110 - val_loss: 0.9500 - val_acc: 0.6763\n",
            "Epoch 179/500\n",
            "1652/1652 [==============================] - 0s 54us/step - loss: 0.3859 - acc: 0.9153 - val_loss: 0.9481 - val_acc: 0.6763\n",
            "Epoch 180/500\n",
            "1652/1652 [==============================] - 0s 51us/step - loss: 0.3821 - acc: 0.9134 - val_loss: 0.9478 - val_acc: 0.6763\n",
            "Epoch 181/500\n",
            "1652/1652 [==============================] - 0s 55us/step - loss: 0.3792 - acc: 0.9134 - val_loss: 0.9466 - val_acc: 0.6787\n",
            "Epoch 182/500\n",
            "1652/1652 [==============================] - 0s 60us/step - loss: 0.3759 - acc: 0.9177 - val_loss: 0.9454 - val_acc: 0.6763\n",
            "Epoch 183/500\n",
            "1652/1652 [==============================] - 0s 56us/step - loss: 0.3725 - acc: 0.9153 - val_loss: 0.9456 - val_acc: 0.6739\n",
            "Epoch 184/500\n",
            "1652/1652 [==============================] - 0s 54us/step - loss: 0.3701 - acc: 0.9183 - val_loss: 0.9440 - val_acc: 0.6763\n",
            "Epoch 185/500\n",
            "1652/1652 [==============================] - 0s 52us/step - loss: 0.3659 - acc: 0.9171 - val_loss: 0.9445 - val_acc: 0.6739\n",
            "Epoch 186/500\n",
            "1652/1652 [==============================] - 0s 59us/step - loss: 0.3631 - acc: 0.9171 - val_loss: 0.9424 - val_acc: 0.6763\n",
            "Epoch 187/500\n",
            "1652/1652 [==============================] - 0s 59us/step - loss: 0.3598 - acc: 0.9219 - val_loss: 0.9420 - val_acc: 0.6763\n",
            "Epoch 188/500\n",
            "1652/1652 [==============================] - 0s 59us/step - loss: 0.3568 - acc: 0.9231 - val_loss: 0.9413 - val_acc: 0.6763\n",
            "Epoch 189/500\n",
            "1652/1652 [==============================] - 0s 53us/step - loss: 0.3539 - acc: 0.9225 - val_loss: 0.9410 - val_acc: 0.6763\n",
            "Epoch 190/500\n",
            "1652/1652 [==============================] - 0s 60us/step - loss: 0.3510 - acc: 0.9207 - val_loss: 0.9414 - val_acc: 0.6787\n",
            "Epoch 191/500\n",
            "1652/1652 [==============================] - 0s 60us/step - loss: 0.3480 - acc: 0.9237 - val_loss: 0.9393 - val_acc: 0.6763\n",
            "Epoch 192/500\n",
            "1652/1652 [==============================] - 0s 61us/step - loss: 0.3450 - acc: 0.9237 - val_loss: 0.9394 - val_acc: 0.6763\n",
            "Epoch 193/500\n",
            "1652/1652 [==============================] - 0s 60us/step - loss: 0.3421 - acc: 0.9243 - val_loss: 0.9385 - val_acc: 0.6763\n",
            "Epoch 194/500\n",
            "1652/1652 [==============================] - 0s 54us/step - loss: 0.3393 - acc: 0.9298 - val_loss: 0.9371 - val_acc: 0.6739\n",
            "Epoch 195/500\n",
            "1652/1652 [==============================] - 0s 54us/step - loss: 0.3365 - acc: 0.9298 - val_loss: 0.9372 - val_acc: 0.6763\n",
            "Epoch 196/500\n",
            "1652/1652 [==============================] - 0s 54us/step - loss: 0.3337 - acc: 0.9268 - val_loss: 0.9378 - val_acc: 0.6763\n",
            "Epoch 197/500\n",
            "1652/1652 [==============================] - 0s 57us/step - loss: 0.3311 - acc: 0.9304 - val_loss: 0.9363 - val_acc: 0.6787\n",
            "Epoch 198/500\n",
            "1652/1652 [==============================] - 0s 55us/step - loss: 0.3282 - acc: 0.9274 - val_loss: 0.9361 - val_acc: 0.6787\n",
            "Epoch 199/500\n",
            "1652/1652 [==============================] - 0s 54us/step - loss: 0.3255 - acc: 0.9322 - val_loss: 0.9349 - val_acc: 0.6763\n",
            "Epoch 200/500\n",
            "1652/1652 [==============================] - 0s 55us/step - loss: 0.3230 - acc: 0.9286 - val_loss: 0.9352 - val_acc: 0.6787\n",
            "Epoch 201/500\n",
            "1652/1652 [==============================] - 0s 58us/step - loss: 0.3203 - acc: 0.9334 - val_loss: 0.9339 - val_acc: 0.6763\n",
            "Epoch 202/500\n",
            "1652/1652 [==============================] - 0s 57us/step - loss: 0.3175 - acc: 0.9328 - val_loss: 0.9347 - val_acc: 0.6739\n",
            "Epoch 203/500\n",
            "1652/1652 [==============================] - 0s 62us/step - loss: 0.3151 - acc: 0.9298 - val_loss: 0.9348 - val_acc: 0.6787\n",
            "Epoch 204/500\n",
            "1652/1652 [==============================] - 0s 56us/step - loss: 0.3125 - acc: 0.9334 - val_loss: 0.9327 - val_acc: 0.6787\n",
            "Epoch 205/500\n",
            "1652/1652 [==============================] - 0s 54us/step - loss: 0.3100 - acc: 0.9377 - val_loss: 0.9329 - val_acc: 0.6787\n",
            "Epoch 206/500\n",
            "1652/1652 [==============================] - 0s 53us/step - loss: 0.3076 - acc: 0.9352 - val_loss: 0.9320 - val_acc: 0.6787\n",
            "Epoch 207/500\n",
            "1652/1652 [==============================] - 0s 58us/step - loss: 0.3050 - acc: 0.9377 - val_loss: 0.9323 - val_acc: 0.6787\n",
            "Epoch 208/500\n",
            "1652/1652 [==============================] - 0s 58us/step - loss: 0.3026 - acc: 0.9370 - val_loss: 0.9323 - val_acc: 0.6787\n",
            "Epoch 209/500\n",
            "1652/1652 [==============================] - 0s 60us/step - loss: 0.3001 - acc: 0.9370 - val_loss: 0.9315 - val_acc: 0.6787\n",
            "Epoch 210/500\n",
            "1652/1652 [==============================] - 0s 58us/step - loss: 0.2981 - acc: 0.9401 - val_loss: 0.9321 - val_acc: 0.6812\n",
            "Epoch 211/500\n",
            "1652/1652 [==============================] - 0s 53us/step - loss: 0.2954 - acc: 0.9389 - val_loss: 0.9305 - val_acc: 0.6787\n",
            "Epoch 212/500\n",
            "1652/1652 [==============================] - 0s 54us/step - loss: 0.2931 - acc: 0.9395 - val_loss: 0.9314 - val_acc: 0.6763\n",
            "Epoch 213/500\n",
            "1652/1652 [==============================] - 0s 52us/step - loss: 0.2913 - acc: 0.9389 - val_loss: 0.9310 - val_acc: 0.6739\n",
            "Epoch 214/500\n",
            "1652/1652 [==============================] - 0s 59us/step - loss: 0.2886 - acc: 0.9407 - val_loss: 0.9301 - val_acc: 0.6763\n",
            "Epoch 215/500\n",
            "1652/1652 [==============================] - 0s 53us/step - loss: 0.2867 - acc: 0.9407 - val_loss: 0.9302 - val_acc: 0.6787\n",
            "Epoch 216/500\n",
            "1652/1652 [==============================] - 0s 55us/step - loss: 0.2840 - acc: 0.9425 - val_loss: 0.9291 - val_acc: 0.6812\n",
            "Epoch 217/500\n",
            "1652/1652 [==============================] - 0s 53us/step - loss: 0.2818 - acc: 0.9413 - val_loss: 0.9305 - val_acc: 0.6763\n",
            "Epoch 218/500\n",
            "1652/1652 [==============================] - 0s 58us/step - loss: 0.2798 - acc: 0.9407 - val_loss: 0.9301 - val_acc: 0.6763\n",
            "Epoch 219/500\n",
            "1652/1652 [==============================] - 0s 54us/step - loss: 0.2775 - acc: 0.9419 - val_loss: 0.9291 - val_acc: 0.6763\n",
            "Epoch 220/500\n",
            "1652/1652 [==============================] - 0s 54us/step - loss: 0.2758 - acc: 0.9431 - val_loss: 0.9288 - val_acc: 0.6787\n",
            "Epoch 221/500\n",
            "1652/1652 [==============================] - 0s 54us/step - loss: 0.2732 - acc: 0.9419 - val_loss: 0.9303 - val_acc: 0.6763\n",
            "Epoch 222/500\n",
            "1652/1652 [==============================] - 0s 53us/step - loss: 0.2713 - acc: 0.9419 - val_loss: 0.9283 - val_acc: 0.6812\n",
            "Epoch 223/500\n",
            "1652/1652 [==============================] - 0s 52us/step - loss: 0.2694 - acc: 0.9431 - val_loss: 0.9293 - val_acc: 0.6763\n",
            "Epoch 224/500\n",
            "1652/1652 [==============================] - 0s 57us/step - loss: 0.2673 - acc: 0.9437 - val_loss: 0.9280 - val_acc: 0.6787\n",
            "Epoch 225/500\n",
            "1652/1652 [==============================] - 0s 54us/step - loss: 0.2652 - acc: 0.9431 - val_loss: 0.9298 - val_acc: 0.6763\n",
            "Epoch 226/500\n",
            "1652/1652 [==============================] - 0s 53us/step - loss: 0.2632 - acc: 0.9437 - val_loss: 0.9281 - val_acc: 0.6812\n",
            "Epoch 227/500\n",
            "1652/1652 [==============================] - 0s 52us/step - loss: 0.2611 - acc: 0.9443 - val_loss: 0.9286 - val_acc: 0.6812\n",
            "Epoch 228/500\n",
            "1652/1652 [==============================] - 0s 55us/step - loss: 0.2592 - acc: 0.9437 - val_loss: 0.9299 - val_acc: 0.6739\n",
            "Epoch 229/500\n",
            "1652/1652 [==============================] - 0s 57us/step - loss: 0.2575 - acc: 0.9437 - val_loss: 0.9280 - val_acc: 0.6812\n",
            "Epoch 230/500\n",
            "1652/1652 [==============================] - 0s 53us/step - loss: 0.2556 - acc: 0.9461 - val_loss: 0.9277 - val_acc: 0.6836\n",
            "Epoch 231/500\n",
            "1652/1652 [==============================] - 0s 53us/step - loss: 0.2537 - acc: 0.9443 - val_loss: 0.9294 - val_acc: 0.6763\n",
            "Epoch 232/500\n",
            "1652/1652 [==============================] - 0s 54us/step - loss: 0.2517 - acc: 0.9455 - val_loss: 0.9274 - val_acc: 0.6812\n",
            "Epoch 233/500\n",
            "1652/1652 [==============================] - 0s 53us/step - loss: 0.2498 - acc: 0.9455 - val_loss: 0.9287 - val_acc: 0.6836\n",
            "Epoch 234/500\n",
            "1652/1652 [==============================] - 0s 56us/step - loss: 0.2478 - acc: 0.9455 - val_loss: 0.9277 - val_acc: 0.6836\n",
            "Epoch 235/500\n",
            "1652/1652 [==============================] - 0s 59us/step - loss: 0.2459 - acc: 0.9467 - val_loss: 0.9282 - val_acc: 0.6836\n",
            "Epoch 236/500\n",
            "1652/1652 [==============================] - 0s 54us/step - loss: 0.2446 - acc: 0.9473 - val_loss: 0.9281 - val_acc: 0.6836\n",
            "Epoch 237/500\n",
            "1652/1652 [==============================] - 0s 53us/step - loss: 0.2425 - acc: 0.9467 - val_loss: 0.9294 - val_acc: 0.6787\n",
            "Epoch 238/500\n",
            "1652/1652 [==============================] - 0s 52us/step - loss: 0.2407 - acc: 0.9467 - val_loss: 0.9283 - val_acc: 0.6836\n",
            "Epoch 239/500\n",
            "1652/1652 [==============================] - 0s 55us/step - loss: 0.2390 - acc: 0.9492 - val_loss: 0.9284 - val_acc: 0.6860\n",
            "Epoch 240/500\n",
            "1652/1652 [==============================] - 0s 58us/step - loss: 0.2372 - acc: 0.9498 - val_loss: 0.9290 - val_acc: 0.6884\n",
            "Epoch 241/500\n",
            "1652/1652 [==============================] - 0s 55us/step - loss: 0.2355 - acc: 0.9485 - val_loss: 0.9301 - val_acc: 0.6860\n",
            "Epoch 242/500\n",
            "1652/1652 [==============================] - 0s 55us/step - loss: 0.2339 - acc: 0.9479 - val_loss: 0.9284 - val_acc: 0.6884\n",
            "Epoch 243/500\n",
            "1652/1652 [==============================] - 0s 56us/step - loss: 0.2323 - acc: 0.9492 - val_loss: 0.9275 - val_acc: 0.6884\n",
            "Epoch 244/500\n",
            "1652/1652 [==============================] - 0s 53us/step - loss: 0.2305 - acc: 0.9510 - val_loss: 0.9297 - val_acc: 0.6908\n",
            "Epoch 245/500\n",
            "1652/1652 [==============================] - 0s 53us/step - loss: 0.2288 - acc: 0.9504 - val_loss: 0.9290 - val_acc: 0.6884\n",
            "Epoch 246/500\n",
            "1652/1652 [==============================] - 0s 62us/step - loss: 0.2278 - acc: 0.9528 - val_loss: 0.9284 - val_acc: 0.6884\n",
            "Epoch 247/500\n",
            "1652/1652 [==============================] - 0s 53us/step - loss: 0.2262 - acc: 0.9498 - val_loss: 0.9317 - val_acc: 0.6860\n",
            "Epoch 248/500\n",
            "1652/1652 [==============================] - 0s 52us/step - loss: 0.2243 - acc: 0.9528 - val_loss: 0.9285 - val_acc: 0.6884\n",
            "Epoch 249/500\n",
            "1652/1652 [==============================] - 0s 52us/step - loss: 0.2226 - acc: 0.9522 - val_loss: 0.9297 - val_acc: 0.6908\n",
            "Epoch 250/500\n",
            "1652/1652 [==============================] - 0s 57us/step - loss: 0.2209 - acc: 0.9534 - val_loss: 0.9293 - val_acc: 0.6908\n",
            "Epoch 251/500\n",
            "1652/1652 [==============================] - 0s 57us/step - loss: 0.2194 - acc: 0.9534 - val_loss: 0.9301 - val_acc: 0.6884\n",
            "Epoch 252/500\n",
            "1652/1652 [==============================] - 0s 56us/step - loss: 0.2179 - acc: 0.9516 - val_loss: 0.9306 - val_acc: 0.6884\n",
            "Epoch 253/500\n",
            "1652/1652 [==============================] - 0s 54us/step - loss: 0.2163 - acc: 0.9528 - val_loss: 0.9305 - val_acc: 0.6884\n",
            "Epoch 254/500\n",
            "1652/1652 [==============================] - 0s 52us/step - loss: 0.2147 - acc: 0.9546 - val_loss: 0.9304 - val_acc: 0.6884\n",
            "Epoch 255/500\n",
            "1652/1652 [==============================] - 0s 54us/step - loss: 0.2132 - acc: 0.9540 - val_loss: 0.9309 - val_acc: 0.6884\n",
            "Epoch 256/500\n",
            "1652/1652 [==============================] - 0s 53us/step - loss: 0.2118 - acc: 0.9540 - val_loss: 0.9310 - val_acc: 0.6884\n",
            "Epoch 257/500\n",
            "1652/1652 [==============================] - 0s 57us/step - loss: 0.2104 - acc: 0.9540 - val_loss: 0.9301 - val_acc: 0.6884\n",
            "Epoch 258/500\n",
            "1652/1652 [==============================] - 0s 53us/step - loss: 0.2090 - acc: 0.9546 - val_loss: 0.9318 - val_acc: 0.6884\n",
            "Epoch 259/500\n",
            "1652/1652 [==============================] - 0s 55us/step - loss: 0.2078 - acc: 0.9552 - val_loss: 0.9310 - val_acc: 0.6884\n",
            "Epoch 260/500\n",
            "1652/1652 [==============================] - 0s 54us/step - loss: 0.2067 - acc: 0.9540 - val_loss: 0.9344 - val_acc: 0.6884\n",
            "Epoch 261/500\n",
            "1652/1652 [==============================] - 0s 57us/step - loss: 0.2050 - acc: 0.9558 - val_loss: 0.9301 - val_acc: 0.6860\n",
            "Epoch 262/500\n",
            "1652/1652 [==============================] - 0s 54us/step - loss: 0.2037 - acc: 0.9552 - val_loss: 0.9350 - val_acc: 0.6884\n",
            "Epoch 263/500\n",
            "1652/1652 [==============================] - 0s 57us/step - loss: 0.2020 - acc: 0.9552 - val_loss: 0.9315 - val_acc: 0.6860\n",
            "Epoch 264/500\n",
            "1652/1652 [==============================] - 0s 55us/step - loss: 0.2005 - acc: 0.9564 - val_loss: 0.9328 - val_acc: 0.6884\n",
            "Epoch 265/500\n",
            "1652/1652 [==============================] - 0s 55us/step - loss: 0.1991 - acc: 0.9564 - val_loss: 0.9341 - val_acc: 0.6884\n",
            "Epoch 266/500\n",
            "1652/1652 [==============================] - 0s 52us/step - loss: 0.1980 - acc: 0.9546 - val_loss: 0.9356 - val_acc: 0.6884\n",
            "Epoch 267/500\n",
            "1652/1652 [==============================] - 0s 53us/step - loss: 0.1965 - acc: 0.9576 - val_loss: 0.9330 - val_acc: 0.6884\n",
            "Epoch 268/500\n",
            "1652/1652 [==============================] - 0s 56us/step - loss: 0.1951 - acc: 0.9570 - val_loss: 0.9336 - val_acc: 0.6884\n",
            "Epoch 269/500\n",
            "1652/1652 [==============================] - 0s 55us/step - loss: 0.1943 - acc: 0.9576 - val_loss: 0.9360 - val_acc: 0.6884\n",
            "Epoch 270/500\n",
            "1652/1652 [==============================] - 0s 52us/step - loss: 0.1927 - acc: 0.9582 - val_loss: 0.9333 - val_acc: 0.6836\n",
            "Epoch 271/500\n",
            "1652/1652 [==============================] - 0s 53us/step - loss: 0.1914 - acc: 0.9570 - val_loss: 0.9354 - val_acc: 0.6884\n",
            "Epoch 272/500\n",
            "1652/1652 [==============================] - 0s 57us/step - loss: 0.1901 - acc: 0.9582 - val_loss: 0.9354 - val_acc: 0.6908\n",
            "Epoch 273/500\n",
            "1652/1652 [==============================] - 0s 52us/step - loss: 0.1890 - acc: 0.9576 - val_loss: 0.9383 - val_acc: 0.6860\n",
            "Epoch 274/500\n",
            "1652/1652 [==============================] - 0s 56us/step - loss: 0.1873 - acc: 0.9582 - val_loss: 0.9354 - val_acc: 0.6836\n",
            "Epoch 275/500\n",
            "1652/1652 [==============================] - 0s 58us/step - loss: 0.1866 - acc: 0.9588 - val_loss: 0.9377 - val_acc: 0.6860\n",
            "Epoch 276/500\n",
            "1652/1652 [==============================] - 0s 54us/step - loss: 0.1851 - acc: 0.9582 - val_loss: 0.9360 - val_acc: 0.6860\n",
            "Epoch 277/500\n",
            "1652/1652 [==============================] - 0s 54us/step - loss: 0.1838 - acc: 0.9588 - val_loss: 0.9389 - val_acc: 0.6884\n",
            "Epoch 278/500\n",
            "1652/1652 [==============================] - 0s 53us/step - loss: 0.1828 - acc: 0.9607 - val_loss: 0.9367 - val_acc: 0.6908\n",
            "Epoch 279/500\n",
            "1652/1652 [==============================] - 0s 58us/step - loss: 0.1816 - acc: 0.9613 - val_loss: 0.9365 - val_acc: 0.6884\n",
            "Epoch 280/500\n",
            "1652/1652 [==============================] - 0s 54us/step - loss: 0.1801 - acc: 0.9619 - val_loss: 0.9390 - val_acc: 0.6908\n",
            "Epoch 281/500\n",
            "1652/1652 [==============================] - 0s 55us/step - loss: 0.1790 - acc: 0.9600 - val_loss: 0.9401 - val_acc: 0.6884\n",
            "Epoch 282/500\n",
            "1652/1652 [==============================] - 0s 57us/step - loss: 0.1780 - acc: 0.9619 - val_loss: 0.9374 - val_acc: 0.6884\n",
            "Epoch 283/500\n",
            "1652/1652 [==============================] - 0s 57us/step - loss: 0.1765 - acc: 0.9619 - val_loss: 0.9410 - val_acc: 0.6836\n",
            "Epoch 284/500\n",
            "1652/1652 [==============================] - 0s 58us/step - loss: 0.1757 - acc: 0.9613 - val_loss: 0.9392 - val_acc: 0.6836\n",
            "Epoch 285/500\n",
            "1652/1652 [==============================] - 0s 57us/step - loss: 0.1742 - acc: 0.9619 - val_loss: 0.9420 - val_acc: 0.6836\n",
            "Epoch 286/500\n",
            "1652/1652 [==============================] - 0s 55us/step - loss: 0.1732 - acc: 0.9619 - val_loss: 0.9412 - val_acc: 0.6860\n",
            "Epoch 287/500\n",
            "1652/1652 [==============================] - 0s 54us/step - loss: 0.1722 - acc: 0.9619 - val_loss: 0.9417 - val_acc: 0.6860\n",
            "Epoch 288/500\n",
            "1652/1652 [==============================] - 0s 54us/step - loss: 0.1715 - acc: 0.9637 - val_loss: 0.9397 - val_acc: 0.6884\n",
            "Epoch 289/500\n",
            "1652/1652 [==============================] - 0s 59us/step - loss: 0.1701 - acc: 0.9619 - val_loss: 0.9477 - val_acc: 0.6836\n",
            "Epoch 290/500\n",
            "1652/1652 [==============================] - 0s 56us/step - loss: 0.1687 - acc: 0.9625 - val_loss: 0.9418 - val_acc: 0.6860\n",
            "Epoch 291/500\n",
            "1652/1652 [==============================] - 0s 54us/step - loss: 0.1679 - acc: 0.9619 - val_loss: 0.9439 - val_acc: 0.6860\n",
            "Epoch 292/500\n",
            "1652/1652 [==============================] - 0s 52us/step - loss: 0.1666 - acc: 0.9625 - val_loss: 0.9433 - val_acc: 0.6884\n",
            "Epoch 293/500\n",
            "1652/1652 [==============================] - 0s 61us/step - loss: 0.1658 - acc: 0.9649 - val_loss: 0.9436 - val_acc: 0.6860\n",
            "Epoch 294/500\n",
            "1652/1652 [==============================] - 0s 56us/step - loss: 0.1646 - acc: 0.9637 - val_loss: 0.9474 - val_acc: 0.6836\n",
            "Epoch 295/500\n",
            "1652/1652 [==============================] - 0s 54us/step - loss: 0.1633 - acc: 0.9637 - val_loss: 0.9443 - val_acc: 0.6884\n",
            "Epoch 296/500\n",
            "1652/1652 [==============================] - 0s 54us/step - loss: 0.1624 - acc: 0.9643 - val_loss: 0.9461 - val_acc: 0.6860\n",
            "Epoch 297/500\n",
            "1652/1652 [==============================] - 0s 56us/step - loss: 0.1615 - acc: 0.9625 - val_loss: 0.9464 - val_acc: 0.6860\n",
            "Epoch 298/500\n",
            "1652/1652 [==============================] - 0s 53us/step - loss: 0.1603 - acc: 0.9643 - val_loss: 0.9452 - val_acc: 0.6884\n",
            "Epoch 299/500\n",
            "1652/1652 [==============================] - 0s 64us/step - loss: 0.1594 - acc: 0.9649 - val_loss: 0.9478 - val_acc: 0.6860\n",
            "Epoch 300/500\n",
            "1652/1652 [==============================] - 0s 62us/step - loss: 0.1583 - acc: 0.9649 - val_loss: 0.9471 - val_acc: 0.6860\n",
            "Epoch 301/500\n",
            "1652/1652 [==============================] - 0s 53us/step - loss: 0.1573 - acc: 0.9649 - val_loss: 0.9472 - val_acc: 0.6884\n",
            "Epoch 302/500\n",
            "1652/1652 [==============================] - 0s 54us/step - loss: 0.1563 - acc: 0.9649 - val_loss: 0.9504 - val_acc: 0.6836\n",
            "Epoch 303/500\n",
            "1652/1652 [==============================] - 0s 64us/step - loss: 0.1555 - acc: 0.9649 - val_loss: 0.9506 - val_acc: 0.6836\n",
            "Epoch 304/500\n",
            "1652/1652 [==============================] - 0s 54us/step - loss: 0.1546 - acc: 0.9643 - val_loss: 0.9502 - val_acc: 0.6836\n",
            "Epoch 305/500\n",
            "1652/1652 [==============================] - 0s 56us/step - loss: 0.1536 - acc: 0.9655 - val_loss: 0.9486 - val_acc: 0.6957\n",
            "Epoch 306/500\n",
            "1652/1652 [==============================] - 0s 59us/step - loss: 0.1525 - acc: 0.9661 - val_loss: 0.9527 - val_acc: 0.6787\n",
            "Epoch 307/500\n",
            "1652/1652 [==============================] - 0s 53us/step - loss: 0.1520 - acc: 0.9655 - val_loss: 0.9483 - val_acc: 0.6932\n",
            "Epoch 308/500\n",
            "1652/1652 [==============================] - 0s 56us/step - loss: 0.1506 - acc: 0.9667 - val_loss: 0.9541 - val_acc: 0.6812\n",
            "Epoch 309/500\n",
            "1652/1652 [==============================] - 0s 55us/step - loss: 0.1497 - acc: 0.9661 - val_loss: 0.9518 - val_acc: 0.6884\n",
            "Epoch 310/500\n",
            "1652/1652 [==============================] - 0s 59us/step - loss: 0.1489 - acc: 0.9655 - val_loss: 0.9542 - val_acc: 0.6860\n",
            "Epoch 311/500\n",
            "1652/1652 [==============================] - 0s 55us/step - loss: 0.1477 - acc: 0.9667 - val_loss: 0.9520 - val_acc: 0.6932\n",
            "Epoch 312/500\n",
            "1652/1652 [==============================] - 0s 56us/step - loss: 0.1469 - acc: 0.9667 - val_loss: 0.9546 - val_acc: 0.6836\n",
            "Epoch 313/500\n",
            "1652/1652 [==============================] - 0s 55us/step - loss: 0.1462 - acc: 0.9661 - val_loss: 0.9542 - val_acc: 0.6884\n",
            "Epoch 314/500\n",
            "1652/1652 [==============================] - 0s 57us/step - loss: 0.1451 - acc: 0.9667 - val_loss: 0.9548 - val_acc: 0.6884\n",
            "Epoch 315/500\n",
            "1652/1652 [==============================] - 0s 54us/step - loss: 0.1442 - acc: 0.9661 - val_loss: 0.9572 - val_acc: 0.6836\n",
            "Epoch 316/500\n",
            "1652/1652 [==============================] - 0s 56us/step - loss: 0.1433 - acc: 0.9661 - val_loss: 0.9557 - val_acc: 0.6884\n",
            "Epoch 317/500\n",
            "1652/1652 [==============================] - 0s 53us/step - loss: 0.1427 - acc: 0.9673 - val_loss: 0.9566 - val_acc: 0.6908\n",
            "Epoch 318/500\n",
            "1652/1652 [==============================] - 0s 55us/step - loss: 0.1417 - acc: 0.9661 - val_loss: 0.9569 - val_acc: 0.6884\n",
            "Epoch 319/500\n",
            "1652/1652 [==============================] - 0s 53us/step - loss: 0.1416 - acc: 0.9667 - val_loss: 0.9626 - val_acc: 0.6763\n",
            "Epoch 320/500\n",
            "1652/1652 [==============================] - 0s 56us/step - loss: 0.1396 - acc: 0.9667 - val_loss: 0.9546 - val_acc: 0.6957\n",
            "Epoch 321/500\n",
            "1652/1652 [==============================] - 0s 56us/step - loss: 0.1394 - acc: 0.9667 - val_loss: 0.9618 - val_acc: 0.6812\n",
            "Epoch 322/500\n",
            "1652/1652 [==============================] - 0s 54us/step - loss: 0.1380 - acc: 0.9673 - val_loss: 0.9592 - val_acc: 0.6884\n",
            "Epoch 323/500\n",
            "1652/1652 [==============================] - 0s 55us/step - loss: 0.1373 - acc: 0.9685 - val_loss: 0.9582 - val_acc: 0.6908\n",
            "Epoch 324/500\n",
            "1652/1652 [==============================] - 0s 56us/step - loss: 0.1365 - acc: 0.9673 - val_loss: 0.9629 - val_acc: 0.6836\n",
            "Epoch 325/500\n",
            "1652/1652 [==============================] - 0s 58us/step - loss: 0.1360 - acc: 0.9667 - val_loss: 0.9607 - val_acc: 0.6908\n",
            "Epoch 326/500\n",
            "1652/1652 [==============================] - 0s 59us/step - loss: 0.1349 - acc: 0.9673 - val_loss: 0.9659 - val_acc: 0.6787\n",
            "Epoch 327/500\n",
            "1652/1652 [==============================] - 0s 52us/step - loss: 0.1342 - acc: 0.9673 - val_loss: 0.9612 - val_acc: 0.6908\n",
            "Epoch 328/500\n",
            "1652/1652 [==============================] - 0s 53us/step - loss: 0.1332 - acc: 0.9685 - val_loss: 0.9620 - val_acc: 0.6908\n",
            "Epoch 329/500\n",
            "1652/1652 [==============================] - 0s 52us/step - loss: 0.1324 - acc: 0.9679 - val_loss: 0.9661 - val_acc: 0.6836\n",
            "Epoch 330/500\n",
            "1652/1652 [==============================] - 0s 54us/step - loss: 0.1316 - acc: 0.9673 - val_loss: 0.9645 - val_acc: 0.6884\n",
            "Epoch 331/500\n",
            "1652/1652 [==============================] - 0s 57us/step - loss: 0.1309 - acc: 0.9679 - val_loss: 0.9653 - val_acc: 0.6908\n",
            "Epoch 332/500\n",
            "1652/1652 [==============================] - 0s 62us/step - loss: 0.1303 - acc: 0.9685 - val_loss: 0.9640 - val_acc: 0.6908\n",
            "Epoch 333/500\n",
            "1652/1652 [==============================] - 0s 54us/step - loss: 0.1295 - acc: 0.9685 - val_loss: 0.9692 - val_acc: 0.6812\n",
            "Epoch 334/500\n",
            "1652/1652 [==============================] - 0s 53us/step - loss: 0.1285 - acc: 0.9691 - val_loss: 0.9669 - val_acc: 0.6884\n",
            "Epoch 335/500\n",
            "1652/1652 [==============================] - 0s 62us/step - loss: 0.1277 - acc: 0.9685 - val_loss: 0.9673 - val_acc: 0.6908\n",
            "Epoch 336/500\n",
            "1652/1652 [==============================] - 0s 58us/step - loss: 0.1270 - acc: 0.9679 - val_loss: 0.9709 - val_acc: 0.6884\n",
            "Epoch 337/500\n",
            "1652/1652 [==============================] - 0s 54us/step - loss: 0.1266 - acc: 0.9679 - val_loss: 0.9686 - val_acc: 0.6884\n",
            "Epoch 338/500\n",
            "1652/1652 [==============================] - 0s 57us/step - loss: 0.1255 - acc: 0.9691 - val_loss: 0.9728 - val_acc: 0.6836\n",
            "Epoch 339/500\n",
            "1652/1652 [==============================] - 0s 56us/step - loss: 0.1246 - acc: 0.9703 - val_loss: 0.9691 - val_acc: 0.6932\n",
            "Epoch 340/500\n",
            "1652/1652 [==============================] - 0s 57us/step - loss: 0.1242 - acc: 0.9691 - val_loss: 0.9712 - val_acc: 0.6884\n",
            "Epoch 341/500\n",
            "1652/1652 [==============================] - 0s 57us/step - loss: 0.1233 - acc: 0.9685 - val_loss: 0.9746 - val_acc: 0.6812\n",
            "Epoch 342/500\n",
            "1652/1652 [==============================] - 0s 58us/step - loss: 0.1226 - acc: 0.9685 - val_loss: 0.9737 - val_acc: 0.6884\n",
            "Epoch 343/500\n",
            "1652/1652 [==============================] - 0s 53us/step - loss: 0.1217 - acc: 0.9697 - val_loss: 0.9721 - val_acc: 0.6932\n",
            "Epoch 344/500\n",
            "1652/1652 [==============================] - 0s 56us/step - loss: 0.1211 - acc: 0.9691 - val_loss: 0.9748 - val_acc: 0.6884\n",
            "Epoch 345/500\n",
            "1652/1652 [==============================] - 0s 58us/step - loss: 0.1203 - acc: 0.9697 - val_loss: 0.9761 - val_acc: 0.6884\n",
            "Epoch 346/500\n",
            "1652/1652 [==============================] - 0s 53us/step - loss: 0.1197 - acc: 0.9697 - val_loss: 0.9754 - val_acc: 0.6932\n",
            "Epoch 347/500\n",
            "1652/1652 [==============================] - 0s 55us/step - loss: 0.1189 - acc: 0.9703 - val_loss: 0.9783 - val_acc: 0.6908\n",
            "Epoch 348/500\n",
            "1652/1652 [==============================] - 0s 55us/step - loss: 0.1183 - acc: 0.9709 - val_loss: 0.9762 - val_acc: 0.6957\n",
            "Epoch 349/500\n",
            "1652/1652 [==============================] - 0s 53us/step - loss: 0.1176 - acc: 0.9703 - val_loss: 0.9779 - val_acc: 0.6884\n",
            "Epoch 350/500\n",
            "1652/1652 [==============================] - 0s 52us/step - loss: 0.1168 - acc: 0.9709 - val_loss: 0.9796 - val_acc: 0.6908\n",
            "Epoch 351/500\n",
            "1652/1652 [==============================] - 0s 55us/step - loss: 0.1162 - acc: 0.9703 - val_loss: 0.9794 - val_acc: 0.6957\n",
            "Epoch 352/500\n",
            "1652/1652 [==============================] - 0s 53us/step - loss: 0.1157 - acc: 0.9703 - val_loss: 0.9798 - val_acc: 0.6932\n",
            "Epoch 353/500\n",
            "1652/1652 [==============================] - 0s 57us/step - loss: 0.1150 - acc: 0.9703 - val_loss: 0.9793 - val_acc: 0.6957\n",
            "Epoch 354/500\n",
            "1652/1652 [==============================] - 0s 57us/step - loss: 0.1144 - acc: 0.9703 - val_loss: 0.9822 - val_acc: 0.6860\n",
            "Epoch 355/500\n",
            "1652/1652 [==============================] - 0s 54us/step - loss: 0.1134 - acc: 0.9697 - val_loss: 0.9816 - val_acc: 0.6957\n",
            "Epoch 356/500\n",
            "1652/1652 [==============================] - 0s 56us/step - loss: 0.1128 - acc: 0.9709 - val_loss: 0.9813 - val_acc: 0.6957\n",
            "Epoch 357/500\n",
            "1652/1652 [==============================] - 0s 56us/step - loss: 0.1121 - acc: 0.9697 - val_loss: 0.9843 - val_acc: 0.6884\n",
            "Epoch 358/500\n",
            "1652/1652 [==============================] - 0s 56us/step - loss: 0.1118 - acc: 0.9715 - val_loss: 0.9840 - val_acc: 0.6957\n",
            "Epoch 359/500\n",
            "1652/1652 [==============================] - 0s 54us/step - loss: 0.1110 - acc: 0.9722 - val_loss: 0.9859 - val_acc: 0.6860\n",
            "Epoch 360/500\n",
            "1652/1652 [==============================] - 0s 54us/step - loss: 0.1102 - acc: 0.9703 - val_loss: 0.9856 - val_acc: 0.6908\n",
            "Epoch 361/500\n",
            "1652/1652 [==============================] - 0s 53us/step - loss: 0.1095 - acc: 0.9715 - val_loss: 0.9885 - val_acc: 0.6884\n",
            "Epoch 362/500\n",
            "1652/1652 [==============================] - 0s 54us/step - loss: 0.1089 - acc: 0.9715 - val_loss: 0.9887 - val_acc: 0.6884\n",
            "Epoch 363/500\n",
            "1652/1652 [==============================] - 0s 54us/step - loss: 0.1084 - acc: 0.9709 - val_loss: 0.9871 - val_acc: 0.6908\n",
            "Epoch 364/500\n",
            "1652/1652 [==============================] - 0s 58us/step - loss: 0.1079 - acc: 0.9703 - val_loss: 0.9877 - val_acc: 0.6932\n",
            "Epoch 365/500\n",
            "1652/1652 [==============================] - 0s 53us/step - loss: 0.1071 - acc: 0.9740 - val_loss: 0.9917 - val_acc: 0.6884\n",
            "Epoch 366/500\n",
            "1652/1652 [==============================] - 0s 53us/step - loss: 0.1067 - acc: 0.9722 - val_loss: 0.9936 - val_acc: 0.6860\n",
            "Epoch 367/500\n",
            "1652/1652 [==============================] - 0s 60us/step - loss: 0.1058 - acc: 0.9728 - val_loss: 0.9911 - val_acc: 0.6908\n",
            "Epoch 368/500\n",
            "1652/1652 [==============================] - 0s 59us/step - loss: 0.1052 - acc: 0.9734 - val_loss: 0.9940 - val_acc: 0.6884\n",
            "Epoch 369/500\n",
            "1652/1652 [==============================] - 0s 53us/step - loss: 0.1047 - acc: 0.9740 - val_loss: 0.9923 - val_acc: 0.6908\n",
            "Epoch 370/500\n",
            "1652/1652 [==============================] - 0s 54us/step - loss: 0.1040 - acc: 0.9746 - val_loss: 0.9942 - val_acc: 0.6908\n",
            "Epoch 371/500\n",
            "1652/1652 [==============================] - 0s 52us/step - loss: 0.1037 - acc: 0.9734 - val_loss: 0.9933 - val_acc: 0.6908\n",
            "Epoch 372/500\n",
            "1652/1652 [==============================] - 0s 53us/step - loss: 0.1035 - acc: 0.9728 - val_loss: 1.0008 - val_acc: 0.6884\n",
            "Epoch 373/500\n",
            "1652/1652 [==============================] - 0s 56us/step - loss: 0.1030 - acc: 0.9740 - val_loss: 0.9905 - val_acc: 0.6957\n",
            "Epoch 374/500\n",
            "1652/1652 [==============================] - 0s 54us/step - loss: 0.1017 - acc: 0.9740 - val_loss: 1.0007 - val_acc: 0.6884\n",
            "Epoch 375/500\n",
            "1652/1652 [==============================] - 0s 55us/step - loss: 0.1011 - acc: 0.9734 - val_loss: 0.9964 - val_acc: 0.6884\n",
            "Epoch 376/500\n",
            "1652/1652 [==============================] - 0s 51us/step - loss: 0.1006 - acc: 0.9752 - val_loss: 0.9980 - val_acc: 0.6908\n",
            "Epoch 377/500\n",
            "1652/1652 [==============================] - 0s 53us/step - loss: 0.1000 - acc: 0.9746 - val_loss: 1.0007 - val_acc: 0.6932\n",
            "Epoch 378/500\n",
            "1652/1652 [==============================] - 0s 57us/step - loss: 0.0994 - acc: 0.9746 - val_loss: 1.0000 - val_acc: 0.6884\n",
            "Epoch 379/500\n",
            "1652/1652 [==============================] - 0s 53us/step - loss: 0.0988 - acc: 0.9758 - val_loss: 1.0000 - val_acc: 0.6908\n",
            "Epoch 380/500\n",
            "1652/1652 [==============================] - 0s 53us/step - loss: 0.0983 - acc: 0.9752 - val_loss: 1.0041 - val_acc: 0.6908\n",
            "Epoch 381/500\n",
            "1652/1652 [==============================] - 0s 53us/step - loss: 0.0977 - acc: 0.9764 - val_loss: 0.9999 - val_acc: 0.6908\n",
            "Epoch 382/500\n",
            "1652/1652 [==============================] - 0s 53us/step - loss: 0.0971 - acc: 0.9758 - val_loss: 1.0046 - val_acc: 0.6908\n",
            "Epoch 383/500\n",
            "1652/1652 [==============================] - 0s 52us/step - loss: 0.0966 - acc: 0.9752 - val_loss: 1.0059 - val_acc: 0.6932\n",
            "Epoch 384/500\n",
            "1652/1652 [==============================] - 0s 54us/step - loss: 0.0961 - acc: 0.9752 - val_loss: 1.0069 - val_acc: 0.6908\n",
            "Epoch 385/500\n",
            "1652/1652 [==============================] - 0s 66us/step - loss: 0.0956 - acc: 0.9758 - val_loss: 1.0066 - val_acc: 0.6908\n",
            "Epoch 386/500\n",
            "1652/1652 [==============================] - 0s 53us/step - loss: 0.0950 - acc: 0.9764 - val_loss: 1.0056 - val_acc: 0.6908\n",
            "Epoch 387/500\n",
            "1652/1652 [==============================] - 0s 52us/step - loss: 0.0948 - acc: 0.9752 - val_loss: 1.0109 - val_acc: 0.6908\n",
            "Epoch 388/500\n",
            "1652/1652 [==============================] - 0s 58us/step - loss: 0.0940 - acc: 0.9770 - val_loss: 1.0033 - val_acc: 0.6932\n",
            "Epoch 389/500\n",
            "1652/1652 [==============================] - 0s 55us/step - loss: 0.0938 - acc: 0.9758 - val_loss: 1.0120 - val_acc: 0.6908\n",
            "Epoch 390/500\n",
            "1652/1652 [==============================] - 0s 54us/step - loss: 0.0929 - acc: 0.9764 - val_loss: 1.0081 - val_acc: 0.6908\n",
            "Epoch 391/500\n",
            "1652/1652 [==============================] - 0s 56us/step - loss: 0.0923 - acc: 0.9764 - val_loss: 1.0108 - val_acc: 0.6908\n",
            "Epoch 392/500\n",
            "1652/1652 [==============================] - 0s 54us/step - loss: 0.0917 - acc: 0.9776 - val_loss: 1.0115 - val_acc: 0.6908\n",
            "Epoch 393/500\n",
            "1652/1652 [==============================] - 0s 53us/step - loss: 0.0912 - acc: 0.9764 - val_loss: 1.0137 - val_acc: 0.6908\n",
            "Epoch 394/500\n",
            "1652/1652 [==============================] - 0s 53us/step - loss: 0.0911 - acc: 0.9752 - val_loss: 1.0134 - val_acc: 0.6908\n",
            "Epoch 395/500\n",
            "1652/1652 [==============================] - 0s 53us/step - loss: 0.0904 - acc: 0.9782 - val_loss: 1.0129 - val_acc: 0.6908\n",
            "Epoch 396/500\n",
            "1652/1652 [==============================] - 0s 61us/step - loss: 0.0897 - acc: 0.9776 - val_loss: 1.0177 - val_acc: 0.6908\n",
            "Epoch 397/500\n",
            "1652/1652 [==============================] - 0s 56us/step - loss: 0.0894 - acc: 0.9770 - val_loss: 1.0155 - val_acc: 0.6908\n",
            "Epoch 398/500\n",
            "1652/1652 [==============================] - 0s 55us/step - loss: 0.0887 - acc: 0.9770 - val_loss: 1.0200 - val_acc: 0.6884\n",
            "Epoch 399/500\n",
            "1652/1652 [==============================] - 0s 62us/step - loss: 0.0887 - acc: 0.9782 - val_loss: 1.0155 - val_acc: 0.6908\n",
            "Epoch 400/500\n",
            "1652/1652 [==============================] - 0s 56us/step - loss: 0.0881 - acc: 0.9764 - val_loss: 1.0224 - val_acc: 0.6908\n",
            "Epoch 401/500\n",
            "1652/1652 [==============================] - 0s 58us/step - loss: 0.0875 - acc: 0.9770 - val_loss: 1.0211 - val_acc: 0.6908\n",
            "Epoch 402/500\n",
            "1652/1652 [==============================] - 0s 56us/step - loss: 0.0868 - acc: 0.9770 - val_loss: 1.0208 - val_acc: 0.6908\n",
            "Epoch 403/500\n",
            "1652/1652 [==============================] - 0s 57us/step - loss: 0.0863 - acc: 0.9764 - val_loss: 1.0197 - val_acc: 0.6908\n",
            "Epoch 404/500\n",
            "1652/1652 [==============================] - 0s 58us/step - loss: 0.0859 - acc: 0.9776 - val_loss: 1.0225 - val_acc: 0.6908\n",
            "Epoch 405/500\n",
            "1652/1652 [==============================] - 0s 54us/step - loss: 0.0855 - acc: 0.9782 - val_loss: 1.0228 - val_acc: 0.6908\n",
            "Epoch 406/500\n",
            "1652/1652 [==============================] - 0s 54us/step - loss: 0.0850 - acc: 0.9770 - val_loss: 1.0249 - val_acc: 0.6908\n",
            "Epoch 407/500\n",
            "1652/1652 [==============================] - 0s 58us/step - loss: 0.0844 - acc: 0.9776 - val_loss: 1.0257 - val_acc: 0.6908\n",
            "Epoch 408/500\n",
            "1652/1652 [==============================] - 0s 56us/step - loss: 0.0840 - acc: 0.9764 - val_loss: 1.0237 - val_acc: 0.6908\n",
            "Epoch 409/500\n",
            "1652/1652 [==============================] - 0s 56us/step - loss: 0.0835 - acc: 0.9788 - val_loss: 1.0255 - val_acc: 0.6908\n",
            "Epoch 410/500\n",
            "1652/1652 [==============================] - 0s 52us/step - loss: 0.0833 - acc: 0.9782 - val_loss: 1.0330 - val_acc: 0.6884\n",
            "Epoch 411/500\n",
            "1652/1652 [==============================] - 0s 58us/step - loss: 0.0827 - acc: 0.9788 - val_loss: 1.0267 - val_acc: 0.6908\n",
            "Epoch 412/500\n",
            "1652/1652 [==============================] - 0s 54us/step - loss: 0.0823 - acc: 0.9794 - val_loss: 1.0313 - val_acc: 0.6908\n",
            "Epoch 413/500\n",
            "1652/1652 [==============================] - 0s 55us/step - loss: 0.0817 - acc: 0.9812 - val_loss: 1.0257 - val_acc: 0.6932\n",
            "Epoch 414/500\n",
            "1652/1652 [==============================] - 0s 52us/step - loss: 0.0813 - acc: 0.9794 - val_loss: 1.0333 - val_acc: 0.6908\n",
            "Epoch 415/500\n",
            "1652/1652 [==============================] - 0s 53us/step - loss: 0.0808 - acc: 0.9800 - val_loss: 1.0343 - val_acc: 0.6908\n",
            "Epoch 416/500\n",
            "1652/1652 [==============================] - 0s 52us/step - loss: 0.0805 - acc: 0.9800 - val_loss: 1.0360 - val_acc: 0.6908\n",
            "Epoch 417/500\n",
            "1652/1652 [==============================] - 0s 58us/step - loss: 0.0801 - acc: 0.9794 - val_loss: 1.0293 - val_acc: 0.6908\n",
            "Epoch 418/500\n",
            "1652/1652 [==============================] - 0s 55us/step - loss: 0.0798 - acc: 0.9800 - val_loss: 1.0387 - val_acc: 0.6884\n",
            "Epoch 419/500\n",
            "1652/1652 [==============================] - 0s 57us/step - loss: 0.0790 - acc: 0.9794 - val_loss: 1.0314 - val_acc: 0.6908\n",
            "Epoch 420/500\n",
            "1652/1652 [==============================] - 0s 58us/step - loss: 0.0787 - acc: 0.9806 - val_loss: 1.0365 - val_acc: 0.6932\n",
            "Epoch 421/500\n",
            "1652/1652 [==============================] - 0s 54us/step - loss: 0.0783 - acc: 0.9812 - val_loss: 1.0391 - val_acc: 0.6908\n",
            "Epoch 422/500\n",
            "1652/1652 [==============================] - 0s 52us/step - loss: 0.0777 - acc: 0.9812 - val_loss: 1.0372 - val_acc: 0.6908\n",
            "Epoch 423/500\n",
            "1652/1652 [==============================] - 0s 53us/step - loss: 0.0776 - acc: 0.9794 - val_loss: 1.0425 - val_acc: 0.6908\n",
            "Epoch 424/500\n",
            "1652/1652 [==============================] - 0s 53us/step - loss: 0.0769 - acc: 0.9831 - val_loss: 1.0346 - val_acc: 0.6932\n",
            "Epoch 425/500\n",
            "1652/1652 [==============================] - 0s 55us/step - loss: 0.0765 - acc: 0.9818 - val_loss: 1.0407 - val_acc: 0.6908\n",
            "Epoch 426/500\n",
            "1652/1652 [==============================] - 0s 53us/step - loss: 0.0760 - acc: 0.9806 - val_loss: 1.0435 - val_acc: 0.6908\n",
            "Epoch 427/500\n",
            "1652/1652 [==============================] - 0s 53us/step - loss: 0.0757 - acc: 0.9812 - val_loss: 1.0433 - val_acc: 0.6908\n",
            "Epoch 428/500\n",
            "1652/1652 [==============================] - 0s 58us/step - loss: 0.0753 - acc: 0.9806 - val_loss: 1.0445 - val_acc: 0.6932\n",
            "Epoch 429/500\n",
            "1652/1652 [==============================] - 0s 53us/step - loss: 0.0747 - acc: 0.9812 - val_loss: 1.0455 - val_acc: 0.6908\n",
            "Epoch 430/500\n",
            "1652/1652 [==============================] - 0s 57us/step - loss: 0.0744 - acc: 0.9812 - val_loss: 1.0476 - val_acc: 0.6908\n",
            "Epoch 431/500\n",
            "1652/1652 [==============================] - 0s 58us/step - loss: 0.0740 - acc: 0.9794 - val_loss: 1.0466 - val_acc: 0.6932\n",
            "Epoch 432/500\n",
            "1652/1652 [==============================] - 0s 57us/step - loss: 0.0738 - acc: 0.9824 - val_loss: 1.0468 - val_acc: 0.6932\n",
            "Epoch 433/500\n",
            "1652/1652 [==============================] - 0s 53us/step - loss: 0.0733 - acc: 0.9806 - val_loss: 1.0521 - val_acc: 0.6908\n",
            "Epoch 434/500\n",
            "1652/1652 [==============================] - 0s 56us/step - loss: 0.0730 - acc: 0.9824 - val_loss: 1.0483 - val_acc: 0.6932\n",
            "Epoch 435/500\n",
            "1652/1652 [==============================] - 0s 54us/step - loss: 0.0725 - acc: 0.9824 - val_loss: 1.0493 - val_acc: 0.6908\n",
            "Epoch 436/500\n",
            "1652/1652 [==============================] - 0s 56us/step - loss: 0.0721 - acc: 0.9818 - val_loss: 1.0540 - val_acc: 0.6908\n",
            "Epoch 437/500\n",
            "1652/1652 [==============================] - 0s 55us/step - loss: 0.0716 - acc: 0.9812 - val_loss: 1.0540 - val_acc: 0.6932\n",
            "Epoch 438/500\n",
            "1652/1652 [==============================] - 0s 56us/step - loss: 0.0716 - acc: 0.9806 - val_loss: 1.0548 - val_acc: 0.6932\n",
            "Epoch 439/500\n",
            "1652/1652 [==============================] - 0s 62us/step - loss: 0.0708 - acc: 0.9837 - val_loss: 1.0502 - val_acc: 0.6908\n",
            "Epoch 440/500\n",
            "1652/1652 [==============================] - 0s 57us/step - loss: 0.0707 - acc: 0.9831 - val_loss: 1.0556 - val_acc: 0.6908\n",
            "Epoch 441/500\n",
            "1652/1652 [==============================] - 0s 64us/step - loss: 0.0702 - acc: 0.9837 - val_loss: 1.0564 - val_acc: 0.6908\n",
            "Epoch 442/500\n",
            "1652/1652 [==============================] - 0s 54us/step - loss: 0.0700 - acc: 0.9843 - val_loss: 1.0582 - val_acc: 0.6908\n",
            "Epoch 443/500\n",
            "1652/1652 [==============================] - 0s 54us/step - loss: 0.0693 - acc: 0.9812 - val_loss: 1.0625 - val_acc: 0.6932\n",
            "Epoch 444/500\n",
            "1652/1652 [==============================] - 0s 55us/step - loss: 0.0690 - acc: 0.9824 - val_loss: 1.0566 - val_acc: 0.6908\n",
            "Epoch 445/500\n",
            "1652/1652 [==============================] - 0s 56us/step - loss: 0.0687 - acc: 0.9849 - val_loss: 1.0581 - val_acc: 0.6908\n",
            "Epoch 446/500\n",
            "1652/1652 [==============================] - 0s 59us/step - loss: 0.0684 - acc: 0.9824 - val_loss: 1.0653 - val_acc: 0.6884\n",
            "Epoch 447/500\n",
            "1652/1652 [==============================] - 0s 59us/step - loss: 0.0681 - acc: 0.9843 - val_loss: 1.0578 - val_acc: 0.6908\n",
            "Epoch 448/500\n",
            "1652/1652 [==============================] - 0s 58us/step - loss: 0.0675 - acc: 0.9837 - val_loss: 1.0660 - val_acc: 0.6908\n",
            "Epoch 449/500\n",
            "1652/1652 [==============================] - 0s 68us/step - loss: 0.0672 - acc: 0.9837 - val_loss: 1.0624 - val_acc: 0.6908\n",
            "Epoch 450/500\n",
            "1652/1652 [==============================] - 0s 60us/step - loss: 0.0669 - acc: 0.9843 - val_loss: 1.0624 - val_acc: 0.6908\n",
            "Epoch 451/500\n",
            "1652/1652 [==============================] - 0s 62us/step - loss: 0.0664 - acc: 0.9849 - val_loss: 1.0691 - val_acc: 0.6908\n",
            "Epoch 452/500\n",
            "1652/1652 [==============================] - 0s 60us/step - loss: 0.0662 - acc: 0.9843 - val_loss: 1.0649 - val_acc: 0.6908\n",
            "Epoch 453/500\n",
            "1652/1652 [==============================] - 0s 57us/step - loss: 0.0660 - acc: 0.9855 - val_loss: 1.0656 - val_acc: 0.6908\n",
            "Epoch 454/500\n",
            "1652/1652 [==============================] - 0s 59us/step - loss: 0.0656 - acc: 0.9849 - val_loss: 1.0747 - val_acc: 0.6884\n",
            "Epoch 455/500\n",
            "1652/1652 [==============================] - 0s 57us/step - loss: 0.0652 - acc: 0.9843 - val_loss: 1.0671 - val_acc: 0.6908\n",
            "Epoch 456/500\n",
            "1652/1652 [==============================] - 0s 59us/step - loss: 0.0648 - acc: 0.9855 - val_loss: 1.0704 - val_acc: 0.6908\n",
            "Epoch 457/500\n",
            "1652/1652 [==============================] - 0s 57us/step - loss: 0.0645 - acc: 0.9849 - val_loss: 1.0757 - val_acc: 0.6908\n",
            "Epoch 458/500\n",
            "1652/1652 [==============================] - 0s 59us/step - loss: 0.0641 - acc: 0.9849 - val_loss: 1.0694 - val_acc: 0.6908\n",
            "Epoch 459/500\n",
            "1652/1652 [==============================] - 0s 63us/step - loss: 0.0638 - acc: 0.9867 - val_loss: 1.0722 - val_acc: 0.6908\n",
            "Epoch 460/500\n",
            "1652/1652 [==============================] - 0s 61us/step - loss: 0.0634 - acc: 0.9861 - val_loss: 1.0748 - val_acc: 0.6908\n",
            "Epoch 461/500\n",
            "1652/1652 [==============================] - 0s 65us/step - loss: 0.0632 - acc: 0.9855 - val_loss: 1.0748 - val_acc: 0.6908\n",
            "Epoch 462/500\n",
            "1652/1652 [==============================] - 0s 57us/step - loss: 0.0630 - acc: 0.9861 - val_loss: 1.0763 - val_acc: 0.6908\n",
            "Epoch 463/500\n",
            "1652/1652 [==============================] - 0s 56us/step - loss: 0.0624 - acc: 0.9861 - val_loss: 1.0794 - val_acc: 0.6908\n",
            "Epoch 464/500\n",
            "1652/1652 [==============================] - 0s 59us/step - loss: 0.0623 - acc: 0.9861 - val_loss: 1.0839 - val_acc: 0.6908\n",
            "Epoch 465/500\n",
            "1652/1652 [==============================] - 0s 62us/step - loss: 0.0618 - acc: 0.9849 - val_loss: 1.0815 - val_acc: 0.6908\n",
            "Epoch 466/500\n",
            "1652/1652 [==============================] - 0s 59us/step - loss: 0.0613 - acc: 0.9873 - val_loss: 1.0777 - val_acc: 0.6908\n",
            "Epoch 467/500\n",
            "1652/1652 [==============================] - 0s 59us/step - loss: 0.0615 - acc: 0.9873 - val_loss: 1.0788 - val_acc: 0.6908\n",
            "Epoch 468/500\n",
            "1652/1652 [==============================] - 0s 61us/step - loss: 0.0611 - acc: 0.9849 - val_loss: 1.0897 - val_acc: 0.6884\n",
            "Epoch 469/500\n",
            "1652/1652 [==============================] - 0s 65us/step - loss: 0.0606 - acc: 0.9855 - val_loss: 1.0840 - val_acc: 0.6908\n",
            "Epoch 470/500\n",
            "1652/1652 [==============================] - 0s 58us/step - loss: 0.0602 - acc: 0.9867 - val_loss: 1.0823 - val_acc: 0.6908\n",
            "Epoch 471/500\n",
            "1652/1652 [==============================] - 0s 63us/step - loss: 0.0600 - acc: 0.9873 - val_loss: 1.0823 - val_acc: 0.6908\n",
            "Epoch 472/500\n",
            "1652/1652 [==============================] - 0s 57us/step - loss: 0.0596 - acc: 0.9861 - val_loss: 1.0896 - val_acc: 0.6908\n",
            "Epoch 473/500\n",
            "1652/1652 [==============================] - 0s 59us/step - loss: 0.0593 - acc: 0.9861 - val_loss: 1.0847 - val_acc: 0.6908\n",
            "Epoch 474/500\n",
            "1652/1652 [==============================] - 0s 60us/step - loss: 0.0590 - acc: 0.9873 - val_loss: 1.0854 - val_acc: 0.6908\n",
            "Epoch 475/500\n",
            "1652/1652 [==============================] - 0s 61us/step - loss: 0.0586 - acc: 0.9879 - val_loss: 1.0919 - val_acc: 0.6908\n",
            "Epoch 476/500\n",
            "1652/1652 [==============================] - 0s 59us/step - loss: 0.0584 - acc: 0.9873 - val_loss: 1.0906 - val_acc: 0.6908\n",
            "Epoch 477/500\n",
            "1652/1652 [==============================] - 0s 60us/step - loss: 0.0581 - acc: 0.9879 - val_loss: 1.0916 - val_acc: 0.6884\n",
            "Epoch 478/500\n",
            "1652/1652 [==============================] - 0s 56us/step - loss: 0.0577 - acc: 0.9873 - val_loss: 1.0898 - val_acc: 0.6884\n",
            "Epoch 479/500\n",
            "1652/1652 [==============================] - 0s 70us/step - loss: 0.0575 - acc: 0.9867 - val_loss: 1.0957 - val_acc: 0.6908\n",
            "Epoch 480/500\n",
            "1652/1652 [==============================] - 0s 63us/step - loss: 0.0577 - acc: 0.9873 - val_loss: 1.0971 - val_acc: 0.6908\n",
            "Epoch 481/500\n",
            "1652/1652 [==============================] - 0s 64us/step - loss: 0.0568 - acc: 0.9885 - val_loss: 1.0922 - val_acc: 0.6908\n",
            "Epoch 482/500\n",
            "1652/1652 [==============================] - 0s 59us/step - loss: 0.0566 - acc: 0.9885 - val_loss: 1.0977 - val_acc: 0.6908\n",
            "Epoch 483/500\n",
            "1652/1652 [==============================] - 0s 58us/step - loss: 0.0562 - acc: 0.9879 - val_loss: 1.0970 - val_acc: 0.6908\n",
            "Epoch 484/500\n",
            "1652/1652 [==============================] - 0s 58us/step - loss: 0.0560 - acc: 0.9873 - val_loss: 1.1010 - val_acc: 0.6908\n",
            "Epoch 485/500\n",
            "1652/1652 [==============================] - 0s 59us/step - loss: 0.0557 - acc: 0.9879 - val_loss: 1.0963 - val_acc: 0.6884\n",
            "Epoch 486/500\n",
            "1652/1652 [==============================] - 0s 58us/step - loss: 0.0556 - acc: 0.9885 - val_loss: 1.1013 - val_acc: 0.6908\n",
            "Epoch 487/500\n",
            "1652/1652 [==============================] - 0s 60us/step - loss: 0.0551 - acc: 0.9897 - val_loss: 1.1007 - val_acc: 0.6884\n",
            "Epoch 488/500\n",
            "1652/1652 [==============================] - 0s 62us/step - loss: 0.0549 - acc: 0.9891 - val_loss: 1.1027 - val_acc: 0.6884\n",
            "Epoch 489/500\n",
            "1652/1652 [==============================] - 0s 60us/step - loss: 0.0546 - acc: 0.9891 - val_loss: 1.1040 - val_acc: 0.6908\n",
            "Epoch 490/500\n",
            "1652/1652 [==============================] - 0s 59us/step - loss: 0.0546 - acc: 0.9885 - val_loss: 1.1101 - val_acc: 0.6932\n",
            "Epoch 491/500\n",
            "1652/1652 [==============================] - 0s 63us/step - loss: 0.0542 - acc: 0.9897 - val_loss: 1.0992 - val_acc: 0.6908\n",
            "Epoch 492/500\n",
            "1652/1652 [==============================] - 0s 58us/step - loss: 0.0543 - acc: 0.9897 - val_loss: 1.1120 - val_acc: 0.6884\n",
            "Epoch 493/500\n",
            "1652/1652 [==============================] - 0s 58us/step - loss: 0.0536 - acc: 0.9897 - val_loss: 1.1063 - val_acc: 0.6884\n",
            "Epoch 494/500\n",
            "1652/1652 [==============================] - 0s 62us/step - loss: 0.0532 - acc: 0.9903 - val_loss: 1.1094 - val_acc: 0.6908\n",
            "Epoch 495/500\n",
            "1652/1652 [==============================] - 0s 60us/step - loss: 0.0530 - acc: 0.9897 - val_loss: 1.1142 - val_acc: 0.6908\n",
            "Epoch 496/500\n",
            "1652/1652 [==============================] - 0s 61us/step - loss: 0.0527 - acc: 0.9897 - val_loss: 1.1095 - val_acc: 0.6908\n",
            "Epoch 497/500\n",
            "1652/1652 [==============================] - 0s 60us/step - loss: 0.0525 - acc: 0.9903 - val_loss: 1.1126 - val_acc: 0.6908\n",
            "Epoch 498/500\n",
            "1652/1652 [==============================] - 0s 64us/step - loss: 0.0522 - acc: 0.9897 - val_loss: 1.1131 - val_acc: 0.6908\n",
            "Epoch 499/500\n",
            "1652/1652 [==============================] - 0s 57us/step - loss: 0.0519 - acc: 0.9891 - val_loss: 1.1166 - val_acc: 0.6884\n",
            "Epoch 500/500\n",
            "1652/1652 [==============================] - 0s 64us/step - loss: 0.0517 - acc: 0.9897 - val_loss: 1.1111 - val_acc: 0.6884\n"
          ],
          "name": "stdout"
        }
      ]
    },
    {
      "cell_type": "code",
      "metadata": {
        "id": "dob_Xm5fNcJ9",
        "colab": {
          "base_uri": "https://localhost:8080/",
          "height": 305
        },
        "outputId": "27ef2291-674b-4415-b924-e5d2279d5ebc"
      },
      "source": [
        "model.summary()"
      ],
      "execution_count": null,
      "outputs": [
        {
          "output_type": "stream",
          "text": [
            "Model: \"model_1\"\n",
            "_________________________________________________________________\n",
            "Layer (type)                 Output Shape              Param #   \n",
            "=================================================================\n",
            "input_1 (InputLayer)         (None, 150)               0         \n",
            "_________________________________________________________________\n",
            "embedding_1 (Embedding)      (None, 150, 50)           1000000   \n",
            "_________________________________________________________________\n",
            "global_average_pooling1d_1 ( (None, 50)                0         \n",
            "_________________________________________________________________\n",
            "dense_1 (Dense)              (None, 8)                 408       \n",
            "=================================================================\n",
            "Total params: 1,000,408\n",
            "Trainable params: 1,000,408\n",
            "Non-trainable params: 0\n",
            "_________________________________________________________________\n"
          ],
          "name": "stdout"
        }
      ]
    },
    {
      "cell_type": "code",
      "metadata": {
        "id": "5PMyRsFRM5ex",
        "colab": {
          "base_uri": "https://localhost:8080/",
          "height": 295
        },
        "outputId": "3acf9bda-e76a-4b91-a4b3-96cea21c6728"
      },
      "source": [
        "# summarize history for accuracy\n",
        "plt.plot(my_model.history['acc'])\n",
        "plt.plot(my_model.history['val_acc'])\n",
        "plt.title('model accuracy')\n",
        "plt.ylabel('accuracy')\n",
        "plt.xlabel('epoch')\n",
        "plt.legend(['train', 'test'], loc='upper left')\n",
        "plt.show()"
      ],
      "execution_count": null,
      "outputs": [
        {
          "output_type": "display_data",
          "data": {
            "image/png": "[encoded data removed]",
            "text/plain": [
              "<Figure size 432x288 with 1 Axes>"
            ]
          },
          "metadata": {
            "tags": [],
            "needs_background": "light"
          }
        }
      ]
    },
    {
      "cell_type": "code",
      "metadata": {
        "id": "bzwg6x_6NT76",
        "colab": {
          "base_uri": "https://localhost:8080/",
          "height": 53
        },
        "outputId": "68a23a98-8689-48d8-d558-696c1f00880e"
      },
      "source": [
        "#max accuracy \n",
        "print(\"Max acc from training set %0.5f\" % max(my_model.history['acc']))\n",
        "print(\"Max val_acc from validation set %0.5f\" % max(my_model.history['val_acc']))"
      ],
      "execution_count": null,
      "outputs": [
        {
          "output_type": "stream",
          "text": [
            "Max acc from training set 0.99031\n",
            "Max val_acc from validation set 0.69565\n"
          ],
          "name": "stdout"
        }
      ]
    },
    {
      "cell_type": "code",
      "metadata": {
        "id": "PqBidyXEkhkg",
        "colab": {
          "base_uri": "https://localhost:8080/",
          "height": 279
        },
        "outputId": "77b95ba3-c59a-4003-d2d4-31f35f778431"
      },
      "source": [
        "# summarize history for loss\n",
        "loss_values = my_model.history['loss']\n",
        "val_loss = my_model.history['val_loss']\n",
        "epochs = range(1, len(loss_values)+1)\n",
        "\n",
        "plt.plot(epochs, loss_values,val_loss)\n",
        "plt.xlabel('Epochs')\n",
        "plt.ylabel('Loss')\n",
        "plt.legend(['train', 'test'], loc='upper right')\n",
        "\n",
        "plt.show()\n",
        "\n"
      ],
      "execution_count": null,
      "outputs": [
        {
          "output_type": "display_data",
          "data": {
            "image/png": "[encoded data removed]",
            "text/plain": [
              "<Figure size 432x288 with 1 Axes>"
            ]
          },
          "metadata": {
            "tags": [],
            "needs_background": "light"
          }
        }
      ]
    },
    {
      "cell_type": "code",
      "metadata": {
        "id": "u7q2r3IqtI-h"
      },
      "source": [
        "y_pred = model.predict(x_test)"
      ],
      "execution_count": null,
      "outputs": []
    },
    {
      "cell_type": "code",
      "metadata": {
        "id": "_Et9FqA6wa86",
        "colab": {
          "base_uri": "https://localhost:8080/",
          "height": 71
        },
        "outputId": "adefe7a4-0231-4235-8cb1-28f0379c64e5"
      },
      "source": [
        "y_pred\n"
      ],
      "execution_count": null,
      "outputs": [
        {
          "output_type": "execute_result",
          "data": {
            "text/plain": [
              "array([[4.6804086e-03, 1.7654649e-03, 9.3680644e-01, 8.4815118e-03,\n",
              "        6.4985310e-05, 4.7356497e-02, 1.0628646e-04, 7.3845353e-04]],\n",
              "      dtype=float32)"
            ]
          },
          "metadata": {
            "tags": []
          },
          "execution_count": 41
        }
      ]
    },
    {
      "cell_type": "code",
      "metadata": {
        "id": "sp_A6DH8xDgj"
      },
      "source": [
        "y_test = to_categorical(np.asarray(y_test.factorize()[0]))"
      ],
      "execution_count": null,
      "outputs": []
    },
    {
      "cell_type": "code",
      "metadata": {
        "id": "91pVqZAMxYBN"
      },
      "source": [
        "y_test"
      ],
      "execution_count": null,
      "outputs": []
    },
    {
      "cell_type": "markdown",
      "metadata": {
        "id": "Qe4eRFslKdoh"
      },
      "source": [
        "#A complex model : LSTM"
      ]
    },
    {
      "cell_type": "code",
      "metadata": {
        "id": "LvDXjUUaKeBI"
      },
      "source": [
        "# input: a sequence of MAX_SEQUENCE_LENGTH integers\n",
        "sequence_input = Input(shape=(MAX_SEQUENCE_LENGTH,), dtype='int32')\n",
        "embedded_sequences = embedding_layer(sequence_input)\n",
        "\n",
        "x = LSTM(128, dropout=0.2, recurrent_dropout=0.2)(embedded_sequences)\n",
        "predictions = Dense(N_CLASSES, activation='softmax')(x)\n",
        "\n",
        "\n",
        "model = Model(sequence_input, predictions)\n",
        "model.compile(loss='categorical_crossentropy',\n",
        "              optimizer='adam',\n",
        "              metrics=['acc'])"
      ],
      "execution_count": null,
      "outputs": []
    },
    {
      "cell_type": "code",
      "metadata": {
        "id": "WcV_vAuSWOfd"
      },
      "source": [
        "lstm_model = model.fit(x_train, y_train, validation_split=0.3,\n",
        "          epochs=100, batch_size=128)"
      ],
      "execution_count": null,
      "outputs": []
    },
    {
      "cell_type": "code",
      "metadata": {
        "id": "ePn6uYEVSc-j"
      },
      "source": [
        "model.summary()"
      ],
      "execution_count": null,
      "outputs": []
    },
    {
      "cell_type": "code",
      "metadata": {
        "id": "hhcbIiOLPbVS",
        "colab": {
          "base_uri": "https://localhost:8080/",
          "height": 295
        },
        "outputId": "8d578b68-bca3-4786-877d-4110bc37d179"
      },
      "source": [
        "# summarize history for accuracy\n",
        "plt.plot(lstm_model.history['acc'])\n",
        "plt.plot(lstm_model.history['val_acc'])\n",
        "plt.title('model accuracy')\n",
        "plt.ylabel('accuracy')\n",
        "plt.xlabel('epoch')\n",
        "plt.legend(['train', 'test'], loc='upper left')\n",
        "plt.show()"
      ],
      "execution_count": null,
      "outputs": [
        {
          "output_type": "display_data",
          "data": {
            "image/png": "[encoded data removed]",
            "text/plain": [
              "<Figure size 432x288 with 1 Axes>"
            ]
          },
          "metadata": {
            "tags": [],
            "needs_background": "light"
          }
        }
      ]
    },
    {
      "cell_type": "code",
      "metadata": {
        "id": "bEasrBdRQa5d",
        "colab": {
          "base_uri": "https://localhost:8080/",
          "height": 51
        },
        "outputId": "3b17a193-9db2-4eb4-cd3f-03b4e27e4fb9"
      },
      "source": [
        "#max accuracy \n",
        "print(\"Max acc from training set %0.5f\" % max(lstm_model.history['acc']))\n",
        "print(\"Max val_acc from validation set %0.5f\" % max(lstm_model.history['val_acc']))"
      ],
      "execution_count": null,
      "outputs": [
        {
          "output_type": "stream",
          "text": [
            "Max acc from training set 0.99802\n",
            "Max val_acc from validation set 0.62673\n"
          ],
          "name": "stdout"
        }
      ]
    },
    {
      "cell_type": "code",
      "metadata": {
        "id": "Txs1wPa4Qa5_",
        "colab": {
          "base_uri": "https://localhost:8080/",
          "height": 279
        },
        "outputId": "ee530e8c-a635-49cf-d9c4-4a5036d27587"
      },
      "source": [
        "# summarize history for loss\n",
        "loss_values = lstm_model.history['loss']\n",
        "val_loss = lstm_model.history['val_loss']\n",
        "epochs = range(1, len(loss_values)+1)\n",
        "\n",
        "plt.plot(epochs, loss_values,val_loss)\n",
        "plt.xlabel('Epochs')\n",
        "plt.ylabel('Loss')\n",
        "plt.legend(['train', 'test'], loc='upper right')\n",
        "\n",
        "plt.show()\n",
        "\n"
      ],
      "execution_count": null,
      "outputs": [
        {
          "output_type": "display_data",
          "data": {
            "image/png": "[encoded data removed]",
            "text/plain": [
              "<Figure size 432x288 with 1 Axes>"
            ]
          },
          "metadata": {
            "tags": [],
            "needs_background": "light"
          }
        }
      ]
    },
    {
      "cell_type": "code",
      "metadata": {
        "id": "GfXD8i66Qa6f"
      },
      "source": [
        "y_pred = model.predict(x_test)"
      ],
      "execution_count": null,
      "outputs": []
    },
    {
      "cell_type": "code",
      "metadata": {
        "id": "fqp-1FlAQa7D",
        "colab": {
          "base_uri": "https://localhost:8080/",
          "height": 34
        },
        "outputId": "aaf0b28e-2673-44eb-8647-6661cc333475"
      },
      "source": [
        "y_pred.shape\n",
        "lstm_model"
      ],
      "execution_count": null,
      "outputs": [
        {
          "output_type": "execute_result",
          "data": {
            "text/plain": [
              "(621, 8)"
            ]
          },
          "metadata": {
            "tags": []
          },
          "execution_count": 52
        }
      ]
    },
    {
      "cell_type": "code",
      "metadata": {
        "id": "Tcb8JEQDQa7i"
      },
      "source": [
        "y_test = to_categorical(np.asarray(y_test.factorize()[0]))"
      ],
      "execution_count": null,
      "outputs": []
    },
    {
      "cell_type": "code",
      "metadata": {
        "id": "toWuJPxeQa8B",
        "colab": {
          "base_uri": "https://localhost:8080/",
          "height": 34
        },
        "outputId": "6f78220e-6ace-47e3-9504-b134703f6838"
      },
      "source": [
        "y_test.shape"
      ],
      "execution_count": null,
      "outputs": [
        {
          "output_type": "execute_result",
          "data": {
            "text/plain": [
              "(621, 8)"
            ]
          },
          "metadata": {
            "tags": []
          },
          "execution_count": 51
        }
      ]
    },
    {
      "cell_type": "code",
      "metadata": {
        "id": "cY9B1UG9SzWz",
        "colab": {
          "base_uri": "https://localhost:8080/",
          "height": 34
        },
        "outputId": "e8d0951f-4104-4b1f-e71b-0d324e3d6fcf"
      },
      "source": [
        "print(\"test roc_auc_score %0.4f\" %roc_auc_score(y_test,y_pred))"
      ],
      "execution_count": null,
      "outputs": [
        {
          "output_type": "stream",
          "text": [
            "test roc_auc_score 0.6030\n"
          ],
          "name": "stdout"
        }
      ]
    },
    {
      "cell_type": "markdown",
      "metadata": {
        "id": "1P_wdCstibAp"
      },
      "source": [
        "#GRU model"
      ]
    },
    {
      "cell_type": "code",
      "metadata": {
        "id": "k9UnVLvjkZl-"
      },
      "source": [
        "# count number of unique words\n",
        "vocabulary_size = len(tokenizer.word_index) + 1"
      ],
      "execution_count": null,
      "outputs": []
    },
    {
      "cell_type": "code",
      "metadata": {
        "id": "vUcD8IM9kE82"
      },
      "source": [
        "\n",
        "model = Sequential()\n",
        "model.add(Embedding(vocabulary_size, EMBEDDING_DIM, input_length=MAX_SEQUENCE_LENGTH))\n",
        "model.add(SpatialDropout1D(0.2))\n",
        "model.add(Bidirectional(GRU(128)))\n",
        "model.add(Dense(128, activation='relu'))\n",
        "model.add(Dropout(0.2))\n",
        "model.add(Dense(8, activation='softmax'))\n",
        "model.compile(loss='mean_squared_error', optimizer='adam', metrics=['accuracy'])\n",
        "\n",
        "callback = tf.keras.callbacks.EarlyStopping(monitor='loss', patience=1)"
      ],
      "execution_count": null,
      "outputs": []
    },
    {
      "cell_type": "code",
      "metadata": {
        "id": "PKDb75BEkLM4",
        "colab": {
          "base_uri": "https://localhost:8080/",
          "height": 1000
        },
        "outputId": "5eeee83c-ac15-49bb-bb4f-c53927503c7a"
      },
      "source": [
        "\n",
        "# history = model.fit(x_train, y_train, epochs=5, batch_size=128, callbacks=[callback])\n",
        "\n",
        "# gru_model = model.fit(x_train, y_train, epochs=100, validation_data=(x_test, y_test), batch_size=128, callbacks=[callback]) #ami validation data alada kore dichi\n",
        "\n",
        "gru_model = model.fit(x_train, y_train, epochs=50,validation_split=0.3, batch_size=128) #train data'r 30% niye validate kore\n"
      ],
      "execution_count": null,
      "outputs": [
        {
          "output_type": "stream",
          "text": [
            "/usr/local/lib/python3.6/dist-packages/tensorflow/python/framework/indexed_slices.py:434: UserWarning: Converting sparse IndexedSlices to a dense Tensor of unknown shape. This may consume a large amount of memory.\n",
            "  \"Converting sparse IndexedSlices to a dense Tensor of unknown shape. \"\n"
          ],
          "name": "stderr"
        },
        {
          "output_type": "stream",
          "text": [
            "Train on 1446 samples, validate on 620 samples\n",
            "Epoch 1/50\n",
            "1446/1446 [==============================] - 11s 8ms/step - loss: 0.1059 - accuracy: 0.3983 - val_loss: 0.0956 - val_accuracy: 0.4565\n",
            "Epoch 2/50\n",
            "1446/1446 [==============================] - 8s 6ms/step - loss: 0.0930 - accuracy: 0.4288 - val_loss: 0.0887 - val_accuracy: 0.4565\n",
            "Epoch 3/50\n",
            "1446/1446 [==============================] - 8s 6ms/step - loss: 0.0862 - accuracy: 0.4288 - val_loss: 0.0810 - val_accuracy: 0.4774\n",
            "Epoch 4/50\n",
            "1446/1446 [==============================] - 8s 6ms/step - loss: 0.0764 - accuracy: 0.5256 - val_loss: 0.0767 - val_accuracy: 0.5177\n",
            "Epoch 5/50\n",
            "1446/1446 [==============================] - 8s 6ms/step - loss: 0.0676 - accuracy: 0.5726 - val_loss: 0.0726 - val_accuracy: 0.5468\n",
            "Epoch 6/50\n",
            "1446/1446 [==============================] - 8s 6ms/step - loss: 0.0590 - accuracy: 0.6328 - val_loss: 0.0730 - val_accuracy: 0.5565\n",
            "Epoch 7/50\n",
            "1446/1446 [==============================] - 8s 6ms/step - loss: 0.0503 - accuracy: 0.7289 - val_loss: 0.0729 - val_accuracy: 0.5661\n",
            "Epoch 8/50\n",
            "1446/1446 [==============================] - 8s 6ms/step - loss: 0.0440 - accuracy: 0.7780 - val_loss: 0.0737 - val_accuracy: 0.5742\n",
            "Epoch 9/50\n",
            "1446/1446 [==============================] - 9s 6ms/step - loss: 0.0393 - accuracy: 0.7967 - val_loss: 0.0754 - val_accuracy: 0.5645\n",
            "Epoch 10/50\n",
            "1446/1446 [==============================] - 8s 6ms/step - loss: 0.0345 - accuracy: 0.8257 - val_loss: 0.0759 - val_accuracy: 0.5871\n",
            "Epoch 11/50\n",
            "1446/1446 [==============================] - 8s 6ms/step - loss: 0.0322 - accuracy: 0.8347 - val_loss: 0.0819 - val_accuracy: 0.5645\n",
            "Epoch 12/50\n",
            "1446/1446 [==============================] - 8s 6ms/step - loss: 0.0291 - accuracy: 0.8527 - val_loss: 0.0801 - val_accuracy: 0.5694\n",
            "Epoch 13/50\n",
            "1446/1446 [==============================] - 8s 6ms/step - loss: 0.0280 - accuracy: 0.8589 - val_loss: 0.0829 - val_accuracy: 0.5661\n",
            "Epoch 14/50\n",
            "1446/1446 [==============================] - 8s 6ms/step - loss: 0.0265 - accuracy: 0.8686 - val_loss: 0.0839 - val_accuracy: 0.5581\n",
            "Epoch 15/50\n",
            "1446/1446 [==============================] - 8s 6ms/step - loss: 0.0238 - accuracy: 0.8893 - val_loss: 0.0858 - val_accuracy: 0.5629\n",
            "Epoch 16/50\n",
            "1446/1446 [==============================] - 8s 6ms/step - loss: 0.0232 - accuracy: 0.8790 - val_loss: 0.0828 - val_accuracy: 0.5710\n",
            "Epoch 17/50\n",
            "1446/1446 [==============================] - 8s 6ms/step - loss: 0.0217 - accuracy: 0.8921 - val_loss: 0.0844 - val_accuracy: 0.5597\n",
            "Epoch 18/50\n",
            "1446/1446 [==============================] - 8s 6ms/step - loss: 0.0202 - accuracy: 0.8956 - val_loss: 0.0854 - val_accuracy: 0.5581\n",
            "Epoch 19/50\n",
            "1446/1446 [==============================] - 8s 6ms/step - loss: 0.0189 - accuracy: 0.9053 - val_loss: 0.0852 - val_accuracy: 0.5581\n",
            "Epoch 20/50\n",
            "1446/1446 [==============================] - 8s 6ms/step - loss: 0.0196 - accuracy: 0.8997 - val_loss: 0.0840 - val_accuracy: 0.5532\n",
            "Epoch 21/50\n",
            "1446/1446 [==============================] - 8s 6ms/step - loss: 0.0188 - accuracy: 0.9053 - val_loss: 0.0842 - val_accuracy: 0.5677\n",
            "Epoch 22/50\n",
            "1446/1446 [==============================] - 8s 6ms/step - loss: 0.0180 - accuracy: 0.9066 - val_loss: 0.0860 - val_accuracy: 0.5532\n",
            "Epoch 23/50\n",
            "1446/1446 [==============================] - 8s 6ms/step - loss: 0.0170 - accuracy: 0.9122 - val_loss: 0.0841 - val_accuracy: 0.5661\n",
            "Epoch 24/50\n",
            "1446/1446 [==============================] - 8s 6ms/step - loss: 0.0168 - accuracy: 0.9170 - val_loss: 0.0869 - val_accuracy: 0.5403\n",
            "Epoch 25/50\n",
            "1446/1446 [==============================] - 8s 6ms/step - loss: 0.0151 - accuracy: 0.9260 - val_loss: 0.0843 - val_accuracy: 0.5694\n",
            "Epoch 26/50\n",
            "1446/1446 [==============================] - 8s 6ms/step - loss: 0.0148 - accuracy: 0.9253 - val_loss: 0.0861 - val_accuracy: 0.5468\n",
            "Epoch 27/50\n",
            "1446/1446 [==============================] - 8s 6ms/step - loss: 0.0139 - accuracy: 0.9322 - val_loss: 0.0905 - val_accuracy: 0.5290\n",
            "Epoch 28/50\n",
            "1446/1446 [==============================] - 8s 6ms/step - loss: 0.0136 - accuracy: 0.9315 - val_loss: 0.0873 - val_accuracy: 0.5435\n",
            "Epoch 29/50\n",
            "1446/1446 [==============================] - 8s 6ms/step - loss: 0.0142 - accuracy: 0.9295 - val_loss: 0.0874 - val_accuracy: 0.5468\n",
            "Epoch 30/50\n",
            "1446/1446 [==============================] - 8s 6ms/step - loss: 0.0131 - accuracy: 0.9378 - val_loss: 0.0866 - val_accuracy: 0.5710\n",
            "Epoch 31/50\n",
            "1446/1446 [==============================] - 9s 6ms/step - loss: 0.0122 - accuracy: 0.9412 - val_loss: 0.0868 - val_accuracy: 0.5677\n",
            "Epoch 32/50\n",
            "1446/1446 [==============================] - 8s 6ms/step - loss: 0.0119 - accuracy: 0.9419 - val_loss: 0.0856 - val_accuracy: 0.5790\n",
            "Epoch 33/50\n",
            "1446/1446 [==============================] - 8s 6ms/step - loss: 0.0119 - accuracy: 0.9433 - val_loss: 0.0863 - val_accuracy: 0.5742\n",
            "Epoch 34/50\n",
            "1446/1446 [==============================] - 8s 6ms/step - loss: 0.0112 - accuracy: 0.9433 - val_loss: 0.0865 - val_accuracy: 0.5645\n",
            "Epoch 35/50\n",
            "1446/1446 [==============================] - 8s 6ms/step - loss: 0.0114 - accuracy: 0.9454 - val_loss: 0.0854 - val_accuracy: 0.5694\n",
            "Epoch 36/50\n",
            "1446/1446 [==============================] - 8s 6ms/step - loss: 0.0109 - accuracy: 0.9488 - val_loss: 0.0840 - val_accuracy: 0.5919\n",
            "Epoch 37/50\n",
            "1446/1446 [==============================] - 8s 6ms/step - loss: 0.0105 - accuracy: 0.9488 - val_loss: 0.0894 - val_accuracy: 0.5532\n",
            "Epoch 38/50\n",
            "1446/1446 [==============================] - 8s 6ms/step - loss: 0.0097 - accuracy: 0.9530 - val_loss: 0.0871 - val_accuracy: 0.5629\n",
            "Epoch 39/50\n",
            "1446/1446 [==============================] - 8s 6ms/step - loss: 0.0095 - accuracy: 0.9530 - val_loss: 0.0862 - val_accuracy: 0.5774\n",
            "Epoch 40/50\n",
            "1446/1446 [==============================] - 8s 5ms/step - loss: 0.0087 - accuracy: 0.9585 - val_loss: 0.0873 - val_accuracy: 0.5677\n",
            "Epoch 41/50\n",
            "1446/1446 [==============================] - 8s 6ms/step - loss: 0.0089 - accuracy: 0.9564 - val_loss: 0.0885 - val_accuracy: 0.5823\n",
            "Epoch 42/50\n",
            "1446/1446 [==============================] - 8s 6ms/step - loss: 0.0084 - accuracy: 0.9585 - val_loss: 0.0866 - val_accuracy: 0.5726\n",
            "Epoch 43/50\n",
            "1446/1446 [==============================] - 8s 6ms/step - loss: 0.0080 - accuracy: 0.9627 - val_loss: 0.0858 - val_accuracy: 0.5839\n",
            "Epoch 44/50\n",
            "1446/1446 [==============================] - 8s 6ms/step - loss: 0.0079 - accuracy: 0.9627 - val_loss: 0.0906 - val_accuracy: 0.5597\n",
            "Epoch 45/50\n",
            "1446/1446 [==============================] - 8s 6ms/step - loss: 0.0079 - accuracy: 0.9627 - val_loss: 0.0846 - val_accuracy: 0.5887\n",
            "Epoch 46/50\n",
            "1446/1446 [==============================] - 8s 6ms/step - loss: 0.0075 - accuracy: 0.9633 - val_loss: 0.0857 - val_accuracy: 0.5839\n",
            "Epoch 47/50\n",
            "1446/1446 [==============================] - 8s 6ms/step - loss: 0.0071 - accuracy: 0.9654 - val_loss: 0.0852 - val_accuracy: 0.5903\n",
            "Epoch 48/50\n",
            "1446/1446 [==============================] - 8s 6ms/step - loss: 0.0069 - accuracy: 0.9654 - val_loss: 0.0856 - val_accuracy: 0.5903\n",
            "Epoch 49/50\n",
            "1446/1446 [==============================] - 8s 6ms/step - loss: 0.0072 - accuracy: 0.9654 - val_loss: 0.0848 - val_accuracy: 0.5903\n",
            "Epoch 50/50\n",
            "1446/1446 [==============================] - 9s 6ms/step - loss: 0.0068 - accuracy: 0.9682 - val_loss: 0.0849 - val_accuracy: 0.5935\n"
          ],
          "name": "stdout"
        }
      ]
    },
    {
      "cell_type": "code",
      "metadata": {
        "id": "srZ0G96vnsd0",
        "colab": {
          "base_uri": "https://localhost:8080/",
          "height": 377
        },
        "outputId": "79754041-283d-4022-b919-989ae58a2679"
      },
      "source": [
        "model.summary()"
      ],
      "execution_count": null,
      "outputs": [
        {
          "output_type": "stream",
          "text": [
            "Model: \"sequential_1\"\n",
            "_________________________________________________________________\n",
            "Layer (type)                 Output Shape              Param #   \n",
            "=================================================================\n",
            "embedding_2 (Embedding)      (None, 150, 50)           354400    \n",
            "_________________________________________________________________\n",
            "spatial_dropout1d_1 (Spatial (None, 150, 50)           0         \n",
            "_________________________________________________________________\n",
            "bidirectional_1 (Bidirection (None, 256)               137472    \n",
            "_________________________________________________________________\n",
            "dense_2 (Dense)              (None, 128)               32896     \n",
            "_________________________________________________________________\n",
            "dropout_1 (Dropout)          (None, 128)               0         \n",
            "_________________________________________________________________\n",
            "dense_3 (Dense)              (None, 8)                 1032      \n",
            "=================================================================\n",
            "Total params: 525,800\n",
            "Trainable params: 525,800\n",
            "Non-trainable params: 0\n",
            "_________________________________________________________________\n"
          ],
          "name": "stdout"
        }
      ]
    },
    {
      "cell_type": "code",
      "metadata": {
        "id": "3Ec-aMQJnsqZ",
        "colab": {
          "base_uri": "https://localhost:8080/",
          "height": 295
        },
        "outputId": "204b0f10-b491-4bd7-f580-5aec56a282f7"
      },
      "source": [
        "# summarize history for accuracy\n",
        "plt.plot(gru_model.history['accuracy'])\n",
        "plt.plot(gru_model.history['val_accuracy'])\n",
        "plt.title('model accuracy')\n",
        "plt.ylabel('accuracy')\n",
        "plt.xlabel('epoch')\n",
        "plt.legend(['train', 'test'], loc='upper left')\n",
        "plt.show()"
      ],
      "execution_count": null,
      "outputs": [
        {
          "output_type": "display_data",
          "data": {
            "image/png": "[encoded data removed]",
            "text/plain": [
              "<Figure size 432x288 with 1 Axes>"
            ]
          },
          "metadata": {
            "tags": [],
            "needs_background": "light"
          }
        }
      ]
    },
    {
      "cell_type": "code",
      "metadata": {
        "id": "jfjo3_Gtnsqp",
        "colab": {
          "base_uri": "https://localhost:8080/",
          "height": 53
        },
        "outputId": "4c1f5661-ddc4-479b-e46e-69488471eec4"
      },
      "source": [
        "#max accuracy \n",
        "print(\"Max acc from training set %0.5f\" % max(gru_model.history['accuracy']))\n",
        "print(\"Max val_acc from validation set %0.5f\" % max(gru_model.history['val_accuracy']))"
      ],
      "execution_count": null,
      "outputs": [
        {
          "output_type": "stream",
          "text": [
            "Max acc from training set 0.96819\n",
            "Max val_acc from validation set 0.59355\n"
          ],
          "name": "stdout"
        }
      ]
    },
    {
      "cell_type": "code",
      "metadata": {
        "id": "naCnoRrqnsq2",
        "colab": {
          "base_uri": "https://localhost:8080/",
          "height": 279
        },
        "outputId": "c8e691ec-5b29-4a22-bf1f-822f174fc33c"
      },
      "source": [
        "# summarize history for loss\n",
        "loss_values = gru_model.history['loss']\n",
        "val_loss = gru_model.history['val_loss']\n",
        "epochs = range(1, len(loss_values)+1)\n",
        "\n",
        "plt.plot(epochs, loss_values,val_loss)\n",
        "plt.xlabel('Epochs')\n",
        "plt.ylabel('Loss')\n",
        "plt.legend(['train', 'test'], loc='upper right')\n",
        "\n",
        "plt.show()\n",
        "\n"
      ],
      "execution_count": null,
      "outputs": [
        {
          "output_type": "display_data",
          "data": {
            "image/png": "[encoded data removed]",
            "text/plain": [
              "<Figure size 432x288 with 1 Axes>"
            ]
          },
          "metadata": {
            "tags": [],
            "needs_background": "light"
          }
        }
      ]
    },
    {
      "cell_type": "code",
      "metadata": {
        "id": "Cnks9V7G8VRs"
      },
      "source": [
        "y_pred = model.predict(x_test)"
      ],
      "execution_count": null,
      "outputs": []
    },
    {
      "cell_type": "code",
      "metadata": {
        "id": "mgbAgKSp8VRz",
        "colab": {
          "base_uri": "https://localhost:8080/",
          "height": 35
        },
        "outputId": "808ecf42-1e2e-4a97-e52a-a6af3dab3d26"
      },
      "source": [
        "y_pred.shape\n"
      ],
      "execution_count": null,
      "outputs": [
        {
          "output_type": "execute_result",
          "data": {
            "text/plain": [
              "(621, 8)"
            ]
          },
          "metadata": {
            "tags": []
          },
          "execution_count": 65
        }
      ]
    },
    {
      "cell_type": "code",
      "metadata": {
        "id": "jFkG88J28VR5"
      },
      "source": [
        "y_test = to_categorical(np.asarray(y_test.factorize()[0]))"
      ],
      "execution_count": null,
      "outputs": []
    },
    {
      "cell_type": "code",
      "metadata": {
        "id": "_1THU4qq8VR9",
        "colab": {
          "base_uri": "https://localhost:8080/",
          "height": 35
        },
        "outputId": "d85ecf9e-9a6c-4e78-8237-052442d480cf"
      },
      "source": [
        "y_test.shape"
      ],
      "execution_count": null,
      "outputs": [
        {
          "output_type": "execute_result",
          "data": {
            "text/plain": [
              "(621, 8)"
            ]
          },
          "metadata": {
            "tags": []
          },
          "execution_count": 67
        }
      ]
    },
    {
      "cell_type": "code",
      "metadata": {
        "id": "w-moPW0Y8VSB",
        "colab": {
          "base_uri": "https://localhost:8080/",
          "height": 35
        },
        "outputId": "d8956a99-6c2e-4682-a6e2-67b215c2fbc0"
      },
      "source": [
        "print(\"test roc_auc_score %0.4f\" %roc_auc_score(y_test,y_pred))"
      ],
      "execution_count": null,
      "outputs": [
        {
          "output_type": "stream",
          "text": [
            "test roc_auc_score 0.5330\n"
          ],
          "name": "stdout"
        }
      ]
    },
    {
      "cell_type": "markdown",
      "metadata": {
        "id": "7lCW6stewC68"
      },
      "source": [
        "#Bi-LSTM"
      ]
    },
    {
      "cell_type": "code",
      "metadata": {
        "id": "NYVhlbux1JEt"
      },
      "source": [
        "# count number of unique words\n",
        "vocabulary_size = len(tokenizer.word_index) + 1"
      ],
      "execution_count": null,
      "outputs": []
    },
    {
      "cell_type": "code",
      "metadata": {
        "id": "QWHxF26AwIMN"
      },
      "source": [
        "model = Sequential()\n",
        "\n",
        "model.add( Embedding(vocabulary_size, EMBEDDING_DIM, input_length = MAX_SEQUENCE_LENGTH))\n",
        "model.add(SpatialDropout1D(0.2))\n",
        "model.add( Bidirectional( LSTM(196, dropout = 0.2, recurrent_dropout = 0.2)))\n",
        "model.add( Dense(8, activation = 'softmax'))\n",
        "\n",
        "# Sparse cross entropy is used when your output is an integer like 0,1,2,3,..13. But your output is onehot encoded [0,0,...1,0].\n",
        "\n",
        "# So use categorical cross entropy.\n",
        "# or do model.add( Dense(1, activation = 'softmax'))\n",
        "\n",
        "model.compile(loss = 'categorical_crossentropy', optimizer = 'adam', metrics = ['accuracy'])\n",
        "\n"
      ],
      "execution_count": null,
      "outputs": []
    },
    {
      "cell_type": "code",
      "metadata": {
        "id": "mPDoMUuqzoht",
        "colab": {
          "base_uri": "https://localhost:8080/",
          "height": 1000
        },
        "outputId": "b3cde466-df08-4a0d-ba31-577e76fefee3"
      },
      "source": [
        "# bi_lstm = model.fit(x_train, y_train, epochs = 7, batch_size = 128, verbose = 2)\n",
        "bi_lstm = model.fit(x_train, y_train, epochs=100,validation_split=0.3, batch_size=128)"
      ],
      "execution_count": null,
      "outputs": [
        {
          "output_type": "stream",
          "text": [
            "/usr/local/lib/python3.6/dist-packages/tensorflow/python/framework/indexed_slices.py:434: UserWarning: Converting sparse IndexedSlices to a dense Tensor of unknown shape. This may consume a large amount of memory.\n",
            "  \"Converting sparse IndexedSlices to a dense Tensor of unknown shape. \"\n"
          ],
          "name": "stderr"
        },
        {
          "output_type": "stream",
          "text": [
            "Train on 1446 samples, validate on 620 samples\n",
            "Epoch 1/100\n",
            "1446/1446 [==============================] - 12s 8ms/step - loss: 1.8959 - accuracy: 0.3907 - val_loss: 1.6885 - val_accuracy: 0.4565\n",
            "Epoch 2/100\n",
            "1446/1446 [==============================] - 11s 8ms/step - loss: 1.6595 - accuracy: 0.4288 - val_loss: 1.5676 - val_accuracy: 0.4565\n",
            "Epoch 3/100\n",
            "1446/1446 [==============================] - 11s 8ms/step - loss: 1.6151 - accuracy: 0.4288 - val_loss: 1.5316 - val_accuracy: 0.4565\n",
            "Epoch 4/100\n",
            "1446/1446 [==============================] - 11s 8ms/step - loss: 1.5364 - accuracy: 0.4329 - val_loss: 1.4385 - val_accuracy: 0.4613\n",
            "Epoch 5/100\n",
            "1446/1446 [==============================] - 11s 7ms/step - loss: 1.4145 - accuracy: 0.5014 - val_loss: 1.3563 - val_accuracy: 0.5016\n",
            "Epoch 6/100\n",
            "1446/1446 [==============================] - 11s 8ms/step - loss: 1.2725 - accuracy: 0.5671 - val_loss: 1.2896 - val_accuracy: 0.5500\n",
            "Epoch 7/100\n",
            "1446/1446 [==============================] - 11s 8ms/step - loss: 1.1488 - accuracy: 0.6203 - val_loss: 1.2108 - val_accuracy: 0.5710\n",
            "Epoch 8/100\n",
            "1446/1446 [==============================] - 11s 8ms/step - loss: 1.0110 - accuracy: 0.6528 - val_loss: 1.1590 - val_accuracy: 0.5984\n",
            "Epoch 9/100\n",
            "1446/1446 [==============================] - 11s 7ms/step - loss: 0.8831 - accuracy: 0.6881 - val_loss: 1.1395 - val_accuracy: 0.5968\n",
            "Epoch 10/100\n",
            "1446/1446 [==============================] - 11s 8ms/step - loss: 0.7742 - accuracy: 0.7178 - val_loss: 1.1736 - val_accuracy: 0.6065\n",
            "Epoch 11/100\n",
            "1446/1446 [==============================] - 11s 8ms/step - loss: 0.6975 - accuracy: 0.7732 - val_loss: 1.1764 - val_accuracy: 0.6097\n",
            "Epoch 12/100\n",
            "1446/1446 [==============================] - 11s 8ms/step - loss: 0.6180 - accuracy: 0.8057 - val_loss: 1.1831 - val_accuracy: 0.6097\n",
            "Epoch 13/100\n",
            "1446/1446 [==============================] - 11s 8ms/step - loss: 0.5265 - accuracy: 0.8292 - val_loss: 1.2489 - val_accuracy: 0.6048\n",
            "Epoch 14/100\n",
            "1446/1446 [==============================] - 11s 7ms/step - loss: 0.4834 - accuracy: 0.8527 - val_loss: 1.2194 - val_accuracy: 0.6065\n",
            "Epoch 15/100\n",
            "1446/1446 [==============================] - 11s 7ms/step - loss: 0.4047 - accuracy: 0.8811 - val_loss: 1.3166 - val_accuracy: 0.6145\n",
            "Epoch 16/100\n",
            "1446/1446 [==============================] - 11s 7ms/step - loss: 0.3679 - accuracy: 0.8983 - val_loss: 1.3349 - val_accuracy: 0.6048\n",
            "Epoch 17/100\n",
            "1446/1446 [==============================] - 11s 7ms/step - loss: 0.3163 - accuracy: 0.9122 - val_loss: 1.4264 - val_accuracy: 0.6048\n",
            "Epoch 18/100\n",
            "1446/1446 [==============================] - 11s 8ms/step - loss: 0.2831 - accuracy: 0.9219 - val_loss: 1.3018 - val_accuracy: 0.6194\n",
            "Epoch 19/100\n",
            "1446/1446 [==============================] - 11s 8ms/step - loss: 0.2498 - accuracy: 0.9336 - val_loss: 1.4515 - val_accuracy: 0.6194\n",
            "Epoch 20/100\n",
            "1446/1446 [==============================] - 11s 8ms/step - loss: 0.2214 - accuracy: 0.9364 - val_loss: 1.4114 - val_accuracy: 0.6097\n",
            "Epoch 21/100\n",
            "1446/1446 [==============================] - 11s 8ms/step - loss: 0.2161 - accuracy: 0.9447 - val_loss: 1.4680 - val_accuracy: 0.6290\n",
            "Epoch 22/100\n",
            "1446/1446 [==============================] - 11s 8ms/step - loss: 0.1783 - accuracy: 0.9488 - val_loss: 1.5957 - val_accuracy: 0.6226\n",
            "Epoch 23/100\n",
            "1446/1446 [==============================] - 11s 8ms/step - loss: 0.1716 - accuracy: 0.9530 - val_loss: 1.4472 - val_accuracy: 0.6355\n",
            "Epoch 24/100\n",
            "1446/1446 [==============================] - 11s 8ms/step - loss: 0.1617 - accuracy: 0.9599 - val_loss: 1.5513 - val_accuracy: 0.6097\n",
            "Epoch 25/100\n",
            "1446/1446 [==============================] - 11s 8ms/step - loss: 0.1560 - accuracy: 0.9557 - val_loss: 1.4529 - val_accuracy: 0.6161\n",
            "Epoch 26/100\n",
            "1446/1446 [==============================] - 11s 7ms/step - loss: 0.1642 - accuracy: 0.9627 - val_loss: 1.4136 - val_accuracy: 0.6306\n",
            "Epoch 27/100\n",
            "1446/1446 [==============================] - 11s 7ms/step - loss: 0.1258 - accuracy: 0.9675 - val_loss: 1.5315 - val_accuracy: 0.6226\n",
            "Epoch 28/100\n",
            "1446/1446 [==============================] - 11s 8ms/step - loss: 0.1148 - accuracy: 0.9675 - val_loss: 1.5804 - val_accuracy: 0.6194\n",
            "Epoch 29/100\n",
            "1446/1446 [==============================] - 11s 8ms/step - loss: 0.1220 - accuracy: 0.9696 - val_loss: 1.5873 - val_accuracy: 0.6097\n",
            "Epoch 30/100\n",
            "1446/1446 [==============================] - 11s 8ms/step - loss: 0.1012 - accuracy: 0.9751 - val_loss: 1.5402 - val_accuracy: 0.6290\n",
            "Epoch 31/100\n",
            "1446/1446 [==============================] - 11s 8ms/step - loss: 0.1076 - accuracy: 0.9730 - val_loss: 1.6607 - val_accuracy: 0.6097\n",
            "Epoch 32/100\n",
            "1446/1446 [==============================] - 11s 8ms/step - loss: 0.1024 - accuracy: 0.9730 - val_loss: 1.6055 - val_accuracy: 0.6258\n",
            "Epoch 33/100\n",
            "1446/1446 [==============================] - 11s 7ms/step - loss: 0.0852 - accuracy: 0.9765 - val_loss: 1.6393 - val_accuracy: 0.6306\n",
            "Epoch 34/100\n",
            "1446/1446 [==============================] - 11s 8ms/step - loss: 0.0706 - accuracy: 0.9848 - val_loss: 1.6524 - val_accuracy: 0.6290\n",
            "Epoch 35/100\n",
            "1446/1446 [==============================] - 11s 7ms/step - loss: 0.0649 - accuracy: 0.9820 - val_loss: 1.7656 - val_accuracy: 0.6242\n",
            "Epoch 36/100\n",
            "1446/1446 [==============================] - 11s 8ms/step - loss: 0.0728 - accuracy: 0.9813 - val_loss: 1.8235 - val_accuracy: 0.6194\n",
            "Epoch 37/100\n",
            "1446/1446 [==============================] - 11s 7ms/step - loss: 0.0655 - accuracy: 0.9806 - val_loss: 1.8199 - val_accuracy: 0.6016\n",
            "Epoch 38/100\n",
            "1446/1446 [==============================] - 11s 7ms/step - loss: 0.0576 - accuracy: 0.9855 - val_loss: 1.7544 - val_accuracy: 0.6145\n",
            "Epoch 39/100\n",
            "1446/1446 [==============================] - 11s 7ms/step - loss: 0.0674 - accuracy: 0.9806 - val_loss: 1.7768 - val_accuracy: 0.6129\n",
            "Epoch 40/100\n",
            "1446/1446 [==============================] - 11s 7ms/step - loss: 0.0590 - accuracy: 0.9855 - val_loss: 1.7758 - val_accuracy: 0.6210\n",
            "Epoch 41/100\n",
            "1446/1446 [==============================] - 11s 8ms/step - loss: 0.0709 - accuracy: 0.9786 - val_loss: 1.7549 - val_accuracy: 0.6129\n",
            "Epoch 42/100\n",
            "1446/1446 [==============================] - 11s 7ms/step - loss: 0.0574 - accuracy: 0.9841 - val_loss: 1.9344 - val_accuracy: 0.6097\n",
            "Epoch 43/100\n",
            "1446/1446 [==============================] - 11s 7ms/step - loss: 0.0558 - accuracy: 0.9855 - val_loss: 1.9582 - val_accuracy: 0.6081\n",
            "Epoch 44/100\n",
            "1446/1446 [==============================] - 11s 7ms/step - loss: 0.0529 - accuracy: 0.9820 - val_loss: 1.7590 - val_accuracy: 0.6048\n",
            "Epoch 45/100\n",
            "1446/1446 [==============================] - 11s 7ms/step - loss: 0.0582 - accuracy: 0.9841 - val_loss: 1.8056 - val_accuracy: 0.6048\n",
            "Epoch 46/100\n",
            "1446/1446 [==============================] - 11s 7ms/step - loss: 0.0477 - accuracy: 0.9862 - val_loss: 1.8301 - val_accuracy: 0.6242\n",
            "Epoch 47/100\n",
            "1446/1446 [==============================] - 11s 8ms/step - loss: 0.0554 - accuracy: 0.9841 - val_loss: 1.8597 - val_accuracy: 0.6000\n",
            "Epoch 48/100\n",
            "1446/1446 [==============================] - 11s 8ms/step - loss: 0.0650 - accuracy: 0.9841 - val_loss: 1.8823 - val_accuracy: 0.6032\n",
            "Epoch 49/100\n",
            "1446/1446 [==============================] - 11s 8ms/step - loss: 0.0488 - accuracy: 0.9841 - val_loss: 1.9161 - val_accuracy: 0.6081\n",
            "Epoch 50/100\n",
            "1446/1446 [==============================] - 11s 8ms/step - loss: 0.0555 - accuracy: 0.9876 - val_loss: 1.8072 - val_accuracy: 0.5935\n",
            "Epoch 51/100\n",
            "1446/1446 [==============================] - 11s 7ms/step - loss: 0.0484 - accuracy: 0.9841 - val_loss: 1.7444 - val_accuracy: 0.6129\n",
            "Epoch 52/100\n",
            "1446/1446 [==============================] - 11s 8ms/step - loss: 0.0413 - accuracy: 0.9896 - val_loss: 1.8053 - val_accuracy: 0.6290\n",
            "Epoch 53/100\n",
            "1446/1446 [==============================] - 11s 7ms/step - loss: 0.0548 - accuracy: 0.9848 - val_loss: 1.8546 - val_accuracy: 0.6145\n",
            "Epoch 54/100\n",
            "1446/1446 [==============================] - 11s 8ms/step - loss: 0.0483 - accuracy: 0.9862 - val_loss: 1.8434 - val_accuracy: 0.5968\n",
            "Epoch 55/100\n",
            "1446/1446 [==============================] - 11s 8ms/step - loss: 0.0678 - accuracy: 0.9813 - val_loss: 1.8998 - val_accuracy: 0.5984\n",
            "Epoch 56/100\n",
            "1446/1446 [==============================] - 11s 7ms/step - loss: 0.0570 - accuracy: 0.9813 - val_loss: 1.9067 - val_accuracy: 0.6032\n",
            "Epoch 57/100\n",
            "1446/1446 [==============================] - 11s 8ms/step - loss: 0.0374 - accuracy: 0.9882 - val_loss: 1.9234 - val_accuracy: 0.6016\n",
            "Epoch 58/100\n",
            "1446/1446 [==============================] - 11s 8ms/step - loss: 0.0368 - accuracy: 0.9869 - val_loss: 1.9890 - val_accuracy: 0.5968\n",
            "Epoch 59/100\n",
            "1446/1446 [==============================] - 11s 8ms/step - loss: 0.0343 - accuracy: 0.9896 - val_loss: 2.0407 - val_accuracy: 0.5952\n",
            "Epoch 60/100\n",
            "1446/1446 [==============================] - 11s 7ms/step - loss: 0.0410 - accuracy: 0.9882 - val_loss: 2.0340 - val_accuracy: 0.6113\n",
            "Epoch 61/100\n",
            "1446/1446 [==============================] - 11s 7ms/step - loss: 0.0402 - accuracy: 0.9882 - val_loss: 2.0338 - val_accuracy: 0.6048\n",
            "Epoch 62/100\n",
            "1446/1446 [==============================] - 11s 7ms/step - loss: 0.0375 - accuracy: 0.9903 - val_loss: 2.0108 - val_accuracy: 0.6048\n",
            "Epoch 63/100\n",
            "1446/1446 [==============================] - 11s 7ms/step - loss: 0.0290 - accuracy: 0.9917 - val_loss: 1.9934 - val_accuracy: 0.5952\n",
            "Epoch 64/100\n",
            "1446/1446 [==============================] - 11s 8ms/step - loss: 0.0277 - accuracy: 0.9910 - val_loss: 2.1228 - val_accuracy: 0.5952\n",
            "Epoch 65/100\n",
            "1446/1446 [==============================] - 11s 7ms/step - loss: 0.0262 - accuracy: 0.9917 - val_loss: 2.1342 - val_accuracy: 0.5935\n",
            "Epoch 66/100\n",
            "1446/1446 [==============================] - 11s 8ms/step - loss: 0.0303 - accuracy: 0.9882 - val_loss: 2.0409 - val_accuracy: 0.5887\n",
            "Epoch 67/100\n",
            "1446/1446 [==============================] - 11s 7ms/step - loss: 0.0314 - accuracy: 0.9882 - val_loss: 2.0261 - val_accuracy: 0.5758\n",
            "Epoch 68/100\n",
            "1446/1446 [==============================] - 11s 8ms/step - loss: 0.0297 - accuracy: 0.9896 - val_loss: 2.0373 - val_accuracy: 0.6145\n",
            "Epoch 69/100\n",
            "1446/1446 [==============================] - 10s 7ms/step - loss: 0.0321 - accuracy: 0.9896 - val_loss: 1.9937 - val_accuracy: 0.5855\n",
            "Epoch 70/100\n",
            "1446/1446 [==============================] - 11s 8ms/step - loss: 0.0243 - accuracy: 0.9917 - val_loss: 2.0694 - val_accuracy: 0.5952\n",
            "Epoch 71/100\n",
            "1446/1446 [==============================] - 11s 7ms/step - loss: 0.0266 - accuracy: 0.9910 - val_loss: 2.0740 - val_accuracy: 0.6000\n",
            "Epoch 72/100\n",
            "1446/1446 [==============================] - 11s 8ms/step - loss: 0.0284 - accuracy: 0.9903 - val_loss: 2.0468 - val_accuracy: 0.6016\n",
            "Epoch 73/100\n",
            "1446/1446 [==============================] - 11s 7ms/step - loss: 0.0221 - accuracy: 0.9931 - val_loss: 2.1091 - val_accuracy: 0.6048\n",
            "Epoch 74/100\n",
            "1446/1446 [==============================] - 11s 7ms/step - loss: 0.0352 - accuracy: 0.9889 - val_loss: 2.1088 - val_accuracy: 0.6081\n",
            "Epoch 75/100\n",
            "1446/1446 [==============================] - 11s 7ms/step - loss: 0.0300 - accuracy: 0.9910 - val_loss: 2.1376 - val_accuracy: 0.5935\n",
            "Epoch 76/100\n",
            "1446/1446 [==============================] - 11s 7ms/step - loss: 0.0274 - accuracy: 0.9889 - val_loss: 2.0531 - val_accuracy: 0.6081\n",
            "Epoch 77/100\n",
            "1446/1446 [==============================] - 12s 8ms/step - loss: 0.0238 - accuracy: 0.9896 - val_loss: 2.1198 - val_accuracy: 0.6065\n",
            "Epoch 78/100\n",
            "1446/1446 [==============================] - 11s 8ms/step - loss: 0.0228 - accuracy: 0.9924 - val_loss: 2.1454 - val_accuracy: 0.6048\n",
            "Epoch 79/100\n",
            "1446/1446 [==============================] - 11s 7ms/step - loss: 0.0225 - accuracy: 0.9924 - val_loss: 2.1726 - val_accuracy: 0.5968\n",
            "Epoch 80/100\n",
            "1446/1446 [==============================] - 11s 7ms/step - loss: 0.0312 - accuracy: 0.9882 - val_loss: 2.1188 - val_accuracy: 0.6016\n",
            "Epoch 81/100\n",
            "1446/1446 [==============================] - 11s 7ms/step - loss: 0.0214 - accuracy: 0.9945 - val_loss: 2.2179 - val_accuracy: 0.6065\n",
            "Epoch 82/100\n",
            "1446/1446 [==============================] - 11s 7ms/step - loss: 0.0217 - accuracy: 0.9924 - val_loss: 2.2391 - val_accuracy: 0.5968\n",
            "Epoch 83/100\n",
            "1446/1446 [==============================] - 11s 7ms/step - loss: 0.0174 - accuracy: 0.9938 - val_loss: 2.3349 - val_accuracy: 0.5774\n",
            "Epoch 84/100\n",
            "1446/1446 [==============================] - 11s 7ms/step - loss: 0.0440 - accuracy: 0.9848 - val_loss: 2.1309 - val_accuracy: 0.5919\n",
            "Epoch 85/100\n",
            "1446/1446 [==============================] - 11s 8ms/step - loss: 0.0292 - accuracy: 0.9917 - val_loss: 2.0789 - val_accuracy: 0.6032\n",
            "Epoch 86/100\n",
            "1446/1446 [==============================] - 10s 7ms/step - loss: 0.0234 - accuracy: 0.9910 - val_loss: 2.0527 - val_accuracy: 0.6048\n",
            "Epoch 87/100\n",
            "1446/1446 [==============================] - 11s 7ms/step - loss: 0.0254 - accuracy: 0.9903 - val_loss: 2.0921 - val_accuracy: 0.6048\n",
            "Epoch 88/100\n",
            "1446/1446 [==============================] - 11s 7ms/step - loss: 0.0212 - accuracy: 0.9917 - val_loss: 2.1441 - val_accuracy: 0.6016\n",
            "Epoch 89/100\n",
            "1446/1446 [==============================] - 11s 7ms/step - loss: 0.0253 - accuracy: 0.9903 - val_loss: 2.1625 - val_accuracy: 0.5968\n",
            "Epoch 90/100\n",
            "1446/1446 [==============================] - 11s 7ms/step - loss: 0.0190 - accuracy: 0.9931 - val_loss: 2.0805 - val_accuracy: 0.6000\n",
            "Epoch 91/100\n",
            "1446/1446 [==============================] - 11s 7ms/step - loss: 0.0219 - accuracy: 0.9924 - val_loss: 2.1500 - val_accuracy: 0.5935\n",
            "Epoch 92/100\n",
            "1446/1446 [==============================] - 10s 7ms/step - loss: 0.0219 - accuracy: 0.9917 - val_loss: 2.2470 - val_accuracy: 0.5823\n",
            "Epoch 93/100\n",
            "1446/1446 [==============================] - 11s 7ms/step - loss: 0.0208 - accuracy: 0.9917 - val_loss: 2.1354 - val_accuracy: 0.5984\n",
            "Epoch 94/100\n",
            "1446/1446 [==============================] - 11s 7ms/step - loss: 0.0163 - accuracy: 0.9931 - val_loss: 2.1955 - val_accuracy: 0.5984\n",
            "Epoch 95/100\n",
            "1446/1446 [==============================] - 11s 7ms/step - loss: 0.0215 - accuracy: 0.9917 - val_loss: 2.1297 - val_accuracy: 0.6048\n",
            "Epoch 96/100\n",
            "1446/1446 [==============================] - 11s 7ms/step - loss: 0.0195 - accuracy: 0.9924 - val_loss: 2.1871 - val_accuracy: 0.5968\n",
            "Epoch 97/100\n",
            "1446/1446 [==============================] - 11s 8ms/step - loss: 0.0245 - accuracy: 0.9903 - val_loss: 2.1195 - val_accuracy: 0.6048\n",
            "Epoch 98/100\n",
            "1446/1446 [==============================] - 11s 7ms/step - loss: 0.0261 - accuracy: 0.9910 - val_loss: 2.1326 - val_accuracy: 0.6048\n",
            "Epoch 99/100\n",
            "1446/1446 [==============================] - 11s 7ms/step - loss: 0.0208 - accuracy: 0.9924 - val_loss: 2.2007 - val_accuracy: 0.5823\n",
            "Epoch 100/100\n",
            "1446/1446 [==============================] - 11s 7ms/step - loss: 0.0204 - accuracy: 0.9931 - val_loss: 2.1411 - val_accuracy: 0.6145\n"
          ],
          "name": "stdout"
        }
      ]
    },
    {
      "cell_type": "code",
      "metadata": {
        "id": "eyxGfTXyzK-M",
        "colab": {
          "base_uri": "https://localhost:8080/",
          "height": 305
        },
        "outputId": "613e8452-eaaf-48fb-b151-12fb9fe2085e"
      },
      "source": [
        "model.summary()"
      ],
      "execution_count": null,
      "outputs": [
        {
          "output_type": "stream",
          "text": [
            "Model: \"sequential_2\"\n",
            "_________________________________________________________________\n",
            "Layer (type)                 Output Shape              Param #   \n",
            "=================================================================\n",
            "embedding_2 (Embedding)      (None, 150, 50)           354400    \n",
            "_________________________________________________________________\n",
            "spatial_dropout1d_1 (Spatial (None, 150, 50)           0         \n",
            "_________________________________________________________________\n",
            "bidirectional_1 (Bidirection (None, 392)               387296    \n",
            "_________________________________________________________________\n",
            "dense_2 (Dense)              (None, 8)                 3144      \n",
            "=================================================================\n",
            "Total params: 744,840\n",
            "Trainable params: 744,840\n",
            "Non-trainable params: 0\n",
            "_________________________________________________________________\n"
          ],
          "name": "stdout"
        }
      ]
    },
    {
      "cell_type": "code",
      "metadata": {
        "id": "Fbpn_4mhzK-X",
        "colab": {
          "base_uri": "https://localhost:8080/",
          "height": 295
        },
        "outputId": "f45c7a0c-1cda-4835-d45d-4492a58a13d8"
      },
      "source": [
        "# summarize history for accuracy\n",
        "plt.plot(bi_lstm.history['accuracy'])\n",
        "plt.plot(bi_lstm.history['val_accuracy'])\n",
        "plt.title('model accuracy')\n",
        "plt.ylabel('accuracy')\n",
        "plt.xlabel('epoch')\n",
        "plt.legend(['train', 'test'], loc='upper left')\n",
        "plt.show()"
      ],
      "execution_count": null,
      "outputs": [
        {
          "output_type": "display_data",
          "data": {
            "image/png": "[encoded data removed]",
            "text/plain": [
              "<Figure size 432x288 with 1 Axes>"
            ]
          },
          "metadata": {
            "tags": [],
            "needs_background": "light"
          }
        }
      ]
    },
    {
      "cell_type": "code",
      "metadata": {
        "id": "OIbv_-3KzK-j",
        "colab": {
          "base_uri": "https://localhost:8080/",
          "height": 53
        },
        "outputId": "917c1de9-9c11-4e9f-c957-4054983fffce"
      },
      "source": [
        "#max accuracy \n",
        "print(\"Max acc from training set %0.5f\" % max(bi_lstm.history['accuracy']))\n",
        "print(\"Max val_acc from validation set %0.5f\" % max(bi_lstm.history['val_accuracy']))"
      ],
      "execution_count": null,
      "outputs": [
        {
          "output_type": "stream",
          "text": [
            "Max acc from training set 0.99447\n",
            "Max val_acc from validation set 0.63548\n"
          ],
          "name": "stdout"
        }
      ]
    },
    {
      "cell_type": "code",
      "metadata": {
        "id": "ZZGVlXKkzK-p",
        "colab": {
          "base_uri": "https://localhost:8080/",
          "height": 279
        },
        "outputId": "286afa3c-8ada-4f8a-85c3-e38f043995d7"
      },
      "source": [
        "# summarize history for loss\n",
        "loss_values = bi_lstm.history['loss']\n",
        "val_loss = bi_lstm.history['val_loss']\n",
        "epochs = range(1, len(loss_values)+1)\n",
        "\n",
        "plt.plot(epochs, loss_values,val_loss)\n",
        "plt.xlabel('Epochs')\n",
        "plt.ylabel('Loss')\n",
        "plt.legend(['train', 'test'], loc='upper right')\n",
        "\n",
        "plt.show()\n",
        "\n"
      ],
      "execution_count": null,
      "outputs": [
        {
          "output_type": "display_data",
          "data": {
            "image/png": "[encoded data removed]",
            "text/plain": [
              "<Figure size 432x288 with 1 Axes>"
            ]
          },
          "metadata": {
            "tags": [],
            "needs_background": "light"
          }
        }
      ]
    },
    {
      "cell_type": "code",
      "metadata": {
        "id": "EkigDUQzzK-u"
      },
      "source": [
        "y_pred = model.predict(x_test)"
      ],
      "execution_count": null,
      "outputs": []
    },
    {
      "cell_type": "code",
      "metadata": {
        "id": "xos2TgD5zK-x",
        "colab": {
          "base_uri": "https://localhost:8080/",
          "height": 35
        },
        "outputId": "e03527f0-be1a-4abe-8c8b-4c3a96f90225"
      },
      "source": [
        "y_pred.shape\n"
      ],
      "execution_count": null,
      "outputs": [
        {
          "output_type": "execute_result",
          "data": {
            "text/plain": [
              "(621, 8)"
            ]
          },
          "metadata": {
            "tags": []
          },
          "execution_count": 72
        }
      ]
    },
    {
      "cell_type": "code",
      "metadata": {
        "id": "HydDFUxSzK-0"
      },
      "source": [
        "y_test = to_categorical(np.asarray(y_test.factorize()[0]))"
      ],
      "execution_count": null,
      "outputs": []
    },
    {
      "cell_type": "code",
      "metadata": {
        "id": "IdMvui27zK-3",
        "colab": {
          "base_uri": "https://localhost:8080/",
          "height": 35
        },
        "outputId": "3c8d24fc-d8ca-4611-dd83-afe15604e8e2"
      },
      "source": [
        "y_test.shape"
      ],
      "execution_count": null,
      "outputs": [
        {
          "output_type": "execute_result",
          "data": {
            "text/plain": [
              "(621, 8)"
            ]
          },
          "metadata": {
            "tags": []
          },
          "execution_count": 74
        }
      ]
    },
    {
      "cell_type": "code",
      "metadata": {
        "id": "6xHGoTq8zK-8",
        "colab": {
          "base_uri": "https://localhost:8080/",
          "height": 35
        },
        "outputId": "7cedcd59-f1cb-4b5c-cb8e-bf321ca80ae1"
      },
      "source": [
        "print(\"test roc_auc_score %0.4f\" %roc_auc_score(y_test,y_pred))"
      ],
      "execution_count": null,
      "outputs": [
        {
          "output_type": "stream",
          "text": [
            "test roc_auc_score 0.4969\n"
          ],
          "name": "stdout"
        }
      ]
    }
  ]
}