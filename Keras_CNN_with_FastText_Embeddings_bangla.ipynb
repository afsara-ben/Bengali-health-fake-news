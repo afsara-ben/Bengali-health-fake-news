{
  "nbformat": 4,
  "nbformat_minor": 0,
  "metadata": {
    "colab": {
      "name": "Keras CNN with FastText Embeddings-bangla(copy).ipynb",
      "provenance": []
    },
    "kernelspec": {
      "name": "python3",
      "display_name": "Python 3"
    }
  },
  "cells": [
    {
      "cell_type": "markdown",
      "metadata": {
        "id": "UawIxSFILzih"
      },
      "source": [
        "#Load libraries, word embeddings (fasttext) "
      ]
    },
    {
      "cell_type": "code",
      "metadata": {
        "id": "gIMQyKDk-c6Q",
        "colab": {
          "base_uri": "https://localhost:8080/"
        },
        "outputId": "14235f54-0f9f-45c3-af25-c0016460fb79"
      },
      "source": [
        "import numpy as np\n",
        "import pandas as pd\n",
        "import seaborn as sns\n",
        "import matplotlib.pyplot as plt\n",
        "\n",
        "import keras\n",
        "from keras import optimizers\n",
        "from keras import backend as K\n",
        "from keras import regularizers\n",
        "from keras.models import Sequential\n",
        "from keras.layers import Dense, Activation, Dropout, Flatten\n",
        "from keras.layers import Embedding, Conv1D, MaxPooling1D, GlobalMaxPooling1D \n",
        "from keras.utils import plot_model\n",
        "from keras.preprocessing import sequence\n",
        "from keras.preprocessing.text import Tokenizer\n",
        "from keras.callbacks import EarlyStopping\n",
        "from keras.utils.np_utils import to_categorical\n",
        "\n",
        "\n",
        "from sklearn.model_selection import train_test_split\n",
        "from tqdm import tqdm\n",
        "import nltk\n",
        "nltk.download('stopwords')\n",
        "from nltk.corpus import stopwords\n",
        "from nltk.tokenize import RegexpTokenizer \n",
        "import os, re, csv, math, codecs\n",
        "\n",
        "from sklearn.metrics import roc_auc_score\n",
        "\n",
        "sns.set_style(\"whitegrid\")\n",
        "np.random.seed(0)\n",
        "\n",
        "# !pip install ipython-autotime\n",
        "# %load_ext autotime\n",
        "\n"
      ],
      "execution_count": null,
      "outputs": [
        {
          "output_type": "stream",
          "text": [
            "[nltk_data] Downloading package stopwords to /root/nltk_data...\n",
            "[nltk_data]   Unzipping corpora/stopwords.zip.\n"
          ],
          "name": "stdout"
        }
      ]
    },
    {
      "cell_type": "code",
      "metadata": {
        "id": "uQ9lP1sm-c6f",
        "colab": {
          "base_uri": "https://localhost:8080/"
        },
        "outputId": "b64dfd74-685c-4af3-f2b5-87fe574e464d"
      },
      "source": [
        "from google.colab import drive\n",
        "drive.mount('/content/gdrive')\n",
        "root_path = 'gdrive/My Drive/Colab Notebooks/Fake-vs-real/all_complete_labelled/'\n",
        "fasttext_path = 'gdrive/My Drive/Colab Notebooks/Datasets/'\n",
        "colab_path = 'gdrive/My Drive/Colab Notebooks/'"
      ],
      "execution_count": null,
      "outputs": [
        {
          "output_type": "stream",
          "text": [
            "Mounted at /content/gdrive\n"
          ],
          "name": "stdout"
        }
      ]
    },
    {
      "cell_type": "code",
      "metadata": {
        "id": "uy6RSXUq-c6l"
      },
      "source": [
        "# DATA_PATH = '../input/'\n",
        "# # EMBEDDING_DIR = '../input/'\n",
        "\n",
        "# MAX_NB_WORDS = 100000\n",
        "# tokenizer = RegexpTokenizer(r'\\w+')\n",
        "# stop_words = set(stopwords.words('english'))\n",
        "# stop_words.update(['.', ',', '\"', \"'\", ':', ';', '(', ')', '[', ']', '{', '}'])\n",
        "\n",
        "# from subprocess import check_output\n",
        "# print(check_output([\"ls\", \"../input\"]).decode(\"utf8\"))"
      ],
      "execution_count": null,
      "outputs": []
    },
    {
      "cell_type": "code",
      "metadata": {
        "id": "n-V_dbxy-c6q",
        "colab": {
          "base_uri": "https://localhost:8080/"
        },
        "outputId": "107486bb-52a3-4f0c-bd0d-9e0a73619f4d"
      },
      "source": [
        "#load Fasttext embeddings\n",
        "print('loading word embeddings...')\n",
        "embeddings_index = {}\n",
        "f = codecs.open(fasttext_path + 'cc.bn.300.vec', encoding='utf-8')\n",
        "for line in tqdm(f):\n",
        "    values = line.rstrip().rsplit(' ')\n",
        "    word = values[0]\n",
        "    coefs = np.asarray(values[1:], dtype='float32')\n",
        "    embeddings_index[word] = coefs\n",
        "f.close()\n",
        "print('found %s word vectors' % len(embeddings_index))"
      ],
      "execution_count": null,
      "outputs": [
        {
          "output_type": "stream",
          "text": [
            "loading word embeddings...\n"
          ],
          "name": "stdout"
        },
        {
          "output_type": "stream",
          "text": [
            "1468579it [03:09, 7730.43it/s]"
          ],
          "name": "stderr"
        },
        {
          "output_type": "stream",
          "text": [
            "found 1468579 word vectors\n"
          ],
          "name": "stdout"
        },
        {
          "output_type": "stream",
          "text": [
            "\n"
          ],
          "name": "stderr"
        }
      ]
    },
    {
      "cell_type": "markdown",
      "metadata": {
        "id": "_Z4BjUZj3O76"
      },
      "source": [
        "#Load dataset"
      ]
    },
    {
      "cell_type": "code",
      "metadata": {
        "id": "GYE42jogLYYg",
        "colab": {
          "base_uri": "https://localhost:8080/"
        },
        "outputId": "31db5680-bb5f-4416-99a5-501a9d911ff4"
      },
      "source": [
        "df = pd.read_csv(root_path + \"combined-1.csv\", names = ['label','text','fullname','replies','retweet','likes'], skiprows=1)\n",
        "#df = pd.read_csv(root_path + \"ক্যান্সার-first-1000-stemmed.csv\",names=['label','text'])\n",
        "\n",
        "#df.drop(df.columns[[2,3,4,5,6,7]],axis = 1,inplace = True)\n",
        "df.shape\n"
      ],
      "execution_count": null,
      "outputs": [
        {
          "output_type": "execute_result",
          "data": {
            "text/plain": [
              "(2067, 6)"
            ]
          },
          "metadata": {
            "tags": []
          },
          "execution_count": 9
        }
      ]
    },
    {
      "cell_type": "code",
      "metadata": {
        "id": "4z27lzTjLcnY"
      },
      "source": [
        "df.drop(df.columns[[2,3,4,5]],axis=1, inplace=True)"
      ],
      "execution_count": null,
      "outputs": []
    },
    {
      "cell_type": "code",
      "metadata": {
        "id": "Jjr6y0ImLqHL",
        "colab": {
          "base_uri": "https://localhost:8080/",
          "height": 204
        },
        "outputId": "e8ced5c4-e47d-4faa-acc9-76edcc44cb18"
      },
      "source": [
        "df.head()"
      ],
      "execution_count": null,
      "outputs": [
        {
          "output_type": "execute_result",
          "data": {
            "text/html": [
              "<div>\n",
              "<style scoped>\n",
              "    .dataframe tbody tr th:only-of-type {\n",
              "        vertical-align: middle;\n",
              "    }\n",
              "\n",
              "    .dataframe tbody tr th {\n",
              "        vertical-align: top;\n",
              "    }\n",
              "\n",
              "    .dataframe thead th {\n",
              "        text-align: right;\n",
              "    }\n",
              "</style>\n",
              "<table border=\"1\" class=\"dataframe\">\n",
              "  <thead>\n",
              "    <tr style=\"text-align: right;\">\n",
              "      <th></th>\n",
              "      <th>label</th>\n",
              "      <th>text</th>\n",
              "    </tr>\n",
              "  </thead>\n",
              "  <tbody>\n",
              "    <tr>\n",
              "      <th>0</th>\n",
              "      <td>FAKE</td>\n",
              "      <td>ডায়াবেটিস রুগীদের ডায়াবেটিস থেকে কিভাবে ওষুধ...</td>\n",
              "    </tr>\n",
              "    <tr>\n",
              "      <th>1</th>\n",
              "      <td>REAL</td>\n",
              "      <td>মায়ের ডায়াবেটিসে নবজাতকের ঝুঁকি দ্বিগুণ\\n#ইত...</td>\n",
              "    </tr>\n",
              "    <tr>\n",
              "      <th>2</th>\n",
              "      <td>REAL</td>\n",
              "      <td>যাদের বয়স এবং লম্বা হিসাবের চেয়ে \\nওজন বেশি ...</td>\n",
              "    </tr>\n",
              "    <tr>\n",
              "      <th>3</th>\n",
              "      <td>REAL</td>\n",
              "      <td>ডায়াবেটিস রোগীরা কেন ঝুঁকিতে জেনে নিন</td>\n",
              "    </tr>\n",
              "    <tr>\n",
              "      <th>4</th>\n",
              "      <td>REAL</td>\n",
              "      <td>হৃদরোগ, ডায়াবেটিস, শ্বাসতন্ত্রের রোগ এবং হাইপ...</td>\n",
              "    </tr>\n",
              "  </tbody>\n",
              "</table>\n",
              "</div>"
            ],
            "text/plain": [
              "  label                                               text\n",
              "0  FAKE  ডায়াবেটিস রুগীদের ডায়াবেটিস থেকে কিভাবে ওষুধ...\n",
              "1  REAL  মায়ের ডায়াবেটিসে নবজাতকের ঝুঁকি দ্বিগুণ\\n#ইত...\n",
              "2  REAL  যাদের বয়স এবং লম্বা হিসাবের চেয়ে \\nওজন বেশি ...\n",
              "3  REAL             ডায়াবেটিস রোগীরা কেন ঝুঁকিতে জেনে নিন\n",
              "4  REAL  হৃদরোগ, ডায়াবেটিস, শ্বাসতন্ত্রের রোগ এবং হাইপ..."
            ]
          },
          "metadata": {
            "tags": []
          },
          "execution_count": 11
        }
      ]
    },
    {
      "cell_type": "code",
      "metadata": {
        "id": "wMyjszBXSOC0",
        "colab": {
          "base_uri": "https://localhost:8080/",
          "height": 319
        },
        "outputId": "5e2fa623-45a0-4bbd-b4f8-9d489284fecb"
      },
      "source": [
        "plt.hist(df['label'])"
      ],
      "execution_count": null,
      "outputs": [
        {
          "output_type": "execute_result",
          "data": {
            "text/plain": [
              "(array([320., 904.,  35.,   0., 297., 109.,   0.,  82.,  25., 295.]),\n",
              " array([0. , 0.7, 1.4, 2.1, 2.8, 3.5, 4.2, 4.9, 5.6, 6.3, 7. ]),\n",
              " <a list of 10 Patch objects>)"
            ]
          },
          "metadata": {
            "tags": []
          },
          "execution_count": 12
        },
        {
          "output_type": "display_data",
          "data": {
            "image/png": "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\n",
            "text/plain": [
              "<Figure size 432x288 with 1 Axes>"
            ]
          },
          "metadata": {
            "tags": [],
            "needs_background": "light"
          }
        }
      ]
    },
    {
      "cell_type": "markdown",
      "metadata": {
        "id": "2YOHlwQBYKZH"
      },
      "source": [
        "#Pre processing steps"
      ]
    },
    {
      "cell_type": "markdown",
      "metadata": {
        "id": "YK47wWxY48Ac"
      },
      "source": [
        "The function does the following:\n",
        "\n",
        "* It replaces common texts found in the data and replaces that with our custom text\n",
        "* It removes all emoji's and emoticons from the text\n",
        "* It removes all English text"
      ]
    },
    {
      "cell_type": "code",
      "metadata": {
        "id": "aBjsc45U45bC"
      },
      "source": [
        "import re\n",
        "def replace_strings(texts, replace):\n",
        "    new_texts=[]\n",
        "    \n",
        "    emoji_pattern = re.compile(\"[\"\n",
        "                           u\"\\U0001F600-\\U0001F64F\"  # emoticons\n",
        "                           u\"\\U0001F300-\\U0001F5FF\"  # symbols & pictographs\n",
        "                           u\"\\U0001F680-\\U0001F6FF\"  # transport & map symbols\n",
        "                           u\"\\U0001F1E0-\\U0001F1FF\"  # flags (iOS)\n",
        "                           u\"\\U00002702-\\U000027B0\"\n",
        "                           u\"\\U000024C2-\\U0001F251\"\n",
        "                           \"]+\", flags=re.UNICODE)\n",
        "    english_pattern=re.compile('[a-zA-Z0-9]+', flags=re.I)\n",
        "    \n",
        "    regex = r'\\b(?:(?:[0-9\\u09E6-\\u09EF]{1,2}[:/,.]){2}[0-9\\u09E6-\\u09EF]{2,4}|am|pm)\\b'\n",
        "    for text in texts:\n",
        "        for r in replace:\n",
        "            text=text.replace(r[0], r[1])\n",
        "\n",
        "        text=emoji_pattern.sub(r'', text)\n",
        "        text=english_pattern.sub(r'', text)\n",
        "  \n",
        "        if re.search(regex, text): # re.match() e pura string replace kore fele\n",
        "          text = re.sub(regex, \"<date>\", text)\n",
        "        \n",
        "        #text = re.sub(r'[-!?]','',text)\n",
        "        text=re.sub(r'\\s+', ' ', text).strip()\n",
        "        text = text.replace(\"\\\"\",\"\")\n",
        "        text = text.replace(\".\",\"\")\n",
        "        new_texts.append(text)\n",
        "\n",
        "    return new_texts"
      ],
      "execution_count": null,
      "outputs": []
    },
    {
      "cell_type": "code",
      "metadata": {
        "id": "HhOX2fwL5Ict"
      },
      "source": [
        "#my_str = [\"কথা_জমিয়ে '\" \"রাখতে নেই\\nআত্নার ক্যান্সার। হয়?\",\"আত্নার ক্যান্সার হয়\"]\n",
        "\n",
        "replace=[('\\u200c', ' '),\n",
        "         ('\\u200d', ' '),\n",
        "        ('\\xa0', ' '),\n",
        "        ('\\n', ' '),\n",
        "        ('\\r', ' '),('&',''),('*',''),\n",
        "         ('\\\"',' '),\n",
        "         ('_',' '),\n",
        "         ('?',' '),\n",
        "         ('!',' '),\n",
        "         ('।',' '),\n",
        "         ('|',' '),\n",
        "         ('#',' '),\n",
        "         ('%',' '),\n",
        "         ('/',' '),\n",
        "         ('-',' '),\n",
        "         (':',' '),\n",
        "         ('<',' '),\n",
        "         ('>',' '),\n",
        "         ('(',' '),\n",
        "         (')',' '),\n",
        "         ('—',' '),\n",
        "         (\"'\",' '),\n",
        "         (',',' '),\n",
        "         (';',' '),\n",
        "         ('\\\\',' '),\n",
        "         ('~',' '),\n",
        "         ('”',''),\n",
        "         ('•',' '),\n",
        "         ('[',' '),\n",
        "         (']',' '),\n",
        "         ('{',' '),\n",
        "         ('}',' '),\n",
        "         ('“',' '),\n",
        "         ('’',' '),\n",
        "         ('‘',' ')\n",
        "         ]\n",
        "\n",
        "#new_str =replace_strings(my_str, replace)\n",
        "df.text = replace_strings(df.text, replace)\n",
        "#print(new_str)"
      ],
      "execution_count": null,
      "outputs": []
    },
    {
      "cell_type": "code",
      "metadata": {
        "id": "t1HqCn4D5-Q7",
        "colab": {
          "base_uri": "https://localhost:8080/"
        },
        "outputId": "02e558f7-01ab-4aa9-bf33-c042872d59f4"
      },
      "source": [
        "df.text[:5]"
      ],
      "execution_count": null,
      "outputs": [
        {
          "output_type": "execute_result",
          "data": {
            "text/plain": [
              "0    ডায়াবেটিস রুগীদের ডায়াবেটিস থেকে কিভাবে ওষুধ...\n",
              "1    মায়ের ডায়াবেটিসে নবজাতকের ঝুঁকি দ্বিগুণ ইত্ত...\n",
              "2    যাদের বয়স এবং লম্বা হিসাবের চেয়ে ওজন বেশি তা...\n",
              "3               ডায়াবেটিস রোগীরা কেন ঝুঁকিতে জেনে নিন\n",
              "4    হৃদরোগ ডায়াবেটিস শ্বাসতন্ত্রের রোগ এবং হাইপার...\n",
              "Name: text, dtype: object"
            ]
          },
          "metadata": {
            "tags": []
          },
          "execution_count": 15
        }
      ]
    },
    {
      "cell_type": "code",
      "metadata": {
        "id": "kuC2JjaO2qI2"
      },
      "source": [
        "# goal - remove whitespace\n",
        "\n",
        "import string\n",
        "df.text = df.text.str.strip()"
      ],
      "execution_count": null,
      "outputs": []
    },
    {
      "cell_type": "code",
      "metadata": {
        "id": "Pa6TTUxL3DSK",
        "colab": {
          "base_uri": "https://localhost:8080/",
          "height": 204
        },
        "outputId": "683c191f-90da-41dd-b304-1f95bfd6be6c"
      },
      "source": [
        "df.head()"
      ],
      "execution_count": null,
      "outputs": [
        {
          "output_type": "execute_result",
          "data": {
            "text/html": [
              "<div>\n",
              "<style scoped>\n",
              "    .dataframe tbody tr th:only-of-type {\n",
              "        vertical-align: middle;\n",
              "    }\n",
              "\n",
              "    .dataframe tbody tr th {\n",
              "        vertical-align: top;\n",
              "    }\n",
              "\n",
              "    .dataframe thead th {\n",
              "        text-align: right;\n",
              "    }\n",
              "</style>\n",
              "<table border=\"1\" class=\"dataframe\">\n",
              "  <thead>\n",
              "    <tr style=\"text-align: right;\">\n",
              "      <th></th>\n",
              "      <th>label</th>\n",
              "      <th>text</th>\n",
              "    </tr>\n",
              "  </thead>\n",
              "  <tbody>\n",
              "    <tr>\n",
              "      <th>0</th>\n",
              "      <td>FAKE</td>\n",
              "      <td>ডায়াবেটিস রুগীদের ডায়াবেটিস থেকে কিভাবে ওষুধ...</td>\n",
              "    </tr>\n",
              "    <tr>\n",
              "      <th>1</th>\n",
              "      <td>REAL</td>\n",
              "      <td>মায়ের ডায়াবেটিসে নবজাতকের ঝুঁকি দ্বিগুণ ইত্ত...</td>\n",
              "    </tr>\n",
              "    <tr>\n",
              "      <th>2</th>\n",
              "      <td>REAL</td>\n",
              "      <td>যাদের বয়স এবং লম্বা হিসাবের চেয়ে ওজন বেশি তা...</td>\n",
              "    </tr>\n",
              "    <tr>\n",
              "      <th>3</th>\n",
              "      <td>REAL</td>\n",
              "      <td>ডায়াবেটিস রোগীরা কেন ঝুঁকিতে জেনে নিন</td>\n",
              "    </tr>\n",
              "    <tr>\n",
              "      <th>4</th>\n",
              "      <td>REAL</td>\n",
              "      <td>হৃদরোগ ডায়াবেটিস শ্বাসতন্ত্রের রোগ এবং হাইপার...</td>\n",
              "    </tr>\n",
              "  </tbody>\n",
              "</table>\n",
              "</div>"
            ],
            "text/plain": [
              "  label                                               text\n",
              "0  FAKE  ডায়াবেটিস রুগীদের ডায়াবেটিস থেকে কিভাবে ওষুধ...\n",
              "1  REAL  মায়ের ডায়াবেটিসে নবজাতকের ঝুঁকি দ্বিগুণ ইত্ত...\n",
              "2  REAL  যাদের বয়স এবং লম্বা হিসাবের চেয়ে ওজন বেশি তা...\n",
              "3  REAL             ডায়াবেটিস রোগীরা কেন ঝুঁকিতে জেনে নিন\n",
              "4  REAL  হৃদরোগ ডায়াবেটিস শ্বাসতন্ত্রের রোগ এবং হাইপার..."
            ]
          },
          "metadata": {
            "tags": []
          },
          "execution_count": 17
        }
      ]
    },
    {
      "cell_type": "code",
      "metadata": {
        "id": "6MrxZy2zb5Vd"
      },
      "source": [
        "#------------------------------\n",
        "# A list of bangla stop words found from https://github.com/stopwords-iso/stopwords-bn/blob/master/stopwords-bn.json\n",
        "#------------------------------\n",
        "\n",
        "bn_stop_words = frozenset([\"via\",\"অতএব\",\"অথচ\",\"অথবা\",\"অনুযায়ী\",\"অনেক\",\"অনেকে\",\"অনেকেই\",\"অন্তত\",\"অন্য\",\"অবধি\",\"অবশ্য\",\"অর্থাত\",\"আই\",\"আগামী\",\"আগে\",\"আগেই\",\"আছে\",\"আজ\",\"আদ্যভাগে\",\"আপনার\",\"আপনি\",\"আবার\",\"আমরা\",\"আমাকে\",\"আমাদের\",\"আমার\",\"আমি\",\"আর\",\"আরও\",\"ই\",\"ইত্যাদি\",\"ইহা\",\"উচিত\",\"উত্তর\",\"উনি\",\"উপর\",\"উপরে\",\"এ\",\"এঁদের\",\"এঁরা\",\"এই\",\"একই\",\"একটি\",\"একবার\",\"একে\",\"এক্\",\"এখন\",\"এখনও\",\"এখানে\",\"এখানেই\",\"এটা\",\"এটাই\",\"এটি\",\"এত\",\"এতটাই\",\"এতে\",\"এদের\",\"এব\",\"এবং\",\"এবার\",\"এমন\",\"এমনকী\",\"এমনি\",\"এর\",\"এরা\",\"এল\",\"এস\",\"এসে\",\"ঐ\",\"ও\",\"ওঁদের\",\"ওঁর\",\"ওঁরা\",\"ওই\",\"ওকে\",\"ওখানে\",\"ওদের\",\"ওর\",\"ওরা\",\"কখনও\",\"কত\",\"কবে\",\"কমনে\",\"কয়েক\",\"কয়েকটি\",\"করছে\",\"করছেন\",\"করতে\",\"করবে\",\"করবেন\",\"করলে\",\"করলেন\",\"করা\",\"করাই\",\"করায়\",\"করার\",\"করি\",\"করিতে\",\"করিয়া\",\"করিয়ে\",\"করে\",\"করেই\",\"করেছিলেন\",\"করেছে\",\"করেছেন\",\"করেন\",\"কাউকে\",\"কাছ\",\"কাছে\",\"কাজ\",\"কাজে\",\"কারও\",\"কারণ\",\"কি\",\"কিংবা\",\"কিছু\",\"কিছুই\",\"কিন্তু\",\"কী\",\"কে\",\"কেউ\",\"কেউই\",\"কেখা\",\"কেন\",\"কোটি\",\"কোন\",\"কোনও\",\"কোনো\",\"ক্ষেত্রে\",\"কয়েক\",\"খুব\",\"গিয়ে\",\"গিয়েছে\",\"গিয়ে\",\"গুলি\",\"গেছে\",\"গেল\",\"গেলে\",\"গোটা\",\"চলে\",\"চান\",\"চায়\",\"চার\",\"চালু\",\"চেয়ে\",\"চেষ্টা\",\"ছাড়া\",\"ছাড়াও\",\"ছিল\",\"ছিলেন\",\"জন\",\"জনকে\",\"জনের\",\"জন্য\",\"জন্যওজে\",\"জানতে\",\"জানা\",\"জানানো\",\"জানায়\",\"জানিয়ে\",\"জানিয়েছে\",\"জে\",\"জ্নজন\",\"টি\",\"ঠিক\",\"তখন\",\"তত\",\"তথা\",\"তবু\",\"তবে\",\"তা\",\"তাঁকে\",\"তাঁদের\",\"তাঁর\",\"তাঁরা\",\"তাঁাহারা\",\"তাই\",\"তাও\",\"তাকে\",\"তাতে\",\"তাদের\",\"তার\",\"তারপর\",\"তারা\",\"তারৈ\",\"তাহলে\",\"তাহা\",\"তাহাতে\",\"তাহার\",\"তিনঐ\",\"তিনি\",\"তিনিও\",\"তুমি\",\"তুলে\",\"তেমন\",\"তো\",\"তোমার\",\"থাকবে\",\"থাকবেন\",\"থাকা\",\"থাকায়\",\"থাকে\",\"থাকেন\",\"থেকে\",\"থেকেই\",\"থেকেও\",\"দিকে\",\"দিতে\",\"দিন\",\"দিয়ে\",\"দিয়েছে\",\"দিয়েছেন\",\"দিলেন\",\"দু\",\"দুই\",\"দুটি\",\"দুটো\",\"দেওয়া\",\"দেওয়ার\",\"দেওয়া\",\"দেখতে\",\"দেখা\",\"দেখে\",\"দেন\",\"দেয়\",\"দ্বারা\",\"ধরা\",\"ধরে\",\"ধামার\",\"নতুন\",\"নয়\",\"না\",\"নাই\",\"নাকি\",\"নাগাদ\",\"নানা\",\"নিজে\",\"নিজেই\",\"নিজেদের\",\"নিজের\",\"নিতে\",\"নিয়ে\",\"নিয়ে\",\"নেই\",\"নেওয়া\",\"নেওয়ার\",\"নেওয়া\",\"নয়\",\"পক্ষে\",\"পর\",\"পরে\",\"পরেই\",\"পরেও\",\"পর্যন্ত\",\"পাওয়া\",\"পাচ\",\"পারি\",\"পারে\",\"পারেন\",\"পি\",\"পেয়ে\",\"পেয়্র্\",\"প্রতি\",\"প্রথম\",\"প্রভৃতি\",\"প্রযন্ত\",\"প্রাথমিক\",\"প্রায়\",\"প্রায়\",\"ফলে\",\"ফিরে\",\"ফের\",\"বক্তব্য\",\"বদলে\",\"বন\",\"বরং\",\"বলতে\",\"বলল\",\"বললেন\",\"বলা\",\"বলে\",\"বলেছেন\",\"বলেন\",\"বসে\",\"বহু\",\"বা\",\"বাদে\",\"বার\",\"বি\",\"বিনা\",\"বিভিন্ন\",\"বিশেষ\",\"বিষয়টি\",\"বেশ\",\"বেশি\",\"ব্যবহার\",\"ব্যাপারে\",\"ভাবে\",\"ভাবেই\",\"মতো\",\"মতোই\",\"মধ্যভাগে\",\"মধ্যে\",\"মধ্যেই\",\"মধ্যেও\",\"মনে\",\"মাত্র\",\"মাধ্যমে\",\"মোট\",\"মোটেই\",\"যখন\",\"যত\",\"যতটা\",\"যথেষ্ট\",\"যদি\",\"যদিও\",\"যা\",\"যাঁর\",\"যাঁরা\",\"যাওয়া\",\"যাওয়ার\",\"যাওয়া\",\"যাকে\",\"যাচ্ছে\",\"যাতে\",\"যাদের\",\"যান\",\"যাবে\",\"যায়\",\"যার\",\"যারা\",\"যিনি\",\"যে\",\"যেখানে\",\"যেতে\",\"যেন\",\"যেমন\",\"র\",\"রকম\",\"রয়েছে\",\"রাখা\",\"রেখে\",\"লক্ষ\",\"শুধু\",\"শুরু\",\"সঙ্গে\",\"সঙ্গেও\",\"সব\",\"সবার\",\"সমস্ত\",\"সম্প্রতি\",\"সহ\",\"সহিত\",\"সাধারণ\",\"সামনে\",\"সি\",\"সুতরাং\",\"সে\",\"সেই\",\"সেখান\",\"সেখানে\",\"সেটা\",\"সেটাই\",\"সেটাও\",\"সেটি\",\"স্পষ্ট\",\"স্বয়ং\",\"হইতে\",\"হইবে\",\"হইয়া\",\"হওয়া\",\"হওয়ায়\",\"হওয়ার\",\"হচ্ছে\",\"হত\",\"হতে\",\"হতেই\",\"হন\",\"হবে\",\"হবেন\",\"হয়\",\"হয়তো\",\"হয়নি\",\"হয়ে\",\"হয়েই\",\"হয়েছিল\",\"হয়েছে\",\"হয়েছেন\",\"হল\",\"হলে\",\"হলেই\",\"হলেও\",\"হলো\",\"হাজার\",\"হিসাবে\",\"হৈলে\",\"হোক\",\"হয়\"])"
      ],
      "execution_count": null,
      "outputs": []
    },
    {
      "cell_type": "markdown",
      "metadata": {
        "id": "_YVfwgCHMDUa"
      },
      "source": [
        "#Train test split"
      ]
    },
    {
      "cell_type": "code",
      "metadata": {
        "id": "qFJfjU_JM3aJ"
      },
      "source": [
        "train_df, test_df, y_train, y_test = train_test_split(df['text'], df['label'],test_size = 0.3)\n",
        "#y_train = train_df['label'].values"
      ],
      "execution_count": null,
      "outputs": []
    },
    {
      "cell_type": "code",
      "metadata": {
        "id": "IoQVNPMJ8E_n",
        "colab": {
          "base_uri": "https://localhost:8080/"
        },
        "outputId": "adc9256a-6f3b-4026-997d-779c6d05438c"
      },
      "source": [
        "type(y_train)"
      ],
      "execution_count": null,
      "outputs": [
        {
          "output_type": "execute_result",
          "data": {
            "text/plain": [
              "pandas.core.series.Series"
            ]
          },
          "metadata": {
            "tags": []
          },
          "execution_count": 20
        }
      ]
    },
    {
      "cell_type": "code",
      "metadata": {
        "id": "zX80pdGN6Yo-"
      },
      "source": [
        "y_train = to_categorical(np.asarray(y_train.factorize()[0]))"
      ],
      "execution_count": null,
      "outputs": []
    },
    {
      "cell_type": "code",
      "metadata": {
        "id": "_kbX_E9i9_GI",
        "colab": {
          "base_uri": "https://localhost:8080/"
        },
        "outputId": "389ff412-9307-451f-b9cb-1540db443f57"
      },
      "source": [
        "y_train"
      ],
      "execution_count": null,
      "outputs": [
        {
          "output_type": "execute_result",
          "data": {
            "text/plain": [
              "array([[1., 0., 0., ..., 0., 0., 0.],\n",
              "       [0., 1., 0., ..., 0., 0., 0.],\n",
              "       [0., 0., 1., ..., 0., 0., 0.],\n",
              "       ...,\n",
              "       [1., 0., 0., ..., 0., 0., 0.],\n",
              "       [1., 0., 0., ..., 0., 0., 0.],\n",
              "       [0., 0., 0., ..., 0., 0., 0.]], dtype=float32)"
            ]
          },
          "metadata": {
            "tags": []
          },
          "execution_count": 22
        }
      ]
    },
    {
      "cell_type": "code",
      "metadata": {
        "id": "z2m3_XUfMgVY",
        "colab": {
          "base_uri": "https://localhost:8080/"
        },
        "outputId": "39e4dd35-97ce-4776-a7f6-37b9d39f816e"
      },
      "source": [
        "test_df.head()\n"
      ],
      "execution_count": null,
      "outputs": [
        {
          "output_type": "execute_result",
          "data": {
            "text/plain": [
              "596              দাঁতকে ঝকঝকে সাদা করার কিছু ঘরোয়া উপায়\n",
              "1222    ক্যান্সার কিডনী রোগি দের জন্য ব্লাডের রিকুয়েষ...\n",
              "1451    রবি অনুদান হিসেবে ২৫ লাখ ৩ হাজার ১৯৬ টাকা প্রদ...\n",
              "2018    ভগবান উবাচ এইডস কিংবা ক্যান্সার এই পৃথিবীর ভয়...\n",
              "1695    ব্লাড প্রেসার ক্যান্সার নিয়ন্ত্রণে গুণী বেগুন...\n",
              "Name: text, dtype: object"
            ]
          },
          "metadata": {
            "tags": []
          },
          "execution_count": 23
        }
      ]
    },
    {
      "cell_type": "code",
      "metadata": {
        "id": "PjUFxi7H-c6y"
      },
      "source": [
        "#tokenizing words\n",
        "MAX_NB_WORDS = 100000\n",
        "num_classes = 8\n",
        "\n",
        "# get the raw text data\n",
        "# texts_train = train_df['text'].astype(str)\n",
        "# texts_test = test_df['text'].astype(str)\n",
        "\n",
        "texts_train = train_df.to_list()\n",
        "texts_test = test_df.to_list()\n",
        "\n",
        "\n",
        "# finally, vectorize the text samples into a 2D integer tensor\n",
        "tokenizer = Tokenizer(num_words=MAX_NB_WORDS, char_level=False)\n",
        "tokenizer.fit_on_texts(texts_train)\n",
        "tokenizer.fit_on_texts(texts_test)\n"
      ],
      "execution_count": null,
      "outputs": []
    },
    {
      "cell_type": "code",
      "metadata": {
        "id": "GRk18UrhPgJp"
      },
      "source": [
        "# print(\"pre-processing train data...\")\n",
        "# processed_docs_test = []\n",
        "# for doc in tqdm(raw_docs_test):\n",
        "#     tokens = tokenizer.tokenize(doc)\n",
        "#     filtered = [word for word in tokens if word not in bn_stop_words]\n",
        "#     processed_docs_test.append(\" \".join(filtered))\n",
        "# #end for"
      ],
      "execution_count": null,
      "outputs": []
    },
    {
      "cell_type": "code",
      "metadata": {
        "id": "bTKCR-ryPcjP",
        "colab": {
          "base_uri": "https://localhost:8080/"
        },
        "outputId": "2bee50d3-1838-4c66-dbe1-186e0186323c"
      },
      "source": [
        "print(\"tokenizing input data to sequence ...\")\n",
        "max_seq_len =150\n",
        "word_seq_train = tokenizer.texts_to_sequences(texts_train)\n",
        "word_seq_test = tokenizer.texts_to_sequences(texts_test)\n",
        "\n",
        "word_index = tokenizer.word_index\n",
        "print('Found %s unique tokens/dictionary size.' % len(word_index))\n",
        "\n",
        "\n",
        "#pad sequences\n",
        "word_seq_train = sequence.pad_sequences(word_seq_train, maxlen=max_seq_len)\n",
        "word_seq_test = sequence.pad_sequences(word_seq_test, maxlen=max_seq_len)"
      ],
      "execution_count": null,
      "outputs": [
        {
          "output_type": "stream",
          "text": [
            "tokenizing input data to sequence ...\n",
            "Found 7087 unique tokens/dictionary size.\n"
          ],
          "name": "stdout"
        }
      ]
    },
    {
      "cell_type": "code",
      "metadata": {
        "id": "6ielTDb1i0I8",
        "colab": {
          "base_uri": "https://localhost:8080/"
        },
        "outputId": "4264579a-d89a-4aec-b331-65f2f6c2cb71"
      },
      "source": [
        "type(texts_train)"
      ],
      "execution_count": null,
      "outputs": [
        {
          "output_type": "execute_result",
          "data": {
            "text/plain": [
              "list"
            ]
          },
          "metadata": {
            "tags": []
          },
          "execution_count": 27
        }
      ]
    },
    {
      "cell_type": "code",
      "metadata": {
        "id": "HG-jR4efPzGl",
        "colab": {
          "base_uri": "https://localhost:8080/"
        },
        "outputId": "3108ce4f-3982-4fde-de49-ad6c3590aa5e"
      },
      "source": [
        "word_seq_train.shape"
      ],
      "execution_count": null,
      "outputs": [
        {
          "output_type": "execute_result",
          "data": {
            "text/plain": [
              "(1446, 150)"
            ]
          },
          "metadata": {
            "tags": []
          },
          "execution_count": 28
        }
      ]
    },
    {
      "cell_type": "code",
      "metadata": {
        "id": "BUPWfd6hyOMt",
        "colab": {
          "base_uri": "https://localhost:8080/"
        },
        "outputId": "aa149c1f-63e0-4778-f91b-47bd5207ee62"
      },
      "source": [
        "print(type(word_seq_train))\n",
        "print(type(word_seq_test))\n",
        "print(word_seq_train.shape)\n",
        "print(word_seq_test.shape)"
      ],
      "execution_count": null,
      "outputs": [
        {
          "output_type": "stream",
          "text": [
            "<class 'numpy.ndarray'>\n",
            "<class 'numpy.ndarray'>\n",
            "(1446, 150)\n",
            "(621, 150)\n"
          ],
          "name": "stdout"
        }
      ]
    },
    {
      "cell_type": "markdown",
      "metadata": {
        "id": "KG_A3hzw-Jo4"
      },
      "source": [
        "#MODEL"
      ]
    },
    {
      "cell_type": "markdown",
      "metadata": {
        "id": "Z1O22HMFW13F"
      },
      "source": [
        "##Define architecture"
      ]
    },
    {
      "cell_type": "code",
      "metadata": {
        "id": "0PIvREzq-c63"
      },
      "source": [
        "#training params\n",
        "batch_size = 128\n",
        "num_epochs = 200\n",
        "\n",
        "#model parameters\n",
        "num_filters = 64 \n",
        "embed_dim = 300 \n",
        "weight_decay = 1e-4\n"
      ],
      "execution_count": null,
      "outputs": []
    },
    {
      "cell_type": "code",
      "metadata": {
        "id": "U-tVT1zQ-c67",
        "colab": {
          "base_uri": "https://localhost:8080/"
        },
        "outputId": "3ae252cc-005c-4ba6-fcbf-1dad9a4f8564"
      },
      "source": [
        "#embedding matrix\n",
        "print('preparing embedding matrix...')\n",
        "words_not_found = []\n",
        "nb_words = min(MAX_NB_WORDS, len(word_index))\n",
        "embedding_matrix = np.zeros((nb_words, embed_dim))\n",
        "for word, i in word_index.items():\n",
        "    if i >= nb_words:\n",
        "        continue\n",
        "    embedding_vector = embeddings_index.get(word)\n",
        "    if (embedding_vector is not None) and len(embedding_vector) > 0:\n",
        "        # words not found in embedding index will be all-zeros.\n",
        "        embedding_matrix[i] = embedding_vector\n",
        "    else:\n",
        "        words_not_found.append(word)\n",
        "print('number of null word embeddings: %d' % np.sum(np.sum(embedding_matrix, axis=1) == 0))"
      ],
      "execution_count": null,
      "outputs": [
        {
          "output_type": "stream",
          "text": [
            "preparing embedding matrix...\n",
            "number of null word embeddings: 397\n"
          ],
          "name": "stdout"
        }
      ]
    },
    {
      "cell_type": "code",
      "metadata": {
        "id": "IQFNpIX_-c6-",
        "colab": {
          "base_uri": "https://localhost:8080/"
        },
        "outputId": "fca5db34-d989-4d28-9c82-3ebb8fc65cae"
      },
      "source": [
        "print(\"sample words not found: \", np.random.choice(words_not_found, 10))"
      ],
      "execution_count": null,
      "outputs": [
        {
          "output_type": "stream",
          "text": [
            "sample words not found:  ['ক্যামোথেরাপির' 'মিয়াদি' 'অতিবিলম্বে' '৫দাড়ি' 'কলোস্টোরল' 'পরথমপত'\n",
            " 'কমায়েন' 'প্যাপিলামো' 'ধুমুচি' 'জগনমোহনের']\n"
          ],
          "name": "stdout"
        }
      ]
    },
    {
      "cell_type": "code",
      "metadata": {
        "id": "Ev25EScn-c7B",
        "colab": {
          "base_uri": "https://localhost:8080/"
        },
        "outputId": "60ee3493-f255-4e06-9228-054a96fde379"
      },
      "source": [
        "#CNN architecture\n",
        "\n",
        "print(\"training CNN ...\")\n",
        "model = Sequential()\n",
        "model.add(Embedding(nb_words, embed_dim,\n",
        "          weights=[embedding_matrix], input_length=max_seq_len, trainable=False))\n",
        "model.add(Conv1D(num_filters, 7, activation='relu', padding='same'))\n",
        "model.add(MaxPooling1D(2))\n",
        "model.add(Conv1D(num_filters, 7, activation='relu', padding='same'))\n",
        "model.add(GlobalMaxPooling1D())\n",
        "model.add(Dropout(0.5))\n",
        "model.add(Dense(32, activation='relu', kernel_regularizer=regularizers.l2(weight_decay)))\n",
        "model.add(Dense(num_classes, activation='sigmoid'))  #multi-label (k-hot encoding)\n",
        "\n",
        "adam = optimizers.Adam(lr=0.001, beta_1=0.9, beta_2=0.999, epsilon=1e-08, decay=0.0)\n",
        "model.compile(loss='binary_crossentropy', optimizer=adam, metrics=['accuracy'])\n",
        "model.summary()\n",
        "\n"
      ],
      "execution_count": null,
      "outputs": [
        {
          "output_type": "stream",
          "text": [
            "training CNN ...\n",
            "Model: \"sequential\"\n",
            "_________________________________________________________________\n",
            "Layer (type)                 Output Shape              Param #   \n",
            "=================================================================\n",
            "embedding (Embedding)        (None, 150, 300)          2126100   \n",
            "_________________________________________________________________\n",
            "conv1d (Conv1D)              (None, 150, 64)           134464    \n",
            "_________________________________________________________________\n",
            "max_pooling1d (MaxPooling1D) (None, 75, 64)            0         \n",
            "_________________________________________________________________\n",
            "conv1d_1 (Conv1D)            (None, 75, 64)            28736     \n",
            "_________________________________________________________________\n",
            "global_max_pooling1d (Global (None, 64)                0         \n",
            "_________________________________________________________________\n",
            "dropout (Dropout)            (None, 64)                0         \n",
            "_________________________________________________________________\n",
            "dense (Dense)                (None, 32)                2080      \n",
            "_________________________________________________________________\n",
            "dense_1 (Dense)              (None, 8)                 264       \n",
            "=================================================================\n",
            "Total params: 2,291,644\n",
            "Trainable params: 165,544\n",
            "Non-trainable params: 2,126,100\n",
            "_________________________________________________________________\n"
          ],
          "name": "stdout"
        }
      ]
    },
    {
      "cell_type": "code",
      "metadata": {
        "id": "NJlPaZO0-c7F"
      },
      "source": [
        "#define callbacks\n",
        "early_stopping = EarlyStopping(monitor='val_loss', min_delta=0.01, patience=4, verbose=1)\n",
        "callbacks_list = [early_stopping]"
      ],
      "execution_count": null,
      "outputs": []
    },
    {
      "cell_type": "code",
      "metadata": {
        "id": "PKr0r_8IhwMP",
        "colab": {
          "base_uri": "https://localhost:8080/"
        },
        "outputId": "df2d9c0b-e533-4d90-ef76-0261786fd1d7"
      },
      "source": [
        "print(word_seq_train.shape)\n",
        "print(y_train.shape)\n",
        "print(embedding_matrix.shape)"
      ],
      "execution_count": null,
      "outputs": [
        {
          "output_type": "stream",
          "text": [
            "(1446, 150)\n",
            "(1446, 8)\n",
            "(7087, 300)\n"
          ],
          "name": "stdout"
        }
      ]
    },
    {
      "cell_type": "code",
      "metadata": {
        "id": "wWm3JoJ_5ejE",
        "colab": {
          "base_uri": "https://localhost:8080/"
        },
        "outputId": "1599b9d6-fa88-4a42-aa52-c64cf2fb0aa3"
      },
      "source": [
        "word_seq_train"
      ],
      "execution_count": null,
      "outputs": [
        {
          "output_type": "execute_result",
          "data": {
            "text/plain": [
              "array([[   0,    0,    0, ...,  136,  602,  382],\n",
              "       [   0,    0,    0, ..., 3037,   12, 1952],\n",
              "       [   0,    0,    0, ..., 1953,   19, 1147],\n",
              "       ...,\n",
              "       [   0,    0,    0, ...,    7,    3,    2],\n",
              "       [   0,    0,    0, ...,    2,   28,   30],\n",
              "       [   0,    0,    0, ...,  126,    1,    6]], dtype=int32)"
            ]
          },
          "metadata": {
            "tags": []
          },
          "execution_count": 36
        }
      ]
    },
    {
      "cell_type": "code",
      "metadata": {
        "id": "75La7n255h4w",
        "colab": {
          "base_uri": "https://localhost:8080/"
        },
        "outputId": "ec436c14-de2f-4b75-f073-4f18d0d6f002"
      },
      "source": [
        "y_train"
      ],
      "execution_count": null,
      "outputs": [
        {
          "output_type": "execute_result",
          "data": {
            "text/plain": [
              "array([[1., 0., 0., ..., 0., 0., 0.],\n",
              "       [0., 1., 0., ..., 0., 0., 0.],\n",
              "       [0., 0., 1., ..., 0., 0., 0.],\n",
              "       ...,\n",
              "       [1., 0., 0., ..., 0., 0., 0.],\n",
              "       [1., 0., 0., ..., 0., 0., 0.],\n",
              "       [0., 0., 0., ..., 0., 0., 0.]], dtype=float32)"
            ]
          },
          "metadata": {
            "tags": []
          },
          "execution_count": 37
        }
      ]
    },
    {
      "cell_type": "markdown",
      "metadata": {
        "id": "NrIe69HKW7ef"
      },
      "source": [
        "##Run model"
      ]
    },
    {
      "cell_type": "code",
      "metadata": {
        "id": "Gq4uXRYV-c7J",
        "colab": {
          "base_uri": "https://localhost:8080/"
        },
        "outputId": "5f21eff8-ea77-4dc3-fb57-34d3e1fe578c"
      },
      "source": [
        "#define callbacks -- problem - early callback e execution stops after some time\n",
        "early_stopping = EarlyStopping(monitor='val_loss', min_delta=0.01, patience=4, verbose=1) #early stopping to prevent overfitting\n",
        "callbacks_list = [early_stopping]\n",
        "\n",
        "#model training\n",
        "# hist = model.fit(word_seq_train, y_train, batch_size=batch_size, epochs=num_epochs, callbacks=callbacks_list, validation_split=0.1, shuffle=True, verbose=2)\n",
        "hist = model.fit(word_seq_train, y_train, batch_size=batch_size, epochs=num_epochs, validation_split=0.2, shuffle=True, verbose=2)\n"
      ],
      "execution_count": null,
      "outputs": [
        {
          "output_type": "stream",
          "text": [
            "Epoch 1/200\n",
            "10/10 - 3s - loss: 0.6726 - accuracy: 0.0450 - val_loss: 0.5946 - val_accuracy: 0.0207\n",
            "Epoch 2/200\n",
            "10/10 - 3s - loss: 0.5526 - accuracy: 0.0580 - val_loss: 0.4320 - val_accuracy: 0.0379\n",
            "Epoch 3/200\n",
            "10/10 - 3s - loss: 0.4323 - accuracy: 0.2076 - val_loss: 0.3688 - val_accuracy: 0.4276\n",
            "Epoch 4/200\n",
            "10/10 - 3s - loss: 0.3773 - accuracy: 0.3971 - val_loss: 0.3427 - val_accuracy: 0.4276\n",
            "Epoch 5/200\n",
            "10/10 - 3s - loss: 0.3518 - accuracy: 0.4100 - val_loss: 0.3284 - val_accuracy: 0.4276\n",
            "Epoch 6/200\n",
            "10/10 - 3s - loss: 0.3353 - accuracy: 0.4317 - val_loss: 0.3179 - val_accuracy: 0.4276\n",
            "Epoch 7/200\n",
            "10/10 - 3s - loss: 0.3290 - accuracy: 0.4343 - val_loss: 0.3127 - val_accuracy: 0.4276\n",
            "Epoch 8/200\n",
            "10/10 - 3s - loss: 0.3236 - accuracy: 0.4455 - val_loss: 0.3064 - val_accuracy: 0.4276\n",
            "Epoch 9/200\n",
            "10/10 - 3s - loss: 0.3084 - accuracy: 0.4507 - val_loss: 0.3018 - val_accuracy: 0.4276\n",
            "Epoch 10/200\n",
            "10/10 - 3s - loss: 0.3004 - accuracy: 0.4498 - val_loss: 0.2953 - val_accuracy: 0.4310\n",
            "Epoch 11/200\n",
            "10/10 - 3s - loss: 0.2927 - accuracy: 0.4931 - val_loss: 0.2907 - val_accuracy: 0.5103\n",
            "Epoch 12/200\n",
            "10/10 - 3s - loss: 0.2889 - accuracy: 0.4948 - val_loss: 0.2849 - val_accuracy: 0.5034\n",
            "Epoch 13/200\n",
            "10/10 - 3s - loss: 0.2816 - accuracy: 0.4991 - val_loss: 0.2816 - val_accuracy: 0.5069\n",
            "Epoch 14/200\n",
            "10/10 - 3s - loss: 0.2743 - accuracy: 0.5234 - val_loss: 0.2762 - val_accuracy: 0.5241\n",
            "Epoch 15/200\n",
            "10/10 - 3s - loss: 0.2692 - accuracy: 0.5372 - val_loss: 0.2712 - val_accuracy: 0.5448\n",
            "Epoch 16/200\n",
            "10/10 - 3s - loss: 0.2586 - accuracy: 0.5701 - val_loss: 0.2681 - val_accuracy: 0.5517\n",
            "Epoch 17/200\n",
            "10/10 - 3s - loss: 0.2601 - accuracy: 0.5649 - val_loss: 0.2626 - val_accuracy: 0.5793\n",
            "Epoch 18/200\n",
            "10/10 - 3s - loss: 0.2512 - accuracy: 0.5986 - val_loss: 0.2572 - val_accuracy: 0.5897\n",
            "Epoch 19/200\n",
            "10/10 - 3s - loss: 0.2441 - accuracy: 0.6047 - val_loss: 0.2543 - val_accuracy: 0.5931\n",
            "Epoch 20/200\n",
            "10/10 - 3s - loss: 0.2362 - accuracy: 0.6047 - val_loss: 0.2489 - val_accuracy: 0.5931\n",
            "Epoch 21/200\n",
            "10/10 - 3s - loss: 0.2311 - accuracy: 0.6246 - val_loss: 0.2459 - val_accuracy: 0.5897\n",
            "Epoch 22/200\n",
            "10/10 - 3s - loss: 0.2264 - accuracy: 0.6289 - val_loss: 0.2442 - val_accuracy: 0.5931\n",
            "Epoch 23/200\n",
            "10/10 - 3s - loss: 0.2239 - accuracy: 0.6263 - val_loss: 0.2417 - val_accuracy: 0.5931\n",
            "Epoch 24/200\n",
            "10/10 - 3s - loss: 0.2189 - accuracy: 0.6358 - val_loss: 0.2392 - val_accuracy: 0.5931\n",
            "Epoch 25/200\n",
            "10/10 - 3s - loss: 0.2144 - accuracy: 0.6419 - val_loss: 0.2373 - val_accuracy: 0.6034\n",
            "Epoch 26/200\n",
            "10/10 - 3s - loss: 0.2092 - accuracy: 0.6540 - val_loss: 0.2376 - val_accuracy: 0.6103\n",
            "Epoch 27/200\n",
            "10/10 - 3s - loss: 0.2082 - accuracy: 0.6505 - val_loss: 0.2371 - val_accuracy: 0.6069\n",
            "Epoch 28/200\n",
            "10/10 - 3s - loss: 0.2025 - accuracy: 0.6739 - val_loss: 0.2344 - val_accuracy: 0.6172\n",
            "Epoch 29/200\n",
            "10/10 - 3s - loss: 0.1984 - accuracy: 0.6791 - val_loss: 0.2364 - val_accuracy: 0.5966\n",
            "Epoch 30/200\n",
            "10/10 - 3s - loss: 0.1991 - accuracy: 0.6791 - val_loss: 0.2310 - val_accuracy: 0.6241\n",
            "Epoch 31/200\n",
            "10/10 - 3s - loss: 0.1924 - accuracy: 0.6843 - val_loss: 0.2298 - val_accuracy: 0.6310\n",
            "Epoch 32/200\n",
            "10/10 - 3s - loss: 0.1874 - accuracy: 0.6972 - val_loss: 0.2301 - val_accuracy: 0.6414\n",
            "Epoch 33/200\n",
            "10/10 - 3s - loss: 0.1816 - accuracy: 0.7223 - val_loss: 0.2301 - val_accuracy: 0.6483\n",
            "Epoch 34/200\n",
            "10/10 - 3s - loss: 0.1782 - accuracy: 0.7050 - val_loss: 0.2308 - val_accuracy: 0.6207\n",
            "Epoch 35/200\n",
            "10/10 - 3s - loss: 0.1797 - accuracy: 0.7050 - val_loss: 0.2302 - val_accuracy: 0.6517\n",
            "Epoch 36/200\n",
            "10/10 - 3s - loss: 0.1716 - accuracy: 0.7171 - val_loss: 0.2275 - val_accuracy: 0.6345\n",
            "Epoch 37/200\n",
            "10/10 - 3s - loss: 0.1709 - accuracy: 0.7310 - val_loss: 0.2283 - val_accuracy: 0.6586\n",
            "Epoch 38/200\n",
            "10/10 - 3s - loss: 0.1688 - accuracy: 0.7284 - val_loss: 0.2299 - val_accuracy: 0.6448\n",
            "Epoch 39/200\n",
            "10/10 - 3s - loss: 0.1617 - accuracy: 0.7439 - val_loss: 0.2299 - val_accuracy: 0.6517\n",
            "Epoch 40/200\n",
            "10/10 - 3s - loss: 0.1590 - accuracy: 0.7413 - val_loss: 0.2339 - val_accuracy: 0.6552\n",
            "Epoch 41/200\n",
            "10/10 - 3s - loss: 0.1547 - accuracy: 0.7535 - val_loss: 0.2279 - val_accuracy: 0.6759\n",
            "Epoch 42/200\n",
            "10/10 - 3s - loss: 0.1519 - accuracy: 0.7612 - val_loss: 0.2273 - val_accuracy: 0.6552\n",
            "Epoch 43/200\n",
            "10/10 - 3s - loss: 0.1467 - accuracy: 0.7760 - val_loss: 0.2249 - val_accuracy: 0.6621\n",
            "Epoch 44/200\n",
            "10/10 - 3s - loss: 0.1444 - accuracy: 0.7803 - val_loss: 0.2329 - val_accuracy: 0.6586\n",
            "Epoch 45/200\n",
            "10/10 - 3s - loss: 0.1395 - accuracy: 0.7898 - val_loss: 0.2286 - val_accuracy: 0.6586\n",
            "Epoch 46/200\n",
            "10/10 - 3s - loss: 0.1351 - accuracy: 0.7950 - val_loss: 0.2272 - val_accuracy: 0.6724\n",
            "Epoch 47/200\n",
            "10/10 - 3s - loss: 0.1319 - accuracy: 0.8097 - val_loss: 0.2314 - val_accuracy: 0.6793\n",
            "Epoch 48/200\n",
            "10/10 - 3s - loss: 0.1285 - accuracy: 0.8140 - val_loss: 0.2341 - val_accuracy: 0.6724\n",
            "Epoch 49/200\n",
            "10/10 - 3s - loss: 0.1188 - accuracy: 0.8201 - val_loss: 0.2274 - val_accuracy: 0.6793\n",
            "Epoch 50/200\n",
            "10/10 - 3s - loss: 0.1182 - accuracy: 0.8270 - val_loss: 0.2292 - val_accuracy: 0.6793\n",
            "Epoch 51/200\n",
            "10/10 - 3s - loss: 0.1129 - accuracy: 0.8400 - val_loss: 0.2340 - val_accuracy: 0.6621\n",
            "Epoch 52/200\n",
            "10/10 - 3s - loss: 0.1090 - accuracy: 0.8529 - val_loss: 0.2334 - val_accuracy: 0.6655\n",
            "Epoch 53/200\n",
            "10/10 - 3s - loss: 0.1057 - accuracy: 0.8426 - val_loss: 0.2268 - val_accuracy: 0.6690\n",
            "Epoch 54/200\n",
            "10/10 - 3s - loss: 0.0987 - accuracy: 0.8806 - val_loss: 0.2379 - val_accuracy: 0.6862\n",
            "Epoch 55/200\n",
            "10/10 - 3s - loss: 0.0978 - accuracy: 0.8460 - val_loss: 0.2321 - val_accuracy: 0.6690\n",
            "Epoch 56/200\n",
            "10/10 - 3s - loss: 0.0942 - accuracy: 0.8780 - val_loss: 0.2321 - val_accuracy: 0.6828\n",
            "Epoch 57/200\n",
            "10/10 - 3s - loss: 0.0875 - accuracy: 0.8945 - val_loss: 0.2343 - val_accuracy: 0.6759\n",
            "Epoch 58/200\n",
            "10/10 - 3s - loss: 0.0899 - accuracy: 0.8875 - val_loss: 0.2531 - val_accuracy: 0.6793\n",
            "Epoch 59/200\n",
            "10/10 - 3s - loss: 0.0862 - accuracy: 0.8971 - val_loss: 0.2421 - val_accuracy: 0.6931\n",
            "Epoch 60/200\n",
            "10/10 - 3s - loss: 0.0812 - accuracy: 0.8971 - val_loss: 0.2451 - val_accuracy: 0.6552\n",
            "Epoch 61/200\n",
            "10/10 - 3s - loss: 0.0798 - accuracy: 0.9048 - val_loss: 0.2606 - val_accuracy: 0.6517\n",
            "Epoch 62/200\n",
            "10/10 - 3s - loss: 0.0773 - accuracy: 0.9048 - val_loss: 0.2523 - val_accuracy: 0.6690\n",
            "Epoch 63/200\n",
            "10/10 - 3s - loss: 0.0696 - accuracy: 0.9144 - val_loss: 0.2501 - val_accuracy: 0.6759\n",
            "Epoch 64/200\n",
            "10/10 - 3s - loss: 0.0671 - accuracy: 0.9196 - val_loss: 0.2536 - val_accuracy: 0.6690\n",
            "Epoch 65/200\n",
            "10/10 - 3s - loss: 0.0700 - accuracy: 0.9126 - val_loss: 0.2749 - val_accuracy: 0.6690\n",
            "Epoch 66/200\n",
            "10/10 - 3s - loss: 0.0644 - accuracy: 0.9204 - val_loss: 0.2559 - val_accuracy: 0.6724\n",
            "Epoch 67/200\n",
            "10/10 - 3s - loss: 0.0585 - accuracy: 0.9291 - val_loss: 0.2620 - val_accuracy: 0.6828\n",
            "Epoch 68/200\n",
            "10/10 - 3s - loss: 0.0655 - accuracy: 0.9230 - val_loss: 0.3027 - val_accuracy: 0.6586\n",
            "Epoch 69/200\n",
            "10/10 - 3s - loss: 0.0635 - accuracy: 0.9265 - val_loss: 0.2614 - val_accuracy: 0.6966\n",
            "Epoch 70/200\n",
            "10/10 - 3s - loss: 0.0570 - accuracy: 0.9299 - val_loss: 0.2745 - val_accuracy: 0.6724\n",
            "Epoch 71/200\n",
            "10/10 - 3s - loss: 0.0551 - accuracy: 0.9386 - val_loss: 0.2793 - val_accuracy: 0.6759\n",
            "Epoch 72/200\n",
            "10/10 - 3s - loss: 0.0498 - accuracy: 0.9429 - val_loss: 0.2889 - val_accuracy: 0.6793\n",
            "Epoch 73/200\n",
            "10/10 - 3s - loss: 0.0500 - accuracy: 0.9412 - val_loss: 0.2844 - val_accuracy: 0.6828\n",
            "Epoch 74/200\n",
            "10/10 - 3s - loss: 0.0449 - accuracy: 0.9550 - val_loss: 0.2931 - val_accuracy: 0.6655\n",
            "Epoch 75/200\n",
            "10/10 - 3s - loss: 0.0457 - accuracy: 0.9524 - val_loss: 0.3010 - val_accuracy: 0.6897\n",
            "Epoch 76/200\n",
            "10/10 - 3s - loss: 0.0420 - accuracy: 0.9490 - val_loss: 0.2947 - val_accuracy: 0.6724\n",
            "Epoch 77/200\n",
            "10/10 - 3s - loss: 0.0414 - accuracy: 0.9542 - val_loss: 0.3065 - val_accuracy: 0.6828\n",
            "Epoch 78/200\n",
            "10/10 - 3s - loss: 0.0414 - accuracy: 0.9533 - val_loss: 0.3239 - val_accuracy: 0.6862\n",
            "Epoch 79/200\n",
            "10/10 - 3s - loss: 0.0492 - accuracy: 0.9369 - val_loss: 0.2808 - val_accuracy: 0.6724\n",
            "Epoch 80/200\n",
            "10/10 - 3s - loss: 0.0463 - accuracy: 0.9490 - val_loss: 0.3077 - val_accuracy: 0.6931\n",
            "Epoch 81/200\n",
            "10/10 - 3s - loss: 0.0401 - accuracy: 0.9576 - val_loss: 0.3014 - val_accuracy: 0.6931\n",
            "Epoch 82/200\n",
            "10/10 - 3s - loss: 0.0372 - accuracy: 0.9611 - val_loss: 0.3224 - val_accuracy: 0.6793\n",
            "Epoch 83/200\n",
            "10/10 - 3s - loss: 0.0370 - accuracy: 0.9680 - val_loss: 0.3121 - val_accuracy: 0.6966\n",
            "Epoch 84/200\n",
            "10/10 - 3s - loss: 0.0349 - accuracy: 0.9628 - val_loss: 0.3295 - val_accuracy: 0.6931\n",
            "Epoch 85/200\n",
            "10/10 - 3s - loss: 0.0341 - accuracy: 0.9637 - val_loss: 0.3221 - val_accuracy: 0.7000\n",
            "Epoch 86/200\n",
            "10/10 - 3s - loss: 0.0333 - accuracy: 0.9671 - val_loss: 0.3325 - val_accuracy: 0.6966\n",
            "Epoch 87/200\n",
            "10/10 - 3s - loss: 0.0308 - accuracy: 0.9697 - val_loss: 0.3477 - val_accuracy: 0.6862\n",
            "Epoch 88/200\n",
            "10/10 - 3s - loss: 0.0319 - accuracy: 0.9654 - val_loss: 0.3362 - val_accuracy: 0.7000\n",
            "Epoch 89/200\n",
            "10/10 - 3s - loss: 0.0336 - accuracy: 0.9602 - val_loss: 0.3417 - val_accuracy: 0.6793\n",
            "Epoch 90/200\n",
            "10/10 - 3s - loss: 0.0310 - accuracy: 0.9671 - val_loss: 0.3309 - val_accuracy: 0.7000\n",
            "Epoch 91/200\n",
            "10/10 - 3s - loss: 0.0315 - accuracy: 0.9723 - val_loss: 0.3442 - val_accuracy: 0.6759\n",
            "Epoch 92/200\n",
            "10/10 - 3s - loss: 0.0282 - accuracy: 0.9715 - val_loss: 0.3519 - val_accuracy: 0.6759\n",
            "Epoch 93/200\n",
            "10/10 - 3s - loss: 0.0283 - accuracy: 0.9732 - val_loss: 0.3426 - val_accuracy: 0.7034\n",
            "Epoch 94/200\n",
            "10/10 - 3s - loss: 0.0299 - accuracy: 0.9732 - val_loss: 0.3521 - val_accuracy: 0.6897\n",
            "Epoch 95/200\n",
            "10/10 - 3s - loss: 0.0307 - accuracy: 0.9749 - val_loss: 0.3390 - val_accuracy: 0.6897\n",
            "Epoch 96/200\n",
            "10/10 - 3s - loss: 0.0276 - accuracy: 0.9715 - val_loss: 0.3497 - val_accuracy: 0.6897\n",
            "Epoch 97/200\n",
            "10/10 - 3s - loss: 0.0286 - accuracy: 0.9758 - val_loss: 0.3602 - val_accuracy: 0.6862\n",
            "Epoch 98/200\n",
            "10/10 - 3s - loss: 0.0348 - accuracy: 0.9619 - val_loss: 0.3533 - val_accuracy: 0.6724\n",
            "Epoch 99/200\n",
            "10/10 - 3s - loss: 0.0368 - accuracy: 0.9680 - val_loss: 0.3709 - val_accuracy: 0.6655\n",
            "Epoch 100/200\n",
            "10/10 - 3s - loss: 0.0326 - accuracy: 0.9628 - val_loss: 0.3550 - val_accuracy: 0.6897\n",
            "Epoch 101/200\n",
            "10/10 - 3s - loss: 0.0264 - accuracy: 0.9758 - val_loss: 0.3488 - val_accuracy: 0.6966\n",
            "Epoch 102/200\n",
            "10/10 - 3s - loss: 0.0244 - accuracy: 0.9784 - val_loss: 0.3698 - val_accuracy: 0.6793\n",
            "Epoch 103/200\n",
            "10/10 - 3s - loss: 0.0241 - accuracy: 0.9766 - val_loss: 0.3754 - val_accuracy: 0.6966\n",
            "Epoch 104/200\n",
            "10/10 - 3s - loss: 0.0235 - accuracy: 0.9792 - val_loss: 0.3824 - val_accuracy: 0.6793\n",
            "Epoch 105/200\n",
            "10/10 - 3s - loss: 0.0235 - accuracy: 0.9732 - val_loss: 0.3748 - val_accuracy: 0.6897\n",
            "Epoch 106/200\n",
            "10/10 - 3s - loss: 0.0224 - accuracy: 0.9749 - val_loss: 0.3815 - val_accuracy: 0.6828\n",
            "Epoch 107/200\n",
            "10/10 - 3s - loss: 0.0240 - accuracy: 0.9775 - val_loss: 0.3894 - val_accuracy: 0.6724\n",
            "Epoch 108/200\n",
            "10/10 - 3s - loss: 0.0223 - accuracy: 0.9784 - val_loss: 0.3836 - val_accuracy: 0.6759\n",
            "Epoch 109/200\n",
            "10/10 - 3s - loss: 0.0228 - accuracy: 0.9766 - val_loss: 0.3941 - val_accuracy: 0.6862\n",
            "Epoch 110/200\n",
            "10/10 - 3s - loss: 0.0226 - accuracy: 0.9801 - val_loss: 0.4072 - val_accuracy: 0.6931\n",
            "Epoch 111/200\n",
            "10/10 - 3s - loss: 0.0230 - accuracy: 0.9775 - val_loss: 0.3949 - val_accuracy: 0.6966\n",
            "Epoch 112/200\n",
            "10/10 - 3s - loss: 0.0231 - accuracy: 0.9836 - val_loss: 0.3853 - val_accuracy: 0.6828\n",
            "Epoch 113/200\n",
            "10/10 - 3s - loss: 0.0215 - accuracy: 0.9792 - val_loss: 0.3876 - val_accuracy: 0.6759\n",
            "Epoch 114/200\n",
            "10/10 - 3s - loss: 0.0209 - accuracy: 0.9827 - val_loss: 0.3912 - val_accuracy: 0.6793\n",
            "Epoch 115/200\n",
            "10/10 - 3s - loss: 0.0202 - accuracy: 0.9844 - val_loss: 0.4024 - val_accuracy: 0.6828\n",
            "Epoch 116/200\n",
            "10/10 - 3s - loss: 0.0202 - accuracy: 0.9853 - val_loss: 0.3947 - val_accuracy: 0.6897\n",
            "Epoch 117/200\n",
            "10/10 - 3s - loss: 0.0187 - accuracy: 0.9862 - val_loss: 0.4058 - val_accuracy: 0.6897\n",
            "Epoch 118/200\n",
            "10/10 - 3s - loss: 0.0184 - accuracy: 0.9836 - val_loss: 0.3988 - val_accuracy: 0.6862\n",
            "Epoch 119/200\n",
            "10/10 - 3s - loss: 0.0187 - accuracy: 0.9853 - val_loss: 0.4082 - val_accuracy: 0.6793\n",
            "Epoch 120/200\n",
            "10/10 - 3s - loss: 0.0184 - accuracy: 0.9836 - val_loss: 0.3973 - val_accuracy: 0.6828\n",
            "Epoch 121/200\n",
            "10/10 - 3s - loss: 0.0325 - accuracy: 0.9654 - val_loss: 0.4319 - val_accuracy: 0.6586\n",
            "Epoch 122/200\n",
            "10/10 - 3s - loss: 0.0341 - accuracy: 0.9637 - val_loss: 0.3597 - val_accuracy: 0.6586\n",
            "Epoch 123/200\n",
            "10/10 - 3s - loss: 0.0280 - accuracy: 0.9732 - val_loss: 0.3553 - val_accuracy: 0.6828\n",
            "Epoch 124/200\n",
            "10/10 - 3s - loss: 0.0216 - accuracy: 0.9784 - val_loss: 0.3604 - val_accuracy: 0.6828\n",
            "Epoch 125/200\n",
            "10/10 - 3s - loss: 0.0214 - accuracy: 0.9844 - val_loss: 0.3851 - val_accuracy: 0.6862\n",
            "Epoch 126/200\n",
            "10/10 - 3s - loss: 0.0214 - accuracy: 0.9853 - val_loss: 0.3931 - val_accuracy: 0.6862\n",
            "Epoch 127/200\n",
            "10/10 - 3s - loss: 0.0196 - accuracy: 0.9836 - val_loss: 0.3898 - val_accuracy: 0.6897\n",
            "Epoch 128/200\n",
            "10/10 - 3s - loss: 0.0178 - accuracy: 0.9818 - val_loss: 0.4047 - val_accuracy: 0.6931\n",
            "Epoch 129/200\n",
            "10/10 - 3s - loss: 0.0176 - accuracy: 0.9818 - val_loss: 0.4102 - val_accuracy: 0.6897\n",
            "Epoch 130/200\n",
            "10/10 - 3s - loss: 0.0194 - accuracy: 0.9827 - val_loss: 0.4053 - val_accuracy: 0.7069\n",
            "Epoch 131/200\n",
            "10/10 - 3s - loss: 0.0175 - accuracy: 0.9853 - val_loss: 0.4131 - val_accuracy: 0.7034\n",
            "Epoch 132/200\n",
            "10/10 - 3s - loss: 0.0157 - accuracy: 0.9879 - val_loss: 0.4187 - val_accuracy: 0.7000\n",
            "Epoch 133/200\n",
            "10/10 - 3s - loss: 0.0164 - accuracy: 0.9888 - val_loss: 0.4192 - val_accuracy: 0.7000\n",
            "Epoch 134/200\n",
            "10/10 - 3s - loss: 0.0151 - accuracy: 0.9888 - val_loss: 0.4217 - val_accuracy: 0.7000\n",
            "Epoch 135/200\n",
            "10/10 - 3s - loss: 0.0160 - accuracy: 0.9905 - val_loss: 0.4177 - val_accuracy: 0.6931\n",
            "Epoch 136/200\n",
            "10/10 - 3s - loss: 0.0161 - accuracy: 0.9888 - val_loss: 0.4238 - val_accuracy: 0.6931\n",
            "Epoch 137/200\n",
            "10/10 - 3s - loss: 0.0153 - accuracy: 0.9879 - val_loss: 0.4273 - val_accuracy: 0.7034\n",
            "Epoch 138/200\n",
            "10/10 - 3s - loss: 0.0167 - accuracy: 0.9905 - val_loss: 0.4238 - val_accuracy: 0.7000\n",
            "Epoch 139/200\n",
            "10/10 - 3s - loss: 0.0158 - accuracy: 0.9913 - val_loss: 0.4264 - val_accuracy: 0.6966\n",
            "Epoch 140/200\n",
            "10/10 - 3s - loss: 0.0142 - accuracy: 0.9913 - val_loss: 0.4357 - val_accuracy: 0.7034\n",
            "Epoch 141/200\n",
            "10/10 - 3s - loss: 0.0159 - accuracy: 0.9879 - val_loss: 0.4404 - val_accuracy: 0.6966\n",
            "Epoch 142/200\n",
            "10/10 - 3s - loss: 0.0157 - accuracy: 0.9888 - val_loss: 0.4355 - val_accuracy: 0.7000\n",
            "Epoch 143/200\n",
            "10/10 - 3s - loss: 0.0148 - accuracy: 0.9888 - val_loss: 0.4373 - val_accuracy: 0.7000\n",
            "Epoch 144/200\n",
            "10/10 - 3s - loss: 0.0142 - accuracy: 0.9888 - val_loss: 0.4417 - val_accuracy: 0.6966\n",
            "Epoch 145/200\n",
            "10/10 - 3s - loss: 0.0146 - accuracy: 0.9888 - val_loss: 0.4424 - val_accuracy: 0.7000\n",
            "Epoch 146/200\n",
            "10/10 - 3s - loss: 0.0151 - accuracy: 0.9905 - val_loss: 0.4459 - val_accuracy: 0.6966\n",
            "Epoch 147/200\n",
            "10/10 - 3s - loss: 0.0149 - accuracy: 0.9939 - val_loss: 0.4411 - val_accuracy: 0.6862\n",
            "Epoch 148/200\n",
            "10/10 - 3s - loss: 0.0186 - accuracy: 0.9879 - val_loss: 0.4653 - val_accuracy: 0.6828\n",
            "Epoch 149/200\n",
            "10/10 - 3s - loss: 0.0160 - accuracy: 0.9913 - val_loss: 0.4489 - val_accuracy: 0.6931\n",
            "Epoch 150/200\n",
            "10/10 - 3s - loss: 0.0156 - accuracy: 0.9870 - val_loss: 0.4435 - val_accuracy: 0.6862\n",
            "Epoch 151/200\n",
            "10/10 - 3s - loss: 0.0161 - accuracy: 0.9896 - val_loss: 0.4337 - val_accuracy: 0.6931\n",
            "Epoch 152/200\n",
            "10/10 - 3s - loss: 0.0152 - accuracy: 0.9896 - val_loss: 0.4342 - val_accuracy: 0.7034\n",
            "Epoch 153/200\n",
            "10/10 - 3s - loss: 0.0146 - accuracy: 0.9922 - val_loss: 0.4467 - val_accuracy: 0.6966\n",
            "Epoch 154/200\n",
            "10/10 - 3s - loss: 0.0135 - accuracy: 0.9922 - val_loss: 0.4523 - val_accuracy: 0.6897\n",
            "Epoch 155/200\n",
            "10/10 - 3s - loss: 0.0139 - accuracy: 0.9913 - val_loss: 0.4495 - val_accuracy: 0.6897\n",
            "Epoch 156/200\n",
            "10/10 - 3s - loss: 0.0114 - accuracy: 0.9965 - val_loss: 0.4577 - val_accuracy: 0.6897\n",
            "Epoch 157/200\n",
            "10/10 - 3s - loss: 0.0142 - accuracy: 0.9896 - val_loss: 0.4516 - val_accuracy: 0.6828\n",
            "Epoch 158/200\n",
            "10/10 - 3s - loss: 0.0178 - accuracy: 0.9879 - val_loss: 0.4389 - val_accuracy: 0.6793\n",
            "Epoch 159/200\n",
            "10/10 - 3s - loss: 0.0208 - accuracy: 0.9853 - val_loss: 0.4405 - val_accuracy: 0.6552\n",
            "Epoch 160/200\n",
            "10/10 - 3s - loss: 0.0176 - accuracy: 0.9879 - val_loss: 0.4124 - val_accuracy: 0.6931\n",
            "Epoch 161/200\n",
            "10/10 - 3s - loss: 0.0165 - accuracy: 0.9905 - val_loss: 0.4266 - val_accuracy: 0.6931\n",
            "Epoch 162/200\n",
            "10/10 - 3s - loss: 0.0151 - accuracy: 0.9948 - val_loss: 0.4345 - val_accuracy: 0.6759\n",
            "Epoch 163/200\n",
            "10/10 - 3s - loss: 0.0146 - accuracy: 0.9913 - val_loss: 0.4442 - val_accuracy: 0.6828\n",
            "Epoch 164/200\n",
            "10/10 - 3s - loss: 0.0153 - accuracy: 0.9922 - val_loss: 0.4526 - val_accuracy: 0.6897\n",
            "Epoch 165/200\n",
            "10/10 - 3s - loss: 0.0129 - accuracy: 0.9931 - val_loss: 0.4652 - val_accuracy: 0.6862\n",
            "Epoch 166/200\n",
            "10/10 - 3s - loss: 0.0150 - accuracy: 0.9896 - val_loss: 0.4613 - val_accuracy: 0.6724\n",
            "Epoch 167/200\n",
            "10/10 - 3s - loss: 0.0144 - accuracy: 0.9913 - val_loss: 0.4580 - val_accuracy: 0.6897\n",
            "Epoch 168/200\n",
            "10/10 - 3s - loss: 0.0133 - accuracy: 0.9931 - val_loss: 0.4606 - val_accuracy: 0.6862\n",
            "Epoch 169/200\n",
            "10/10 - 3s - loss: 0.0129 - accuracy: 0.9948 - val_loss: 0.4671 - val_accuracy: 0.6897\n",
            "Epoch 170/200\n",
            "10/10 - 3s - loss: 0.0125 - accuracy: 0.9931 - val_loss: 0.4771 - val_accuracy: 0.6966\n",
            "Epoch 171/200\n",
            "10/10 - 3s - loss: 0.0126 - accuracy: 0.9905 - val_loss: 0.4738 - val_accuracy: 0.6931\n",
            "Epoch 172/200\n",
            "10/10 - 3s - loss: 0.0121 - accuracy: 0.9922 - val_loss: 0.4873 - val_accuracy: 0.6862\n",
            "Epoch 173/200\n",
            "10/10 - 3s - loss: 0.0134 - accuracy: 0.9879 - val_loss: 0.4846 - val_accuracy: 0.6897\n",
            "Epoch 174/200\n",
            "10/10 - 3s - loss: 0.0127 - accuracy: 0.9922 - val_loss: 0.4672 - val_accuracy: 0.6897\n",
            "Epoch 175/200\n",
            "10/10 - 3s - loss: 0.0122 - accuracy: 0.9931 - val_loss: 0.4850 - val_accuracy: 0.6931\n",
            "Epoch 176/200\n",
            "10/10 - 3s - loss: 0.0121 - accuracy: 0.9931 - val_loss: 0.4729 - val_accuracy: 0.6897\n",
            "Epoch 177/200\n",
            "10/10 - 3s - loss: 0.0120 - accuracy: 0.9939 - val_loss: 0.4825 - val_accuracy: 0.6931\n",
            "Epoch 178/200\n",
            "10/10 - 3s - loss: 0.0133 - accuracy: 0.9879 - val_loss: 0.4962 - val_accuracy: 0.6690\n",
            "Epoch 179/200\n",
            "10/10 - 3s - loss: 0.0141 - accuracy: 0.9888 - val_loss: 0.4742 - val_accuracy: 0.6862\n",
            "Epoch 180/200\n",
            "10/10 - 3s - loss: 0.0127 - accuracy: 0.9931 - val_loss: 0.4647 - val_accuracy: 0.6897\n",
            "Epoch 181/200\n",
            "10/10 - 3s - loss: 0.0123 - accuracy: 0.9939 - val_loss: 0.4636 - val_accuracy: 0.6828\n",
            "Epoch 182/200\n",
            "10/10 - 3s - loss: 0.0113 - accuracy: 0.9939 - val_loss: 0.4808 - val_accuracy: 0.6828\n",
            "Epoch 183/200\n",
            "10/10 - 3s - loss: 0.0120 - accuracy: 0.9888 - val_loss: 0.4865 - val_accuracy: 0.6897\n",
            "Epoch 184/200\n",
            "10/10 - 3s - loss: 0.0108 - accuracy: 0.9939 - val_loss: 0.4831 - val_accuracy: 0.6862\n",
            "Epoch 185/200\n",
            "10/10 - 3s - loss: 0.0119 - accuracy: 0.9913 - val_loss: 0.4985 - val_accuracy: 0.6966\n",
            "Epoch 186/200\n",
            "10/10 - 3s - loss: 0.0104 - accuracy: 0.9948 - val_loss: 0.4889 - val_accuracy: 0.6724\n",
            "Epoch 187/200\n",
            "10/10 - 3s - loss: 0.0209 - accuracy: 0.9801 - val_loss: 0.4793 - val_accuracy: 0.6862\n",
            "Epoch 188/200\n",
            "10/10 - 3s - loss: 0.0164 - accuracy: 0.9888 - val_loss: 0.4141 - val_accuracy: 0.6655\n",
            "Epoch 189/200\n",
            "10/10 - 3s - loss: 0.0165 - accuracy: 0.9896 - val_loss: 0.4305 - val_accuracy: 0.6586\n",
            "Epoch 190/200\n",
            "10/10 - 3s - loss: 0.0190 - accuracy: 0.9879 - val_loss: 0.4627 - val_accuracy: 0.6655\n",
            "Epoch 191/200\n",
            "10/10 - 3s - loss: 0.0183 - accuracy: 0.9905 - val_loss: 0.4589 - val_accuracy: 0.7034\n",
            "Epoch 192/200\n",
            "10/10 - 3s - loss: 0.0148 - accuracy: 0.9879 - val_loss: 0.4890 - val_accuracy: 0.6690\n",
            "Epoch 193/200\n",
            "10/10 - 3s - loss: 0.0136 - accuracy: 0.9931 - val_loss: 0.4610 - val_accuracy: 0.6793\n",
            "Epoch 194/200\n",
            "10/10 - 3s - loss: 0.0125 - accuracy: 0.9922 - val_loss: 0.4722 - val_accuracy: 0.6828\n",
            "Epoch 195/200\n",
            "10/10 - 3s - loss: 0.0159 - accuracy: 0.9905 - val_loss: 0.4545 - val_accuracy: 0.6862\n",
            "Epoch 196/200\n",
            "10/10 - 3s - loss: 0.0147 - accuracy: 0.9931 - val_loss: 0.4613 - val_accuracy: 0.6828\n",
            "Epoch 197/200\n",
            "10/10 - 3s - loss: 0.0125 - accuracy: 0.9939 - val_loss: 0.4736 - val_accuracy: 0.6897\n",
            "Epoch 198/200\n",
            "10/10 - 3s - loss: 0.0133 - accuracy: 0.9931 - val_loss: 0.4751 - val_accuracy: 0.6862\n",
            "Epoch 199/200\n",
            "10/10 - 3s - loss: 0.0135 - accuracy: 0.9905 - val_loss: 0.4729 - val_accuracy: 0.6655\n",
            "Epoch 200/200\n",
            "10/10 - 3s - loss: 0.0105 - accuracy: 0.9957 - val_loss: 0.4825 - val_accuracy: 0.6897\n"
          ],
          "name": "stdout"
        }
      ]
    },
    {
      "cell_type": "code",
      "metadata": {
        "id": "4HbKZQXdS1vk",
        "colab": {
          "base_uri": "https://localhost:8080/"
        },
        "outputId": "55721542-0798-4f69-87a6-71f3a12ed161"
      },
      "source": [
        "#max accuracy \n",
        "print(\"Max acc from training set %0.5f\" % max(hist.history['accuracy']))\n",
        "print(\"Max val_acc from validation set %0.5f\" % max(hist.history['val_accuracy']))"
      ],
      "execution_count": null,
      "outputs": [
        {
          "output_type": "stream",
          "text": [
            "Max acc from training set 0.99654\n",
            "Max val_acc from validation set 0.70690\n"
          ],
          "name": "stdout"
        }
      ]
    },
    {
      "cell_type": "code",
      "metadata": {
        "id": "n2ZdGaHgaQn2",
        "colab": {
          "base_uri": "https://localhost:8080/"
        },
        "outputId": "de0187ac-b19b-4ec1-ca09-f7454892c3d7"
      },
      "source": [
        "word_seq_test\n"
      ],
      "execution_count": null,
      "outputs": [
        {
          "output_type": "execute_result",
          "data": {
            "text/plain": [
              "array([[   0,    0,    0, ...,   25,    3,    2],\n",
              "       [   0,    0,    0, ..., 5800,   52,   16],\n",
              "       [   0,    0,    0, ..., 5804,  740, 5805],\n",
              "       ...,\n",
              "       [   0,    0,    0, ...,   11,  449,  211],\n",
              "       [   0,    0,    0, ...,  142,   10,   22],\n",
              "       [   0,    0,    0, ...,  936,  113,   59]], dtype=int32)"
            ]
          },
          "metadata": {
            "tags": []
          },
          "execution_count": 40
        }
      ]
    },
    {
      "cell_type": "code",
      "metadata": {
        "id": "AHxxna2R0XyU",
        "colab": {
          "base_uri": "https://localhost:8080/"
        },
        "outputId": "f58ea4eb-57b4-4552-a459-42c36d501e07"
      },
      "source": [
        "print(type(word_seq_test))"
      ],
      "execution_count": null,
      "outputs": [
        {
          "output_type": "stream",
          "text": [
            "<class 'numpy.ndarray'>\n"
          ],
          "name": "stdout"
        }
      ]
    },
    {
      "cell_type": "code",
      "metadata": {
        "id": "UZLpvPEJ-c7N"
      },
      "source": [
        "y_test = model.predict(word_seq_test)"
      ],
      "execution_count": null,
      "outputs": []
    },
    {
      "cell_type": "code",
      "metadata": {
        "id": "Cnks9V7G8VRs"
      },
      "source": [
        "y_pred = model.predict(x_test)"
      ],
      "execution_count": null,
      "outputs": []
    },
    {
      "cell_type": "code",
      "metadata": {
        "id": "mgbAgKSp8VRz"
      },
      "source": [
        "y_pred.shape\n"
      ],
      "execution_count": null,
      "outputs": []
    },
    {
      "cell_type": "code",
      "metadata": {
        "id": "jFkG88J28VR5"
      },
      "source": [
        "y_test = to_categorical(np.asarray(y_test.factorize()[0]))"
      ],
      "execution_count": null,
      "outputs": []
    },
    {
      "cell_type": "code",
      "metadata": {
        "id": "_1THU4qq8VR9",
        "colab": {
          "base_uri": "https://localhost:8080/"
        },
        "outputId": "dbd0def8-c9de-49ac-8fcc-c22820d0f14d"
      },
      "source": [
        "y_test.shape"
      ],
      "execution_count": null,
      "outputs": [
        {
          "output_type": "execute_result",
          "data": {
            "text/plain": [
              "(621, 8)"
            ]
          },
          "metadata": {
            "tags": []
          },
          "execution_count": 45
        }
      ]
    },
    {
      "cell_type": "code",
      "metadata": {
        "id": "w-moPW0Y8VSB"
      },
      "source": [
        "print(\"test roc_auc_score %0.4f\" %roc_auc_score(y_test,y_pred))"
      ],
      "execution_count": null,
      "outputs": []
    },
    {
      "cell_type": "markdown",
      "metadata": {
        "id": "Xht-yccP-c7U"
      },
      "source": [
        "#Plot graph"
      ]
    },
    {
      "cell_type": "code",
      "metadata": {
        "id": "h7OcNAnp-c7R",
        "colab": {
          "base_uri": "https://localhost:8080/",
          "height": 313
        },
        "outputId": "aa3dd057-f7fc-48d4-b78c-f5c9d230e343"
      },
      "source": [
        "#generate plots\n",
        "from google.colab import files\n",
        "test = plt.figure()\n",
        "plt.plot(hist.history['loss'], lw=2.0, color='b', label='train')\n",
        "plt.plot(hist.history['val_loss'], lw=2.0, color='r', label='val')\n",
        "plt.title('CNN using Fasttext word embeddings')\n",
        "plt.xlabel('Epochs')\n",
        "plt.ylabel('Cross-Entropy Loss')\n",
        "plt.legend(loc='upper right')\n",
        "# plt.show()\n",
        "# test.savefig('CNN-using-Fasttext-epoch-v-loss.png')\n",
        "# files.download('CNN-using-Fasttext-epoch-v-loss.png')"
      ],
      "execution_count": null,
      "outputs": [
        {
          "output_type": "execute_result",
          "data": {
            "text/plain": [
              "<matplotlib.legend.Legend at 0x7f6e330ef4e0>"
            ]
          },
          "metadata": {
            "tags": []
          },
          "execution_count": 227
        },
        {
          "output_type": "display_data",
          "data": {
            "image/png": "iVBORw0KGgoAAAANSUhEUgAAAYIAAAEWCAYAAABrDZDcAAAABHNCSVQICAgIfAhkiAAAAAlwSFlzAAALEgAACxIB0t1+/AAAADh0RVh0U29mdHdhcmUAbWF0cGxvdGxpYiB2ZXJzaW9uMy4yLjIsIGh0dHA6Ly9tYXRwbG90bGliLm9yZy+WH4yJAAAgAElEQVR4nOydd3hUVdPAfyGE0DuKFGnCUARFsKCiiI0iYqErdn0t2Hv5LFjB3vBVsb2ogCIKCogdxIIQRQXiUTpBpDeBhATu98fcZTchZTdkk012fs+zz95y7rlzbzZnzpmZMyfB8zwMwzCM+KVcSQtgGIZhlCymCAzDMOIcUwSGYRhxjikCwzCMOMcUgWEYRpxjisAwDCPOMUVgFBoRWSAi3UpaDkMRkYtEZFYx3csTkUOKqK5vROSyPM419e9V3t+fJiIXFsV9jSDlS1oAIzsiMgS4CWgNbAPmAQ8752aJyP3AfcBA59x7fvnyQCbQzDm3TETeBC4EjnbO/eSXOQT4yzmXUJSyOufaFWV9AUTkIuA1YGfI4Tedc8MKWd8y4DLn3Bf+flNgKZDknMvaT1mLrC6jYJxzPUtahrKIKYIYQkRuAu4ArgSmA7uAHkBfINDT2wg8ICIfOOd251HVRuAh4LToShxVfnDOHV/SQsQqIlLeFI9RVJgiiBFEpAYwHLjYOTcx5NTH/ifAp8ChwPnAW3lU9xYwREROdM7NCOPeHtDSObfI338TSHPO3SMidYE3geOBPcAC4ETn3J7QnrY/WmkLpANnAyuAC51zc/06j0B7+Yf4z7AHHaXcU5B8IXJeDNwGNALWASOccy/753KV038XBwMfi8hu9B0HRhabRQTgVOfcDyJyCXArUB/4CbjCObdcRG4HzgGOc85lichVfh2dgJm51RUic0VgE9DYObdeRO4GHgBqO+e2isiDQDXn3A3+b+B5oCewA3gVeMR/1xcBl/tyXQC8JCJPA28A3YA/0M5Dfu/vGOAp9O+0HLjeOfeNf+4btLPRHegAfA1cBDwH9AEc0N85tyykyl4icgNQ3ZfjdufcHr++XN+lf+5U/zkPAsYAe0eqIpIIjPDvvRV4MsczfAO87Zwb7b+Ty4AfgUuBzcDVzrlpftlm6N+/IzDbf4Yazrnz/b/LaP9dJwJ/AWc459bk9w7LKuYjiB26ABWBDwso5wH/B9wnIkl5lNkBPAI8XARy3QykAfWAA4G7fBly40xgHFATmAy8ACAiFdDnehOoDYxFlUWkrAXOQBuei4GnfQWTp5zOuaGoUurjnKvqnBsJnOBfU9M/9oOI9PWvOcev41tfToDHgQzgHhFpib7b851z6bnVFSqwX2YOqpTwv5cDx4XsB5T180ANoLl//AL/OQMcDSzxn+9h4EVU8R4EXOJ/ckVEGgJT0JFibeAW4AMRqRdSbBAwFGgItAB+QBv42kAqapYM5WygM3AEOmq9xL9Xnu/SV9gTgXuAusDikHcBquzOQBvvzkC/vJ4p5J04v66RwGsiElAs76JKqA5wv/9sAS5E33Vj//yVZDdFxhU2Iogd6gDrwxnuO+cm+z3Ly9BeY268DNwiIj3R3k5hyUQbmib+iOHbfMrOcs5NBRCRMcAN/vFj0N/ac845D5goIj8VcN9jRGRzyH4P59yUkP0ZIvIZ0BX4OUI5c+NK4FHnXKov/yPAXSLSxB8VXODfZyAw0jn3SwR1zwBOFJFJaG/7UX//a+BIYKbfEx4EHO6c2wZsE5En0cbrNb+ev51zz/vyecC5QHvn3HZgvoi8RVAx5eR8YGrg7wN8LiJzgV4ER5ZvOOcW+/VPA9qG+FXeBx7MUecI59xGYKOIPAMMRnvZeb5LVMEtcM5N8M89gyrxAAOAZ5xzK/3zj6IjnrxY7px71S/7FjAKONDvfBwJnOyc2wXMEpHJIddlov9zhzjnfgNS8rlHmcdGBLHDBqBuIDoiDO4B7kZHEfvgnMtA/3Fz/vNGyuPAIuAzEVkiInfkU/afkO0dQEX/eRoAq3wlEGBlAff90TlXM+Tzo4j0FJEfRWSjryR6oT3BSOXMjSbAsyKy2a97I2qyaAjgm0S+BpqiPfFImIE2ZkcAvwOfow3iMcAi59wG/zmS0NFCgOWB+/uEvrN6qHJdmaN8XjQB+geez3/G41HlGSDULLIzl/2qOerMee8GIffK6102CL3O/02E1tOA8J8JQn5zzrkd/mZVv56NIcdyyjsGNaWNE5G/RWRkPiPsMo+NCGKHH1Dzw1nAhIIKO+c+F5FFwNX5FHsDCNi382MHUDlkvz5qZsHvnd4M3CwihwJficgc59yXBckYwmqgoYgkhCiDxqhZICxEJBn4ADWXTHLOZYrIR/j25QLkzGnKys20tRKNznonj/v3Rs13X6JK5z/51JWT7wFBTSkznHMLReRgVJEFzELr0V5qE2Chf+xgYFUecq8DstD3+EdI+bxYCYxxzl0ehrzh0hj1xQTu/XfIvXJ9l75prXHIfkLoPvpbCd3P75nyYzVQW0QqhyiDvfU65zJRX80DfuTXVNTE9FrOiuIBGxHECM65LcC9wIsicpaIVBaRJL8XPDKPy+5Gnad51ZmF2nVvL+D281DncqKI9CBoz0ZEzhCRQ/x/2C3AbtQZGwk/+NcNE5Hyvg35qAjrqAAk4zeAvslrb1RUAXKuQe3uAdb550KP/Re4U0Ta+fXVEJH+/nZd1ORxGWpb7iMivfKpKxt+Q5QCXEOw4f8eNaHM8MvsBt4DHhaRar4Z5Sbg7Tzq3I3a2u/3fyttfdny4m1f7tP9v3NFEekmIo3yuaYgbhWRWiLSGLgeGO8fz/Ndon6KdiJyjj9avA7teAR4D7hORBqJSC00ii5ifMf0XPT9VBCRLqjTG1+mk0SkvW+S24oq4Uh/12UGUwQxhHPuSfSf/x60gVmJRqd8lEf571BnWH6MRXtH+XE9+k+yGTgvx/1aAl8A/6IN+ijn3NcF1JdTzl3oqCQQ2XE+8Ak6Agq3jm1oo/EeGoUzBHVIhyPno6ijd7OI3OI3zA8D3/nHjnHOfYhGq4wTka3AfDSiBOAVdBQy1TfjXAqMFpE6udWVxyPMQE0/P4XsVyMYdQRwLbAddQjPQp2dr+fzWoahZpB/UEf8G3kV9G3uASdu4Ld1K/vXBkxCFdw8tIF/zb9Xnu/SObce6A88hppDWwLfhdT5Kmqy+RX1yYRG0EXKeegobgPqJB9P8DdXHx15b0Ud4TNQc1FckmAL0xglgYjMBv7rnMuz8TKMokRExgN/OOdyRj/FPeYjMIoFETkRtcGuR3tqHdD5BIYRFUTkSNRRvRQ1I/ZFRyJGDkwRGMWFoGadKqjpo59zriCTlWHsD/VR01IdNPjhqgjDfuMGMw0ZhmHEOeYsNgzDiHNKnWlo3rx5XnJycqGuzcjIoLDXRptYlc3kigyTK3JiVbayJteOHTvWd+rUqV5u50qdIkhOTqZNmzaFujY1NbXQ10abWJXN5IoMkytyYlW2siZXSkpKnrO0zTRkGIYR55giMAzDiHNMERiGYcQ5pc5HYBiGURgyMzNJS0sjPT097PKpqalRlipyCpKrYsWKNGrUiKSk8JOpmiIwDCMuSEtLo1q1ajRt2pSEhIKX7965cyeVKlUqBskiIz+5PM9jw4YNpKWl0axZs7DrNNOQYRhxQXp6OnXq1AlLCZRWEhISqFOnTtijngCmCAzDiBvKshIIUJhnjBtFMH063HZbA7ZvL2lJDMMwYou4UQSjRsEnn9Tgm29KWhLDMOKRrVu38s47uS6Aly+XX345W7dujYJEQeJGESQm6vfOnSUrh2EY8cnWrVsZO3bsPsezsrLyve7VV1+levXq0RILiKOooUBqjl27SlYOwzDikyeffJIVK1bQt29fypcvT3JyMtWrV2fp0qVMnz6dq6++mn/++YeMjAwuuOACBg4cCED37t2ZMGECO3bs4PLLL+ewww7j999/58ADD2TUqFFUrFhxv2WLmxFBQBFkhL04omEYZZXevSEhIf9P5cqVCiwT+undO/973nzzzRx88MFMmjSJ2267jYULF3L33Xczffp0AB555BEmTpzIBx98wJgxY9i0adM+dSxfvpyBAwcyZcoUqlWrtvfa/SXuRgSmCAzDiAXat29P48aN9+6PGTOGzz//HIDVq1ezfPlyatWqle2aRo0a0bp1awDatWvHqlWrikQWUwSGYcQdU6YUXCbaE8oqV668d3v27Nl8//33jB8/nkqVKjF06FAycmmsKlSosHc7MTEx1zKFwUxDhmEYxUCVKlXYnkf8+rZt26hRowaVKlVi8eLFzJs3r1hli5sRQUCRmiIwDKMkqFWrFkcccQRnnHEGycnJ1K1bd++5E044gXHjxtGzZ0+aNWvG4YcfXqyyxY0isKghwzBKmieffDLX4xUqVGD06NG5nvvqq68AqF27Np988gk7/Rj4Sy+9tMjkMtOQYRhGnGOKwDAMI84xRWAYhhHnRNVHICI9gGeBRGC0c+6xXMoMAO4HPOBX59yQaMhiisAwDCN3ojYiEJFE4EWgJ9AWGCwibXOUaQncCRznnGsH3BAteUwRGIZh5E40TUNHAYucc0ucc7uAcUDfHGUuB150zm0CcM6tjZYwgfBRixoyDMPITjRNQw2BlSH7acDROcq0AhCR71Dz0f3OuU/zqzQjI6NQ64iuXVsVaMyGDdtITU2L+Ppok56eHpPro5pckWFyRU5xyZaZmbk39DIcPM+LqHxR06VLF3744Yd9jocjV6TrLZf0PILyQEugG9AImCki7Z1zm/O6IDk5mTZt2kR8oxUr9DspqVqhro82qampJlcEmFyREatyQfHJlpqaGlHKiJJeszghISHX+4cjV1JS0j7vNCUlJc/y0VQEq4DGIfuN/GOhpAGznXOZwFIR+RNVDHOKWhjzERiGUZI88cQTHHTQQZx33nkAPP/88yQmJjJ79my2bt1KVlYW119/PaecckqxyxZNH8EcoKWINBORCsAgYHKOMh+howFEpC5qKloSDWFMERiGsZcw8lBXqlw5/BzUYeSh7tWrF9OmTdu7P23aNM4++2xefPFFPvzwQ9566y1GjBiB53nRfvp9iNqIwDmXJSLDgOmo/f9159wCERkOzHXOTfbPnSYiC4HdwK3OuQ3RkMdSTBiGUZK0bduWDRs2sGbNGjZt2kT16tWpW7cujz76KHPmzKFcuXKsWbOG9evXU69evWKVLao+AufcVGBqjmP3hmx7wE3+J6pY0jnDMPYSRh7qaPgIevTowfTp01m/fj29evXi448/ZuPGjUycOJGkpCS6d+9eZKmlI8FmFhuGYRQTvXr1YurUqUyfPp0ePXqwbds26tSpQ1JSEj/++GORLTQTKaYIDMMwiomWLVuyfft2DjjgAA444AD69OnD/Pnz6dOnD5MmTaJ58+YlIldJh48WG6YIDMOIBT7++OO927Vr12b8+PG5lvvll1+KSyQbERiGYcQ7cacILGrIMAwjO3GjCEKjhkogTNcwjBigJGL0i5vCPGPcKILEREhM9PA8yMoqaWkMwyhuKlasyIYNG8q0MvA8jw0bNlCxYsWIrosbZzFAhQoeO3cmkJEBSUklLY1hGMVJo0aNSEtLY926dWGVz8zMJCkGG4qC5KpYsSKNGjWKqM64UgRJSR47d6p5qGrVkpbGMIziJCkpiWbNmoVdPlYT9UVDrrgxDYGOCMAcxoZhGKHEmSLYA1gIqWEYRihxpQiSknREYIrAMAwjSFwpgoBpyBSBYRhGkPhRBIsXM3j765RjtykCwzCMEOJHEdx9Nw/8fQ1d+dYUgWEYRgjxowj81r82Gy1qyDAMI4T4UQR+sqFkMmxEYBiGEYIpAsMwjDjHFIFhGEacEz+KwE8/aorAMAwjO/GjCGxEYBiGkStxqQgsasgwDCNIVLOPikgP4FkgERjtnHssx/mLgMeBVf6hF5xzo6MijK8IKrDLRgSGYRghRE0RiEgi8CJwKpAGzBGRyc65hTmKjnfODYuWHHsx05BhGEauRNM0dBSwyDm3xDm3CxgH9I3i/fLHFIFhGEauRNM01BBYGbKfBhydS7lzReQE4E/gRufcylzK7CUjI4PU1NSIham1aRP1UUWwatV6UlPDW6WouEhPTy/Uc0UbkysyTK7IiVXZ4kmukl6h7GNgrHMuQ0T+A7wFdM/vguTk5MKtztOkiV5PBtWr16VNm7qR1xFF4mk1pKLA5IqMWJULYle2siZXSkpKnueiqQhWAY1D9hsRdAoD4JzbELI7GhgZNWnMNGQYhpEr0fQRzAFaikgzEakADAImhxYQkYNCds8EojcOM0VgGIaRK1EbETjnskRkGDAdDR993Tm3QESGA3Odc5OB60TkTCAL2AhcFC15TBEYhmHkTlR9BM65qcDUHMfuDdm+E7gzmjLsxRSBYRhGrsTPzGLLNWQYhpEr8aMIQmYWW4oJwzCMIAWahkTkeuANYBsa2dMRuMM591mUZStazDRkGIaRK+GMCC5xzm0FTgNqAUOBx/K/JAYxRWAYhpEr4SiCBP+7FzDGObcg5FjpwRSBYRhGroSjCFJE5DNUEUwXkWrAnuiKFQVCFEF6egnLYhiGEUOEowguBe4AjnTO7QCSgIujKlU0CFEEmzeXsCyGYRgxRDiKoAvgnHObReR84B5gS3TFigIhimDTphKWxTAMI4YIRxG8BOwQkcOAm4HFwP+iKlU0CFEE27djIaSGYRg+4SiCLOech64l8IJz7kWgWnTFigK+IqhIBuDZqMAwDMMnHEWwTUTuRMNGp4hIOdRPULooVw6vvE6bSCLTFIFhGIZPOIpgIJCBzif4B00n/XhUpYoSXpLqr2Qy2LixhIUxDMOIEQpUBH7j/w5QQ0TOANKdc6XPR0BQEVRgl40IDMMwfApUBCIyAPgJ6A8MAGaLSL9oCxYNvJDEczYiMAzDUMJJQ303OodgLYCI1AO+ACZEU7BosCdEEdiIwDAMQwnHR1AuoAR8NoR5XcxhIwLDMIx9CWdE8KmITAfG+vsDgWnREyl6eDYiMAzD2IdwnMW3Ai8DHfzPK86526ItWDSwEYFhGMa+hLVUpXNuIjAxsC8iK5xzB0dNqihhIwLDMIqdrCx4+GHo3Bl69y5paXKlsGsWl7401Ng8AsMwSoD33oP774dDDolZRVBYp69XpFIUEzYiMAyjUHz3HTRqBFOmRHad58HIkbq9bBns3h3Z9ZmZkZUvJHmOCETkpjxOJQBVoyNOdDFFYBhGoZg+HVatgqlTI+vVf/45/PqrbmdlQVoaNGkCf/4JL7wADzwANWrAihXQtGnwuq++gkcegS+/hMcfh1tuKdLHyUl+pqH8Ess9G07lItLDL5sIjHbO5brEpYici85LONI5NzecugtDYB5BBXaxcaMq64RSaeQyDKNYWetH0K9bF9l1r7ySfX/pUlUEjz0Gb7wBdepAvXpwzTXwxBNw882qMM45B7b42f7vuw/OOw8OOmj/nyMP8lQEzrkH9qdiEUkEXgROBdKAOSIy2Tm3MEe5asD1wOz9uV84BHwE1ZIyyMyEHTugSpVo39UwjFJPQAGsXZt/uZz8/LN+d+wIv/yiiqBbN0hN1ePffAN7/AUf770XBgzQe23Zogrj0EPVHHX//fDyy0XwILkTzYlhRwGLnHNLnHO7gHFoKuucPAiMAKK+gGTANFSrsi5abA5jwzDCojAjgm3btOGvUAFOP12PLV2qpog//tD9H36A77/X7R074NZb4dtvdb9bNx0lJCbCa6/BP/8UyaPkRmGjhsKhIbAyZD8NODq0gIgcATR2zk0RkVvDqTQjI4PUgDaNkLrlVO9Vq/AvACkpS/j339hYyT49Pb3QzxVNTK7IMLkiJ5ZkK79qFTUnT2bj4MGkV6y4V67maWkkA1mrV/NXmLJWmjePpkB68+ZsrFKFBsCWefNYM2sWrQLr5WZo+5PRtClJq1dTbvx40n/9lYrA6hYt2Ox5NO7ShaqzZpH27rts69kzKu+rQEUgIonOuQhd3QXjr2vwFHBRJNclJyfTpk2bQt1zQ6VKANSpugfWQc2azSlkVUVOampqoZ8rmphckWFyRU5MyXbXXfDRR9T74w9Sn3oqKJffcJffvJk2rVppLz0vxo2DSZN03gBQ8cgjaXDccQDU2LiRGgFTUAjJQ4dqj//VV6nojxYOGjCAg0SgZ0+YNYtGixdDmzaFfl8pKSl5ngvHNPSXiDwuIm0jvO8qoHHIfiP/WIBqwKHANyKyDDgGmCwinSO8T9gETEPVk800ZBhGDv75Bz7+WLc//5y6AZv8rl17FQGeBxs25F1HVhZcf70qg4ce0mMdOkCzZrq9dGnQLFSvXvC6006DYcOC+/XqQatWun3CCfo9c2bhn60AwjENHQYMAkb7vfjXgXHOua0FXDcHaCkizVAFMAgYEjjpnNsC1A3si8g3wC3RjBoKKILaVVQRLF8erTsZhlHqeOstjfNv0wZSU6kzejQ8+SSsX5+93Lp1cMABwf1t2zREtHx5+PffoD8hoDzat9c5CImJ8PffMG+eHr/4Ynj+eY1YOfpoSErSRn/mTDj++GBI45FH6lK78+fnr4T2g3ByDW1zzr3qnDsWuB24D1gtIm+JyCH5XJcFDAOmA6nAe865BSIyXETOLCL5IyKgCA6spYpgwYKSkMIwjJjD89QhCxq3L0K59HRt4HNGCoXuz56tvfeuXaFLFx0N5KRDB1USB/tZeT79VL+PPVYb/W++USUAOopo0gQuvzx4fXIyHHOMbs+atd+Pmhth+QiA3sDFQFPgSXTFsq7AVKBVXtc656b6ZUKP3ZtH2W5hylxoAorggOqqCBYuzK+0YRhFwurVcOONOimqc9Qsv/vHr7/CX39prP7pp8OECeCcRvXktMeHRg498og6fBs3hpUrg43KySfrZLA6daB+fT3WrJmahpYt0/3WrUEke91duwbPh3LCCTBjhkYUtcqzyS00YfkI0LDPx51zHZ1zTznn1jjnJgCfFrlEUSSgCOpUDY4IvFKZLMMwShFPPw3jx8Nzz5W0JEFuvx0qVdKe9pQp8NlnerxXL+29B3rgP/6Y94jgzz/Vp5CcDHPmwKBBerxDB3jqKQ0bPeWUoInnpJOy19O8efjyDhgA1atHdk0EhOMj6OCc+ze3E86564pYnqgSmFlcqVwGdeqouW3VKjXfGYYRJQIO2Nx6usXJpEnwwQfayAfy/8yeDYMHQ1s/Fua00/S7Sxf9/uEHtdGHEhgRPPOM9iSHDoUDD4TRozWx3BlnqDJYvBhq1w5ed8cdUK2azhTu0iVoDgqHQw9Vn0NCQnAyWhESjiI4QETGAl2APcAPwI3OuSVFLk2UCcwsTsjcRbt2ap5bsMAUgWEUih071AGanJx3mUWLglEyJakIdu+Gq65SM9WYMXrs//5PzTfff68KISFBTToA7dqxu3JlEpctg99/12P162tk0bp1Wt9Yf62ugF+gShV48MHgPXM2LOXLa9mrr4ZyhZjLG8V8OOFI8y7wHlAfaAC8T3C1slJFwDRERgbt2ummOYwNoxBs2wYtWmRPwLZsmTZ0K1YEjwVGA6DD71279u++U6ZonZHadGfNUiVQubLuH3ecpnQIde527qw2fYDERNLbt9ftyZP1O9BorF2rPoXNmzVR3KGHRiZLUlL+8xBKgHAUQWXn3BjnXJb/eRuoGG3BokFgREBGxt6RoDmMDaMQ/Pab9o6//DIYXjlihPoBBgwIplsONKKgOXXS0nT7wQe19x06mWfSJFiSj6Hh00/V7HLmmRpxs2ZN+PKOH6/f116riurLL7WHfvbZ0KCBnguYhXx2HHGEbgRCNgOKYN06jfSBfe3+pZRwFME0EblDRJqKSBMRuQ2YKiK1RaR2gVfHEDYiMIwiImDugWCunEBo4+zZGn+/a1fwXKDXvGyZxtHfd5+mWr79dj3+1Vdw1llw4onBrJuhrFsHl1yi25UrqxN3xAjd//tvdfbm9c+claVRQAADB2qET8CclZSk9bRpAxddlO2yLX36ZK8ndETw9de63a1b7vcsZYSjCAYA/wG+Br4BrkInh6UAUZv8FQ1yUwQLF1rkkGFETKgi+O472LRJJzwFbN/33w9z56oyaNVKs2+CKoJbbw3+040eTaW5c+Htt3U/LQ1u8pdCSUlRR+yQIdCypZp2jj8ePvlEz0+fDu+/Dw0basjnMceoyQogPV2dt7/9po7hdeu0jsMP3/dZzj9fG4JDsk+LymzaNPsoIdBo/PNPcJZvGVEEBTqLnXPNikOQ4iBUERxwANStq6PatDTtJBiGESahimDWrGDPv0sXbYx/+y2Yi/+II4KLrrz5psbC16ypjfzzz3PQ/fcHzS9JSfD669r7v+uu7GkVTjxRHb0HHghVq2rjfc89wfP//qtyHXII9O0bzOIJ6mh96KHIHa5XXRUMLW3dWq8PzBhu3jw4SayUU+CIQESSROQ6EZngf4aJSARxT7FDqCIAzE9gGOGyapXa2QM9+VBFMHcufPGFbnftqr12CEbVhCqCQOM8bJj21Fu1InnJEjUHHXaYLswCMHy4lk1O1p79nDlql2/cWOPzu3fXcn/+qUqhZ0/dd07j+b/9Vmf8VvTdmaNHq+8iUs44Q9M/HHushoKGTgDL4VMozYRjGnoJ6ASM8j+d/GOljt3Vq+uGPyHE/ASGEQa7dqnpZdAgXYg9I0OduuXKqbll1y7txYMqgYAiCEQIdeyoaRNCGThQG+n//jd4bPBguPRS3f7sM1U6vXrpsZwzkgP5/UHl6tRJt3/9VR3B5cqpglqxQpVWwL8QKeXL61yC777T0cDMmToX4bXX4OGHC1dnDBLOPIIjnXOHhex/JSK/RkugaJLZoIH++Fatgs2badeuJmCKwDDy5ckng/8kr72mjt89ezR89PTTNTXDVj8H5bHHqokmlI4dg+YUUBNLoBd20kmsv/RS6s6cCRdcoCkeAonXIO9efKgiuOQSnbwF6jPYvVvrD5htQrN8FoZQc1K9erqMZBkjnBHBbhFpEdgRkeZAka9PUCwkJgbtQQsW2IjAMELJyoLrrtOGOOB0XbxYzTSg/z9ffBG0mbdpo5Xc2p4AACAASURBVOcefFBNQrfeCrVqqfkm0Ag3aaKx+Y0bBxvUfv2yNa7rbr5ZTTyBNXkvvli/K1VS00xutGihE7Muu0ydxAGTTSClcGCEYIRFOCOCW4CvRWQJkAA0QRPQlU7atdN1RBcsoO1ZulhEIHLIFrI3YorVq7WnnTMxWVGzZYuaPl5+ORj3/+67cMUVuqh6erpG1mRmqp/g0Ue1TOvW2vDfc092py2oeejdd9U/AGrXb9FCZxr375+/PAMH6sSxY49V+39evPhicDvnOwrc1wiLfBWBn3n0MKAlEHjTzjkXG+s7FoZAPPOCBRxwhUUOGTHMGWeo83PZMv2hRoPdu7U3H0ijUK6cmn1ef12TnE2fro39k09qB2r8+GCunbb5rFU1aJAqgrPOCh4bN05j/jt0yF+mSpXUxBMJ1asHU0CAKYIIyVcROOd2i8hg59zTwG/FJFN0CdiD5s/fuztjhpqHTBEYMcPGjdrwgppNwlUE//6rjXb79uHZsidMUCVwwAHaU7/4Yo3I+emnoON2xAg9f/rpuv3XX6oc8ovC6dNHZQmkdAA110TTZCOiiiAhIff5AkaehGMa+k5EXgDGA9sDB51zP0dNqmgSMiIA/X+ZMUPnrvToUYJyGQbARx+pYzW0V7JyZf7XbNumjff27fpZsQJq1NBY+pw5bXbvhs8/10iaChVg1Cg9/uCDagoC7c2/8grs3AnnnRdUCAkJcNtt4T9LlSrhly0KWrfWf+ZWrTTLpxE24SiCgGodHnLMA7oXvTjFwMEHq91xzRpYv56uXevywgv6+7n77pIWzohr1qzRXnZmZvYVqvJSBNu2aY/7s880VDKULVt0UlfHjrBoEQfdcw888YSOAHI25o0awYUXBvevuUYnfvXsCW+8UbhMmSVBYAEZcxRHTDiK4NKcKaf9yKHSSUKC2oNmz4b58znhhG6A+soyMyNLEW4Y+8X27RqX37u3ml5ee01/hKANcIDQbJ4BfvhBFz055xzt/YNG0Jx1ltrm331XezcdO8KIEdScOFFn7zqnZS+4QOP8f/5ZV9kKTSXdoYOapipXLl0RFJdcos6+//ynpCUpdYSj6ifkcixCT06MEch78t131K+vI8odO/btVBlGVLnjDm282reHd97RqJ0AWVnB7Zwjgq1b1WSzY4fO3p00SY9fdJEqlUBO/UAsfiAZ3IwZakM//HDt8Y8dq4rh3HP3la1KldKlBEDNQY8/vk/OIKNg8lQEItJaRM4FaojIOSGfiyilaaj3EpgaPm0aEMwbFcgsaxhFzpw52kBfd53GKu/aFUzBsHathmeuWKFx9+VzDNRXrtSMnW+9pTb+K67QtW9B99PStPceWEnrxBP1e+ZMrTs0HQTo2sGlrZE3okp+IwIBzgBqAn1CPkcAl+dzXexz8snBqeObNpkiMKLLyJE66emrr+D55zVn/6efqqmmXTtNsxAId7z//mDPJLDC1YoVmoHzoot09DB+vPq5HnooeI/jj1fnL2gytAYNtP5XXwVgR8eOeo8jjihczh2jbON5Xr6fVq1adSmoTHF+Fi5c6BWWbNd26+Z54Hnjx3urV+tmpUqet317oavfL/bnuaKJyRUZ+8h1//3640pI8Lx+/XQ7Kcnz2rTR7cceC5bNyNDvV17Rczfe6Hnly+t26CchwfMmT/a8nTs9r0YNPfboo9nvO3iwHvfPr73qKs/bsye6D19ISs3fMkYorFxz586d6+XRrobjI1gkIneJyCsi8nrgE3UNFW0C2QqnTaN+fR1V79wZnD1vGPvNDz9oD79cOfjf/3SS1M03q0M4sAD5kCHB8oEe/WWXqdly+HDNtR+gXTs49VTt5ffpo3mzbr9dUzPk7OXfcIOGjvqLvOzs1MnMQUaehKMIJgE1gC+AKSGfAhGRHiLiRGSRiNyRy/krReR3EZknIrNEJJ+pikVMYNKAn+Xw7LN198MPi00Co6zx+ecc8NhjwUXan3tOv2+9VX0AoM7Mr77SqJ0RI3KfxZiQoL/PqlWz57vv109/r4G4foA779TZus1zBPIddVRwIfVy5dh52GEYRl6EEz5a2Tl3e6QV++kpXgROBdKAOSIy2TkXmv3/Xefcf/3yZwJPAcUzrat9e52t+fffsHgx55xzCHfdpalWLIzUiJgNG2DAAOps3qwhoTfcoDH7iYkalx8gIUHXuQ13rdtQRRFI7xwut92mk9MaNGBPcU/uMkoV4YwIPhGRXoWo+yhgkXNuiXNuFzAO6BtawDm3NWS3CjpRrXhISNAsiwAzZyKi81E2b9Z05oYREcOHw+bNZNWurUnaHntMQ0DPPnv/cpcERgSJibpASiQkJuqo4/rrC39/Iy4IZ0RwPXCXiGQAmWgGUs85V72A6xoCoQHQacA+v2QRuQa4CahAGLOVMzIySA3YVyMkPT0927W1RKgPbJ48mdVdutC9e11SU+tx6aW7GDduGXXrFl+27ZyyxQomV8FU+vlnmowaBQkJ/DVqFJV37qT+Qw+RtHIly/v1I30/5KyVlER9YGfr1ixLSyt0PbH0vnISq7LFlVx5eZH399OqVat+rVq1Gh2yP7RVq1Yv5FN+SKtWrd4qqN4iixryPM/75ReNrGja1PM8z9uxw/OOOkoPHXdc8QZZlLUIhWhTonI995znnXqq5w0a5HlXXeV5lSvrj+aaa4Jy7d7teVu27P+9Fi/2vCZNPG/06P2qJlb/jp4Xu7KVNbkKFTUkIueHbB+X49ywMHTMKiB0TNzIP5YX44Cz8jlf9LRvr9Pzly2DFSuoVEl9BPXra8qJKWG5xI0yzRdfQLNmwR/DkiVw442auG3cOHjpJZ3he/HF8MwzwevKldPUyPtL8+b6+wx1EBtGEZOfj+CmkO3nc5wLZwHQOUBLEWkmIhWAQcDk0AIi0jJktzfwVxj1Fh2JiZqLHfbOJjvwQA3yAF1/wys+r4URa/z7r6aAWLZMwzQ9T23uu3fDmWfCmDHw9NM6Q3j06H1nBBtGKSE/RZCQx3Zu+/vgnMsChgHTgVTgPefcAhEZ7kcIAQwTkQUiMg9VPBfmUV30CKSbmBzUUVdcAbVrw/ffw7ffFrtERqwwfHgwz8+CBZoL6M03NdBgxAgNCb3hBk3bXFoydBpGLuTXhfHy2M5tP1ecc1OBqTmO3RuyXfLhDGedpflfpk3TGWWVKlG1Klx7LTzwgAZ/BIKLjDhiwwZ49llt9Pv108lgV12l5wYM0EyFhlFGyK8b01pEfhOR30O2A/tRXkS1GGncGDp3VjtvyLTia6/VBIzTpmm+LyOG2LGDhB079j3+0Ue6Olek/Pmnxvy/914w6+f48ZoY7vTTNRdQIA6/V6/sa+UaRhkgvxFBm2KToqQ5+2zNQf3hh7qqE1CnjpqInn5aRwXjxpWwjIayZw8ceSTN0tN1ycSASWbPHnXYbt6s6RdatQqvvpUrNf9+hr8M98iR6iT63/90/4IL1E741VeaybN3b0vVYJQ58hwROOeW5/wA7UO2yw6BtV0/+mhvbhaAm27SGcbvvw+LFpWQbEZ2Vq+GhQtJXrIkmMoBNK/+5s26/VcBMQdr1+rC61dcoamdMzKCmT6feUbX8J09W/Pb+x0DjjpKF5M3JWCUQSL1cA0vuEgppHVrdQRs2RLMD4O2DRdcoJ3NkSNLUD4jSKhGnj8/uD17du5lcuOhhzTp26uvBk1Jo0fretZ//x1MSNi/f/bF1w2jjBKpIii73aEHHtDvp54K9izRdC0JCRossiq/WRBG8bB4cXA7L0UQWiZAIA542TK1+QcILBR/yik6BAT9QzdooAndDCMOiFQRlN3FQLt108/mzdmcga1aadBIZqbOKzBKmHBGBDkVwa23asP+9dca+ZOZqX/UgDnowgt1TsmQIbq618knw08/2ZKHRtxQoCIQkf4iUs3fPV1EJorIEVGWq2S46y79HjUquIg48H//pz7Jl16C334rIdnimT17dHWu227bVxHMn6+hXaF/mEWLtDd/5JHqDB41Stfq7d5dVwarXRueeEIngl14oc4UBl3A/ZtvdDZx6DoAhlHGCWdE8H/OuW0icjyaFO414KXoilVCnHKKpiD9+2/44IO9h9u310zCe/bAsGHZ1xU3ioGZM9Wp+/jj2Xv+f/wBxx2nIZ27dwd78EuXqtN37lwNBNixI5hXvEYNTQ/RpImmdX7zTVUMhhHHhKMIAik4ewOvOuemoJlCyx4JCTq5DNSJGNLiDx8O9erpTON+/TTTsBFlJkzQpE9vvx08tmIFALurV9dR29aQTOY9e+pqXZmZwT/Q3Ln6PWKEjgBmzw6uD2wYBhCeIlglIi8DA4GpIpIc5nWlk6FDtcWfOxcuv1yHAUDNmpqFomZNmDRJA0p2F1+W6vjjr7/0JZ98sk7uCqV6dXaENuaTJ+tksIceghYt9q0rIQEGDtRUEFJ25kIaRlERToM+AM0XdLpzbjNQG7g1qlKVJFWqaEtfubKaDZ54Yu+pY45RK0Xt2vDJJ7beR1T49ltYvlwdu6Ax/v/+q8o5wCGHkNHSz1fYtatOIOvfX7N9hjp4/+PHNnTrps5iwzByJRxFcBAwxTn3l4h0A/oDP0VVqpKmS5fgVOIHH1RHo0/79jrvrEIFDS6aOLGEZCzNeJ7O4g4kcwo45keN0vkcPXsGFUEgtcPdd8MBB+h2ixZsGjhQo3xCQ0H9cwDUqgUvvKAjhbfeiv4zGUYpJpy8uR8AnUXkEOAVdDH7d4HCLF9ZeujTRz8ffwz33KMTjny6dlUXwrXXqvO4e3c1GRn54HmawVNETT1DhwbPZWaqk36Yv8xFamowBPTzzzWu/6yzNKTz3XehRQuyGjSAd97Z9z6dOul3376aFrp//+g+l2GUAcIZEezxU0qfAzzvnLsVHSWUfZ54QhuT11+HH3/Mdurqq3XgsHq1pqqPaxYu1OicpUtzP790KfToocOp00/XeFyAc8/V7+HD1YbveRAw+ezaBXXrqj2uXz/9O9x1l64DcPnlecvSo4fmBQqZIW4YRv6EowgyRWQwcAHwiX8sKXoixRCtWsHNN2sDdfnl2eYWlCunGQqSkuCVV9R3ELc884yaep59dt9zM2dqlE4gs+vXX+vs3nbtdGRw1VUanbVnD9x3n/pnApxwQvbcPu3a6fnmzfOWJSEBTjpJ8wQZhhEW4SiCi4EuwMPOuaUi0gwYE12xYoh779WGZ/58DS0NCRVq1y6YheDCC3U7t+wGZZ5Anu4fftDvDRu051+hQnC29hln6GSugM3/oYd0Nu/IkWpjGzMG7r9fTUTHHKNlunUr5gcxjPikQEXgnFsI3AL8LiKHAmnOuRFRlyxWqFwZXntNG7X//ldNINu37z19113adi1bFlzEZtu2khO32MnK0mydAL/8ohE/J5ygI4DMTB063XCDethPP11HCO++G8zqWbWqmnHOPz9Y58sv62zfS8JZEdUwjP0lnBQT3dC1hF8ERgF/ikh8rdnVrZs2bLVqacz6iSfujSRKTtYlLV97DQ4/XCcl33GHdpJD5zqVWf76Kzh5KzNTFeXChZrmedkyVZpPP629f1Az0eDB+adz7tBBk/8FRg+GYUSVcExDTwKnOedOdM6dAJwOPB1dsWKQE09U00fz5pCSomsd+2sX1KypndfXX9cO8KhR0LGjLny2Zk0Jyx1tfv01+/7PP+v3e+9pGofk5OKXyTCMiAhHESQ551xgxzn3J/HiLM6JiEYPtW6t5pB+/XSyk0/HjmrmrlVLJ5399ZcGsZTpkUHAP9CsWfBY9+7qQDEMo1QQjiJIEZHRItLN/7wKzI22YDFLvXowdapObvriC125aswYNYegkZEbN+puy5baTl5zTQnLHA0yMlTT/fKL7v8nJEP5tdeWjEyGYRSKcBTBlcBC4Dr/sxC4KppCxTzNmmm64rZtdfLTBRdoD/iss3QfOPBAnYtWubLmTBtTFuKstm3Th3roIU3l0KpVMCy0Xz8dCQRSPhiGUWrId2axiCQCvzrnWgNPRVq5iPQAngUSgdHOucdynL8JuAzIAtYBl5Sa9ZDbtNGZrs89pz6DadM0xv3jj3VyVLNmSO/ePPXUsVx5peqKF16AJUt08uvUqcF110sUz1NzV7t2Gnv/yy9q269TB4CEHTs03v+rrzR7Z2hIVKVKsHOnar1mzeDLL0voIQzD2B/ybYqcc7sBJyIHR1qxr0ReBHoCbYHBItI2R7FfgM7OuQ7ABKB0rQxcpYpOHpgwQScQXHmlRsOMHQuPPALHH88Vq+5j5N1buLzCW9z000AGrX+eOdM37JNQs8R48kk49lh1cFx4oWqphg1Vc02cSLN+/TRr5yuvqBI45hg1/UyapPMDpkzRNBAxodUMwygM4eQaqgUsEJGfgL0B9M65Mwu47ihgkXNuCYCIjAP6oqalQB1fh5T/ETif0kr9+rqE2Y036sQp5+Cll0h4cDi3lntobzrrgbzHvQznxpvHc+653angr+xQbssWWL9e0yoUlsC6vHmFZqan61CkcmWN6U9N1TxKoEOVJUt0qvSuXWrLGjOGZNDRz5AhavI57LDsdfYq2ymnDCMeCEcR/F8h624IrAzZTwOOzqf8pcC0girNyMgg1bfDR0p6enqhr42IU0+FU0+lcufO1HvxRSqnpJBVpw4bhw6lyoyZ1PvlZ95efTLpVauQcXB9djVpQstvv2VP+fKkPf0020+IcJpGVhbVp0/ngMcfZ1fTpqS98AJ7qlbNVqTql1/S4O67SfRDmHZ06kSF5cspn5HB5jPPhIQEKv7xB6sfeojd1atT8/33qfHxx2w74gjWPvggXuXKWlFxvL8wKLa/ZYSYXJETq7LFk1x5KgI/2+iBzrkZOY4fD6wuSiFE5HygM3BiQWWTk5Np06ZNoe6Tmppa6GsLRZs2cPHFsGkT5atU4YAKFWD3bpae/380GPckFTO3w+LFJAfyUmRmcvA116iNPtC7b9UKDj0UKlaEGTM0y13PnqpsNmyAhx/Oltciae1a5LLLdHJDw4Zw002a9fOmm3TCV8eOsGwZlVNS9ILOnak5Zozm8gf2BoGedhoAa4r7nYVJsf8tw8TkipxYla2syZUS+J/PhfxGBM8Ad+ZyfIt/rqDQkFVA45D9Rv6xbIjIKcDdwInOuYwC6iyd1KoV3E5MpNnYRxjbazhXXbCdQ5nP23cuIKtrYw6ZNQsefVRNNAGWLoXp07PX98IL+gmQkKCN/g03aOK30IXcx44Nbt98s677u3q1ptU+7jiN9Mlvlq9hGGWe/BTBgc6533MedM79LiJNw6h7DtDST1K3ChgEDAktICIdgZeBHs65tWFLXQYYPLQ8P/9WgyeeOI4BXxzHHZ2XUO26nhx4/fXqlC1XTnvwv/0GixbpxLUOHaBxY41M+vFHLXfddWq/D6Rw6N9fc/m0bau+iokTdTb0gAG6pFpCgq7Wde+9JfsCDMOIGfJTBPkttVKpoIqdc1kiMgxd5jIReN05t0BEhgNznXOTgceBqsD7omvJrgjDCV1muPdebbPnzIFzz21OhQrw0ksH8P33B7BunXba6/Vrte+FXbrkXenBB2uyI9Dc/aNGRUd4wzDKDPkpgrkicrlz7tXQgyJyGZC3sSkE59xUYGqOY/eGbJ8SgaxljmrVNKHpeedBlSqZ/PNPEpdeGjx/4ok6edmW2zUMI5rkpwhuAD4UkfMINvydgQrA2dEWLF7o00dzES1cuIgJE9pw//1qtl+zRpdA6N0bZs2yRJyGYUSPPBWBc24NcKyInAQc6h+e4pz7qlgkizMSEtRUdMMNOlLYuFEtQPPmwUUX6eRem7NlGEY0KHAegT/p6+uCyhlFgx/FSZ06Onn36KN14vLQofDmmzrfyzAMoyixPmYM06aNroNTtao6lY87TnO8ORecZmAYhrG/mCKIcbp10/XeGzTQ6KLTT9flEHr10lUiDcMw9hdTBKWAzp11FHD33brSY7VqOkXg1lt1bpiNDgzD2B9MEZQSqlbVZQBSUuCTT3T+2DPP6EjhzDN17plhGEZhMEVQCjnhBE0O2r69LgnwyScabWQYhlEYTBGUUgYP1uwTX3+t68OPGqULpC0vHcv6GIYRQ5giKOUcfbQuhVm1qoabHnWULiVsGIYRLqYIygD9+qkz+aSTYO1aOOUUzVNnGIYRDqYIyggNGuicg2OOgRUrNLpo4sSSlsowjNKAKYIyRNWqGlbar59mqB44EH76qaSlMgwj1jFFUMaoUQPeew+GDdMJZwMHwqZNJS2VYRixjCmCMkhCAjzxhJqHli1Th3LoomWGYRihmCIooyQnw4cf6qJmf/0Fhx+uJqMffihpyQzDiDVMEZRhDj5YG/6rr4by5eGDD+DYY+Gww+Daa7MvjWwYRvxiiqCMU7kyvPiimojuvBNq1lQz0QsvaITR3LklLaFhGCWNKYI4oUEDeOQRWLVKZyOfeiqsWwdHHgkNG+q69jZCMIz4xBRBnFG5sqa2/uQTuOIKXQLz77/hueegXTuYPbukJTQMo7gxRRCnVKgAL7+s6yXPnasZTNPToX9/WL++pKUzDKM4MUUQ55QrB506wfvv6xrJK1fCeefB7t0lLZlhGMVFVBWBiPQQEScii0TkjlzOnyAiP4tIloj0i6YsRv5UqKAT0erW1eUwH3ywpCUyDKO4iJoiEJFE4EWgJ9AWGCwibXMUWwFcBLwbLTmM8GnUSNdGTkiABx6AQYMgLS2ppMUyDCPKRHNEcBSwyDm3xDm3CxgH9A0t4Jxb5pz7DdgTRTmMCDj1VHj+eZ2QNn489O3bnCef1AR2q1eXtHSGYUSD8lGsuyGwMmQ/DTh6fyvNyMggNTW1UNemp6cX+tpoE0uyde8OU6eWZ+TIA5k+vTq33KLHDz54Fx99tISKFUt+keRYel+hmFyRE6uyxZNc0VQEUSE5OZk2bdoU6trU1NRCXxttYk22Nm10fYOnn07j++8b8dNPsGJFBT76qDUPPJC97Lx58N13cNFFGo5aHMTa+wpgckVOrMpW1uRKSUnJ81w0FcEqoHHIfiP/mFFKSEiAnj23cdNNMGsWdO0Kjz2mjf3RR+tiOKNHw5w5Wv733+G//y1ZmQ3DiJxoKoI5QEsRaYYqgEHAkCjez4gixx8PV10FL70Et9+e/VzNmjof4bXX4I47oGnTEhHRMIxCEjVnsXMuCxgGTAdSgfeccwtEZLiInAkgIkeKSBrQH3hZRBZESx5j/3nhBV0F7ZxzdHRw5pnw1ls6M/m883T9g7vv1m/DMEoPUfUROOemAlNzHLs3ZHsOajIySgHlykGfPvrJyb33aujpu+/Czz/D2LGa+towjNjHZhYbRcIhh2ia62bN4I8/oG9f2LChpKUyDCMcTBEYRUbfvpCaCkcdBStW6DKZ//yjWU3//rukpTMMIy9MERhFSnKypqqoXRu+/FJnK7doAY0bw4gRkJGR+3Xz52ua7JdeguXLi1dmw4h3TBEYRU6TJvDjj+pM3r1bo4r27NGIoooVVTF8+62Gm775Jjz6KHTurI7mq6/WFdRmzIj8vsuWWRptwygMpW5CmVE6aNkSJk2CjRuhRg2YOhVuvFFNRkuWwIkngpdjgnL//lr+yy/h9NP1mu7dw7vfvHla59at8NRTei/DMMLDRgRGVKldGxITNdJo0SLYsQNuvVWVQPXqMGAADB6seY3eew+mT4f//EdNSOeeq47ngpg1C3r0UCUAcNNNMGpUdJ/LMMoSpgiMYqV8eRg5UkcFq1erAnj3XVUIoEpj1Cg46yzYvBlOOAHGjdt39AA6uhg0SOc0rFkDJ5+s6zMD3Hwz/PVX8T2XYZRmTBEYJUKzZrpsZm6UKwdvvw2nnKLrKg8eDHfeqcrgu+80B9Kxx7akRQtVJBUr6jyGjz9WH8PQobra2mWX2eQ2wwgHUwRGTFKlipqJXnpJRxEjRmjk0fHHwzffwObN5dm9W0NUndP1EypV0mufeQYOPBBmztSRxfbtJfoohhHzmCIwYpZy5eDKK9U0VL48rFqljud774VvvvmLbdv03MEHZ7+udm11VNepA1OmaETSrFkl8wyGURqwqCEj5jn3XI0K2r4djjhClUJqala+Ka+PPlrNSGedpQ7nrl1VqdSpA+vXqw+hZcvie4bixPP0U866eUaYmCIwSgXt2kV+jQj88gs8/LCmzw5NkT1mjJqQLrtM021/9RV88on6Lnr0KL1KYutWnYfRvDl8+ikk2UqjRhhYn8Eo01SsCA8+qInwhgzR0NRBgzSM9YoroFs3OOYYjTh6+mm47jpo2xbuuUdnOGdlwbZtWtfatfDKK8W7ZOeff0KXLnDffZCZqSk88pqdDZrvadkyVWzDhxebmEYpxxSBERe0bw/vvKOjgrFjdbt6dXUoz56t27fcos7nrCwdRTRtqj3q6tW1h928uSqSI49UU1UAz4N//809xHV/ufZanaU9fLjO0G7bVpXWzp25l3/nneD2I4/oJLvbb4eFC5OjIp9RNjBFYMQlQ4bAggXw+uswbZr2oh9/XJ3PM2fqBLhatdRslJwMS5eqj6JhQ3Vad+wIDRqosqhRA6pVU5PMhAk1mTULfv0VFi/ev/DVqVPhs89UEdWvr6OYcuXU9zF4MOzalb3833/rSKBCBZ20t2ePPsvIkdCvX3Nat4aXX9ay69bpPIzSTlaWvqP8RklGwZiPwIhbGjWCiy/e93jXrvoJOF09Txv2SpXUh3DttToJLtRElJiouZN+//2gbHUlJUGvXpryYskSVSibNqnJqnJl7eWfeabeY8YMnUD388/akK9cqXXccw9cc4029Lt2aQjtpEna2+/dW/0Cd98N//uf1tO7tzb+112nMn3yCYwbl8Wff5bnyivV1PXII6rYPvtM6ymtPPOMvquePXUeSWJiSUtUSvE8r1R9Fi5c6BWW/bk22sSqbCZX7mRled6STt7AsAAADOlJREFUJfrZsMHz0tM979VXPe+007Z4Rx/teR06eF7jxqGqJLxPQkJwu3Jlzxs40PN27sx+77lz96370EM9LylJtydP3lfe335b6D3yyL73q1nT80491fN69fK8Dz7wvJ9/9rylS4v2Xe3Z43kpKZ43b57nbd++7/n9+VseemjwWYYN87yMjP0QNA+5du4s2nr3l8K+r7lz58718mhXbURgGIUgMVFHB6Fcdhkcd9wq2rSpvvfYP/+os/rLL+HQQ9XGX7u29ux37ND8Sx98oGW7dtVRQUKCOq7/85/cQ0A7dYKUFI2E2rMHPvxQ03gD3HADnHHGvteUL6/ZX7/9Vk1hhx2m8y8+/hg+/1zLTA1ZS7BvXzj1VDjgAP28/DLMmQPHHaepO379VUcmZ56pCQKTkzXNx6JF+qlXT81XSUlw0UU6AxzUzHXffToSmTNHZdi+vRkVK6rvo1EjqFpVQ4br1t33OZYv13fSuLE+8/z5Wj49XZdSnToVhg3Te9evH97fMj9WrNBRWkaGzkk54ojIrk9P15FdzEeh5aUhYvVjI4LixeSKjMLItX275/37r26vXet5q1ZFdv3SpZ533HGed/31nrd7d/5ybdnief/9r95nxw4dxXz0kec9/bTnde7seYcd5nkVK0Y+ksntU7Gi51WpottVq3peq1aRXdu0qecdeKDnnXSS5111lef17x8cNfXu7Xn9+un+5Zd73qefel7r1sHrk5M977bbPO/DDz3v/fc9b/x4Hb3Nn+95F17oeddc43kff+x5P/7oeRs35v7OZs50Xrt2wTqrVvW8UaM87403PK9bN88bOTI4Wtu9e99Rw0cfed7BB+u1Q4d63uefq5yBUVHgbzVzpuedc47nvfSS5y1f7nmbN+f/947GiCDB80pXKEFqaqrXpk2bwl5LYa+NNrEqm8kVGWVBrn/+gTfe0N7w339rL/zoo+H88zXCqn59Hb188436Kn78Ua+rU0d7vs2ba29/5kw9fsghMHGijojeeUdHSCefrJP6NmyAv/9eQu3azfnyS42+Sk3VUUtuVKigI6ZQ5/BXX2n+qawsled//4PJk3O/PjFR18gIpVw56NBBR3gNG6rfZskSmDhxD+np5WjbVqPOAqOaUKpW1aCBtDSV6fDDddS0ZIn6ZnKjWjW9bt06lfubbzQ0OJQhQzSCbdo0+OknfeZLL9XP4sWF+42lpKSkdOrUqXNu50wRxAixKpvJFRkmV5CNG7WRrV49/1nOucm2apWGyCYlqcN7yRJ1bg8ZonmoXnlFzVWNG6s5LaeTeM4cePZZVSyJiWqK+/prreOKK1Rp/fSTyjh//r4NcYAzztBsuA0bwoQJutZFerrKMXZs9jDihITsIcTVq8NDD2nyxP/7P1V6W7dqMEBOLrxQFa9zqiDykueee2DIkKJXBOYjMAwjKtSuXfhrGzYMbjdpsu/5u+7ST14ceaRmsA1l+3btteeUa/t29XmkpakC2rRJFUz9+ovp06fF3nIDBgTTpYNGK23YoNFjDRvqaOWnn+D771VZXHMNHOQHkU2YELxuxQodvVSqpGtwHHRQ9noXL9Y5LStXahjzSSfpyGziRB1JRYOoKgIR6QE8CyQCo51zj+U4nwz8D+gEbAAGOueWRVMmwzDikypVyDU/VZUqcOyx+x5PTd2178EQEhLUoR3q1O7eveBV9UKTJF5//b7nW7TQAICcDBoUkCv/+gtD1CaUiUgi8CLQE2gLDBaRtjmKXQpscs4dAjwNjIiWPIZhGEbuRHNm8VHAIufcEufcLmAc0DdHmb7AW/72BOBkEUmIokyGYRhGDqKpCBoCK0P20/xjuZZxzmUBW4A6UZTJMAzDyEGpcxZnZGSQWkgjWXp6eqGvjTaxKpvJFRkmV+TEqmzxJFc0FcEqoHHIfiP/WG5l0kSkPFADdRrnSXJycqHD4GI1tA9iVzaTKzJMrsiJVdnKmlwpKSl5noumIpgDtBSRZmiDPwgYkqPMZOBC4AegH/CVc650TWwwDMMo5UTNR+Db/IcB04FU4D3n3AIRGS4iZ/rFXgPqiMgi4CbgjmjJYxiGYeROVH0EzrmpwNQcx+4N2U4H+kdTBsMwDCN/Sl2KiZSUlHXA8pKWwzAMo5TRpFOnTvVyO1HqFIFhGIZRtNhSlYZhGHGOKQLDMIw4xxSBYRhGnGOKwDAMI84xRWAYhhHnmCIwDMOIc0pd0rnCUtAiOcUoR2N0MZ4DAQ94xTn3rIjcD1wOrPOL3uVPyCtO2ZYB24DdQJZzrrOI1AbGA02BZcAA59ymYpRJ/PsHaA7cC9SkBN6XiLwOnAGsdc4d6h/L9R35KdWfBXoBO4CLnHO5LFQYNbkeB/oAu4DFwMXOuc0i0hSd7e/8y390zl1ZjHLdTx5/OxG5E12nZDdwnXNuejTkyke28YD4RWoCm51zhxfXO8unfYjqbywuRgRhLpJTXGQBNzvn2gLHANeEyPK0c+5w/1OsSiCEk/z7B9Y2vQP40jnXEviSYk4D4pTDnXOHoyvZ7QAC6zeVxPt6E+iR41he76gn0NL/XAG8VMxyfQ4c6pzrAPwJ3BlybnHIu4uKEshHLsjlb+f/HwwC2vnXjPL/d4tNNufcwJDf2wfAxJDTxfHO8mofovobiwtFQHiL5BQLzrnVAY3tnNuG9jJyrtMQS4QuHvQWcFYJynIy+s9YYjPLnXMzgY05Duf1jvoC/3POec65H4GaInJQccnlnPvMz/kF8COaAbhYyeN95UVfYJxzLsM5txRYhP7vFrtsfk97ADA2WvfPQ6a82oeo/sbiRRGEs0hOseMPNzsCs/1Dw0TkNxF5XURqlYBIHvCZiKSIyBX+sQOdc6v97X/QIWtJMYjs/5gl/b4C5PWOYul3dwkwLWS/mYj8IiIzRKRrCciT298ult5XV2CNc+6vkGPF+s5ytA9R/Y3FiyKIOUSkKjr0vME5txUd0rUADgdWA0+WgFjHO+eOQIeb14jICaEn/RThJZKTREQqAGcC7/uHYuF97UNJvqO8EJG7UZPDO/6h1cDBzrmOaNbfd0WkejGKFJN/uxwMJnuno1jfWS7tw16i8RuLF0UQziI5xYaIJKF/5HeccxMBnHNrnHO7nXN7gFeJ4pA4L5xzq/zvtagd/ihgTWCo6X+vLW65fHoCPzvn1vgylvj7CiGvd1TivzsRuQh1iJ4XWOvDN71s8LdTUEdyq+KSKZ+/XYm/LwB/kaxzCAlSKM53llv7QJR/Y/GiCPYukuP3LAehi+IUO77t8TUg1Tn3VMjxULve2f/f3h2EWFXFcRz/ThPIUDEIiqs2wvBbSJSDi1IICXUT2EJwzGhgcKEi2coyN0GrcKOMCVGkRI7KbFKJGAgRERQUYXBq8A9iIUOrFs7GQXK0xTmXuaNz9Q28dye4vw8M73AGHv977uP9773nvP8Bfq85rlckvVa0gS05hmLzIPLr+TrjKpl3hbbU4/WUqjG6AAxK6pL0NjBdur3vuLxS7jNga0Q8KPWvLCZhJa0mTTTerTGuqnN3AdghaVne0KoPuF5XXCWbgNsRMVV01DVmVd8PdPgz1ojloxHxSFKxSU43cCIi/liicDYAHwMTksZz3yHSSqa3SLd8fwG7a45rFfBzWq3Jy8DpiBiTdAMYlbSLVP57e81xFYlpM/PH5PBSjJekM8BGYIWkKeBL4GsWHqNfScv67pBWOw3VHNcXwDLgt3xeiyWP7wJfSfoXeAzsiYhWJ3TbEdfGhc5d3rhqFJgkPcraFxGznYirKraI+IFn56KgvjGr+n7o6GfMZajNzBquKY+GzMysghOBmVnDORGYmTWcE4GZWcM5EZiZNVwjlo+atULSLDBR6jrbriq1uVzAL0WVS7P/EycCszkzueqkWaM4EZi9QN6nYZRU5mIG2BkRd/JV/glgBam2/lBE3JO0CviWtHcCwF7gb6Bb0vfAelIZgA8iYkbSfmAP6UdUkxGxo65jMwPPEZiV9UgaL/0NlP43HRFvAN8AR3PfMeDHXO9/BBjO/cPA5Yh4E+gHil+x9wHHI2INcB/YlvsPAmvz+3RybwCzBfmOwGzO8x4NnSm9Hsntd0jFyQB+Ag7n9nvAIEAukTCdSy3/GRFF2YCbpN2mAG4BI5LOAefacBxmi+I7ArPWPKloL8bDUnuWuQux90k76PUDN3L1S7PaOBGYtWag9Hott6+SCpQBfARcye2LpHkBJHVL6q16U0kvAa9HxCXgc6AXeLW9oZs9n688zOb0lCo+AoxFRLE37HJJt0hX9R/mvk+Ak5IOkCeLc/+nwHe5UuQsKSlUlQbuBk7lZNEFDEfE/bYdkVkLXH3U7AXyqqF1EfHPEodi1hF+NGRm1nC+IzAzazjfEZiZNZwTgZlZwzkRmJk1nBOBmVnDORGYmTXcf8DwOLdqsh5RAAAAAElFTkSuQmCC\n",
            "text/plain": [
              "<Figure size 432x288 with 1 Axes>"
            ]
          },
          "metadata": {
            "tags": [],
            "needs_background": "light"
          }
        }
      ]
    },
    {
      "cell_type": "code",
      "metadata": {
        "id": "AKDAusWj-c7V",
        "colab": {
          "base_uri": "https://localhost:8080/",
          "height": 313
        },
        "outputId": "e33256a5-dee5-44f3-d5a6-2e8ab29d7bf0"
      },
      "source": [
        "\n",
        "test = plt.figure()\n",
        "plt.plot(hist.history['accuracy'], lw=2.0, color='b', label='train')\n",
        "plt.plot(hist.history['val_accuracy'], lw=2.0, color='r', label='val')\n",
        "plt.title('CNN using Fasttext word embeddings')\n",
        "plt.xlabel('Epochs')\n",
        "plt.ylabel('Accuracy')\n",
        "plt.legend(loc='lower right')\n",
        "# plt.show()\n",
        "# test.savefig('CNN-using-Fasttext-epoch-v-accuracy.png')\n",
        "# files.download('CNN-using-Fasttext-epoch-v-accuracy.png')"
      ],
      "execution_count": null,
      "outputs": [
        {
          "output_type": "execute_result",
          "data": {
            "text/plain": [
              "<matplotlib.legend.Legend at 0x7f6e33052cf8>"
            ]
          },
          "metadata": {
            "tags": []
          },
          "execution_count": 228
        },
        {
          "output_type": "display_data",
          "data": {
            "image/png": "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\n",
            "text/plain": [
              "<Figure size 432x288 with 1 Axes>"
            ]
          },
          "metadata": {
            "tags": [],
            "needs_background": "light"
          }
        }
      ]
    },
    {
      "cell_type": "code",
      "metadata": {
        "id": "RYmgMqWQ-c7d"
      },
      "source": [
        ""
      ],
      "execution_count": null,
      "outputs": []
    },
    {
      "cell_type": "code",
      "metadata": {
        "id": "5RpDFF38-c7g"
      },
      "source": [
        ""
      ],
      "execution_count": null,
      "outputs": []
    },
    {
      "cell_type": "code",
      "metadata": {
        "id": "DMNLpDw2-c7j"
      },
      "source": [
        ""
      ],
      "execution_count": null,
      "outputs": []
    },
  ]
}
